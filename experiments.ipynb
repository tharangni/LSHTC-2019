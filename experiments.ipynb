{
 "cells": [
  {
   "cell_type": "code",
   "execution_count": null,
   "metadata": {},
   "outputs": [],
   "source": [
    "# https://github.com/gcdart/MulticlassClassifier/blob/master/src/ml/LogisticRegression.java\n",
    "# https://www.kaggle.com/c/lshtc/discussion/6911#38233 - preprocessing: multilabels comma should not have spaces\n",
    "# https://www.kaggle.com/c/lshtc/discussion/14048 - dataset statistics\n",
    "## reading the LWIKI, SWIKI dataset"
   ]
  },
  {
   "cell_type": "code",
   "execution_count": 1,
   "metadata": {},
   "outputs": [],
   "source": [
    "import os\n",
    "import numpy as np\n",
    "import pandas as pd\n",
    "import igraph as ig\n",
    "\n",
    "from pathlib import Path\n",
    "from tqdm import tqdm #always use this instead of `import tqdm`\n",
    "# from sklearn.datasets import fetch_rcv1\n",
    "\n",
    "# np.random.seed(123)"
   ]
  },
  {
   "cell_type": "code",
   "execution_count": 2,
   "metadata": {},
   "outputs": [],
   "source": [
    "import logging\n",
    "from collections import OrderedDict\n",
    "\n",
    "logging.basicConfig(level=logging.INFO)"
   ]
  },
  {
   "cell_type": "code",
   "execution_count": 3,
   "metadata": {},
   "outputs": [],
   "source": [
    "from sklearn.linear_model import SGDClassifier\n",
    "from sklearn import preprocessing, metrics"
   ]
  },
  {
   "cell_type": "code",
   "execution_count": 4,
   "metadata": {},
   "outputs": [],
   "source": [
    "from sklearn.model_selection import train_test_split"
   ]
  },
  {
   "cell_type": "code",
   "execution_count": 5,
   "metadata": {},
   "outputs": [],
   "source": [
    "from joblib import Memory\n",
    "from sklearn.datasets import load_svmlight_file"
   ]
  },
  {
   "cell_type": "code",
   "execution_count": 6,
   "metadata": {},
   "outputs": [],
   "source": [
    "mem = Memory(\"./mycache\")\n",
    "@mem.cache\n",
    "def get_data(filename):\n",
    "    \n",
    "    fname = str(Path(filename))\n",
    "    fe, ex = os.path.splitext(fname) \n",
    "\n",
    "    try:\n",
    "        data = load_svmlight_file(fname, multilabel=True)\n",
    "    except:\n",
    "        # Required: if the input data isn't in the correct libsvm format\n",
    "        outfile = str(Path(\"{}_small{}\".format(fe, ex)))\n",
    "#         outfile = str(Path(\"{}_remapped{}\".format(fe, ex)))\n",
    "        if not os.path.isfile(outfile):\n",
    "            logging.info(\"Remapping data to LibSVM format...\")\n",
    "            f = preprocess_libsvm(fname, outfile)\n",
    "        else:\n",
    "            logging.info(\"Using already remapped data...\")\n",
    "            f = outfile\n",
    "        data = load_svmlight_file(f, multilabel=True)\n",
    "        \n",
    "    return data[0], data[1]"
   ]
  },
  {
   "cell_type": "code",
   "execution_count": 7,
   "metadata": {},
   "outputs": [],
   "source": [
    "def preprocess_libsvm(input_file, output_file):\n",
    "    # converts file to the required libsvm format.\n",
    "    # this is very brute force but can be made faster [IMPROVE]\n",
    "\n",
    "    file = open(output_file, \"w+\")\n",
    "    with open(input_file, \"r\") as f:\n",
    "        head = [next(f) for x in range(500)] # retrieve only `n` docs\n",
    "        for i, line in enumerate(tqdm(head)): # change to f/head depending on your needs\n",
    "            instance = line.strip().split()\n",
    "            labels = instance[0]\n",
    "            doc_dict = OrderedDict()\n",
    "            temp_dict = {}\n",
    "            temp_string = ''\n",
    "\n",
    "            for pair in instance[1:]:\n",
    "                feat = pair.split(\":\")\n",
    "                if int(feat[0]) not in temp_dict:\n",
    "                    temp_dict[int(feat[0])] = int(feat[1])\n",
    "\n",
    "            for key in sorted(temp_dict.keys()):\n",
    "                doc_dict[key] = temp_dict[key]\n",
    "\n",
    "            for feat, tf in doc_dict.items():\n",
    "                temp_string = temp_string + \"{}:{} \".format(feat, tf)        \n",
    "            file.write(\"{} {}\\n\".format(labels, temp_string))\n",
    "        file.close()\n",
    "\n",
    "    return output_file"
   ]
  },
  {
   "cell_type": "code",
   "execution_count": 8,
   "metadata": {},
   "outputs": [],
   "source": [
    "def label_extractor(labels):\n",
    "\n",
    "    leaf_labels = set()\n",
    "    labels_per_doc = []\n",
    "\n",
    "    for i in labels:\n",
    "        labels_per_doc.append(len(i))\n",
    "        for j in i:\n",
    "            leaf_labels.add(int(j))\n",
    "    \n",
    "    return leaf_labels, labels_per_doc"
   ]
  },
  {
   "cell_type": "code",
   "execution_count": 9,
   "metadata": {},
   "outputs": [],
   "source": [
    "def read_hier(filename):\n",
    "    \n",
    "    N = set()\n",
    "    pi = set()\n",
    "    T = set()\n",
    "    \n",
    "    with open(filename, \"r\") as f:\n",
    "        for i, line in enumerate(f):\n",
    "            words = line.strip().split()\n",
    "            pi.add(int(words[0])) #adding parent node\n",
    "            T.add(int(words[-1])) #adding ALL leaf nodes in the hierarchy\n",
    "            for w in words:\n",
    "                N.add(int(w))\n",
    "\n",
    "    return N, pi, T"
   ]
  },
  {
   "cell_type": "code",
   "execution_count": 10,
   "metadata": {},
   "outputs": [],
   "source": [
    "mem = Memory(\"./mycache\")\n",
    "@mem.cache\n",
    "def rr_reader(filename):\n",
    "    '''\n",
    "    create a dataframe from the data-label pair\n",
    "    '''\n",
    "\n",
    "    num_entries = 200000\n",
    "    df = pd.DataFrame()\n",
    "    \n",
    "    with open(filename, \"r\") as f:\n",
    "        head = [next(f) for x in range(num_entries)] # retrieve only `n` docs\n",
    "        for i, line in enumerate(tqdm(head)): # change to f/head depending on your needs\n",
    "            instance = line.strip().split()\n",
    "            labels = instance[0]\n",
    "            doc_dict = OrderedDict()\n",
    "            temp_dict = {}\n",
    "\n",
    "            for pair in instance[1:]:\n",
    "                feat = pair.split(\":\")\n",
    "                if int(feat[0]) not in temp_dict:\n",
    "                    temp_dict[int(feat[0])] = int(feat[1])\n",
    "\n",
    "            for key in sorted(temp_dict.keys()):\n",
    "                doc_dict[key] = temp_dict[key]\n",
    "                \n",
    "            temp_df = pd.DataFrame(data = [ labels, doc_dict ]).T\n",
    "            df = df.append(temp_df, ignore_index=True)\n",
    "    \n",
    "    df.columns = [\"labels\", \"feat_tf\"]\n",
    "    df[\"labels\"] = df[\"labels\"].apply( lambda x: list(map(int, x.split(\",\")))  )\n",
    "    return df"
   ]
  },
  {
   "cell_type": "code",
   "execution_count": 11,
   "metadata": {
    "scrolled": true
   },
   "outputs": [
    {
     "name": "stderr",
     "output_type": "stream",
     "text": [
      "WARNING:root:[MemorizedFunc(func=<function rr_reader at 0x00000228F7D48EA0>, location=./mycache\\joblib)]: Clearing function cache identified by __main__-C%3A-Users-harshasivajit-Documents-master-ai-rr13-__ipython-input__\\rr_reader\n"
     ]
    },
    {
     "name": "stdout",
     "output_type": "stream",
     "text": [
      "________________________________________________________________________________\n",
      "[Memory] Calling __main__-C%3A-Users-harshasivajit-Documents-master-ai-rr13-__ipython-input__.rr_reader...\n",
      "rr_reader('swiki/data/train.txt')\n"
     ]
    },
    {
     "name": "stderr",
     "output_type": "stream",
     "text": [
      "100%|█████████████████████████████████████████████████████████████████████████| 200000/200000 [26:07<00:00, 127.59it/s]\n"
     ]
    },
    {
     "name": "stdout",
     "output_type": "stream",
     "text": [
      "____________________________________________________rr_reader - 1572.2s, 26.2min\n"
     ]
    }
   ],
   "source": [
    "df = rr_reader(\"swiki/data/train.txt\")"
   ]
  },
  {
   "cell_type": "code",
   "execution_count": 12,
   "metadata": {},
   "outputs": [],
   "source": [
    "Nn, pii, Ti = read_hier(\"swiki/data/cat_hier.txt\")"
   ]
  },
  {
   "cell_type": "raw",
   "metadata": {},
   "source": [
    "def user_func(x):\n",
    "    sol = 0\n",
    "    for i in whatiwant:\n",
    "        for j in x:\n",
    "            if i == j:\n",
    "                sol = j\n",
    "            else:\n",
    "                pass\n",
    "        \n",
    "    return sol"
   ]
  },
  {
   "cell_type": "raw",
   "metadata": {},
   "source": [
    "df[\"partition\"] = df[\"labels\"].apply(lambda x: user_func(x))"
   ]
  },
  {
   "cell_type": "code",
   "execution_count": 13,
   "metadata": {},
   "outputs": [],
   "source": [
    "d = df"
   ]
  },
  {
   "cell_type": "code",
   "execution_count": 14,
   "metadata": {},
   "outputs": [],
   "source": [
    "# whatiwant = [14661, 71999, 292915, 188756, 131368, 130762, 352578, 395447, 27512, 157031, 33692, 13402, 393382, 390846, 395447, 276114]\n",
    "whatiwant = [14661, 71999, 292915, 188756, 131368]"
   ]
  },
  {
   "cell_type": "code",
   "execution_count": 15,
   "metadata": {},
   "outputs": [],
   "source": [
    "for j in whatiwant:\n",
    "    d[str(j)] = 0"
   ]
  },
  {
   "cell_type": "code",
   "execution_count": 16,
   "metadata": {},
   "outputs": [
    {
     "data": {
      "text/html": [
       "<div>\n",
       "<style scoped>\n",
       "    .dataframe tbody tr th:only-of-type {\n",
       "        vertical-align: middle;\n",
       "    }\n",
       "\n",
       "    .dataframe tbody tr th {\n",
       "        vertical-align: top;\n",
       "    }\n",
       "\n",
       "    .dataframe thead th {\n",
       "        text-align: right;\n",
       "    }\n",
       "</style>\n",
       "<table border=\"1\" class=\"dataframe\">\n",
       "  <thead>\n",
       "    <tr style=\"text-align: right;\">\n",
       "      <th></th>\n",
       "      <th>labels</th>\n",
       "      <th>feat_tf</th>\n",
       "      <th>14661</th>\n",
       "      <th>71999</th>\n",
       "      <th>292915</th>\n",
       "      <th>188756</th>\n",
       "      <th>131368</th>\n",
       "    </tr>\n",
       "  </thead>\n",
       "  <tbody>\n",
       "    <tr>\n",
       "      <th>0</th>\n",
       "      <td>[33692, 13402, 393382]</td>\n",
       "      <td>{624: 3, 4288: 1, 14403: 1, 54278: 1, 62619: 1...</td>\n",
       "      <td>0</td>\n",
       "      <td>0</td>\n",
       "      <td>0</td>\n",
       "      <td>0</td>\n",
       "      <td>0</td>\n",
       "    </tr>\n",
       "    <tr>\n",
       "      <th>1</th>\n",
       "      <td>[130762]</td>\n",
       "      <td>{120505: 1, 173442: 1, 554009: 1, 634374: 1, 6...</td>\n",
       "      <td>0</td>\n",
       "      <td>0</td>\n",
       "      <td>0</td>\n",
       "      <td>0</td>\n",
       "      <td>0</td>\n",
       "    </tr>\n",
       "    <tr>\n",
       "      <th>2</th>\n",
       "      <td>[352578, 395447, 27512, 157031]</td>\n",
       "      <td>{62483: 1, 73429: 1, 138155: 1, 160218: 1, 165...</td>\n",
       "      <td>0</td>\n",
       "      <td>0</td>\n",
       "      <td>0</td>\n",
       "      <td>0</td>\n",
       "      <td>0</td>\n",
       "    </tr>\n",
       "    <tr>\n",
       "      <th>3</th>\n",
       "      <td>[390846, 395447, 276114]</td>\n",
       "      <td>{200187: 1, 207596: 1, 343448: 1, 359544: 1, 4...</td>\n",
       "      <td>0</td>\n",
       "      <td>0</td>\n",
       "      <td>0</td>\n",
       "      <td>0</td>\n",
       "      <td>0</td>\n",
       "    </tr>\n",
       "    <tr>\n",
       "      <th>4</th>\n",
       "      <td>[14661, 71999, 292915, 188756, 131368]</td>\n",
       "      <td>{2906: 1, 4288: 1, 17471: 3, 56146: 1, 94588: ...</td>\n",
       "      <td>0</td>\n",
       "      <td>0</td>\n",
       "      <td>0</td>\n",
       "      <td>0</td>\n",
       "      <td>0</td>\n",
       "    </tr>\n",
       "  </tbody>\n",
       "</table>\n",
       "</div>"
      ],
      "text/plain": [
       "                                   labels  \\\n",
       "0                  [33692, 13402, 393382]   \n",
       "1                                [130762]   \n",
       "2         [352578, 395447, 27512, 157031]   \n",
       "3                [390846, 395447, 276114]   \n",
       "4  [14661, 71999, 292915, 188756, 131368]   \n",
       "\n",
       "                                             feat_tf  14661  71999  292915  \\\n",
       "0  {624: 3, 4288: 1, 14403: 1, 54278: 1, 62619: 1...      0      0       0   \n",
       "1  {120505: 1, 173442: 1, 554009: 1, 634374: 1, 6...      0      0       0   \n",
       "2  {62483: 1, 73429: 1, 138155: 1, 160218: 1, 165...      0      0       0   \n",
       "3  {200187: 1, 207596: 1, 343448: 1, 359544: 1, 4...      0      0       0   \n",
       "4  {2906: 1, 4288: 1, 17471: 3, 56146: 1, 94588: ...      0      0       0   \n",
       "\n",
       "   188756  131368  \n",
       "0       0       0  \n",
       "1       0       0  \n",
       "2       0       0  \n",
       "3       0       0  \n",
       "4       0       0  "
      ]
     },
     "execution_count": 16,
     "metadata": {},
     "output_type": "execute_result"
    }
   ],
   "source": [
    "d.head()"
   ]
  },
  {
   "cell_type": "code",
   "execution_count": 17,
   "metadata": {},
   "outputs": [],
   "source": [
    "for i in range(len(d)):\n",
    "    for j in whatiwant:\n",
    "        if j in d.loc[i, \"labels\"]:\n",
    "            d.loc[i, str(j)] = 1"
   ]
  },
  {
   "cell_type": "code",
   "execution_count": 18,
   "metadata": {},
   "outputs": [
    {
     "name": "stdout",
     "output_type": "stream",
     "text": [
      "14661 482\n",
      "71999 99\n",
      "292915 39\n",
      "188756 43\n",
      "131368 41\n"
     ]
    }
   ],
   "source": [
    "# num of docs per label (id)\n",
    "for j in whatiwant:\n",
    "    print(j, sum(d[str(j)]))"
   ]
  },
  {
   "cell_type": "code",
   "execution_count": 20,
   "metadata": {},
   "outputs": [],
   "source": [
    "subset = pd.DataFrame()"
   ]
  },
  {
   "cell_type": "code",
   "execution_count": 21,
   "metadata": {},
   "outputs": [],
   "source": [
    "subset = d[d[\"14661\"]==1]"
   ]
  },
  {
   "cell_type": "code",
   "execution_count": 50,
   "metadata": {},
   "outputs": [
    {
     "data": {
      "text/html": [
       "<div>\n",
       "<style scoped>\n",
       "    .dataframe tbody tr th:only-of-type {\n",
       "        vertical-align: middle;\n",
       "    }\n",
       "\n",
       "    .dataframe tbody tr th {\n",
       "        vertical-align: top;\n",
       "    }\n",
       "\n",
       "    .dataframe thead th {\n",
       "        text-align: right;\n",
       "    }\n",
       "</style>\n",
       "<table border=\"1\" class=\"dataframe\">\n",
       "  <thead>\n",
       "    <tr style=\"text-align: right;\">\n",
       "      <th></th>\n",
       "      <th>labels</th>\n",
       "      <th>feat_tf</th>\n",
       "      <th>14661</th>\n",
       "      <th>71999</th>\n",
       "      <th>292915</th>\n",
       "      <th>188756</th>\n",
       "      <th>131368</th>\n",
       "    </tr>\n",
       "  </thead>\n",
       "  <tbody>\n",
       "    <tr>\n",
       "      <th>80718</th>\n",
       "      <td>[347803, 14661, 34683, 13139]</td>\n",
       "      <td>{138155: 1, 199253: 1, 223635: 1, 255720: 2, 3...</td>\n",
       "      <td>1</td>\n",
       "      <td>0</td>\n",
       "      <td>0</td>\n",
       "      <td>0</td>\n",
       "      <td>0</td>\n",
       "    </tr>\n",
       "    <tr>\n",
       "      <th>68487</th>\n",
       "      <td>[138179, 14661, 297190, 283698]</td>\n",
       "      <td>{81760: 1, 121478: 1, 138155: 1, 173875: 1, 23...</td>\n",
       "      <td>1</td>\n",
       "      <td>0</td>\n",
       "      <td>0</td>\n",
       "      <td>0</td>\n",
       "      <td>0</td>\n",
       "    </tr>\n",
       "    <tr>\n",
       "      <th>152866</th>\n",
       "      <td>[289056, 14661, 333275]</td>\n",
       "      <td>{95970: 1, 111420: 1, 195149: 1, 255720: 2, 35...</td>\n",
       "      <td>1</td>\n",
       "      <td>0</td>\n",
       "      <td>0</td>\n",
       "      <td>0</td>\n",
       "      <td>0</td>\n",
       "    </tr>\n",
       "    <tr>\n",
       "      <th>57885</th>\n",
       "      <td>[14661, 164163, 71999, 442888, 347803]</td>\n",
       "      <td>{18452: 1, 105959: 1, 119647: 1, 129283: 2, 19...</td>\n",
       "      <td>1</td>\n",
       "      <td>1</td>\n",
       "      <td>0</td>\n",
       "      <td>0</td>\n",
       "      <td>0</td>\n",
       "    </tr>\n",
       "    <tr>\n",
       "      <th>63706</th>\n",
       "      <td>[14661, 144445, 364078, 24576, 236723, 242390,...</td>\n",
       "      <td>{217573: 1, 407661: 1, 409908: 1, 424489: 1, 4...</td>\n",
       "      <td>1</td>\n",
       "      <td>0</td>\n",
       "      <td>0</td>\n",
       "      <td>0</td>\n",
       "      <td>0</td>\n",
       "    </tr>\n",
       "  </tbody>\n",
       "</table>\n",
       "</div>"
      ],
      "text/plain": [
       "                                                   labels  \\\n",
       "80718                       [347803, 14661, 34683, 13139]   \n",
       "68487                     [138179, 14661, 297190, 283698]   \n",
       "152866                            [289056, 14661, 333275]   \n",
       "57885              [14661, 164163, 71999, 442888, 347803]   \n",
       "63706   [14661, 144445, 364078, 24576, 236723, 242390,...   \n",
       "\n",
       "                                                  feat_tf  14661  71999  \\\n",
       "80718   {138155: 1, 199253: 1, 223635: 1, 255720: 2, 3...      1      0   \n",
       "68487   {81760: 1, 121478: 1, 138155: 1, 173875: 1, 23...      1      0   \n",
       "152866  {95970: 1, 111420: 1, 195149: 1, 255720: 2, 35...      1      0   \n",
       "57885   {18452: 1, 105959: 1, 119647: 1, 129283: 2, 19...      1      1   \n",
       "63706   {217573: 1, 407661: 1, 409908: 1, 424489: 1, 4...      1      0   \n",
       "\n",
       "        292915  188756  131368  \n",
       "80718        0       0       0  \n",
       "68487        0       0       0  \n",
       "152866       0       0       0  \n",
       "57885        0       0       0  \n",
       "63706        0       0       0  "
      ]
     },
     "execution_count": 50,
     "metadata": {},
     "output_type": "execute_result"
    }
   ],
   "source": [
    "subset.sample(n=5)"
   ]
  },
  {
   "cell_type": "code",
   "execution_count": 53,
   "metadata": {},
   "outputs": [],
   "source": [
    "train_data, _ = get_data(\"swiki/data/train_remapped.txt\")"
   ]
  },
  {
   "cell_type": "code",
   "execution_count": 62,
   "metadata": {},
   "outputs": [
    {
     "data": {
      "text/plain": [
       "199594"
      ]
     },
     "execution_count": 62,
     "metadata": {},
     "output_type": "execute_result"
    }
   ],
   "source": [
    "max(list(subset.index))"
   ]
  },
  {
   "cell_type": "code",
   "execution_count": 63,
   "metadata": {},
   "outputs": [],
   "source": [
    "ll = []\n",
    "for i in list(subset.index):\n",
    "    try:\n",
    "        ll.append(train_data[int(i)].toarray())\n",
    "    except:\n",
    "        print(i)"
   ]
  },
  {
   "cell_type": "code",
   "execution_count": 66,
   "metadata": {},
   "outputs": [],
   "source": [
    "niu = np.concatenate( ll, axis=0 )"
   ]
  },
  {
   "cell_type": "code",
   "execution_count": 91,
   "metadata": {},
   "outputs": [
    {
     "data": {
      "text/plain": [
       "(482, 2085164)"
      ]
     },
     "execution_count": 91,
     "metadata": {},
     "output_type": "execute_result"
    }
   ],
   "source": [
    "niu.shape"
   ]
  },
  {
   "cell_type": "code",
   "execution_count": 76,
   "metadata": {},
   "outputs": [
    {
     "ename": "MemoryError",
     "evalue": "",
     "output_type": "error",
     "traceback": [
      "\u001b[1;31m---------------------------------------------------------------------------\u001b[0m",
      "\u001b[1;31mMemoryError\u001b[0m                               Traceback (most recent call last)",
      "\u001b[1;32m<ipython-input-76-6e7240878911>\u001b[0m in \u001b[0;36m<module>\u001b[1;34m\u001b[0m\n\u001b[1;32m----> 1\u001b[1;33m \u001b[0mtrain_x\u001b[0m\u001b[1;33m,\u001b[0m \u001b[0mtest_x\u001b[0m\u001b[1;33m,\u001b[0m \u001b[0mtrain_y\u001b[0m\u001b[1;33m,\u001b[0m \u001b[0mtest_y\u001b[0m \u001b[1;33m=\u001b[0m \u001b[0mtrain_test_split\u001b[0m\u001b[1;33m(\u001b[0m\u001b[0mniu\u001b[0m\u001b[1;33m,\u001b[0m \u001b[0msubset\u001b[0m\u001b[1;33m,\u001b[0m \u001b[0mrandom_state\u001b[0m\u001b[1;33m=\u001b[0m\u001b[1;36m42\u001b[0m\u001b[1;33m,\u001b[0m \u001b[0mtest_size\u001b[0m\u001b[1;33m=\u001b[0m\u001b[1;36m0.30\u001b[0m\u001b[1;33m,\u001b[0m \u001b[0mshuffle\u001b[0m\u001b[1;33m=\u001b[0m\u001b[1;32mFalse\u001b[0m\u001b[1;33m)\u001b[0m\u001b[1;33m\u001b[0m\u001b[1;33m\u001b[0m\u001b[0m\n\u001b[0m",
      "\u001b[1;32mc:\\users\\harshasivajit\\documents\\master-ai\\venv\\lib\\site-packages\\sklearn\\model_selection\\_split.py\u001b[0m in \u001b[0;36mtrain_test_split\u001b[1;34m(*arrays, **options)\u001b[0m\n\u001b[0;32m   2210\u001b[0m \u001b[1;33m\u001b[0m\u001b[0m\n\u001b[0;32m   2211\u001b[0m     return list(chain.from_iterable((safe_indexing(a, train),\n\u001b[1;32m-> 2212\u001b[1;33m                                      safe_indexing(a, test)) for a in arrays))\n\u001b[0m\u001b[0;32m   2213\u001b[0m \u001b[1;33m\u001b[0m\u001b[0m\n\u001b[0;32m   2214\u001b[0m \u001b[1;33m\u001b[0m\u001b[0m\n",
      "\u001b[1;32mc:\\users\\harshasivajit\\documents\\master-ai\\venv\\lib\\site-packages\\sklearn\\model_selection\\_split.py\u001b[0m in \u001b[0;36m<genexpr>\u001b[1;34m(.0)\u001b[0m\n\u001b[0;32m   2210\u001b[0m \u001b[1;33m\u001b[0m\u001b[0m\n\u001b[0;32m   2211\u001b[0m     return list(chain.from_iterable((safe_indexing(a, train),\n\u001b[1;32m-> 2212\u001b[1;33m                                      safe_indexing(a, test)) for a in arrays))\n\u001b[0m\u001b[0;32m   2213\u001b[0m \u001b[1;33m\u001b[0m\u001b[0m\n\u001b[0;32m   2214\u001b[0m \u001b[1;33m\u001b[0m\u001b[0m\n",
      "\u001b[1;32mc:\\users\\harshasivajit\\documents\\master-ai\\venv\\lib\\site-packages\\sklearn\\utils\\__init__.py\u001b[0m in \u001b[0;36msafe_indexing\u001b[1;34m(X, indices)\u001b[0m\n\u001b[0;32m    214\u001b[0m                                    indices.dtype.kind == 'i'):\n\u001b[0;32m    215\u001b[0m             \u001b[1;31m# This is often substantially faster than X[indices]\u001b[0m\u001b[1;33m\u001b[0m\u001b[1;33m\u001b[0m\u001b[1;33m\u001b[0m\u001b[0m\n\u001b[1;32m--> 216\u001b[1;33m             \u001b[1;32mreturn\u001b[0m \u001b[0mX\u001b[0m\u001b[1;33m.\u001b[0m\u001b[0mtake\u001b[0m\u001b[1;33m(\u001b[0m\u001b[0mindices\u001b[0m\u001b[1;33m,\u001b[0m \u001b[0maxis\u001b[0m\u001b[1;33m=\u001b[0m\u001b[1;36m0\u001b[0m\u001b[1;33m)\u001b[0m\u001b[1;33m\u001b[0m\u001b[1;33m\u001b[0m\u001b[0m\n\u001b[0m\u001b[0;32m    217\u001b[0m         \u001b[1;32melse\u001b[0m\u001b[1;33m:\u001b[0m\u001b[1;33m\u001b[0m\u001b[1;33m\u001b[0m\u001b[0m\n\u001b[0;32m    218\u001b[0m             \u001b[1;32mreturn\u001b[0m \u001b[0mX\u001b[0m\u001b[1;33m[\u001b[0m\u001b[0mindices\u001b[0m\u001b[1;33m]\u001b[0m\u001b[1;33m\u001b[0m\u001b[1;33m\u001b[0m\u001b[0m\n",
      "\u001b[1;31mMemoryError\u001b[0m: "
     ]
    }
   ],
   "source": [
    "train_x, train_y, test_x, test_y = train_test_split(niu, subset, random_state=42, test_size=0.30, shuffle=False)"
   ]
  },
  {
   "cell_type": "code",
   "execution_count": 112,
   "metadata": {},
   "outputs": [
    {
     "data": {
      "text/plain": [
       "((337, 2085164), (145, 2085164), (337, 7), (145, 7))"
      ]
     },
     "execution_count": 112,
     "metadata": {},
     "output_type": "execute_result"
    }
   ],
   "source": [
    "train_x.shape, train_y.shape, test_x.shape, test_y.shape"
   ]
  },
  {
   "cell_type": "code",
   "execution_count": 113,
   "metadata": {},
   "outputs": [],
   "source": [
    "x_train = train_x\n",
    "y_train = test_x.drop(labels = [\"labels\", \"feat_tf\"], axis = 1)\n",
    "\n",
    "x_test = train_y\n",
    "y_test = test_y.drop(labels = [\"labels\", \"feat_tf\"], axis = 1)"
   ]
  },
  {
   "cell_type": "code",
   "execution_count": 234,
   "metadata": {},
   "outputs": [
    {
     "data": {
      "text/html": [
       "<div>\n",
       "<style scoped>\n",
       "    .dataframe tbody tr th:only-of-type {\n",
       "        vertical-align: middle;\n",
       "    }\n",
       "\n",
       "    .dataframe tbody tr th {\n",
       "        vertical-align: top;\n",
       "    }\n",
       "\n",
       "    .dataframe thead th {\n",
       "        text-align: right;\n",
       "    }\n",
       "</style>\n",
       "<table border=\"1\" class=\"dataframe\">\n",
       "  <thead>\n",
       "    <tr style=\"text-align: right;\">\n",
       "      <th></th>\n",
       "      <th>14661</th>\n",
       "      <th>71999</th>\n",
       "      <th>292915</th>\n",
       "      <th>188756</th>\n",
       "      <th>131368</th>\n",
       "    </tr>\n",
       "  </thead>\n",
       "  <tbody>\n",
       "    <tr>\n",
       "      <th>106339</th>\n",
       "      <td>1</td>\n",
       "      <td>0</td>\n",
       "      <td>0</td>\n",
       "      <td>0</td>\n",
       "      <td>0</td>\n",
       "    </tr>\n",
       "    <tr>\n",
       "      <th>41001</th>\n",
       "      <td>1</td>\n",
       "      <td>0</td>\n",
       "      <td>0</td>\n",
       "      <td>0</td>\n",
       "      <td>0</td>\n",
       "    </tr>\n",
       "    <tr>\n",
       "      <th>45688</th>\n",
       "      <td>1</td>\n",
       "      <td>0</td>\n",
       "      <td>0</td>\n",
       "      <td>0</td>\n",
       "      <td>0</td>\n",
       "    </tr>\n",
       "    <tr>\n",
       "      <th>128711</th>\n",
       "      <td>1</td>\n",
       "      <td>0</td>\n",
       "      <td>0</td>\n",
       "      <td>0</td>\n",
       "      <td>0</td>\n",
       "    </tr>\n",
       "    <tr>\n",
       "      <th>57885</th>\n",
       "      <td>1</td>\n",
       "      <td>1</td>\n",
       "      <td>0</td>\n",
       "      <td>0</td>\n",
       "      <td>0</td>\n",
       "    </tr>\n",
       "  </tbody>\n",
       "</table>\n",
       "</div>"
      ],
      "text/plain": [
       "        14661  71999  292915  188756  131368\n",
       "106339      1      0       0       0       0\n",
       "41001       1      0       0       0       0\n",
       "45688       1      0       0       0       0\n",
       "128711      1      0       0       0       0\n",
       "57885       1      1       0       0       0"
      ]
     },
     "execution_count": 234,
     "metadata": {},
     "output_type": "execute_result"
    }
   ],
   "source": [
    "y_train.sample(n=5)"
   ]
  },
  {
   "cell_type": "code",
   "execution_count": 82,
   "metadata": {},
   "outputs": [],
   "source": [
    "from sklearn.linear_model import LogisticRegression\n",
    "from sklearn.pipeline import Pipeline\n",
    "from sklearn.metrics import accuracy_score\n",
    "from sklearn.multiclass import OneVsRestClassifier"
   ]
  },
  {
   "cell_type": "code",
   "execution_count": 83,
   "metadata": {},
   "outputs": [],
   "source": [
    "clf = SGDClassifier()\n",
    "# lb = preprocessing.LabelBinarizer(sparse_output=True)\n",
    "# mb = preprocessing.MultiLabelBinarizer(sparse_output=True)\n",
    "# le = preprocessing.LabelEncoder()"
   ]
  },
  {
   "cell_type": "code",
   "execution_count": 89,
   "metadata": {
    "scrolled": false
   },
   "outputs": [
    {
     "name": "stdout",
     "output_type": "stream",
     "text": [
      "**Processing 71999 tag...**\n"
     ]
    },
    {
     "name": "stderr",
     "output_type": "stream",
     "text": [
      "c:\\users\\harshasivajit\\documents\\master-ai\\venv\\lib\\site-packages\\sklearn\\linear_model\\stochastic_gradient.py:166: FutureWarning: max_iter and tol parameters have been added in SGDClassifier in 0.19. If both are left unset, they default to max_iter=5 and tol=None. If tol is not None, max_iter defaults to max_iter=1000. From 0.21, default max_iter will be 1000, and default tol will be 1e-3.\n",
      "  FutureWarning)\n"
     ]
    },
    {
     "name": "stdout",
     "output_type": "stream",
     "text": [
      "Test accuracy is 0.9793103448275862\n",
      "\n",
      "\n",
      "**Processing 292915 tag...**\n"
     ]
    },
    {
     "name": "stderr",
     "output_type": "stream",
     "text": [
      "c:\\users\\harshasivajit\\documents\\master-ai\\venv\\lib\\site-packages\\sklearn\\linear_model\\stochastic_gradient.py:166: FutureWarning: max_iter and tol parameters have been added in SGDClassifier in 0.19. If both are left unset, they default to max_iter=5 and tol=None. If tol is not None, max_iter defaults to max_iter=1000. From 0.21, default max_iter will be 1000, and default tol will be 1e-3.\n",
      "  FutureWarning)\n"
     ]
    },
    {
     "name": "stdout",
     "output_type": "stream",
     "text": [
      "Test accuracy is 1.0\n",
      "\n",
      "\n",
      "**Processing 188756 tag...**\n"
     ]
    },
    {
     "name": "stderr",
     "output_type": "stream",
     "text": [
      "c:\\users\\harshasivajit\\documents\\master-ai\\venv\\lib\\site-packages\\sklearn\\linear_model\\stochastic_gradient.py:166: FutureWarning: max_iter and tol parameters have been added in SGDClassifier in 0.19. If both are left unset, they default to max_iter=5 and tol=None. If tol is not None, max_iter defaults to max_iter=1000. From 0.21, default max_iter will be 1000, and default tol will be 1e-3.\n",
      "  FutureWarning)\n"
     ]
    },
    {
     "name": "stdout",
     "output_type": "stream",
     "text": [
      "Test accuracy is 0.9862068965517241\n",
      "\n",
      "\n",
      "**Processing 131368 tag...**\n"
     ]
    },
    {
     "name": "stderr",
     "output_type": "stream",
     "text": [
      "c:\\users\\harshasivajit\\documents\\master-ai\\venv\\lib\\site-packages\\sklearn\\linear_model\\stochastic_gradient.py:166: FutureWarning: max_iter and tol parameters have been added in SGDClassifier in 0.19. If both are left unset, they default to max_iter=5 and tol=None. If tol is not None, max_iter defaults to max_iter=1000. From 0.21, default max_iter will be 1000, and default tol will be 1e-3.\n",
      "  FutureWarning)\n"
     ]
    },
    {
     "name": "stdout",
     "output_type": "stream",
     "text": [
      "Test accuracy is 1.0\n",
      "\n",
      "\n"
     ]
    }
   ],
   "source": [
    "# Using pipeline for applying logistic regression and one vs rest classifier\n",
    "for category in whatiwant[1:]:\n",
    "    print('**Processing {} tag...**'.format(category))\n",
    "    \n",
    "    # Training sgd model on train data\n",
    "    clf.fit(x_train, y_train[str(category)])\n",
    "    \n",
    "    # calculating test accuracy\n",
    "    prediction = clf.predict(x_test)\n",
    "    print('Test accuracy is {}'.format(accuracy_score(y_test[str(category)], prediction)))\n",
    "    print(\"\\n\")"
   ]
  },
  {
   "cell_type": "code",
   "execution_count": 92,
   "metadata": {},
   "outputs": [
    {
     "name": "stdout",
     "output_type": "stream",
     "text": [
      "**Processing 71999 tag...**\n"
     ]
    },
    {
     "ename": "TerminatedWorkerError",
     "evalue": "A worker process managed by the executor was unexpectedly terminated. This could be caused by a segmentation fault while calling the function or by an excessive memory usage causing the Operating System to kill the worker.",
     "output_type": "error",
     "traceback": [
      "\u001b[1;31m---------------------------------------------------------------------------\u001b[0m",
      "\u001b[1;31mTerminatedWorkerError\u001b[0m                     Traceback (most recent call last)",
      "\u001b[1;32m<ipython-input-92-0c466248c527>\u001b[0m in \u001b[0;36m<module>\u001b[1;34m\u001b[0m\n\u001b[0;32m      7\u001b[0m \u001b[1;33m\u001b[0m\u001b[0m\n\u001b[0;32m      8\u001b[0m     \u001b[1;31m# Training logistic regression model on train data\u001b[0m\u001b[1;33m\u001b[0m\u001b[1;33m\u001b[0m\u001b[1;33m\u001b[0m\u001b[0m\n\u001b[1;32m----> 9\u001b[1;33m     \u001b[0mLogReg_pipeline\u001b[0m\u001b[1;33m.\u001b[0m\u001b[0mfit\u001b[0m\u001b[1;33m(\u001b[0m\u001b[0mx_train\u001b[0m\u001b[1;33m,\u001b[0m \u001b[0my_train\u001b[0m\u001b[1;33m[\u001b[0m\u001b[0mstr\u001b[0m\u001b[1;33m(\u001b[0m\u001b[0mcategory\u001b[0m\u001b[1;33m)\u001b[0m\u001b[1;33m]\u001b[0m\u001b[1;33m)\u001b[0m\u001b[1;33m\u001b[0m\u001b[1;33m\u001b[0m\u001b[0m\n\u001b[0m\u001b[0;32m     10\u001b[0m \u001b[1;33m\u001b[0m\u001b[0m\n\u001b[0;32m     11\u001b[0m     \u001b[1;31m# calculating test accuracy\u001b[0m\u001b[1;33m\u001b[0m\u001b[1;33m\u001b[0m\u001b[1;33m\u001b[0m\u001b[0m\n",
      "\u001b[1;32mc:\\users\\harshasivajit\\documents\\master-ai\\venv\\lib\\site-packages\\sklearn\\pipeline.py\u001b[0m in \u001b[0;36mfit\u001b[1;34m(self, X, y, **fit_params)\u001b[0m\n\u001b[0;32m    265\u001b[0m         \u001b[0mXt\u001b[0m\u001b[1;33m,\u001b[0m \u001b[0mfit_params\u001b[0m \u001b[1;33m=\u001b[0m \u001b[0mself\u001b[0m\u001b[1;33m.\u001b[0m\u001b[0m_fit\u001b[0m\u001b[1;33m(\u001b[0m\u001b[0mX\u001b[0m\u001b[1;33m,\u001b[0m \u001b[0my\u001b[0m\u001b[1;33m,\u001b[0m \u001b[1;33m**\u001b[0m\u001b[0mfit_params\u001b[0m\u001b[1;33m)\u001b[0m\u001b[1;33m\u001b[0m\u001b[1;33m\u001b[0m\u001b[0m\n\u001b[0;32m    266\u001b[0m         \u001b[1;32mif\u001b[0m \u001b[0mself\u001b[0m\u001b[1;33m.\u001b[0m\u001b[0m_final_estimator\u001b[0m \u001b[1;32mis\u001b[0m \u001b[1;32mnot\u001b[0m \u001b[1;32mNone\u001b[0m\u001b[1;33m:\u001b[0m\u001b[1;33m\u001b[0m\u001b[1;33m\u001b[0m\u001b[0m\n\u001b[1;32m--> 267\u001b[1;33m             \u001b[0mself\u001b[0m\u001b[1;33m.\u001b[0m\u001b[0m_final_estimator\u001b[0m\u001b[1;33m.\u001b[0m\u001b[0mfit\u001b[0m\u001b[1;33m(\u001b[0m\u001b[0mXt\u001b[0m\u001b[1;33m,\u001b[0m \u001b[0my\u001b[0m\u001b[1;33m,\u001b[0m \u001b[1;33m**\u001b[0m\u001b[0mfit_params\u001b[0m\u001b[1;33m)\u001b[0m\u001b[1;33m\u001b[0m\u001b[1;33m\u001b[0m\u001b[0m\n\u001b[0m\u001b[0;32m    268\u001b[0m         \u001b[1;32mreturn\u001b[0m \u001b[0mself\u001b[0m\u001b[1;33m\u001b[0m\u001b[1;33m\u001b[0m\u001b[0m\n\u001b[0;32m    269\u001b[0m \u001b[1;33m\u001b[0m\u001b[0m\n",
      "\u001b[1;32mc:\\users\\harshasivajit\\documents\\master-ai\\venv\\lib\\site-packages\\sklearn\\multiclass.py\u001b[0m in \u001b[0;36mfit\u001b[1;34m(self, X, y)\u001b[0m\n\u001b[0;32m    213\u001b[0m                 \u001b[1;34m\"not %s\"\u001b[0m \u001b[1;33m%\u001b[0m \u001b[0mself\u001b[0m\u001b[1;33m.\u001b[0m\u001b[0mlabel_binarizer_\u001b[0m\u001b[1;33m.\u001b[0m\u001b[0mclasses_\u001b[0m\u001b[1;33m[\u001b[0m\u001b[0mi\u001b[0m\u001b[1;33m]\u001b[0m\u001b[1;33m,\u001b[0m\u001b[1;33m\u001b[0m\u001b[1;33m\u001b[0m\u001b[0m\n\u001b[0;32m    214\u001b[0m                 self.label_binarizer_.classes_[i]])\n\u001b[1;32m--> 215\u001b[1;33m             for i, column in enumerate(columns))\n\u001b[0m\u001b[0;32m    216\u001b[0m \u001b[1;33m\u001b[0m\u001b[0m\n\u001b[0;32m    217\u001b[0m         \u001b[1;32mreturn\u001b[0m \u001b[0mself\u001b[0m\u001b[1;33m\u001b[0m\u001b[1;33m\u001b[0m\u001b[0m\n",
      "\u001b[1;32mc:\\users\\harshasivajit\\documents\\master-ai\\venv\\lib\\site-packages\\sklearn\\externals\\joblib\\parallel.py\u001b[0m in \u001b[0;36m__call__\u001b[1;34m(self, iterable)\u001b[0m\n\u001b[0;32m    928\u001b[0m \u001b[1;33m\u001b[0m\u001b[0m\n\u001b[0;32m    929\u001b[0m             \u001b[1;32mwith\u001b[0m \u001b[0mself\u001b[0m\u001b[1;33m.\u001b[0m\u001b[0m_backend\u001b[0m\u001b[1;33m.\u001b[0m\u001b[0mretrieval_context\u001b[0m\u001b[1;33m(\u001b[0m\u001b[1;33m)\u001b[0m\u001b[1;33m:\u001b[0m\u001b[1;33m\u001b[0m\u001b[1;33m\u001b[0m\u001b[0m\n\u001b[1;32m--> 930\u001b[1;33m                 \u001b[0mself\u001b[0m\u001b[1;33m.\u001b[0m\u001b[0mretrieve\u001b[0m\u001b[1;33m(\u001b[0m\u001b[1;33m)\u001b[0m\u001b[1;33m\u001b[0m\u001b[1;33m\u001b[0m\u001b[0m\n\u001b[0m\u001b[0;32m    931\u001b[0m             \u001b[1;31m# Make sure that we get a last message telling us we are done\u001b[0m\u001b[1;33m\u001b[0m\u001b[1;33m\u001b[0m\u001b[1;33m\u001b[0m\u001b[0m\n\u001b[0;32m    932\u001b[0m             \u001b[0melapsed_time\u001b[0m \u001b[1;33m=\u001b[0m \u001b[0mtime\u001b[0m\u001b[1;33m.\u001b[0m\u001b[0mtime\u001b[0m\u001b[1;33m(\u001b[0m\u001b[1;33m)\u001b[0m \u001b[1;33m-\u001b[0m \u001b[0mself\u001b[0m\u001b[1;33m.\u001b[0m\u001b[0m_start_time\u001b[0m\u001b[1;33m\u001b[0m\u001b[1;33m\u001b[0m\u001b[0m\n",
      "\u001b[1;32mc:\\users\\harshasivajit\\documents\\master-ai\\venv\\lib\\site-packages\\sklearn\\externals\\joblib\\parallel.py\u001b[0m in \u001b[0;36mretrieve\u001b[1;34m(self)\u001b[0m\n\u001b[0;32m    831\u001b[0m             \u001b[1;32mtry\u001b[0m\u001b[1;33m:\u001b[0m\u001b[1;33m\u001b[0m\u001b[1;33m\u001b[0m\u001b[0m\n\u001b[0;32m    832\u001b[0m                 \u001b[1;32mif\u001b[0m \u001b[0mgetattr\u001b[0m\u001b[1;33m(\u001b[0m\u001b[0mself\u001b[0m\u001b[1;33m.\u001b[0m\u001b[0m_backend\u001b[0m\u001b[1;33m,\u001b[0m \u001b[1;34m'supports_timeout'\u001b[0m\u001b[1;33m,\u001b[0m \u001b[1;32mFalse\u001b[0m\u001b[1;33m)\u001b[0m\u001b[1;33m:\u001b[0m\u001b[1;33m\u001b[0m\u001b[1;33m\u001b[0m\u001b[0m\n\u001b[1;32m--> 833\u001b[1;33m                     \u001b[0mself\u001b[0m\u001b[1;33m.\u001b[0m\u001b[0m_output\u001b[0m\u001b[1;33m.\u001b[0m\u001b[0mextend\u001b[0m\u001b[1;33m(\u001b[0m\u001b[0mjob\u001b[0m\u001b[1;33m.\u001b[0m\u001b[0mget\u001b[0m\u001b[1;33m(\u001b[0m\u001b[0mtimeout\u001b[0m\u001b[1;33m=\u001b[0m\u001b[0mself\u001b[0m\u001b[1;33m.\u001b[0m\u001b[0mtimeout\u001b[0m\u001b[1;33m)\u001b[0m\u001b[1;33m)\u001b[0m\u001b[1;33m\u001b[0m\u001b[1;33m\u001b[0m\u001b[0m\n\u001b[0m\u001b[0;32m    834\u001b[0m                 \u001b[1;32melse\u001b[0m\u001b[1;33m:\u001b[0m\u001b[1;33m\u001b[0m\u001b[1;33m\u001b[0m\u001b[0m\n\u001b[0;32m    835\u001b[0m                     \u001b[0mself\u001b[0m\u001b[1;33m.\u001b[0m\u001b[0m_output\u001b[0m\u001b[1;33m.\u001b[0m\u001b[0mextend\u001b[0m\u001b[1;33m(\u001b[0m\u001b[0mjob\u001b[0m\u001b[1;33m.\u001b[0m\u001b[0mget\u001b[0m\u001b[1;33m(\u001b[0m\u001b[1;33m)\u001b[0m\u001b[1;33m)\u001b[0m\u001b[1;33m\u001b[0m\u001b[1;33m\u001b[0m\u001b[0m\n",
      "\u001b[1;32mc:\\users\\harshasivajit\\documents\\master-ai\\venv\\lib\\site-packages\\sklearn\\externals\\joblib\\_parallel_backends.py\u001b[0m in \u001b[0;36mwrap_future_result\u001b[1;34m(future, timeout)\u001b[0m\n\u001b[0;32m    519\u001b[0m         AsyncResults.get from multiprocessing.\"\"\"\n\u001b[0;32m    520\u001b[0m         \u001b[1;32mtry\u001b[0m\u001b[1;33m:\u001b[0m\u001b[1;33m\u001b[0m\u001b[1;33m\u001b[0m\u001b[0m\n\u001b[1;32m--> 521\u001b[1;33m             \u001b[1;32mreturn\u001b[0m \u001b[0mfuture\u001b[0m\u001b[1;33m.\u001b[0m\u001b[0mresult\u001b[0m\u001b[1;33m(\u001b[0m\u001b[0mtimeout\u001b[0m\u001b[1;33m=\u001b[0m\u001b[0mtimeout\u001b[0m\u001b[1;33m)\u001b[0m\u001b[1;33m\u001b[0m\u001b[1;33m\u001b[0m\u001b[0m\n\u001b[0m\u001b[0;32m    522\u001b[0m         \u001b[1;32mexcept\u001b[0m \u001b[0mLokyTimeoutError\u001b[0m\u001b[1;33m:\u001b[0m\u001b[1;33m\u001b[0m\u001b[1;33m\u001b[0m\u001b[0m\n\u001b[0;32m    523\u001b[0m             \u001b[1;32mraise\u001b[0m \u001b[0mTimeoutError\u001b[0m\u001b[1;33m(\u001b[0m\u001b[1;33m)\u001b[0m\u001b[1;33m\u001b[0m\u001b[1;33m\u001b[0m\u001b[0m\n",
      "\u001b[1;32m~\\AppData\\Local\\Programs\\Python\\Python37\\lib\\concurrent\\futures\\_base.py\u001b[0m in \u001b[0;36mresult\u001b[1;34m(self, timeout)\u001b[0m\n\u001b[0;32m    430\u001b[0m                 \u001b[1;32mraise\u001b[0m \u001b[0mCancelledError\u001b[0m\u001b[1;33m(\u001b[0m\u001b[1;33m)\u001b[0m\u001b[1;33m\u001b[0m\u001b[1;33m\u001b[0m\u001b[0m\n\u001b[0;32m    431\u001b[0m             \u001b[1;32melif\u001b[0m \u001b[0mself\u001b[0m\u001b[1;33m.\u001b[0m\u001b[0m_state\u001b[0m \u001b[1;33m==\u001b[0m \u001b[0mFINISHED\u001b[0m\u001b[1;33m:\u001b[0m\u001b[1;33m\u001b[0m\u001b[1;33m\u001b[0m\u001b[0m\n\u001b[1;32m--> 432\u001b[1;33m                 \u001b[1;32mreturn\u001b[0m \u001b[0mself\u001b[0m\u001b[1;33m.\u001b[0m\u001b[0m__get_result\u001b[0m\u001b[1;33m(\u001b[0m\u001b[1;33m)\u001b[0m\u001b[1;33m\u001b[0m\u001b[1;33m\u001b[0m\u001b[0m\n\u001b[0m\u001b[0;32m    433\u001b[0m             \u001b[1;32melse\u001b[0m\u001b[1;33m:\u001b[0m\u001b[1;33m\u001b[0m\u001b[1;33m\u001b[0m\u001b[0m\n\u001b[0;32m    434\u001b[0m                 \u001b[1;32mraise\u001b[0m \u001b[0mTimeoutError\u001b[0m\u001b[1;33m(\u001b[0m\u001b[1;33m)\u001b[0m\u001b[1;33m\u001b[0m\u001b[1;33m\u001b[0m\u001b[0m\n",
      "\u001b[1;32m~\\AppData\\Local\\Programs\\Python\\Python37\\lib\\concurrent\\futures\\_base.py\u001b[0m in \u001b[0;36m__get_result\u001b[1;34m(self)\u001b[0m\n\u001b[0;32m    382\u001b[0m     \u001b[1;32mdef\u001b[0m \u001b[0m__get_result\u001b[0m\u001b[1;33m(\u001b[0m\u001b[0mself\u001b[0m\u001b[1;33m)\u001b[0m\u001b[1;33m:\u001b[0m\u001b[1;33m\u001b[0m\u001b[1;33m\u001b[0m\u001b[0m\n\u001b[0;32m    383\u001b[0m         \u001b[1;32mif\u001b[0m \u001b[0mself\u001b[0m\u001b[1;33m.\u001b[0m\u001b[0m_exception\u001b[0m\u001b[1;33m:\u001b[0m\u001b[1;33m\u001b[0m\u001b[1;33m\u001b[0m\u001b[0m\n\u001b[1;32m--> 384\u001b[1;33m             \u001b[1;32mraise\u001b[0m \u001b[0mself\u001b[0m\u001b[1;33m.\u001b[0m\u001b[0m_exception\u001b[0m\u001b[1;33m\u001b[0m\u001b[1;33m\u001b[0m\u001b[0m\n\u001b[0m\u001b[0;32m    385\u001b[0m         \u001b[1;32melse\u001b[0m\u001b[1;33m:\u001b[0m\u001b[1;33m\u001b[0m\u001b[1;33m\u001b[0m\u001b[0m\n\u001b[0;32m    386\u001b[0m             \u001b[1;32mreturn\u001b[0m \u001b[0mself\u001b[0m\u001b[1;33m.\u001b[0m\u001b[0m_result\u001b[0m\u001b[1;33m\u001b[0m\u001b[1;33m\u001b[0m\u001b[0m\n",
      "\u001b[1;31mTerminatedWorkerError\u001b[0m: A worker process managed by the executor was unexpectedly terminated. This could be caused by a segmentation fault while calling the function or by an excessive memory usage causing the Operating System to kill the worker."
     ]
    }
   ],
   "source": [
    "# Using pipeline for applying logistic regression and one vs rest classifier\n",
    "LogReg_pipeline = Pipeline([\n",
    "                ('clf', OneVsRestClassifier(LogisticRegression(solver='sag'), n_jobs=-1)),\n",
    "            ])\n",
    "for category in whatiwant[1:]:\n",
    "    print('**Processing {} tag...**'.format(category))\n",
    "    \n",
    "    # Training logistic regression model on train data\n",
    "    LogReg_pipeline.fit(x_train, y_train[str(category)])\n",
    "    \n",
    "    # calculating test accuracy\n",
    "    prediction = LogReg_pipeline.predict(x_test)\n",
    "    print('Test accuracy is {}'.format(accuracy_score(y_test[str(category)], prediction)))\n",
    "    print(\"\\n\")"
   ]
  },
  {
   "cell_type": "code",
   "execution_count": 93,
   "metadata": {},
   "outputs": [
    {
     "name": "stdout",
     "output_type": "stream",
     "text": [
      "50312 50311\n",
      "{2143406}\n"
     ]
    }
   ],
   "source": [
    "print(len(Nn), len(Ti)) # there is one node without any parent\n",
    "print(Nn.difference(Ti)) # this is the node: this is probably the root node i guess"
   ]
  },
  {
   "cell_type": "code",
   "execution_count": 94,
   "metadata": {
    "scrolled": true
   },
   "outputs": [
    {
     "data": {
      "text/plain": [
       "13808"
      ]
     },
     "execution_count": 94,
     "metadata": {},
     "output_type": "execute_result"
    }
   ],
   "source": [
    "len(pii)"
   ]
  },
  {
   "cell_type": "code",
   "execution_count": 95,
   "metadata": {},
   "outputs": [],
   "source": [
    " def lookup_table(filename, subset):\n",
    "        \n",
    "    p2c_table = {}\n",
    "    c2p_table = {}\n",
    "    node2id = OrderedDict()\n",
    "    id2node = OrderedDict()\n",
    "    i = 0\n",
    "    \n",
    "    with open(filename, \"r\") as f:\n",
    "        if not subset:\n",
    "            head = f\n",
    "        elif isinstance(subset, int):\n",
    "            head = [next(f) for x in range(subset)] # retrieve only `n` docs\n",
    "        else:\n",
    "            raise ValueError(\"Incorrect subset type. Enter only False (boolean) or int. Encountered {} type.\".format(type(subset)))\n",
    "        for _, line in enumerate(tqdm(head)):\n",
    "            split_line = line.strip().split()\n",
    "            parent_node = int(split_line[0])\n",
    "            child_node = list(map(int, split_line[1:]))\n",
    "            \n",
    "            # map to the respective dicts -> parent:child relationship\n",
    "            # parent2child lookup table\n",
    "            if parent_node not in p2c_table:\n",
    "                p2c_table[parent_node] = [child_node[0]]\n",
    "            else:\n",
    "                p2c_table[parent_node].append(child_node[0])\n",
    "                \n",
    "            #child2parent lookup table\n",
    "            if child_node[0] not in c2p_table:\n",
    "                c2p_table[child_node[0]] = [parent_node]\n",
    "            else:\n",
    "                c2p_table[child_node[0]].append(parent_node)\n",
    "                \n",
    "            # map parent/child node to a node<->id\n",
    "            if parent_node not in node2id:\n",
    "                p_id = i\n",
    "                node2id[parent_node] = p_id\n",
    "                id2node[p_id] = parent_node\n",
    "                i+=1\n",
    "            else:\n",
    "                p_id = node2id[parent_node]\n",
    "                \n",
    "            if child_node[0] not in node2id:\n",
    "                c_id = i\n",
    "                node2id[child_node[0]] = c_id\n",
    "                id2node[c_id] = child_node[0]      \n",
    "                i+=1\n",
    "            else:\n",
    "                c_id = node2id[child_node[0]]\n",
    "\n",
    "    pi_parents = set(p2c_table.keys())        \n",
    "    T_leaves = (c2p_table.keys() - p2c_table.keys()) \n",
    "    N_all_nodes = pi_parents.union(T_leaves)\n",
    "    \n",
    "    return p2c_table, c2p_table, node2id, id2node, list(pi_parents), list(T_leaves), list(N_all_nodes)"
   ]
  },
  {
   "cell_type": "code",
   "execution_count": 96,
   "metadata": {},
   "outputs": [],
   "source": [
    "def hierarchy2graph(p2c_table, node2id):\n",
    "\n",
    "    edges = []\n",
    "    for parent, children in p2c_table.items():\n",
    "        p_id = node2id[parent]\n",
    "        for child in children:\n",
    "            c_id = node2id[child]\n",
    "            edges.append((p_id, c_id))\n",
    "    vertices = [k for k, v in node2id.items()]\n",
    "    g = ig.Graph(n=len(node2id), edges=edges, directed=True, vertex_attrs={\"name\": vertices})\n",
    "    return g"
   ]
  },
  {
   "cell_type": "code",
   "execution_count": 97,
   "metadata": {},
   "outputs": [
    {
     "name": "stderr",
     "output_type": "stream",
     "text": [
      "65333it [00:00, 256308.86it/s]\n",
      "100%|██████████████████████████████████████████████████████████████████████████████████████████| 50/50 [00:00<?, ?it/s]\n"
     ]
    }
   ],
   "source": [
    "p2c, c2p, n2i, i2n, pi, T, N = lookup_table(\"swiki/data/cat_hier.txt\", subset = False)\n",
    "p2c_s, c2p_s, n2i_s, i2n_s, pi_s, T_s, N_s = lookup_table(\"swiki/data/cat_hier.txt\", subset = 50)"
   ]
  },
  {
   "cell_type": "code",
   "execution_count": 98,
   "metadata": {},
   "outputs": [
    {
     "data": {
      "text/plain": [
       "(13808, 36504, 50312)"
      ]
     },
     "execution_count": 98,
     "metadata": {},
     "output_type": "execute_result"
    }
   ],
   "source": [
    "len(pi), len(T), len(N)"
   ]
  },
  {
   "cell_type": "code",
   "execution_count": 99,
   "metadata": {},
   "outputs": [],
   "source": [
    "g = hierarchy2graph(p2c_s, n2i_s)"
   ]
  },
  {
   "cell_type": "code",
   "execution_count": 100,
   "metadata": {},
   "outputs": [
    {
     "name": "stdout",
     "output_type": "stream",
     "text": [
      "IGRAPH DN-- 51 50 --\n",
      "+ attr: name (v)\n",
      "+ edges (vertex names):\n",
      "2143406->2156813, 2143406->2322682, 2143406->143406, 2143406->2255744,\n",
      "2143406->2235965, 2156813->2440809, 2156813->2159645, 2156813->2267844,\n",
      "2156813->2271677, 2156813->2152343, 2156813->1008038, 2156813->2310019,\n",
      "2156813->2266243, 2156813->2426918, 2156813->2334805, 2156813->2132486,\n",
      "2156813->2078122, 2156813->2057861, 2156813->2271281, 2156813->1012550,\n",
      "2156813->2042688, 2156813->2373246, 2156813->2244017, 2156813->156813,\n",
      "2322682->2013402, 2322682->2037186, 2322682->2341442, 2322682->2031546,\n",
      "2322682->2305909, 2322682->2205397, 2322682->1112766, 2322682->2230320,\n",
      "2322682->2402750, 2322682->2326915, 2322682->2242317, 2322682->2418165,\n",
      "2322682->2196567, 2322682->2256232, 2322682->2127748, 2322682->2305967,\n",
      "2322682->2436982, 2322682->2207289, 2322682->2386980, 2322682->2151145,\n",
      "2322682->2080615, 2322682->322682, 2255744->2312526, 2255744->2324773,\n",
      "2255744->2127372, 2255744->2091567\n"
     ]
    }
   ],
   "source": [
    "print(g)"
   ]
  },
  {
   "cell_type": "code",
   "execution_count": 101,
   "metadata": {
    "scrolled": false
   },
   "outputs": [
    {
     "data": {
      "image/svg+xml": [
       "<?xml version=\"1.0\" encoding=\"UTF-8\"?>\n",
       "<svg xmlns=\"http://www.w3.org/2000/svg\" xmlns:xlink=\"http://www.w3.org/1999/xlink\" width=\"600pt\" height=\"600pt\" viewBox=\"0 0 600 600\" version=\"1.1\">\n",
       "<defs>\n",
       "<g>\n",
       "<symbol overflow=\"visible\" id=\"glyph0-0\">\n",
       "<path style=\"stroke:none;\" d=\"M 1.75 0 L 1.75 -8.75 L 8.75 -8.75 L 8.75 0 Z M 1.96875 -0.21875 L 8.53125 -0.21875 L 8.53125 -8.53125 L 1.96875 -8.53125 Z M 1.96875 -0.21875 \"/>\n",
       "</symbol>\n",
       "<symbol overflow=\"visible\" id=\"glyph0-1\">\n",
       "<path style=\"stroke:none;\" d=\"M 7.046875 -1.183594 L 7.046875 0 L 0.421875 0 C 0.414063 -0.296875 0.460938 -0.582031 0.566406 -0.855469 C 0.734375 -1.304688 1.003906 -1.746094 1.375 -2.1875 C 1.746094 -2.621094 2.285156 -3.128906 2.988281 -3.703125 C 4.074219 -4.597656 4.808594 -5.304688 5.195313 -5.828125 C 5.574219 -6.347656 5.765625 -6.839844 5.769531 -7.308594 C 5.765625 -7.792969 5.589844 -8.203125 5.246094 -8.539063 C 4.894531 -8.871094 4.441406 -9.039063 3.882813 -9.042969 C 3.285156 -9.039063 2.8125 -8.863281 2.460938 -8.507813 C 2.105469 -8.152344 1.925781 -7.660156 1.921875 -7.035156 L 0.65625 -7.164063 C 0.742188 -8.105469 1.066406 -8.824219 1.632813 -9.320313 C 2.195313 -9.8125 2.953125 -10.058594 3.910156 -10.0625 C 4.867188 -10.058594 5.628906 -9.792969 6.191406 -9.261719 C 6.75 -8.726563 7.03125 -8.066406 7.035156 -7.28125 C 7.03125 -6.878906 6.949219 -6.484375 6.789063 -6.097656 C 6.621094 -5.707031 6.347656 -5.296875 5.96875 -4.871094 C 5.585938 -4.441406 4.953125 -3.855469 4.074219 -3.109375 C 3.332031 -2.488281 2.859375 -2.066406 2.652344 -1.847656 C 2.4375 -1.621094 2.265625 -1.402344 2.132813 -1.183594 Z M 7.046875 -1.183594 \"/>\n",
       "</symbol>\n",
       "<symbol overflow=\"visible\" id=\"glyph0-2\">\n",
       "<path style=\"stroke:none;\" d=\"M 5.214844 0 L 3.984375 0 L 3.984375 -7.839844 C 3.6875 -7.558594 3.296875 -7.273438 2.816406 -6.992188 C 2.335938 -6.707031 1.90625 -6.496094 1.523438 -6.359375 L 1.523438 -7.546875 C 2.210938 -7.867188 2.8125 -8.257813 3.328125 -8.722656 C 3.84375 -9.179688 4.207031 -9.625 4.421875 -10.0625 L 5.214844 -10.0625 Z M 5.214844 0 \"/>\n",
       "</symbol>\n",
       "<symbol overflow=\"visible\" id=\"glyph0-3\">\n",
       "<path style=\"stroke:none;\" d=\"M 4.523438 0 L 4.523438 -2.398438 L 0.179688 -2.398438 L 0.179688 -3.527344 L 4.75 -10.023438 L 5.757813 -10.023438 L 5.757813 -3.527344 L 7.109375 -3.527344 L 7.109375 -2.398438 L 5.757813 -2.398438 L 5.757813 0 Z M 4.523438 -3.527344 L 4.523438 -8.046875 L 1.386719 -3.527344 Z M 4.523438 -3.527344 \"/>\n",
       "</symbol>\n",
       "<symbol overflow=\"visible\" id=\"glyph0-4\">\n",
       "<path style=\"stroke:none;\" d=\"M 0.585938 -2.644531 L 1.820313 -2.808594 C 1.957031 -2.109375 2.195313 -1.609375 2.539063 -1.300781 C 2.875 -0.992188 3.289063 -0.835938 3.78125 -0.839844 C 4.355469 -0.835938 4.84375 -1.039063 5.246094 -1.441406 C 5.640625 -1.839844 5.839844 -2.335938 5.84375 -2.933594 C 5.839844 -3.496094 5.65625 -3.960938 5.289063 -4.332031 C 4.917969 -4.695313 4.449219 -4.878906 3.882813 -4.882813 C 3.648438 -4.878906 3.359375 -4.832031 3.015625 -4.742188 L 3.152344 -5.824219 C 3.230469 -5.816406 3.296875 -5.8125 3.351563 -5.8125 C 3.875 -5.8125 4.34375 -5.949219 4.765625 -6.222656 C 5.179688 -6.496094 5.390625 -6.914063 5.394531 -7.484375 C 5.390625 -7.933594 5.238281 -8.308594 4.933594 -8.605469 C 4.628906 -8.898438 4.234375 -9.046875 3.753906 -9.050781 C 3.273438 -9.046875 2.875 -8.894531 2.554688 -8.597656 C 2.234375 -8.292969 2.027344 -7.84375 1.941406 -7.246094 L 0.710938 -7.464844 C 0.859375 -8.289063 1.203125 -8.925781 1.734375 -9.382813 C 2.265625 -9.832031 2.929688 -10.058594 3.726563 -10.0625 C 4.273438 -10.058594 4.773438 -9.941406 5.234375 -9.710938 C 5.691406 -9.472656 6.042969 -9.152344 6.289063 -8.75 C 6.53125 -8.339844 6.65625 -7.910156 6.65625 -7.457031 C 6.65625 -7.023438 6.539063 -6.628906 6.308594 -6.273438 C 6.074219 -5.917969 5.730469 -5.636719 5.277344 -5.429688 C 5.867188 -5.289063 6.328125 -5.003906 6.65625 -4.574219 C 6.984375 -4.140625 7.148438 -3.601563 7.148438 -2.960938 C 7.148438 -2.082031 6.828125 -1.339844 6.191406 -0.734375 C 5.550781 -0.125 4.746094 0.175781 3.773438 0.179688 C 2.890625 0.175781 2.160156 -0.0820313 1.582031 -0.605469 C 1 -1.128906 0.667969 -1.808594 0.585938 -2.644531 Z M 0.585938 -2.644531 \"/>\n",
       "</symbol>\n",
       "<symbol overflow=\"visible\" id=\"glyph0-5\">\n",
       "<path style=\"stroke:none;\" d=\"M 0.582031 -4.941406 C 0.578125 -6.121094 0.699219 -7.074219 0.945313 -7.800781 C 1.1875 -8.519531 1.550781 -9.078125 2.03125 -9.472656 C 2.511719 -9.863281 3.117188 -10.058594 3.847656 -10.0625 C 4.382813 -10.058594 4.855469 -9.953125 5.261719 -9.738281 C 5.667969 -9.519531 6 -9.207031 6.265625 -8.800781 C 6.527344 -8.390625 6.738281 -7.890625 6.890625 -7.308594 C 7.039063 -6.722656 7.113281 -5.933594 7.117188 -4.941406 C 7.113281 -3.761719 6.992188 -2.8125 6.753906 -2.09375 C 6.507813 -1.367188 6.144531 -0.808594 5.667969 -0.417969 C 5.183594 -0.0234375 4.578125 0.167969 3.847656 0.171875 C 2.878906 0.167969 2.121094 -0.175781 1.570313 -0.867188 C 0.910156 -1.699219 0.578125 -3.054688 0.582031 -4.941406 Z M 1.84375 -4.941406 C 1.839844 -3.292969 2.03125 -2.199219 2.421875 -1.65625 C 2.804688 -1.109375 3.28125 -0.835938 3.847656 -0.839844 C 4.410156 -0.835938 4.886719 -1.109375 5.273438 -1.660156 C 5.65625 -2.203125 5.847656 -3.296875 5.851563 -4.941406 C 5.847656 -6.589844 5.65625 -7.6875 5.273438 -8.230469 C 4.886719 -8.769531 4.40625 -9.039063 3.835938 -9.042969 C 3.269531 -9.039063 2.816406 -8.800781 2.480469 -8.328125 C 2.050781 -7.710938 1.839844 -6.582031 1.84375 -4.941406 Z M 1.84375 -4.941406 \"/>\n",
       "</symbol>\n",
       "<symbol overflow=\"visible\" id=\"glyph0-6\">\n",
       "<path style=\"stroke:none;\" d=\"M 6.964844 -7.566406 L 5.742188 -7.472656 C 5.632813 -7.949219 5.476563 -8.300781 5.277344 -8.523438 C 4.941406 -8.871094 4.53125 -9.046875 4.046875 -9.050781 C 3.652344 -9.046875 3.308594 -8.9375 3.015625 -8.722656 C 2.625 -8.4375 2.320313 -8.023438 2.097656 -7.484375 C 1.875 -6.9375 1.757813 -6.167969 1.75 -5.167969 C 2.042969 -5.617188 2.40625 -5.949219 2.835938 -6.171875 C 3.265625 -6.386719 3.714844 -6.496094 4.183594 -6.5 C 5.003906 -6.496094 5.699219 -6.195313 6.277344 -5.59375 C 6.851563 -4.988281 7.140625 -4.207031 7.144531 -3.253906 C 7.140625 -2.621094 7.003906 -2.039063 6.734375 -1.5 C 6.460938 -0.960938 6.089844 -0.546875 5.617188 -0.257813 C 5.140625 0.0273438 4.605469 0.167969 4.007813 0.171875 C 2.980469 0.167969 2.140625 -0.207031 1.496094 -0.960938 C 0.847656 -1.714844 0.527344 -2.957031 0.527344 -4.6875 C 0.527344 -6.625 0.882813 -8.03125 1.601563 -8.914063 C 2.21875 -9.675781 3.058594 -10.058594 4.121094 -10.0625 C 4.90625 -10.058594 5.554688 -9.839844 6.058594 -9.398438 C 6.5625 -8.953125 6.863281 -8.339844 6.964844 -7.566406 Z M 1.941406 -3.246094 C 1.9375 -2.820313 2.027344 -2.414063 2.210938 -2.027344 C 2.386719 -1.640625 2.640625 -1.34375 2.964844 -1.144531 C 3.289063 -0.9375 3.628906 -0.835938 3.984375 -0.839844 C 4.503906 -0.835938 4.949219 -1.046875 5.324219 -1.46875 C 5.695313 -1.886719 5.882813 -2.457031 5.886719 -3.179688 C 5.882813 -3.871094 5.699219 -4.417969 5.332031 -4.816406 C 4.960938 -5.214844 4.496094 -5.414063 3.9375 -5.414063 C 3.378906 -5.414063 2.90625 -5.214844 2.519531 -4.816406 C 2.132813 -4.417969 1.9375 -3.894531 1.941406 -3.246094 Z M 1.941406 -3.246094 \"/>\n",
       "</symbol>\n",
       "<symbol overflow=\"visible\" id=\"glyph0-7\">\n",
       "<path style=\"stroke:none;\" d=\"M 0.582031 -2.625 L 1.875 -2.734375 C 1.96875 -2.101563 2.1875 -1.628906 2.539063 -1.3125 C 2.882813 -0.996094 3.304688 -0.835938 3.800781 -0.839844 C 4.390625 -0.835938 4.890625 -1.058594 5.304688 -1.507813 C 5.710938 -1.953125 5.917969 -2.546875 5.921875 -3.289063 C 5.917969 -3.984375 5.71875 -4.539063 5.328125 -4.949219 C 4.929688 -5.351563 4.414063 -5.554688 3.78125 -5.558594 C 3.382813 -5.554688 3.027344 -5.464844 2.707031 -5.285156 C 2.386719 -5.105469 2.132813 -4.871094 1.953125 -4.585938 L 0.800781 -4.738281 L 1.769531 -9.882813 L 6.753906 -9.882813 L 6.753906 -8.710938 L 2.753906 -8.710938 L 2.214844 -6.015625 C 2.816406 -6.433594 3.445313 -6.644531 4.109375 -6.644531 C 4.980469 -6.644531 5.71875 -6.339844 6.324219 -5.734375 C 6.921875 -5.128906 7.222656 -4.351563 7.226563 -3.398438 C 7.222656 -2.492188 6.960938 -1.707031 6.433594 -1.046875 C 5.789063 -0.234375 4.910156 0.167969 3.800781 0.171875 C 2.886719 0.167969 2.140625 -0.0820313 1.566406 -0.59375 C 0.988281 -1.101563 0.660156 -1.78125 0.582031 -2.625 Z M 0.582031 -2.625 \"/>\n",
       "</symbol>\n",
       "<symbol overflow=\"visible\" id=\"glyph0-8\">\n",
       "<path style=\"stroke:none;\" d=\"M 2.476563 -5.433594 C 1.964844 -5.617188 1.585938 -5.886719 1.339844 -6.234375 C 1.089844 -6.578125 0.964844 -6.992188 0.96875 -7.476563 C 0.964844 -8.203125 1.226563 -8.816406 1.753906 -9.316406 C 2.277344 -9.8125 2.976563 -10.058594 3.847656 -10.0625 C 4.71875 -10.058594 5.421875 -9.804688 5.960938 -9.300781 C 6.492188 -8.789063 6.761719 -8.171875 6.761719 -7.445313 C 6.761719 -6.976563 6.636719 -6.570313 6.394531 -6.230469 C 6.148438 -5.882813 5.78125 -5.617188 5.285156 -5.433594 C 5.898438 -5.230469 6.363281 -4.90625 6.6875 -4.460938 C 7.007813 -4.011719 7.171875 -3.480469 7.171875 -2.863281 C 7.171875 -2.003906 6.867188 -1.285156 6.261719 -0.703125 C 5.652344 -0.121094 4.855469 0.167969 3.867188 0.171875 C 2.878906 0.167969 2.082031 -0.121094 1.476563 -0.707031 C 0.867188 -1.289063 0.5625 -2.019531 0.566406 -2.898438 C 0.5625 -3.546875 0.726563 -4.09375 1.0625 -4.535156 C 1.390625 -4.972656 1.863281 -5.269531 2.476563 -5.433594 Z M 2.226563 -7.519531 C 2.226563 -7.042969 2.378906 -6.65625 2.683594 -6.355469 C 2.988281 -6.054688 3.382813 -5.90625 3.875 -5.90625 C 4.34375 -5.90625 4.734375 -6.054688 5.039063 -6.351563 C 5.34375 -6.648438 5.496094 -7.015625 5.496094 -7.453125 C 5.496094 -7.902344 5.339844 -8.28125 5.027344 -8.589844 C 4.714844 -8.894531 4.324219 -9.046875 3.863281 -9.050781 C 3.386719 -9.046875 2.996094 -8.894531 2.691406 -8.597656 C 2.378906 -8.292969 2.226563 -7.933594 2.226563 -7.519531 Z M 1.832031 -2.890625 C 1.828125 -2.539063 1.910156 -2.203125 2.082031 -1.875 C 2.246094 -1.546875 2.496094 -1.289063 2.824219 -1.109375 C 3.152344 -0.925781 3.503906 -0.835938 3.882813 -0.839844 C 4.46875 -0.835938 4.953125 -1.027344 5.339844 -1.40625 C 5.71875 -1.785156 5.910156 -2.265625 5.914063 -2.851563 C 5.910156 -3.441406 5.714844 -3.929688 5.320313 -4.320313 C 4.925781 -4.703125 4.433594 -4.898438 3.84375 -4.902344 C 3.261719 -4.898438 2.78125 -4.707031 2.402344 -4.328125 C 2.019531 -3.941406 1.828125 -3.460938 1.832031 -2.890625 Z M 1.832031 -2.890625 \"/>\n",
       "</symbol>\n",
       "<symbol overflow=\"visible\" id=\"glyph0-9\">\n",
       "<path style=\"stroke:none;\" d=\"M 0.664063 -8.710938 L 0.664063 -9.890625 L 7.148438 -9.890625 L 7.148438 -8.933594 C 6.511719 -8.25 5.878906 -7.347656 5.253906 -6.226563 C 4.625 -5.097656 4.140625 -3.941406 3.800781 -2.753906 C 3.550781 -1.914063 3.394531 -0.996094 3.328125 0 L 2.0625 0 C 2.078125 -0.789063 2.230469 -1.738281 2.527344 -2.855469 C 2.820313 -3.96875 3.246094 -5.046875 3.800781 -6.085938 C 4.351563 -7.121094 4.941406 -7.996094 5.570313 -8.710938 Z M 0.664063 -8.710938 \"/>\n",
       "</symbol>\n",
       "<symbol overflow=\"visible\" id=\"glyph0-10\">\n",
       "<path style=\"stroke:none;\" d=\"M 0.765625 -2.316406 L 1.949219 -2.425781 C 2.046875 -1.871094 2.238281 -1.464844 2.519531 -1.214844 C 2.800781 -0.960938 3.164063 -0.835938 3.609375 -0.839844 C 3.984375 -0.835938 4.3125 -0.921875 4.601563 -1.097656 C 4.882813 -1.269531 5.117188 -1.503906 5.304688 -1.792969 C 5.484375 -2.082031 5.636719 -2.472656 5.761719 -2.964844 C 5.878906 -3.457031 5.941406 -3.957031 5.945313 -4.46875 C 5.941406 -4.523438 5.941406 -4.605469 5.941406 -4.71875 C 5.691406 -4.320313 5.351563 -4.003906 4.929688 -3.761719 C 4.5 -3.519531 4.039063 -3.398438 3.546875 -3.398438 C 2.714844 -3.398438 2.015625 -3.699219 1.441406 -4.300781 C 0.867188 -4.902344 0.578125 -5.695313 0.582031 -6.679688 C 0.578125 -7.695313 0.878906 -8.511719 1.480469 -9.132813 C 2.078125 -9.75 2.828125 -10.058594 3.734375 -10.0625 C 4.382813 -10.058594 4.980469 -9.882813 5.519531 -9.535156 C 6.058594 -9.179688 6.46875 -8.679688 6.75 -8.035156 C 7.03125 -7.382813 7.171875 -6.445313 7.171875 -5.214844 C 7.171875 -3.933594 7.03125 -2.914063 6.753906 -2.15625 C 6.472656 -1.398438 6.058594 -0.820313 5.511719 -0.421875 C 4.960938 -0.0273438 4.316406 0.167969 3.582031 0.171875 C 2.792969 0.167969 2.152344 -0.046875 1.660156 -0.480469 C 1.160156 -0.914063 0.863281 -1.523438 0.765625 -2.316406 Z M 5.804688 -6.742188 C 5.800781 -7.445313 5.613281 -8.003906 5.238281 -8.421875 C 4.863281 -8.832031 4.410156 -9.039063 3.882813 -9.042969 C 3.332031 -9.039063 2.855469 -8.816406 2.453125 -8.371094 C 2.042969 -7.921875 1.839844 -7.34375 1.84375 -6.636719 C 1.839844 -5.996094 2.03125 -5.476563 2.421875 -5.082031 C 2.804688 -4.679688 3.28125 -4.480469 3.847656 -4.484375 C 4.414063 -4.480469 4.882813 -4.679688 5.253906 -5.082031 C 5.617188 -5.476563 5.800781 -6.03125 5.804688 -6.742188 Z M 5.804688 -6.742188 \"/>\n",
       "</symbol>\n",
       "</g>\n",
       "</defs>\n",
       "<g id=\"surface2\">\n",
       "<rect x=\"0\" y=\"0\" width=\"600\" height=\"600\" style=\"fill:rgb(100%,100%,100%);fill-opacity:1;stroke:none;\"/>\n",
       "<path style=\"fill:none;stroke-width:1;stroke-linecap:butt;stroke-linejoin:miter;stroke:rgb(26.666667%,26.666667%,26.666667%);stroke-opacity:1;stroke-miterlimit:10;\" d=\"M 315.140625 311.820313 L 178.277344 308.726563 \"/>\n",
       "<path style=\" stroke:none;fill-rule:nonzero;fill:rgb(26.666667%,26.666667%,26.666667%);fill-opacity:1;\" d=\"M 164.015625 308.40625 L 178.382813 304.09375 L 178.171875 313.363281 L 164.015625 308.40625 \"/>\n",
       "<path style=\"fill:none;stroke-width:1;stroke-linecap:butt;stroke-linejoin:miter;stroke:rgb(26.666667%,26.666667%,26.666667%);stroke-opacity:1;stroke-miterlimit:10;\" d=\"M 315.140625 311.820313 L 421.71875 410.542969 \"/>\n",
       "<path style=\" stroke:none;fill-rule:nonzero;fill:rgb(26.666667%,26.666667%,26.666667%);fill-opacity:1;\" d=\"M 432.183594 420.238281 L 418.566406 413.945313 L 424.867188 407.144531 L 432.183594 420.238281 \"/>\n",
       "<path style=\"fill:none;stroke-width:1;stroke-linecap:butt;stroke-linejoin:miter;stroke:rgb(26.666667%,26.666667%,26.666667%);stroke-opacity:1;stroke-miterlimit:10;\" d=\"M 315.140625 311.820313 L 321.765625 234.875 \"/>\n",
       "<path style=\" stroke:none;fill-rule:nonzero;fill:rgb(26.666667%,26.666667%,26.666667%);fill-opacity:1;\" d=\"M 322.988281 220.660156 L 326.382813 235.273438 L 317.148438 234.476563 L 322.988281 220.660156 \"/>\n",
       "<path style=\"fill:none;stroke-width:1;stroke-linecap:butt;stroke-linejoin:miter;stroke:rgb(26.666667%,26.666667%,26.666667%);stroke-opacity:1;stroke-miterlimit:10;\" d=\"M 315.140625 311.820313 L 369.183594 169.035156 \"/>\n",
       "<path style=\" stroke:none;fill-rule:nonzero;fill:rgb(26.666667%,26.666667%,26.666667%);fill-opacity:1;\" d=\"M 374.234375 155.691406 L 373.519531 170.675781 L 364.851563 167.394531 L 374.234375 155.691406 \"/>\n",
       "<path style=\"fill:none;stroke-width:1;stroke-linecap:butt;stroke-linejoin:miter;stroke:rgb(26.666667%,26.666667%,26.666667%);stroke-opacity:1;stroke-miterlimit:10;\" d=\"M 315.140625 311.820313 L 353.910156 241.394531 \"/>\n",
       "<path style=\" stroke:none;fill-rule:nonzero;fill:rgb(26.666667%,26.666667%,26.666667%);fill-opacity:1;\" d=\"M 360.789063 228.894531 L 357.96875 243.628906 L 349.847656 239.15625 L 360.789063 228.894531 \"/>\n",
       "<path style=\"fill:none;stroke-width:1;stroke-linecap:butt;stroke-linejoin:miter;stroke:rgb(26.666667%,26.666667%,26.666667%);stroke-opacity:1;stroke-miterlimit:10;\" d=\"M 154.019531 308.179688 L 133.695313 180.136719 \"/>\n",
       "<path style=\" stroke:none;fill-rule:nonzero;fill:rgb(26.666667%,26.666667%,26.666667%);fill-opacity:1;\" d=\"M 131.460938 166.046875 L 138.273438 179.410156 L 129.117188 180.863281 L 131.460938 166.046875 \"/>\n",
       "<path style=\"fill:none;stroke-width:1;stroke-linecap:butt;stroke-linejoin:miter;stroke:rgb(26.666667%,26.666667%,26.666667%);stroke-opacity:1;stroke-miterlimit:10;\" d=\"M 154.019531 308.179688 L 176.265625 345.882813 \"/>\n",
       "<path style=\" stroke:none;fill-rule:nonzero;fill:rgb(26.666667%,26.666667%,26.666667%);fill-opacity:1;\" d=\"M 183.515625 358.171875 L 172.273438 348.238281 L 180.257813 343.527344 L 183.515625 358.171875 \"/>\n",
       "<path style=\"fill:none;stroke-width:1;stroke-linecap:butt;stroke-linejoin:miter;stroke:rgb(26.666667%,26.666667%,26.666667%);stroke-opacity:1;stroke-miterlimit:10;\" d=\"M 154.019531 308.179688 L 58.925781 377.839844 \"/>\n",
       "<path style=\" stroke:none;fill-rule:nonzero;fill:rgb(26.666667%,26.666667%,26.666667%);fill-opacity:1;\" d=\"M 47.417969 386.273438 L 56.1875 374.101563 L 61.667969 381.582031 L 47.417969 386.273438 \"/>\n",
       "<path style=\"fill:none;stroke-width:1;stroke-linecap:butt;stroke-linejoin:miter;stroke:rgb(26.666667%,26.666667%,26.666667%);stroke-opacity:1;stroke-miterlimit:10;\" d=\"M 154.019531 308.179688 L 105.152344 268.269531 \"/>\n",
       "<path style=\" stroke:none;fill-rule:nonzero;fill:rgb(26.666667%,26.666667%,26.666667%);fill-opacity:1;\" d=\"M 94.105469 259.246094 L 108.085938 264.679688 L 102.222656 271.859375 L 94.105469 259.246094 \"/>\n",
       "<path style=\"fill:none;stroke-width:1;stroke-linecap:butt;stroke-linejoin:miter;stroke:rgb(26.666667%,26.666667%,26.666667%);stroke-opacity:1;stroke-miterlimit:10;\" d=\"M 154.019531 308.179688 L 162.800781 390.789063 \"/>\n",
       "<path style=\" stroke:none;fill-rule:nonzero;fill:rgb(26.666667%,26.666667%,26.666667%);fill-opacity:1;\" d=\"M 164.308594 404.976563 L 158.191406 391.277344 L 167.410156 390.300781 L 164.308594 404.976563 \"/>\n",
       "<path style=\"fill:none;stroke-width:1;stroke-linecap:butt;stroke-linejoin:miter;stroke:rgb(26.666667%,26.666667%,26.666667%);stroke-opacity:1;stroke-miterlimit:10;\" d=\"M 154.019531 308.179688 L 71.203125 223.246094 \"/>\n",
       "<path style=\" stroke:none;fill-rule:nonzero;fill:rgb(26.666667%,26.666667%,26.666667%);fill-opacity:1;\" d=\"M 61.246094 213.03125 L 74.523438 220.011719 L 67.886719 226.480469 L 61.246094 213.03125 \"/>\n",
       "<path style=\"fill:none;stroke-width:1;stroke-linecap:butt;stroke-linejoin:miter;stroke:rgb(26.666667%,26.666667%,26.666667%);stroke-opacity:1;stroke-miterlimit:10;\" d=\"M 154.019531 308.179688 L 186.234375 274.539063 \"/>\n",
       "<path style=\" stroke:none;fill-rule:nonzero;fill:rgb(26.666667%,26.666667%,26.666667%);fill-opacity:1;\" d=\"M 196.101563 264.234375 L 189.582031 277.742188 L 182.886719 271.332031 L 196.101563 264.234375 \"/>\n",
       "<path style=\"fill:none;stroke-width:1;stroke-linecap:butt;stroke-linejoin:miter;stroke:rgb(26.666667%,26.666667%,26.666667%);stroke-opacity:1;stroke-miterlimit:10;\" d=\"M 154.019531 308.179688 L 77.683594 410.425781 \"/>\n",
       "<path style=\" stroke:none;fill-rule:nonzero;fill:rgb(26.666667%,26.666667%,26.666667%);fill-opacity:1;\" d=\"M 69.148438 421.855469 L 73.96875 407.652344 L 81.398438 413.199219 L 69.148438 421.855469 \"/>\n",
       "<path style=\"fill:none;stroke-width:1;stroke-linecap:butt;stroke-linejoin:miter;stroke:rgb(26.666667%,26.666667%,26.666667%);stroke-opacity:1;stroke-miterlimit:10;\" d=\"M 154.019531 308.179688 L 52.167969 261.324219 \"/>\n",
       "<path style=\" stroke:none;fill-rule:nonzero;fill:rgb(26.666667%,26.666667%,26.666667%);fill-opacity:1;\" d=\"M 39.210938 255.359375 L 54.105469 257.113281 L 50.230469 265.535156 L 39.210938 255.359375 \"/>\n",
       "<path style=\"fill:none;stroke-width:1;stroke-linecap:butt;stroke-linejoin:miter;stroke:rgb(26.666667%,26.666667%,26.666667%);stroke-opacity:1;stroke-miterlimit:10;\" d=\"M 154.019531 308.179688 L 119.507813 367.207031 \"/>\n",
       "<path style=\" stroke:none;fill-rule:nonzero;fill:rgb(26.666667%,26.666667%,26.666667%);fill-opacity:1;\" d=\"M 112.308594 379.523438 L 115.503906 364.867188 L 123.507813 369.546875 L 112.308594 379.523438 \"/>\n",
       "<path style=\"fill:none;stroke-width:1;stroke-linecap:butt;stroke-linejoin:miter;stroke:rgb(26.666667%,26.666667%,26.666667%);stroke-opacity:1;stroke-miterlimit:10;\" d=\"M 154.019531 308.179688 L 190.171875 222.917969 \"/>\n",
       "<path style=\" stroke:none;fill-rule:nonzero;fill:rgb(26.666667%,26.666667%,26.666667%);fill-opacity:1;\" d=\"M 195.738281 209.785156 L 194.4375 224.730469 L 185.902344 221.109375 L 195.738281 209.785156 \"/>\n",
       "<path style=\"fill:none;stroke-width:1;stroke-linecap:butt;stroke-linejoin:miter;stroke:rgb(26.666667%,26.666667%,26.666667%);stroke-opacity:1;stroke-miterlimit:10;\" d=\"M 154.019531 308.179688 L 44.195313 299.824219 \"/>\n",
       "<path style=\" stroke:none;fill-rule:nonzero;fill:rgb(26.666667%,26.666667%,26.666667%);fill-opacity:1;\" d=\"M 29.972656 298.742188 L 44.546875 295.203125 L 43.84375 304.445313 L 29.972656 298.742188 \"/>\n",
       "<path style=\"fill:none;stroke-width:1;stroke-linecap:butt;stroke-linejoin:miter;stroke:rgb(26.666667%,26.666667%,26.666667%);stroke-opacity:1;stroke-miterlimit:10;\" d=\"M 154.019531 308.179688 L 143.308594 429.117188 \"/>\n",
       "<path style=\" stroke:none;fill-rule:nonzero;fill:rgb(26.666667%,26.666667%,26.666667%);fill-opacity:1;\" d=\"M 142.050781 443.328125 L 138.691406 428.707031 L 147.925781 429.527344 L 142.050781 443.328125 \"/>\n",
       "<path style=\"fill:none;stroke-width:1;stroke-linecap:butt;stroke-linejoin:miter;stroke:rgb(26.666667%,26.666667%,26.666667%);stroke-opacity:1;stroke-miterlimit:10;\" d=\"M 154.019531 308.179688 L 95.433594 321.859375 \"/>\n",
       "<path style=\" stroke:none;fill-rule:nonzero;fill:rgb(26.666667%,26.666667%,26.666667%);fill-opacity:1;\" d=\"M 81.539063 325.105469 L 94.378906 317.347656 L 96.488281 326.375 L 81.539063 325.105469 \"/>\n",
       "<path style=\"fill:none;stroke-width:1;stroke-linecap:butt;stroke-linejoin:miter;stroke:rgb(26.666667%,26.666667%,26.666667%);stroke-opacity:1;stroke-miterlimit:10;\" d=\"M 154.019531 308.179688 L 144.371094 239.378906 \"/>\n",
       "<path style=\" stroke:none;fill-rule:nonzero;fill:rgb(26.666667%,26.666667%,26.666667%);fill-opacity:1;\" d=\"M 142.390625 225.25 L 148.960938 238.734375 L 139.78125 240.019531 L 142.390625 225.25 \"/>\n",
       "<path style=\"fill:none;stroke-width:1;stroke-linecap:butt;stroke-linejoin:miter;stroke:rgb(26.666667%,26.666667%,26.666667%);stroke-opacity:1;stroke-miterlimit:10;\" d=\"M 154.019531 308.179688 L 100.035156 197.605469 \"/>\n",
       "<path style=\" stroke:none;fill-rule:nonzero;fill:rgb(26.666667%,26.666667%,26.666667%);fill-opacity:1;\" d=\"M 93.773438 184.785156 L 104.199219 195.570313 L 95.867188 199.636719 L 93.773438 184.785156 \"/>\n",
       "<path style=\"fill:none;stroke-width:1;stroke-linecap:butt;stroke-linejoin:miter;stroke:rgb(26.666667%,26.666667%,26.666667%);stroke-opacity:1;stroke-miterlimit:10;\" d=\"M 154.019531 308.179688 L 108.105469 431.523438 \"/>\n",
       "<path style=\" stroke:none;fill-rule:nonzero;fill:rgb(26.666667%,26.666667%,26.666667%);fill-opacity:1;\" d=\"M 103.128906 444.890625 L 103.761719 429.90625 L 112.449219 433.140625 L 103.128906 444.890625 \"/>\n",
       "<path style=\"fill:none;stroke-width:1;stroke-linecap:butt;stroke-linejoin:miter;stroke:rgb(26.666667%,26.666667%,26.666667%);stroke-opacity:1;stroke-miterlimit:10;\" d=\"M 154.019531 308.179688 L 43.988281 341.878906 \"/>\n",
       "<path style=\" stroke:none;fill-rule:nonzero;fill:rgb(26.666667%,26.666667%,26.666667%);fill-opacity:1;\" d=\"M 30.347656 346.058594 L 42.632813 337.449219 L 45.347656 346.3125 L 30.347656 346.058594 \"/>\n",
       "<path style=\"fill:none;stroke-width:1;stroke-linecap:butt;stroke-linejoin:miter;stroke:rgb(26.666667%,26.666667%,26.666667%);stroke-opacity:1;stroke-miterlimit:10;\" d=\"M 154.019531 308.179688 L 171.289063 185.039063 \"/>\n",
       "<path style=\" stroke:none;fill-rule:nonzero;fill:rgb(26.666667%,26.666667%,26.666667%);fill-opacity:1;\" d=\"M 173.269531 170.914063 L 175.878906 185.683594 L 166.695313 184.398438 L 173.269531 170.914063 \"/>\n",
       "<path style=\"fill:none;stroke-width:1;stroke-linecap:butt;stroke-linejoin:miter;stroke:rgb(26.666667%,26.666667%,26.666667%);stroke-opacity:1;stroke-miterlimit:10;\" d=\"M 439.519531 427.035156 L 400.980469 411.464844 \"/>\n",
       "<path style=\" stroke:none;fill-rule:nonzero;fill:rgb(26.666667%,26.666667%,26.666667%);fill-opacity:1;\" d=\"M 387.753906 406.121094 L 402.71875 407.167969 L 399.246094 415.761719 L 387.753906 406.121094 \"/>\n",
       "<path style=\"fill:none;stroke-width:1;stroke-linecap:butt;stroke-linejoin:miter;stroke:rgb(26.666667%,26.666667%,26.666667%);stroke-opacity:1;stroke-miterlimit:10;\" d=\"M 439.519531 427.035156 L 428.265625 371.90625 \"/>\n",
       "<path style=\" stroke:none;fill-rule:nonzero;fill:rgb(26.666667%,26.666667%,26.666667%);fill-opacity:1;\" d=\"M 425.414063 357.925781 L 432.808594 370.976563 L 423.726563 372.832031 L 425.414063 357.925781 \"/>\n",
       "<path style=\"fill:none;stroke-width:1;stroke-linecap:butt;stroke-linejoin:miter;stroke:rgb(26.666667%,26.666667%,26.666667%);stroke-opacity:1;stroke-miterlimit:10;\" d=\"M 439.519531 427.035156 L 397.078125 476.535156 \"/>\n",
       "<path style=\" stroke:none;fill-rule:nonzero;fill:rgb(26.666667%,26.666667%,26.666667%);fill-opacity:1;\" d=\"M 387.792969 487.363281 L 393.558594 473.515625 L 400.597656 479.550781 L 387.792969 487.363281 \"/>\n",
       "<path style=\"fill:none;stroke-width:1;stroke-linecap:butt;stroke-linejoin:miter;stroke:rgb(26.666667%,26.666667%,26.666667%);stroke-opacity:1;stroke-miterlimit:10;\" d=\"M 439.519531 427.035156 L 371.535156 535.542969 \"/>\n",
       "<path style=\" stroke:none;fill-rule:nonzero;fill:rgb(26.666667%,26.666667%,26.666667%);fill-opacity:1;\" d=\"M 363.960938 547.632813 L 367.609375 533.082031 L 375.464844 538.003906 L 363.960938 547.632813 \"/>\n",
       "<path style=\"fill:none;stroke-width:1;stroke-linecap:butt;stroke-linejoin:miter;stroke:rgb(26.666667%,26.666667%,26.666667%);stroke-opacity:1;stroke-miterlimit:10;\" d=\"M 439.519531 427.035156 L 428.773438 506.300781 \"/>\n",
       "<path style=\" stroke:none;fill-rule:nonzero;fill:rgb(26.666667%,26.666667%,26.666667%);fill-opacity:1;\" d=\"M 426.855469 520.4375 L 424.179688 505.675781 L 433.367188 506.921875 L 426.855469 520.4375 \"/>\n",
       "<path style=\"fill:none;stroke-width:1;stroke-linecap:butt;stroke-linejoin:miter;stroke:rgb(26.666667%,26.666667%,26.666667%);stroke-opacity:1;stroke-miterlimit:10;\" d=\"M 439.519531 427.035156 L 355.980469 499.820313 \"/>\n",
       "<path style=\" stroke:none;fill-rule:nonzero;fill:rgb(26.666667%,26.666667%,26.666667%);fill-opacity:1;\" d=\"M 345.226563 509.191406 L 352.9375 496.324219 L 359.027344 503.3125 L 345.226563 509.191406 \"/>\n",
       "<path style=\"fill:none;stroke-width:1;stroke-linecap:butt;stroke-linejoin:miter;stroke:rgb(26.666667%,26.666667%,26.666667%);stroke-opacity:1;stroke-miterlimit:10;\" d=\"M 439.519531 427.035156 L 511.074219 518.695313 \"/>\n",
       "<path style=\" stroke:none;fill-rule:nonzero;fill:rgb(26.666667%,26.666667%,26.666667%);fill-opacity:1;\" d=\"M 519.855469 529.9375 L 507.421875 521.546875 L 514.730469 515.839844 L 519.855469 529.9375 \"/>\n",
       "<path style=\"fill:none;stroke-width:1;stroke-linecap:butt;stroke-linejoin:miter;stroke:rgb(26.666667%,26.666667%,26.666667%);stroke-opacity:1;stroke-miterlimit:10;\" d=\"M 439.519531 427.035156 L 555.988281 410.039063 \"/>\n",
       "<path style=\" stroke:none;fill-rule:nonzero;fill:rgb(26.666667%,26.666667%,26.666667%);fill-opacity:1;\" d=\"M 570.105469 407.980469 L 556.65625 414.625 L 555.320313 405.453125 L 570.105469 407.980469 \"/>\n",
       "<path style=\"fill:none;stroke-width:1;stroke-linecap:butt;stroke-linejoin:miter;stroke:rgb(26.666667%,26.666667%,26.666667%);stroke-opacity:1;stroke-miterlimit:10;\" d=\"M 439.519531 427.035156 L 442.324219 555.738281 \"/>\n",
       "<path style=\" stroke:none;fill-rule:nonzero;fill:rgb(26.666667%,26.666667%,26.666667%);fill-opacity:1;\" d=\"M 442.636719 570.003906 L 437.691406 555.839844 L 446.960938 555.640625 L 442.636719 570.003906 \"/>\n",
       "<path style=\"fill:none;stroke-width:1;stroke-linecap:butt;stroke-linejoin:miter;stroke:rgb(26.666667%,26.666667%,26.666667%);stroke-opacity:1;stroke-miterlimit:10;\" d=\"M 439.519531 427.035156 L 534.917969 487.957031 \"/>\n",
       "<path style=\" stroke:none;fill-rule:nonzero;fill:rgb(26.666667%,26.666667%,26.666667%);fill-opacity:1;\" d=\"M 546.941406 495.632813 L 532.421875 491.863281 L 537.414063 484.050781 L 546.941406 495.632813 \"/>\n",
       "<path style=\"fill:none;stroke-width:1;stroke-linecap:butt;stroke-linejoin:miter;stroke:rgb(26.666667%,26.666667%,26.666667%);stroke-opacity:1;stroke-miterlimit:10;\" d=\"M 439.519531 427.035156 L 498.199219 449.074219 \"/>\n",
       "<path style=\" stroke:none;fill-rule:nonzero;fill:rgb(26.666667%,26.666667%,26.666667%);fill-opacity:1;\" d=\"M 511.554688 454.089844 L 496.570313 453.414063 L 499.828125 444.734375 L 511.554688 454.089844 \"/>\n",
       "<path style=\"fill:none;stroke-width:1;stroke-linecap:butt;stroke-linejoin:miter;stroke:rgb(26.666667%,26.666667%,26.666667%);stroke-opacity:1;stroke-miterlimit:10;\" d=\"M 439.519531 427.035156 L 548.171875 369.039063 \"/>\n",
       "<path style=\" stroke:none;fill-rule:nonzero;fill:rgb(26.666667%,26.666667%,26.666667%);fill-opacity:1;\" d=\"M 560.757813 362.324219 L 550.355469 373.128906 L 545.988281 364.949219 L 560.757813 362.324219 \"/>\n",
       "<path style=\"fill:none;stroke-width:1;stroke-linecap:butt;stroke-linejoin:miter;stroke:rgb(26.666667%,26.666667%,26.666667%);stroke-opacity:1;stroke-miterlimit:10;\" d=\"M 439.519531 427.035156 L 478.734375 542.230469 \"/>\n",
       "<path style=\" stroke:none;fill-rule:nonzero;fill:rgb(26.666667%,26.666667%,26.666667%);fill-opacity:1;\" d=\"M 483.332031 555.734375 L 474.347656 543.726563 L 483.121094 540.738281 L 483.332031 555.734375 \"/>\n",
       "<path style=\"fill:none;stroke-width:1;stroke-linecap:butt;stroke-linejoin:miter;stroke:rgb(26.666667%,26.666667%,26.666667%);stroke-opacity:1;stroke-miterlimit:10;\" d=\"M 439.519531 427.035156 L 456.988281 332.304688 \"/>\n",
       "<path style=\" stroke:none;fill-rule:nonzero;fill:rgb(26.666667%,26.666667%,26.666667%);fill-opacity:1;\" d=\"M 459.578125 318.273438 L 461.546875 333.144531 L 452.429688 331.464844 L 459.578125 318.273438 \"/>\n",
       "<path style=\"fill:none;stroke-width:1;stroke-linecap:butt;stroke-linejoin:miter;stroke:rgb(26.666667%,26.666667%,26.666667%);stroke-opacity:1;stroke-miterlimit:10;\" d=\"M 439.519531 427.035156 L 527.757813 338.378906 \"/>\n",
       "<path style=\" stroke:none;fill-rule:nonzero;fill:rgb(26.666667%,26.666667%,26.666667%);fill-opacity:1;\" d=\"M 537.820313 328.265625 L 531.042969 341.648438 L 524.472656 335.109375 L 537.820313 328.265625 \"/>\n",
       "<path style=\"fill:none;stroke-width:1;stroke-linecap:butt;stroke-linejoin:miter;stroke:rgb(26.666667%,26.666667%,26.666667%);stroke-opacity:1;stroke-miterlimit:10;\" d=\"M 439.519531 427.035156 L 550.773438 449.746094 \"/>\n",
       "<path style=\" stroke:none;fill-rule:nonzero;fill:rgb(26.666667%,26.666667%,26.666667%);fill-opacity:1;\" d=\"M 564.75 452.601563 L 549.847656 454.289063 L 551.699219 445.207031 L 564.75 452.601563 \"/>\n",
       "<path style=\"fill:none;stroke-width:1;stroke-linecap:butt;stroke-linejoin:miter;stroke:rgb(26.666667%,26.666667%,26.666667%);stroke-opacity:1;stroke-miterlimit:10;\" d=\"M 439.519531 427.035156 L 402.480469 553.585938 \"/>\n",
       "<path style=\" stroke:none;fill-rule:nonzero;fill:rgb(26.666667%,26.666667%,26.666667%);fill-opacity:1;\" d=\"M 398.472656 567.277344 L 398.03125 552.285156 L 406.929688 554.890625 L 398.472656 567.277344 \"/>\n",
       "<path style=\"fill:none;stroke-width:1;stroke-linecap:butt;stroke-linejoin:miter;stroke:rgb(26.666667%,26.666667%,26.666667%);stroke-opacity:1;stroke-miterlimit:10;\" d=\"M 439.519531 427.035156 L 373.5625 448.5625 \"/>\n",
       "<path style=\" stroke:none;fill-rule:nonzero;fill:rgb(26.666667%,26.666667%,26.666667%);fill-opacity:1;\" d=\"M 360 452.988281 L 372.125 444.15625 L 375 452.96875 L 360 452.988281 \"/>\n",
       "<path style=\"fill:none;stroke-width:1;stroke-linecap:butt;stroke-linejoin:miter;stroke:rgb(26.666667%,26.666667%,26.666667%);stroke-opacity:1;stroke-miterlimit:10;\" d=\"M 439.519531 427.035156 L 469.640625 485.394531 \"/>\n",
       "<path style=\" stroke:none;fill-rule:nonzero;fill:rgb(26.666667%,26.666667%,26.666667%);fill-opacity:1;\" d=\"M 476.183594 498.070313 L 465.519531 487.519531 L 473.757813 483.265625 L 476.183594 498.070313 \"/>\n",
       "<path style=\"fill:none;stroke-width:1;stroke-linecap:butt;stroke-linejoin:miter;stroke:rgb(26.666667%,26.666667%,26.666667%);stroke-opacity:1;stroke-miterlimit:10;\" d=\"M 439.519531 427.035156 L 506.785156 402.777344 \"/>\n",
       "<path style=\" stroke:none;fill-rule:nonzero;fill:rgb(26.666667%,26.666667%,26.666667%);fill-opacity:1;\" d=\"M 520.207031 397.9375 L 508.359375 407.136719 L 505.210938 398.417969 L 520.207031 397.9375 \"/>\n",
       "<path style=\"fill:none;stroke-width:1;stroke-linecap:butt;stroke-linejoin:miter;stroke:rgb(26.666667%,26.666667%,26.666667%);stroke-opacity:1;stroke-miterlimit:10;\" d=\"M 439.519531 427.035156 L 475.769531 373.089844 \"/>\n",
       "<path style=\" stroke:none;fill-rule:nonzero;fill:rgb(26.666667%,26.666667%,26.666667%);fill-opacity:1;\" d=\"M 483.726563 361.25 L 479.617188 375.675781 L 471.921875 370.503906 L 483.726563 361.25 \"/>\n",
       "<path style=\"fill:none;stroke-width:1;stroke-linecap:butt;stroke-linejoin:miter;stroke:rgb(26.666667%,26.666667%,26.666667%);stroke-opacity:1;stroke-miterlimit:10;\" d=\"M 439.519531 427.035156 L 496.867188 319.753906 \"/>\n",
       "<path style=\" stroke:none;fill-rule:nonzero;fill:rgb(26.666667%,26.666667%,26.666667%);fill-opacity:1;\" d=\"M 503.589844 307.171875 L 500.953125 321.9375 L 492.777344 317.566406 L 503.589844 307.171875 \"/>\n",
       "<path style=\"fill:none;stroke-width:1;stroke-linecap:butt;stroke-linejoin:miter;stroke:rgb(26.666667%,26.666667%,26.666667%);stroke-opacity:1;stroke-miterlimit:10;\" d=\"M 377.773438 146.339844 L 386.585938 44.175781 \"/>\n",
       "<path style=\" stroke:none;fill-rule:nonzero;fill:rgb(26.666667%,26.666667%,26.666667%);fill-opacity:1;\" d=\"M 387.8125 29.964844 L 391.207031 44.574219 L 381.96875 43.777344 L 387.8125 29.964844 \"/>\n",
       "<path style=\"fill:none;stroke-width:1;stroke-linecap:butt;stroke-linejoin:miter;stroke:rgb(26.666667%,26.666667%,26.666667%);stroke-opacity:1;stroke-miterlimit:10;\" d=\"M 377.773438 146.339844 L 434.679688 62.34375 \"/>\n",
       "<path style=\" stroke:none;fill-rule:nonzero;fill:rgb(26.666667%,26.666667%,26.666667%);fill-opacity:1;\" d=\"M 442.679688 50.535156 L 438.515625 64.945313 L 430.839844 59.746094 L 442.679688 50.535156 \"/>\n",
       "<path style=\"fill:none;stroke-width:1;stroke-linecap:butt;stroke-linejoin:miter;stroke:rgb(26.666667%,26.666667%,26.666667%);stroke-opacity:1;stroke-miterlimit:10;\" d=\"M 377.773438 146.339844 L 337.21875 42.828125 \"/>\n",
       "<path style=\" stroke:none;fill-rule:nonzero;fill:rgb(26.666667%,26.666667%,26.666667%);fill-opacity:1;\" d=\"M 332.015625 29.542969 L 341.535156 41.136719 L 332.902344 44.515625 L 332.015625 29.542969 \"/>\n",
       "<path style=\"fill:none;stroke-width:1;stroke-linecap:butt;stroke-linejoin:miter;stroke:rgb(26.666667%,26.666667%,26.666667%);stroke-opacity:1;stroke-miterlimit:10;\" d=\"M 377.773438 146.339844 L 473.433594 93.410156 \"/>\n",
       "<path style=\" stroke:none;fill-rule:nonzero;fill:rgb(26.666667%,26.666667%,26.666667%);fill-opacity:1;\" d=\"M 485.917969 86.503906 L 475.679688 97.464844 L 471.191406 89.355469 L 485.917969 86.503906 \"/>\n",
       "<path style=\"fill-rule:nonzero;fill:rgb(100%,0%,0%);fill-opacity:1;stroke-width:1;stroke-linecap:butt;stroke-linejoin:miter;stroke:rgb(0%,0%,0%);stroke-opacity:1;stroke-miterlimit:10;\" d=\"M 325.140625 311.820313 C 325.140625 317.34375 320.664063 321.820313 315.140625 321.820313 C 309.617188 321.820313 305.140625 317.34375 305.140625 311.820313 C 305.140625 306.300781 309.617188 301.820313 315.140625 301.820313 C 320.664063 301.820313 325.140625 306.300781 325.140625 311.820313 \"/>\n",
       "<path style=\"fill-rule:nonzero;fill:rgb(100%,0%,0%);fill-opacity:1;stroke-width:1;stroke-linecap:butt;stroke-linejoin:miter;stroke:rgb(0%,0%,0%);stroke-opacity:1;stroke-miterlimit:10;\" d=\"M 164.019531 308.179688 C 164.019531 313.703125 159.542969 318.179688 154.019531 318.179688 C 148.496094 318.179688 144.019531 313.703125 144.019531 308.179688 C 144.019531 302.65625 148.496094 298.179688 154.019531 298.179688 C 159.542969 298.179688 164.019531 302.65625 164.019531 308.179688 \"/>\n",
       "<path style=\"fill-rule:nonzero;fill:rgb(100%,0%,0%);fill-opacity:1;stroke-width:1;stroke-linecap:butt;stroke-linejoin:miter;stroke:rgb(0%,0%,0%);stroke-opacity:1;stroke-miterlimit:10;\" d=\"M 449.519531 427.035156 C 449.519531 432.554688 445.042969 437.035156 439.519531 437.035156 C 433.996094 437.035156 429.519531 432.554688 429.519531 427.035156 C 429.519531 421.511719 433.996094 417.035156 439.519531 417.035156 C 445.042969 417.035156 449.519531 421.511719 449.519531 427.035156 \"/>\n",
       "<path style=\"fill-rule:nonzero;fill:rgb(100%,0%,0%);fill-opacity:1;stroke-width:1;stroke-linecap:butt;stroke-linejoin:miter;stroke:rgb(0%,0%,0%);stroke-opacity:1;stroke-miterlimit:10;\" d=\"M 333.847656 210.699219 C 333.847656 216.222656 329.371094 220.699219 323.847656 220.699219 C 318.324219 220.699219 313.847656 216.222656 313.847656 210.699219 C 313.847656 205.175781 318.324219 200.699219 323.847656 200.699219 C 329.371094 200.699219 333.847656 205.175781 333.847656 210.699219 \"/>\n",
       "<path style=\"fill-rule:nonzero;fill:rgb(100%,0%,0%);fill-opacity:1;stroke-width:1;stroke-linecap:butt;stroke-linejoin:miter;stroke:rgb(0%,0%,0%);stroke-opacity:1;stroke-miterlimit:10;\" d=\"M 387.773438 146.339844 C 387.773438 151.863281 383.296875 156.339844 377.773438 156.339844 C 372.253906 156.339844 367.773438 151.863281 367.773438 146.339844 C 367.773438 140.816406 372.253906 136.339844 377.773438 136.339844 C 383.296875 136.339844 387.773438 140.816406 387.773438 146.339844 \"/>\n",
       "<path style=\"fill-rule:nonzero;fill:rgb(100%,0%,0%);fill-opacity:1;stroke-width:1;stroke-linecap:butt;stroke-linejoin:miter;stroke:rgb(0%,0%,0%);stroke-opacity:1;stroke-miterlimit:10;\" d=\"M 375.609375 220.136719 C 375.609375 225.65625 371.132813 230.136719 365.609375 230.136719 C 360.089844 230.136719 355.609375 225.65625 355.609375 220.136719 C 355.609375 214.613281 360.089844 210.136719 365.609375 210.136719 C 371.132813 210.136719 375.609375 214.613281 375.609375 220.136719 \"/>\n",
       "<path style=\"fill-rule:nonzero;fill:rgb(100%,0%,0%);fill-opacity:1;stroke-width:1;stroke-linecap:butt;stroke-linejoin:miter;stroke:rgb(0%,0%,0%);stroke-opacity:1;stroke-miterlimit:10;\" d=\"M 139.890625 156.171875 C 139.890625 161.695313 135.414063 166.171875 129.890625 166.171875 C 124.367188 166.171875 119.890625 161.695313 119.890625 156.171875 C 119.890625 150.648438 124.367188 146.171875 129.890625 146.171875 C 135.414063 146.171875 139.890625 150.648438 139.890625 156.171875 \"/>\n",
       "<path style=\"fill-rule:nonzero;fill:rgb(100%,0%,0%);fill-opacity:1;stroke-width:1;stroke-linecap:butt;stroke-linejoin:miter;stroke:rgb(0%,0%,0%);stroke-opacity:1;stroke-miterlimit:10;\" d=\"M 198.597656 366.78125 C 198.597656 372.304688 194.121094 376.78125 188.597656 376.78125 C 183.074219 376.78125 178.597656 372.304688 178.597656 366.78125 C 178.597656 361.261719 183.074219 356.78125 188.597656 356.78125 C 194.121094 356.78125 198.597656 361.261719 198.597656 366.78125 \"/>\n",
       "<path style=\"fill-rule:nonzero;fill:rgb(100%,0%,0%);fill-opacity:1;stroke-width:1;stroke-linecap:butt;stroke-linejoin:miter;stroke:rgb(0%,0%,0%);stroke-opacity:1;stroke-miterlimit:10;\" d=\"M 49.351563 392.179688 C 49.351563 397.703125 44.875 402.179688 39.351563 402.179688 C 33.828125 402.179688 29.351563 397.703125 29.351563 392.179688 C 29.351563 386.660156 33.828125 382.179688 39.351563 382.179688 C 44.875 382.179688 49.351563 386.660156 49.351563 392.179688 \"/>\n",
       "<path style=\"fill-rule:nonzero;fill:rgb(100%,0%,0%);fill-opacity:1;stroke-width:1;stroke-linecap:butt;stroke-linejoin:miter;stroke:rgb(0%,0%,0%);stroke-opacity:1;stroke-miterlimit:10;\" d=\"M 96.359375 252.921875 C 96.359375 258.445313 91.882813 262.921875 86.359375 262.921875 C 80.835938 262.921875 76.359375 258.445313 76.359375 252.921875 C 76.359375 247.398438 80.835938 242.921875 86.359375 242.921875 C 91.882813 242.921875 96.359375 247.398438 96.359375 252.921875 \"/>\n",
       "<path style=\"fill-rule:nonzero;fill:rgb(100%,0%,0%);fill-opacity:1;stroke-width:1;stroke-linecap:butt;stroke-linejoin:miter;stroke:rgb(0%,0%,0%);stroke-opacity:1;stroke-miterlimit:10;\" d=\"M 175.367188 414.917969 C 175.367188 420.441406 170.890625 424.917969 165.367188 424.917969 C 159.84375 424.917969 155.367188 420.441406 155.367188 414.917969 C 155.367188 409.394531 159.84375 404.917969 165.367188 404.917969 C 170.890625 404.917969 175.367188 409.394531 175.367188 414.917969 \"/>\n",
       "<path style=\"fill-rule:nonzero;fill:rgb(100%,0%,0%);fill-opacity:1;stroke-width:1;stroke-linecap:butt;stroke-linejoin:miter;stroke:rgb(0%,0%,0%);stroke-opacity:1;stroke-miterlimit:10;\" d=\"M 64.265625 205.871094 C 64.265625 211.394531 59.789063 215.871094 54.265625 215.871094 C 48.742188 215.871094 44.265625 211.394531 44.265625 205.871094 C 44.265625 200.347656 48.742188 195.871094 54.265625 195.871094 C 59.789063 195.871094 64.265625 200.347656 64.265625 205.871094 \"/>\n",
       "<path style=\"fill-rule:nonzero;fill:rgb(100%,0%,0%);fill-opacity:1;stroke-width:1;stroke-linecap:butt;stroke-linejoin:miter;stroke:rgb(0%,0%,0%);stroke-opacity:1;stroke-miterlimit:10;\" d=\"M 213.015625 257.011719 C 213.015625 262.535156 208.539063 267.011719 203.015625 267.011719 C 197.492188 267.011719 193.015625 262.535156 193.015625 257.011719 C 193.015625 251.488281 197.492188 247.011719 203.015625 247.011719 C 208.539063 247.011719 213.015625 251.488281 213.015625 257.011719 \"/>\n",
       "<path style=\"fill-rule:nonzero;fill:rgb(100%,0%,0%);fill-opacity:1;stroke-width:1;stroke-linecap:butt;stroke-linejoin:miter;stroke:rgb(0%,0%,0%);stroke-opacity:1;stroke-miterlimit:10;\" d=\"M 73.167969 429.871094 C 73.167969 435.390625 68.691406 439.871094 63.167969 439.871094 C 57.644531 439.871094 53.167969 435.390625 53.167969 429.871094 C 53.167969 424.347656 57.644531 419.871094 63.167969 419.871094 C 68.691406 419.871094 73.167969 424.347656 73.167969 429.871094 \"/>\n",
       "<path style=\"fill-rule:nonzero;fill:rgb(100%,0%,0%);fill-opacity:1;stroke-width:1;stroke-linecap:butt;stroke-linejoin:miter;stroke:rgb(0%,0%,0%);stroke-opacity:1;stroke-miterlimit:10;\" d=\"M 40.125 251.179688 C 40.125 256.703125 35.648438 261.179688 30.125 261.179688 C 24.601563 261.179688 20.125 256.703125 20.125 251.179688 C 20.125 245.65625 24.601563 241.179688 30.125 241.179688 C 35.648438 241.179688 40.125 245.65625 40.125 251.179688 \"/>\n",
       "<path style=\"fill-rule:nonzero;fill:rgb(100%,0%,0%);fill-opacity:1;stroke-width:1;stroke-linecap:butt;stroke-linejoin:miter;stroke:rgb(0%,0%,0%);stroke-opacity:1;stroke-miterlimit:10;\" d=\"M 117.257813 388.15625 C 117.257813 393.675781 112.78125 398.15625 107.257813 398.15625 C 101.738281 398.15625 97.257813 393.675781 97.257813 388.15625 C 97.257813 382.632813 101.738281 378.15625 107.257813 378.15625 C 112.78125 378.15625 117.257813 382.632813 117.257813 388.15625 \"/>\n",
       "<path style=\"fill-rule:nonzero;fill:rgb(100%,0%,0%);fill-opacity:1;stroke-width:1;stroke-linecap:butt;stroke-linejoin:miter;stroke:rgb(0%,0%,0%);stroke-opacity:1;stroke-miterlimit:10;\" d=\"M 209.644531 200.578125 C 209.644531 206.101563 205.167969 210.578125 199.644531 210.578125 C 194.121094 210.578125 189.644531 206.101563 189.644531 200.578125 C 189.644531 195.054688 194.121094 190.578125 199.644531 190.578125 C 205.167969 190.578125 209.644531 195.054688 209.644531 200.578125 \"/>\n",
       "<path style=\"fill-rule:nonzero;fill:rgb(100%,0%,0%);fill-opacity:1;stroke-width:1;stroke-linecap:butt;stroke-linejoin:miter;stroke:rgb(0%,0%,0%);stroke-opacity:1;stroke-miterlimit:10;\" d=\"M 30 297.984375 C 30 303.507813 25.523438 307.984375 20 307.984375 C 14.476563 307.984375 10 303.507813 10 297.984375 C 10 292.460938 14.476563 287.984375 20 287.984375 C 25.523438 287.984375 30 292.460938 30 297.984375 \"/>\n",
       "<path style=\"fill-rule:nonzero;fill:rgb(100%,0%,0%);fill-opacity:1;stroke-width:1;stroke-linecap:butt;stroke-linejoin:miter;stroke:rgb(0%,0%,0%);stroke-opacity:1;stroke-miterlimit:10;\" d=\"M 151.171875 453.289063 C 151.171875 458.8125 146.691406 463.289063 141.171875 463.289063 C 135.648438 463.289063 131.171875 458.8125 131.171875 453.289063 C 131.171875 447.765625 135.648438 443.289063 141.171875 443.289063 C 146.691406 443.289063 151.171875 447.765625 151.171875 453.289063 \"/>\n",
       "<path style=\"fill-rule:nonzero;fill:rgb(100%,0%,0%);fill-opacity:1;stroke-width:1;stroke-linecap:butt;stroke-linejoin:miter;stroke:rgb(0%,0%,0%);stroke-opacity:1;stroke-miterlimit:10;\" d=\"M 81.800781 327.378906 C 81.800781 332.902344 77.324219 337.378906 71.800781 337.378906 C 66.28125 337.378906 61.800781 332.902344 61.800781 327.378906 C 61.800781 321.855469 66.28125 317.378906 71.800781 317.378906 C 77.324219 317.378906 81.800781 321.855469 81.800781 327.378906 \"/>\n",
       "<path style=\"fill-rule:nonzero;fill:rgb(100%,0%,0%);fill-opacity:1;stroke-width:1;stroke-linecap:butt;stroke-linejoin:miter;stroke:rgb(0%,0%,0%);stroke-opacity:1;stroke-miterlimit:10;\" d=\"M 151.003906 215.347656 C 151.003906 220.871094 146.527344 225.347656 141.003906 225.347656 C 135.480469 225.347656 131.003906 220.871094 131.003906 215.347656 C 131.003906 209.824219 135.480469 205.347656 141.003906 205.347656 C 146.527344 205.347656 151.003906 209.824219 151.003906 215.347656 \"/>\n",
       "<path style=\"fill-rule:nonzero;fill:rgb(100%,0%,0%);fill-opacity:1;stroke-width:1;stroke-linecap:butt;stroke-linejoin:miter;stroke:rgb(0%,0%,0%);stroke-opacity:1;stroke-miterlimit:10;\" d=\"M 99.386719 175.796875 C 99.386719 181.320313 94.910156 185.796875 89.386719 185.796875 C 83.863281 185.796875 79.386719 181.320313 79.386719 175.796875 C 79.386719 170.273438 83.863281 165.796875 89.386719 165.796875 C 94.910156 165.796875 99.386719 170.273438 99.386719 175.796875 \"/>\n",
       "<path style=\"fill-rule:nonzero;fill:rgb(100%,0%,0%);fill-opacity:1;stroke-width:1;stroke-linecap:butt;stroke-linejoin:miter;stroke:rgb(0%,0%,0%);stroke-opacity:1;stroke-miterlimit:10;\" d=\"M 109.640625 454.265625 C 109.640625 459.785156 105.164063 464.265625 99.640625 464.265625 C 94.117188 464.265625 89.640625 459.785156 89.640625 454.265625 C 89.640625 448.742188 94.117188 444.265625 99.640625 444.265625 C 105.164063 444.265625 109.640625 448.742188 109.640625 454.265625 \"/>\n",
       "<path style=\"fill-rule:nonzero;fill:rgb(100%,0%,0%);fill-opacity:1;stroke-width:1;stroke-linecap:butt;stroke-linejoin:miter;stroke:rgb(0%,0%,0%);stroke-opacity:1;stroke-miterlimit:10;\" d=\"M 30.789063 348.988281 C 30.789063 354.511719 26.308594 358.988281 20.789063 358.988281 C 15.265625 358.988281 10.789063 354.511719 10.789063 348.988281 C 10.789063 343.464844 15.265625 338.988281 20.789063 338.988281 C 26.308594 338.988281 30.789063 343.464844 30.789063 348.988281 \"/>\n",
       "<path style=\"fill-rule:nonzero;fill:rgb(100%,0%,0%);fill-opacity:1;stroke-width:1;stroke-linecap:butt;stroke-linejoin:miter;stroke:rgb(0%,0%,0%);stroke-opacity:1;stroke-miterlimit:10;\" d=\"M 184.65625 161.011719 C 184.65625 166.53125 180.179688 171.011719 174.65625 171.011719 C 169.136719 171.011719 164.65625 166.53125 164.65625 161.011719 C 164.65625 155.488281 169.136719 151.011719 174.65625 151.011719 C 180.179688 151.011719 184.65625 155.488281 184.65625 161.011719 \"/>\n",
       "<path style=\"fill-rule:nonzero;fill:rgb(100%,0%,0%);fill-opacity:1;stroke-width:1;stroke-linecap:butt;stroke-linejoin:miter;stroke:rgb(0%,0%,0%);stroke-opacity:1;stroke-miterlimit:10;\" d=\"M 388.480469 402.375 C 388.480469 407.898438 384.003906 412.375 378.480469 412.375 C 372.957031 412.375 368.480469 407.898438 368.480469 402.375 C 368.480469 396.851563 372.957031 392.375 378.480469 392.375 C 384.003906 392.375 388.480469 396.851563 388.480469 402.375 \"/>\n",
       "<path style=\"fill-rule:nonzero;fill:rgb(100%,0%,0%);fill-opacity:1;stroke-width:1;stroke-linecap:butt;stroke-linejoin:miter;stroke:rgb(0%,0%,0%);stroke-opacity:1;stroke-miterlimit:10;\" d=\"M 433.414063 348.128906 C 433.414063 353.652344 428.9375 358.128906 423.414063 358.128906 C 417.890625 358.128906 413.414063 353.652344 413.414063 348.128906 C 413.414063 342.605469 417.890625 338.128906 423.414063 338.128906 C 428.9375 338.128906 433.414063 342.605469 433.414063 348.128906 \"/>\n",
       "<path style=\"fill-rule:nonzero;fill:rgb(100%,0%,0%);fill-opacity:1;stroke-width:1;stroke-linecap:butt;stroke-linejoin:miter;stroke:rgb(0%,0%,0%);stroke-opacity:1;stroke-miterlimit:10;\" d=\"M 391.285156 494.953125 C 391.285156 500.476563 386.804688 504.953125 381.285156 504.953125 C 375.761719 504.953125 371.285156 500.476563 371.285156 494.953125 C 371.285156 489.433594 375.761719 484.953125 381.285156 484.953125 C 386.804688 484.953125 391.285156 489.433594 391.285156 494.953125 \"/>\n",
       "<path style=\"fill-rule:nonzero;fill:rgb(100%,0%,0%);fill-opacity:1;stroke-width:1;stroke-linecap:butt;stroke-linejoin:miter;stroke:rgb(0%,0%,0%);stroke-opacity:1;stroke-miterlimit:10;\" d=\"M 368.652344 556.105469 C 368.652344 561.628906 364.175781 566.105469 358.652344 566.105469 C 353.128906 566.105469 348.652344 561.628906 348.652344 556.105469 C 348.652344 550.582031 353.128906 546.105469 358.652344 546.105469 C 364.175781 546.105469 368.652344 550.582031 368.652344 556.105469 \"/>\n",
       "<path style=\"fill-rule:nonzero;fill:rgb(100%,0%,0%);fill-opacity:1;stroke-width:1;stroke-linecap:butt;stroke-linejoin:miter;stroke:rgb(0%,0%,0%);stroke-opacity:1;stroke-miterlimit:10;\" d=\"M 435.511719 530.34375 C 435.511719 535.867188 431.035156 540.34375 425.511719 540.34375 C 419.988281 540.34375 415.511719 535.867188 415.511719 530.34375 C 415.511719 524.820313 419.988281 520.34375 425.511719 520.34375 C 431.035156 520.34375 435.511719 524.820313 435.511719 530.34375 \"/>\n",
       "<path style=\"fill-rule:nonzero;fill:rgb(100%,0%,0%);fill-opacity:1;stroke-width:1;stroke-linecap:butt;stroke-linejoin:miter;stroke:rgb(0%,0%,0%);stroke-opacity:1;stroke-miterlimit:10;\" d=\"M 347.683594 515.757813 C 347.683594 521.28125 343.207031 525.757813 337.683594 525.757813 C 332.164063 525.757813 327.683594 521.28125 327.683594 515.757813 C 327.683594 510.238281 332.164063 505.757813 337.683594 505.757813 C 343.207031 505.757813 347.683594 510.238281 347.683594 515.757813 \"/>\n",
       "<path style=\"fill-rule:nonzero;fill:rgb(100%,0%,0%);fill-opacity:1;stroke-width:1;stroke-linecap:butt;stroke-linejoin:miter;stroke:rgb(0%,0%,0%);stroke-opacity:1;stroke-miterlimit:10;\" d=\"M 536.007813 537.820313 C 536.007813 543.34375 531.53125 547.820313 526.007813 547.820313 C 520.484375 547.820313 516.007813 543.34375 516.007813 537.820313 C 516.007813 532.296875 520.484375 527.820313 526.007813 527.820313 C 531.53125 527.820313 536.007813 532.296875 536.007813 537.820313 \"/>\n",
       "<path style=\"fill-rule:nonzero;fill:rgb(100%,0%,0%);fill-opacity:1;stroke-width:1;stroke-linecap:butt;stroke-linejoin:miter;stroke:rgb(0%,0%,0%);stroke-opacity:1;stroke-miterlimit:10;\" d=\"M 590 406.535156 C 590 412.058594 585.523438 416.535156 580 416.535156 C 574.476563 416.535156 570 412.058594 570 406.535156 C 570 401.011719 574.476563 396.535156 580 396.535156 C 585.523438 396.535156 590 401.011719 590 406.535156 \"/>\n",
       "<path style=\"fill-rule:nonzero;fill:rgb(100%,0%,0%);fill-opacity:1;stroke-width:1;stroke-linecap:butt;stroke-linejoin:miter;stroke:rgb(0%,0%,0%);stroke-opacity:1;stroke-miterlimit:10;\" d=\"M 452.855469 580 C 452.855469 585.523438 448.378906 590 442.855469 590 C 437.332031 590 432.855469 585.523438 432.855469 580 C 432.855469 574.476563 437.332031 570 442.855469 570 C 448.378906 570 452.855469 574.476563 452.855469 580 \"/>\n",
       "<path style=\"fill-rule:nonzero;fill:rgb(100%,0%,0%);fill-opacity:1;stroke-width:1;stroke-linecap:butt;stroke-linejoin:miter;stroke:rgb(0%,0%,0%);stroke-opacity:1;stroke-miterlimit:10;\" d=\"M 565.367188 501.015625 C 565.367188 506.539063 560.890625 511.015625 555.367188 511.015625 C 549.847656 511.015625 545.367188 506.539063 545.367188 501.015625 C 545.367188 495.492188 549.847656 491.015625 555.367188 491.015625 C 560.890625 491.015625 565.367188 495.492188 565.367188 501.015625 \"/>\n",
       "<path style=\"fill-rule:nonzero;fill:rgb(100%,0%,0%);fill-opacity:1;stroke-width:1;stroke-linecap:butt;stroke-linejoin:miter;stroke:rgb(0%,0%,0%);stroke-opacity:1;stroke-miterlimit:10;\" d=\"M 530.917969 457.609375 C 530.917969 463.128906 526.4375 467.609375 520.917969 467.609375 C 515.394531 467.609375 510.917969 463.128906 510.917969 457.609375 C 510.917969 452.085938 515.394531 447.609375 520.917969 447.609375 C 526.4375 447.609375 530.917969 452.085938 530.917969 457.609375 \"/>\n",
       "<path style=\"fill-rule:nonzero;fill:rgb(100%,0%,0%);fill-opacity:1;stroke-width:1;stroke-linecap:butt;stroke-linejoin:miter;stroke:rgb(0%,0%,0%);stroke-opacity:1;stroke-miterlimit:10;\" d=\"M 579.578125 357.613281 C 579.578125 363.136719 575.101563 367.613281 569.578125 367.613281 C 564.058594 367.613281 559.578125 363.136719 559.578125 357.613281 C 559.578125 352.089844 564.058594 347.613281 569.578125 347.613281 C 575.101563 347.613281 579.578125 352.089844 579.578125 357.613281 \"/>\n",
       "<path style=\"fill-rule:nonzero;fill:rgb(100%,0%,0%);fill-opacity:1;stroke-width:1;stroke-linecap:butt;stroke-linejoin:miter;stroke:rgb(0%,0%,0%);stroke-opacity:1;stroke-miterlimit:10;\" d=\"M 496.554688 565.203125 C 496.554688 570.726563 492.074219 575.203125 486.554688 575.203125 C 481.03125 575.203125 476.554688 570.726563 476.554688 565.203125 C 476.554688 559.679688 481.03125 555.203125 486.554688 555.203125 C 492.074219 555.203125 496.554688 559.679688 496.554688 565.203125 \"/>\n",
       "<path style=\"fill-rule:nonzero;fill:rgb(100%,0%,0%);fill-opacity:1;stroke-width:1;stroke-linecap:butt;stroke-linejoin:miter;stroke:rgb(0%,0%,0%);stroke-opacity:1;stroke-miterlimit:10;\" d=\"M 471.390625 308.441406 C 471.390625 313.964844 466.914063 318.441406 461.390625 318.441406 C 455.867188 318.441406 451.390625 313.964844 451.390625 308.441406 C 451.390625 302.917969 455.867188 298.441406 461.390625 298.441406 C 466.914063 298.441406 471.390625 302.917969 471.390625 308.441406 \"/>\n",
       "<path style=\"fill-rule:nonzero;fill:rgb(100%,0%,0%);fill-opacity:1;stroke-width:1;stroke-linecap:butt;stroke-linejoin:miter;stroke:rgb(0%,0%,0%);stroke-opacity:1;stroke-miterlimit:10;\" d=\"M 554.875 321.179688 C 554.875 326.703125 550.398438 331.179688 544.875 331.179688 C 539.351563 331.179688 534.875 326.703125 534.875 321.179688 C 534.875 315.65625 539.351563 311.179688 544.875 311.179688 C 550.398438 311.179688 554.875 315.65625 554.875 321.179688 \"/>\n",
       "<path style=\"fill-rule:nonzero;fill:rgb(100%,0%,0%);fill-opacity:1;stroke-width:1;stroke-linecap:butt;stroke-linejoin:miter;stroke:rgb(0%,0%,0%);stroke-opacity:1;stroke-miterlimit:10;\" d=\"M 584.550781 454.601563 C 584.550781 460.125 580.070313 464.601563 574.550781 464.601563 C 569.027344 464.601563 564.550781 460.125 564.550781 454.601563 C 564.550781 449.078125 569.027344 444.601563 574.550781 444.601563 C 580.070313 444.601563 584.550781 449.078125 584.550781 454.601563 \"/>\n",
       "<path style=\"fill-rule:nonzero;fill:rgb(100%,0%,0%);fill-opacity:1;stroke-width:1;stroke-linecap:butt;stroke-linejoin:miter;stroke:rgb(0%,0%,0%);stroke-opacity:1;stroke-miterlimit:10;\" d=\"M 405.664063 576.875 C 405.664063 582.398438 401.1875 586.875 395.664063 586.875 C 390.140625 586.875 385.664063 582.398438 385.664063 576.875 C 385.664063 571.351563 390.140625 566.875 395.664063 566.875 C 401.1875 566.875 405.664063 571.351563 405.664063 576.875 \"/>\n",
       "<path style=\"fill-rule:nonzero;fill:rgb(100%,0%,0%);fill-opacity:1;stroke-width:1;stroke-linecap:butt;stroke-linejoin:miter;stroke:rgb(0%,0%,0%);stroke-opacity:1;stroke-miterlimit:10;\" d=\"M 360.496094 456.09375 C 360.496094 461.617188 356.019531 466.09375 350.496094 466.09375 C 344.972656 466.09375 340.496094 461.617188 340.496094 456.09375 C 340.496094 450.570313 344.972656 446.09375 350.496094 446.09375 C 356.019531 446.09375 360.496094 450.570313 360.496094 456.09375 \"/>\n",
       "<path style=\"fill-rule:nonzero;fill:rgb(100%,0%,0%);fill-opacity:1;stroke-width:1;stroke-linecap:butt;stroke-linejoin:miter;stroke:rgb(0%,0%,0%);stroke-opacity:1;stroke-miterlimit:10;\" d=\"M 490.769531 506.957031 C 490.769531 512.480469 486.292969 516.957031 480.769531 516.957031 C 475.246094 516.957031 470.769531 512.480469 470.769531 506.957031 C 470.769531 501.433594 475.246094 496.957031 480.769531 496.957031 C 486.292969 496.957031 490.769531 501.433594 490.769531 506.957031 \"/>\n",
       "<path style=\"fill-rule:nonzero;fill:rgb(100%,0%,0%);fill-opacity:1;stroke-width:1;stroke-linecap:butt;stroke-linejoin:miter;stroke:rgb(0%,0%,0%);stroke-opacity:1;stroke-miterlimit:10;\" d=\"M 539.613281 394.546875 C 539.613281 400.066406 535.136719 404.546875 529.613281 404.546875 C 524.089844 404.546875 519.613281 400.066406 519.613281 394.546875 C 519.613281 389.023438 524.089844 384.546875 529.613281 384.546875 C 535.136719 384.546875 539.613281 389.023438 539.613281 394.546875 \"/>\n",
       "<path style=\"fill-rule:nonzero;fill:rgb(100%,0%,0%);fill-opacity:1;stroke-width:1;stroke-linecap:butt;stroke-linejoin:miter;stroke:rgb(0%,0%,0%);stroke-opacity:1;stroke-miterlimit:10;\" d=\"M 499.304688 352.949219 C 499.304688 358.472656 494.828125 362.949219 489.304688 362.949219 C 483.78125 362.949219 479.304688 358.472656 479.304688 352.949219 C 479.304688 347.425781 483.78125 342.949219 489.304688 342.949219 C 494.828125 342.949219 499.304688 347.425781 499.304688 352.949219 \"/>\n",
       "<path style=\"fill-rule:nonzero;fill:rgb(100%,0%,0%);fill-opacity:1;stroke-width:1;stroke-linecap:butt;stroke-linejoin:miter;stroke:rgb(0%,0%,0%);stroke-opacity:1;stroke-miterlimit:10;\" d=\"M 518.304688 298.351563 C 518.304688 303.875 513.828125 308.351563 508.304688 308.351563 C 502.78125 308.351563 498.304688 303.875 498.304688 298.351563 C 498.304688 292.828125 502.78125 288.351563 508.304688 288.351563 C 513.828125 288.351563 518.304688 292.828125 518.304688 298.351563 \"/>\n",
       "<path style=\"fill-rule:nonzero;fill:rgb(100%,0%,0%);fill-opacity:1;stroke-width:1;stroke-linecap:butt;stroke-linejoin:miter;stroke:rgb(0%,0%,0%);stroke-opacity:1;stroke-miterlimit:10;\" d=\"M 398.671875 20 C 398.671875 25.523438 394.195313 30 388.671875 30 C 383.148438 30 378.671875 25.523438 378.671875 20 C 378.671875 14.476563 383.148438 10 388.671875 10 C 394.195313 10 398.671875 14.476563 398.671875 20 \"/>\n",
       "<path style=\"fill-rule:nonzero;fill:rgb(100%,0%,0%);fill-opacity:1;stroke-width:1;stroke-linecap:butt;stroke-linejoin:miter;stroke:rgb(0%,0%,0%);stroke-opacity:1;stroke-miterlimit:10;\" d=\"M 458.289063 42.257813 C 458.289063 47.777344 453.8125 52.257813 448.289063 52.257813 C 442.765625 52.257813 438.289063 47.777344 438.289063 42.257813 C 438.289063 36.734375 442.765625 32.257813 448.289063 32.257813 C 453.8125 32.257813 458.289063 36.734375 458.289063 42.257813 \"/>\n",
       "<path style=\"fill-rule:nonzero;fill:rgb(100%,0%,0%);fill-opacity:1;stroke-width:1;stroke-linecap:butt;stroke-linejoin:miter;stroke:rgb(0%,0%,0%);stroke-opacity:1;stroke-miterlimit:10;\" d=\"M 338.367188 20.234375 C 338.367188 25.753906 333.890625 30.234375 328.367188 30.234375 C 322.84375 30.234375 318.367188 25.753906 318.367188 20.234375 C 318.367188 14.710938 322.84375 10.234375 328.367188 10.234375 C 333.890625 10.234375 338.367188 14.710938 338.367188 20.234375 \"/>\n",
       "<path style=\"fill-rule:nonzero;fill:rgb(100%,0%,0%);fill-opacity:1;stroke-width:1;stroke-linecap:butt;stroke-linejoin:miter;stroke:rgb(0%,0%,0%);stroke-opacity:1;stroke-miterlimit:10;\" d=\"M 504.667969 81.660156 C 504.667969 87.183594 500.191406 91.660156 494.667969 91.660156 C 489.144531 91.660156 484.667969 87.183594 484.667969 81.660156 C 484.667969 76.140625 489.144531 71.660156 494.667969 71.660156 C 500.191406 71.660156 504.667969 76.140625 504.667969 81.660156 \"/>\n",
       "<g style=\"fill:rgb(0%,0%,0%);fill-opacity:1;\">\n",
       "  <use xlink:href=\"#glyph0-1\" x=\"288.003906\" y=\"318.351563\"/>\n",
       "  <use xlink:href=\"#glyph0-2\" x=\"295.790039\" y=\"318.351563\"/>\n",
       "  <use xlink:href=\"#glyph0-3\" x=\"303.576172\" y=\"318.351563\"/>\n",
       "  <use xlink:href=\"#glyph0-4\" x=\"311.362305\" y=\"318.351563\"/>\n",
       "  <use xlink:href=\"#glyph0-3\" x=\"319.148438\" y=\"318.351563\"/>\n",
       "  <use xlink:href=\"#glyph0-5\" x=\"326.93457\" y=\"318.351563\"/>\n",
       "  <use xlink:href=\"#glyph0-6\" x=\"334.720703\" y=\"318.351563\"/>\n",
       "</g>\n",
       "<g style=\"fill:rgb(0%,0%,0%);fill-opacity:1;\">\n",
       "  <use xlink:href=\"#glyph0-1\" x=\"126.878906\" y=\"314.710938\"/>\n",
       "  <use xlink:href=\"#glyph0-2\" x=\"134.665039\" y=\"314.710938\"/>\n",
       "  <use xlink:href=\"#glyph0-7\" x=\"142.451172\" y=\"314.710938\"/>\n",
       "  <use xlink:href=\"#glyph0-6\" x=\"150.237305\" y=\"314.710938\"/>\n",
       "  <use xlink:href=\"#glyph0-8\" x=\"158.023438\" y=\"314.710938\"/>\n",
       "  <use xlink:href=\"#glyph0-2\" x=\"165.80957\" y=\"314.710938\"/>\n",
       "  <use xlink:href=\"#glyph0-4\" x=\"173.595703\" y=\"314.710938\"/>\n",
       "</g>\n",
       "<g style=\"fill:rgb(0%,0%,0%);fill-opacity:1;\">\n",
       "  <use xlink:href=\"#glyph0-1\" x=\"412.433594\" y=\"433.566406\"/>\n",
       "  <use xlink:href=\"#glyph0-4\" x=\"420.219727\" y=\"433.566406\"/>\n",
       "  <use xlink:href=\"#glyph0-1\" x=\"428.005859\" y=\"433.566406\"/>\n",
       "  <use xlink:href=\"#glyph0-1\" x=\"435.791992\" y=\"433.566406\"/>\n",
       "  <use xlink:href=\"#glyph0-6\" x=\"443.578125\" y=\"433.566406\"/>\n",
       "  <use xlink:href=\"#glyph0-8\" x=\"451.364258\" y=\"433.566406\"/>\n",
       "  <use xlink:href=\"#glyph0-1\" x=\"459.150391\" y=\"433.566406\"/>\n",
       "</g>\n",
       "<g style=\"fill:rgb(0%,0%,0%);fill-opacity:1;\">\n",
       "  <use xlink:href=\"#glyph0-2\" x=\"300.046875\" y=\"217.230469\"/>\n",
       "  <use xlink:href=\"#glyph0-3\" x=\"307.833008\" y=\"217.230469\"/>\n",
       "  <use xlink:href=\"#glyph0-4\" x=\"315.619141\" y=\"217.230469\"/>\n",
       "  <use xlink:href=\"#glyph0-3\" x=\"323.405273\" y=\"217.230469\"/>\n",
       "  <use xlink:href=\"#glyph0-5\" x=\"331.191406\" y=\"217.230469\"/>\n",
       "  <use xlink:href=\"#glyph0-6\" x=\"338.977539\" y=\"217.230469\"/>\n",
       "</g>\n",
       "<g style=\"fill:rgb(0%,0%,0%);fill-opacity:1;\">\n",
       "  <use xlink:href=\"#glyph0-1\" x=\"350.65625\" y=\"152.871094\"/>\n",
       "  <use xlink:href=\"#glyph0-1\" x=\"358.442383\" y=\"152.871094\"/>\n",
       "  <use xlink:href=\"#glyph0-7\" x=\"366.228516\" y=\"152.871094\"/>\n",
       "  <use xlink:href=\"#glyph0-7\" x=\"374.014648\" y=\"152.871094\"/>\n",
       "  <use xlink:href=\"#glyph0-9\" x=\"381.800781\" y=\"152.871094\"/>\n",
       "  <use xlink:href=\"#glyph0-3\" x=\"389.586914\" y=\"152.871094\"/>\n",
       "  <use xlink:href=\"#glyph0-3\" x=\"397.373047\" y=\"152.871094\"/>\n",
       "</g>\n",
       "<g style=\"fill:rgb(0%,0%,0%);fill-opacity:1;\">\n",
       "  <use xlink:href=\"#glyph0-1\" x=\"338.433594\" y=\"226.667969\"/>\n",
       "  <use xlink:href=\"#glyph0-1\" x=\"346.219727\" y=\"226.667969\"/>\n",
       "  <use xlink:href=\"#glyph0-4\" x=\"354.005859\" y=\"226.667969\"/>\n",
       "  <use xlink:href=\"#glyph0-7\" x=\"361.791992\" y=\"226.667969\"/>\n",
       "  <use xlink:href=\"#glyph0-10\" x=\"369.578125\" y=\"226.667969\"/>\n",
       "  <use xlink:href=\"#glyph0-6\" x=\"377.364258\" y=\"226.667969\"/>\n",
       "  <use xlink:href=\"#glyph0-7\" x=\"385.150391\" y=\"226.667969\"/>\n",
       "</g>\n",
       "<g style=\"fill:rgb(0%,0%,0%);fill-opacity:1;\">\n",
       "  <use xlink:href=\"#glyph0-1\" x=\"102.742188\" y=\"162.703125\"/>\n",
       "  <use xlink:href=\"#glyph0-3\" x=\"110.52832\" y=\"162.703125\"/>\n",
       "  <use xlink:href=\"#glyph0-3\" x=\"118.314453\" y=\"162.703125\"/>\n",
       "  <use xlink:href=\"#glyph0-5\" x=\"126.100586\" y=\"162.703125\"/>\n",
       "  <use xlink:href=\"#glyph0-8\" x=\"133.886719\" y=\"162.703125\"/>\n",
       "  <use xlink:href=\"#glyph0-5\" x=\"141.672852\" y=\"162.703125\"/>\n",
       "  <use xlink:href=\"#glyph0-10\" x=\"149.458984\" y=\"162.703125\"/>\n",
       "</g>\n",
       "<g style=\"fill:rgb(0%,0%,0%);fill-opacity:1;\">\n",
       "  <use xlink:href=\"#glyph0-1\" x=\"161.421875\" y=\"373.3125\"/>\n",
       "  <use xlink:href=\"#glyph0-2\" x=\"169.208008\" y=\"373.3125\"/>\n",
       "  <use xlink:href=\"#glyph0-7\" x=\"176.994141\" y=\"373.3125\"/>\n",
       "  <use xlink:href=\"#glyph0-10\" x=\"184.780273\" y=\"373.3125\"/>\n",
       "  <use xlink:href=\"#glyph0-6\" x=\"192.566406\" y=\"373.3125\"/>\n",
       "  <use xlink:href=\"#glyph0-3\" x=\"200.352539\" y=\"373.3125\"/>\n",
       "  <use xlink:href=\"#glyph0-7\" x=\"208.138672\" y=\"373.3125\"/>\n",
       "</g>\n",
       "<g style=\"fill:rgb(0%,0%,0%);fill-opacity:1;\">\n",
       "  <use xlink:href=\"#glyph0-1\" x=\"12.234375\" y=\"398.710938\"/>\n",
       "  <use xlink:href=\"#glyph0-1\" x=\"20.020508\" y=\"398.710938\"/>\n",
       "  <use xlink:href=\"#glyph0-6\" x=\"27.806641\" y=\"398.710938\"/>\n",
       "  <use xlink:href=\"#glyph0-9\" x=\"35.592773\" y=\"398.710938\"/>\n",
       "  <use xlink:href=\"#glyph0-8\" x=\"43.378906\" y=\"398.710938\"/>\n",
       "  <use xlink:href=\"#glyph0-3\" x=\"51.165039\" y=\"398.710938\"/>\n",
       "  <use xlink:href=\"#glyph0-3\" x=\"58.951172\" y=\"398.710938\"/>\n",
       "</g>\n",
       "<g style=\"fill:rgb(0%,0%,0%);fill-opacity:1;\">\n",
       "  <use xlink:href=\"#glyph0-1\" x=\"59.222656\" y=\"259.453125\"/>\n",
       "  <use xlink:href=\"#glyph0-1\" x=\"67.008789\" y=\"259.453125\"/>\n",
       "  <use xlink:href=\"#glyph0-9\" x=\"74.794922\" y=\"259.453125\"/>\n",
       "  <use xlink:href=\"#glyph0-2\" x=\"82.581055\" y=\"259.453125\"/>\n",
       "  <use xlink:href=\"#glyph0-6\" x=\"90.367188\" y=\"259.453125\"/>\n",
       "  <use xlink:href=\"#glyph0-9\" x=\"98.15332\" y=\"259.453125\"/>\n",
       "  <use xlink:href=\"#glyph0-9\" x=\"105.939453\" y=\"259.453125\"/>\n",
       "</g>\n",
       "<g style=\"fill:rgb(0%,0%,0%);fill-opacity:1;\">\n",
       "  <use xlink:href=\"#glyph0-1\" x=\"138.226563\" y=\"421.449219\"/>\n",
       "  <use xlink:href=\"#glyph0-2\" x=\"146.012695\" y=\"421.449219\"/>\n",
       "  <use xlink:href=\"#glyph0-7\" x=\"153.798828\" y=\"421.449219\"/>\n",
       "  <use xlink:href=\"#glyph0-1\" x=\"161.584961\" y=\"421.449219\"/>\n",
       "  <use xlink:href=\"#glyph0-4\" x=\"169.371094\" y=\"421.449219\"/>\n",
       "  <use xlink:href=\"#glyph0-3\" x=\"177.157227\" y=\"421.449219\"/>\n",
       "  <use xlink:href=\"#glyph0-4\" x=\"184.943359\" y=\"421.449219\"/>\n",
       "</g>\n",
       "<g style=\"fill:rgb(0%,0%,0%);fill-opacity:1;\">\n",
       "  <use xlink:href=\"#glyph0-2\" x=\"26.558594\" y=\"212.402344\"/>\n",
       "  <use xlink:href=\"#glyph0-5\" x=\"34.344727\" y=\"212.402344\"/>\n",
       "  <use xlink:href=\"#glyph0-5\" x=\"42.130859\" y=\"212.402344\"/>\n",
       "  <use xlink:href=\"#glyph0-8\" x=\"49.916992\" y=\"212.402344\"/>\n",
       "  <use xlink:href=\"#glyph0-5\" x=\"57.703125\" y=\"212.402344\"/>\n",
       "  <use xlink:href=\"#glyph0-4\" x=\"65.489258\" y=\"212.402344\"/>\n",
       "  <use xlink:href=\"#glyph0-8\" x=\"73.275391\" y=\"212.402344\"/>\n",
       "</g>\n",
       "<g style=\"fill:rgb(0%,0%,0%);fill-opacity:1;\">\n",
       "  <use xlink:href=\"#glyph0-1\" x=\"175.867188\" y=\"263.542969\"/>\n",
       "  <use xlink:href=\"#glyph0-4\" x=\"183.65332\" y=\"263.542969\"/>\n",
       "  <use xlink:href=\"#glyph0-2\" x=\"191.439453\" y=\"263.542969\"/>\n",
       "  <use xlink:href=\"#glyph0-5\" x=\"199.225586\" y=\"263.542969\"/>\n",
       "  <use xlink:href=\"#glyph0-5\" x=\"207.011719\" y=\"263.542969\"/>\n",
       "  <use xlink:href=\"#glyph0-2\" x=\"214.797852\" y=\"263.542969\"/>\n",
       "  <use xlink:href=\"#glyph0-10\" x=\"222.583984\" y=\"263.542969\"/>\n",
       "</g>\n",
       "<g style=\"fill:rgb(0%,0%,0%);fill-opacity:1;\">\n",
       "  <use xlink:href=\"#glyph0-1\" x=\"36.027344\" y=\"436.402344\"/>\n",
       "  <use xlink:href=\"#glyph0-1\" x=\"43.813477\" y=\"436.402344\"/>\n",
       "  <use xlink:href=\"#glyph0-6\" x=\"51.599609\" y=\"436.402344\"/>\n",
       "  <use xlink:href=\"#glyph0-6\" x=\"59.385742\" y=\"436.402344\"/>\n",
       "  <use xlink:href=\"#glyph0-1\" x=\"67.171875\" y=\"436.402344\"/>\n",
       "  <use xlink:href=\"#glyph0-3\" x=\"74.958008\" y=\"436.402344\"/>\n",
       "  <use xlink:href=\"#glyph0-4\" x=\"82.744141\" y=\"436.402344\"/>\n",
       "</g>\n",
       "<g style=\"fill:rgb(0%,0%,0%);fill-opacity:1;\">\n",
       "  <use xlink:href=\"#glyph0-1\" x=\"2.976563\" y=\"257.710938\"/>\n",
       "  <use xlink:href=\"#glyph0-3\" x=\"10.762695\" y=\"257.710938\"/>\n",
       "  <use xlink:href=\"#glyph0-1\" x=\"18.548828\" y=\"257.710938\"/>\n",
       "  <use xlink:href=\"#glyph0-6\" x=\"26.334961\" y=\"257.710938\"/>\n",
       "  <use xlink:href=\"#glyph0-10\" x=\"34.121094\" y=\"257.710938\"/>\n",
       "  <use xlink:href=\"#glyph0-2\" x=\"41.907227\" y=\"257.710938\"/>\n",
       "  <use xlink:href=\"#glyph0-8\" x=\"49.693359\" y=\"257.710938\"/>\n",
       "</g>\n",
       "<g style=\"fill:rgb(0%,0%,0%);fill-opacity:1;\">\n",
       "  <use xlink:href=\"#glyph0-1\" x=\"80.082031\" y=\"394.6875\"/>\n",
       "  <use xlink:href=\"#glyph0-4\" x=\"87.868164\" y=\"394.6875\"/>\n",
       "  <use xlink:href=\"#glyph0-4\" x=\"95.654297\" y=\"394.6875\"/>\n",
       "  <use xlink:href=\"#glyph0-3\" x=\"103.44043\" y=\"394.6875\"/>\n",
       "  <use xlink:href=\"#glyph0-8\" x=\"111.226563\" y=\"394.6875\"/>\n",
       "  <use xlink:href=\"#glyph0-5\" x=\"119.012695\" y=\"394.6875\"/>\n",
       "  <use xlink:href=\"#glyph0-7\" x=\"126.798828\" y=\"394.6875\"/>\n",
       "</g>\n",
       "<g style=\"fill:rgb(0%,0%,0%);fill-opacity:1;\">\n",
       "  <use xlink:href=\"#glyph0-1\" x=\"172.507813\" y=\"207.109375\"/>\n",
       "  <use xlink:href=\"#glyph0-2\" x=\"180.293945\" y=\"207.109375\"/>\n",
       "  <use xlink:href=\"#glyph0-4\" x=\"188.080078\" y=\"207.109375\"/>\n",
       "  <use xlink:href=\"#glyph0-1\" x=\"195.866211\" y=\"207.109375\"/>\n",
       "  <use xlink:href=\"#glyph0-3\" x=\"203.652344\" y=\"207.109375\"/>\n",
       "  <use xlink:href=\"#glyph0-8\" x=\"211.438477\" y=\"207.109375\"/>\n",
       "  <use xlink:href=\"#glyph0-6\" x=\"219.224609\" y=\"207.109375\"/>\n",
       "</g>\n",
       "<g style=\"fill:rgb(0%,0%,0%);fill-opacity:1;\">\n",
       "  <use xlink:href=\"#glyph0-1\" x=\"-7.085938\" y=\"304.515625\"/>\n",
       "  <use xlink:href=\"#glyph0-5\" x=\"0.700195\" y=\"304.515625\"/>\n",
       "  <use xlink:href=\"#glyph0-9\" x=\"8.486328\" y=\"304.515625\"/>\n",
       "  <use xlink:href=\"#glyph0-8\" x=\"16.272461\" y=\"304.515625\"/>\n",
       "  <use xlink:href=\"#glyph0-2\" x=\"24.058594\" y=\"304.515625\"/>\n",
       "  <use xlink:href=\"#glyph0-1\" x=\"31.844727\" y=\"304.515625\"/>\n",
       "  <use xlink:href=\"#glyph0-1\" x=\"39.630859\" y=\"304.515625\"/>\n",
       "</g>\n",
       "<g style=\"fill:rgb(0%,0%,0%);fill-opacity:1;\">\n",
       "  <use xlink:href=\"#glyph0-1\" x=\"115\" y=\"459.820313\"/>\n",
       "  <use xlink:href=\"#glyph0-5\" x=\"122.786133\" y=\"459.820313\"/>\n",
       "  <use xlink:href=\"#glyph0-7\" x=\"130.572266\" y=\"459.820313\"/>\n",
       "  <use xlink:href=\"#glyph0-9\" x=\"138.358398\" y=\"459.820313\"/>\n",
       "  <use xlink:href=\"#glyph0-8\" x=\"146.144531\" y=\"459.820313\"/>\n",
       "  <use xlink:href=\"#glyph0-6\" x=\"153.930664\" y=\"459.820313\"/>\n",
       "  <use xlink:href=\"#glyph0-2\" x=\"161.716797\" y=\"459.820313\"/>\n",
       "</g>\n",
       "<g style=\"fill:rgb(0%,0%,0%);fill-opacity:1;\">\n",
       "  <use xlink:href=\"#glyph0-1\" x=\"45.628906\" y=\"333.910156\"/>\n",
       "  <use xlink:href=\"#glyph0-1\" x=\"53.415039\" y=\"333.910156\"/>\n",
       "  <use xlink:href=\"#glyph0-9\" x=\"61.201172\" y=\"333.910156\"/>\n",
       "  <use xlink:href=\"#glyph0-2\" x=\"68.987305\" y=\"333.910156\"/>\n",
       "  <use xlink:href=\"#glyph0-1\" x=\"76.773438\" y=\"333.910156\"/>\n",
       "  <use xlink:href=\"#glyph0-8\" x=\"84.55957\" y=\"333.910156\"/>\n",
       "  <use xlink:href=\"#glyph0-2\" x=\"92.345703\" y=\"333.910156\"/>\n",
       "</g>\n",
       "<g style=\"fill:rgb(0%,0%,0%);fill-opacity:1;\">\n",
       "  <use xlink:href=\"#glyph0-2\" x=\"113.324219\" y=\"221.878906\"/>\n",
       "  <use xlink:href=\"#glyph0-5\" x=\"121.110352\" y=\"221.878906\"/>\n",
       "  <use xlink:href=\"#glyph0-2\" x=\"128.896484\" y=\"221.878906\"/>\n",
       "  <use xlink:href=\"#glyph0-1\" x=\"136.682617\" y=\"221.878906\"/>\n",
       "  <use xlink:href=\"#glyph0-7\" x=\"144.46875\" y=\"221.878906\"/>\n",
       "  <use xlink:href=\"#glyph0-7\" x=\"152.254883\" y=\"221.878906\"/>\n",
       "  <use xlink:href=\"#glyph0-5\" x=\"160.041016\" y=\"221.878906\"/>\n",
       "</g>\n",
       "<g style=\"fill:rgb(0%,0%,0%);fill-opacity:1;\">\n",
       "  <use xlink:href=\"#glyph0-1\" x=\"62.238281\" y=\"182.328125\"/>\n",
       "  <use xlink:href=\"#glyph0-5\" x=\"70.024414\" y=\"182.328125\"/>\n",
       "  <use xlink:href=\"#glyph0-3\" x=\"77.810547\" y=\"182.328125\"/>\n",
       "  <use xlink:href=\"#glyph0-1\" x=\"85.59668\" y=\"182.328125\"/>\n",
       "  <use xlink:href=\"#glyph0-6\" x=\"93.382813\" y=\"182.328125\"/>\n",
       "  <use xlink:href=\"#glyph0-8\" x=\"101.168945\" y=\"182.328125\"/>\n",
       "  <use xlink:href=\"#glyph0-8\" x=\"108.955078\" y=\"182.328125\"/>\n",
       "</g>\n",
       "<g style=\"fill:rgb(0%,0%,0%);fill-opacity:1;\">\n",
       "  <use xlink:href=\"#glyph0-1\" x=\"72.503906\" y=\"460.796875\"/>\n",
       "  <use xlink:href=\"#glyph0-4\" x=\"80.290039\" y=\"460.796875\"/>\n",
       "  <use xlink:href=\"#glyph0-9\" x=\"88.076172\" y=\"460.796875\"/>\n",
       "  <use xlink:href=\"#glyph0-4\" x=\"95.862305\" y=\"460.796875\"/>\n",
       "  <use xlink:href=\"#glyph0-1\" x=\"103.648438\" y=\"460.796875\"/>\n",
       "  <use xlink:href=\"#glyph0-3\" x=\"111.43457\" y=\"460.796875\"/>\n",
       "  <use xlink:href=\"#glyph0-6\" x=\"119.220703\" y=\"460.796875\"/>\n",
       "</g>\n",
       "<g style=\"fill:rgb(0%,0%,0%);fill-opacity:1;\">\n",
       "  <use xlink:href=\"#glyph0-1\" x=\"-6.351563\" y=\"355.519531\"/>\n",
       "  <use xlink:href=\"#glyph0-1\" x=\"1.43457\" y=\"355.519531\"/>\n",
       "  <use xlink:href=\"#glyph0-3\" x=\"9.220703\" y=\"355.519531\"/>\n",
       "  <use xlink:href=\"#glyph0-3\" x=\"17.006836\" y=\"355.519531\"/>\n",
       "  <use xlink:href=\"#glyph0-5\" x=\"24.792969\" y=\"355.519531\"/>\n",
       "  <use xlink:href=\"#glyph0-2\" x=\"32.579102\" y=\"355.519531\"/>\n",
       "  <use xlink:href=\"#glyph0-9\" x=\"40.365234\" y=\"355.519531\"/>\n",
       "</g>\n",
       "<g style=\"fill:rgb(0%,0%,0%);fill-opacity:1;\">\n",
       "  <use xlink:href=\"#glyph0-2\" x=\"150.855469\" y=\"167.542969\"/>\n",
       "  <use xlink:href=\"#glyph0-7\" x=\"158.641602\" y=\"167.542969\"/>\n",
       "  <use xlink:href=\"#glyph0-6\" x=\"166.427734\" y=\"167.542969\"/>\n",
       "  <use xlink:href=\"#glyph0-8\" x=\"174.213867\" y=\"167.542969\"/>\n",
       "  <use xlink:href=\"#glyph0-2\" x=\"182\" y=\"167.542969\"/>\n",
       "  <use xlink:href=\"#glyph0-4\" x=\"189.786133\" y=\"167.542969\"/>\n",
       "</g>\n",
       "<g style=\"fill:rgb(0%,0%,0%);fill-opacity:1;\">\n",
       "  <use xlink:href=\"#glyph0-1\" x=\"351.394531\" y=\"408.90625\"/>\n",
       "  <use xlink:href=\"#glyph0-5\" x=\"359.180664\" y=\"408.90625\"/>\n",
       "  <use xlink:href=\"#glyph0-2\" x=\"366.966797\" y=\"408.90625\"/>\n",
       "  <use xlink:href=\"#glyph0-4\" x=\"374.75293\" y=\"408.90625\"/>\n",
       "  <use xlink:href=\"#glyph0-3\" x=\"382.539063\" y=\"408.90625\"/>\n",
       "  <use xlink:href=\"#glyph0-5\" x=\"390.325195\" y=\"408.90625\"/>\n",
       "  <use xlink:href=\"#glyph0-1\" x=\"398.111328\" y=\"408.90625\"/>\n",
       "</g>\n",
       "<g style=\"fill:rgb(0%,0%,0%);fill-opacity:1;\">\n",
       "  <use xlink:href=\"#glyph0-1\" x=\"396.277344\" y=\"354.660156\"/>\n",
       "  <use xlink:href=\"#glyph0-5\" x=\"404.063477\" y=\"354.660156\"/>\n",
       "  <use xlink:href=\"#glyph0-4\" x=\"411.849609\" y=\"354.660156\"/>\n",
       "  <use xlink:href=\"#glyph0-9\" x=\"419.635742\" y=\"354.660156\"/>\n",
       "  <use xlink:href=\"#glyph0-2\" x=\"427.421875\" y=\"354.660156\"/>\n",
       "  <use xlink:href=\"#glyph0-8\" x=\"435.208008\" y=\"354.660156\"/>\n",
       "  <use xlink:href=\"#glyph0-6\" x=\"442.994141\" y=\"354.660156\"/>\n",
       "</g>\n",
       "<g style=\"fill:rgb(0%,0%,0%);fill-opacity:1;\">\n",
       "  <use xlink:href=\"#glyph0-1\" x=\"354.195313\" y=\"501.484375\"/>\n",
       "  <use xlink:href=\"#glyph0-4\" x=\"361.981445\" y=\"501.484375\"/>\n",
       "  <use xlink:href=\"#glyph0-3\" x=\"369.767578\" y=\"501.484375\"/>\n",
       "  <use xlink:href=\"#glyph0-2\" x=\"377.553711\" y=\"501.484375\"/>\n",
       "  <use xlink:href=\"#glyph0-3\" x=\"385.339844\" y=\"501.484375\"/>\n",
       "  <use xlink:href=\"#glyph0-3\" x=\"393.125977\" y=\"501.484375\"/>\n",
       "  <use xlink:href=\"#glyph0-1\" x=\"400.912109\" y=\"501.484375\"/>\n",
       "</g>\n",
       "<g style=\"fill:rgb(0%,0%,0%);fill-opacity:1;\">\n",
       "  <use xlink:href=\"#glyph0-1\" x=\"331.519531\" y=\"562.636719\"/>\n",
       "  <use xlink:href=\"#glyph0-5\" x=\"339.305664\" y=\"562.636719\"/>\n",
       "  <use xlink:href=\"#glyph0-4\" x=\"347.091797\" y=\"562.636719\"/>\n",
       "  <use xlink:href=\"#glyph0-2\" x=\"354.87793\" y=\"562.636719\"/>\n",
       "  <use xlink:href=\"#glyph0-7\" x=\"362.664063\" y=\"562.636719\"/>\n",
       "  <use xlink:href=\"#glyph0-3\" x=\"370.450195\" y=\"562.636719\"/>\n",
       "  <use xlink:href=\"#glyph0-6\" x=\"378.236328\" y=\"562.636719\"/>\n",
       "</g>\n",
       "<g style=\"fill:rgb(0%,0%,0%);fill-opacity:1;\">\n",
       "  <use xlink:href=\"#glyph0-1\" x=\"398.363281\" y=\"536.875\"/>\n",
       "  <use xlink:href=\"#glyph0-4\" x=\"406.149414\" y=\"536.875\"/>\n",
       "  <use xlink:href=\"#glyph0-5\" x=\"413.935547\" y=\"536.875\"/>\n",
       "  <use xlink:href=\"#glyph0-7\" x=\"421.72168\" y=\"536.875\"/>\n",
       "  <use xlink:href=\"#glyph0-10\" x=\"429.507813\" y=\"536.875\"/>\n",
       "  <use xlink:href=\"#glyph0-5\" x=\"437.293945\" y=\"536.875\"/>\n",
       "  <use xlink:href=\"#glyph0-10\" x=\"445.080078\" y=\"536.875\"/>\n",
       "</g>\n",
       "<g style=\"fill:rgb(0%,0%,0%);fill-opacity:1;\">\n",
       "  <use xlink:href=\"#glyph0-1\" x=\"310.546875\" y=\"522.289063\"/>\n",
       "  <use xlink:href=\"#glyph0-1\" x=\"318.333008\" y=\"522.289063\"/>\n",
       "  <use xlink:href=\"#glyph0-5\" x=\"326.119141\" y=\"522.289063\"/>\n",
       "  <use xlink:href=\"#glyph0-7\" x=\"333.905273\" y=\"522.289063\"/>\n",
       "  <use xlink:href=\"#glyph0-4\" x=\"341.691406\" y=\"522.289063\"/>\n",
       "  <use xlink:href=\"#glyph0-10\" x=\"349.477539\" y=\"522.289063\"/>\n",
       "  <use xlink:href=\"#glyph0-9\" x=\"357.263672\" y=\"522.289063\"/>\n",
       "</g>\n",
       "<g style=\"fill:rgb(0%,0%,0%);fill-opacity:1;\">\n",
       "  <use xlink:href=\"#glyph0-2\" x=\"498.316406\" y=\"544.351563\"/>\n",
       "  <use xlink:href=\"#glyph0-2\" x=\"506.102539\" y=\"544.351563\"/>\n",
       "  <use xlink:href=\"#glyph0-2\" x=\"513.888672\" y=\"544.351563\"/>\n",
       "  <use xlink:href=\"#glyph0-1\" x=\"521.674805\" y=\"544.351563\"/>\n",
       "  <use xlink:href=\"#glyph0-9\" x=\"529.460938\" y=\"544.351563\"/>\n",
       "  <use xlink:href=\"#glyph0-6\" x=\"537.24707\" y=\"544.351563\"/>\n",
       "  <use xlink:href=\"#glyph0-6\" x=\"545.033203\" y=\"544.351563\"/>\n",
       "</g>\n",
       "<g style=\"fill:rgb(0%,0%,0%);fill-opacity:1;\">\n",
       "  <use xlink:href=\"#glyph0-1\" x=\"552.878906\" y=\"413.066406\"/>\n",
       "  <use xlink:href=\"#glyph0-1\" x=\"560.665039\" y=\"413.066406\"/>\n",
       "  <use xlink:href=\"#glyph0-4\" x=\"568.451172\" y=\"413.066406\"/>\n",
       "  <use xlink:href=\"#glyph0-5\" x=\"576.237305\" y=\"413.066406\"/>\n",
       "  <use xlink:href=\"#glyph0-4\" x=\"584.023438\" y=\"413.066406\"/>\n",
       "  <use xlink:href=\"#glyph0-1\" x=\"591.80957\" y=\"413.066406\"/>\n",
       "  <use xlink:href=\"#glyph0-5\" x=\"599.595703\" y=\"413.066406\"/>\n",
       "</g>\n",
       "<g style=\"fill:rgb(0%,0%,0%);fill-opacity:1;\">\n",
       "  <use xlink:href=\"#glyph0-1\" x=\"415.734375\" y=\"586.53125\"/>\n",
       "  <use xlink:href=\"#glyph0-3\" x=\"423.520508\" y=\"586.53125\"/>\n",
       "  <use xlink:href=\"#glyph0-5\" x=\"431.306641\" y=\"586.53125\"/>\n",
       "  <use xlink:href=\"#glyph0-1\" x=\"439.092773\" y=\"586.53125\"/>\n",
       "  <use xlink:href=\"#glyph0-9\" x=\"446.878906\" y=\"586.53125\"/>\n",
       "  <use xlink:href=\"#glyph0-7\" x=\"454.665039\" y=\"586.53125\"/>\n",
       "  <use xlink:href=\"#glyph0-5\" x=\"462.451172\" y=\"586.53125\"/>\n",
       "</g>\n",
       "<g style=\"fill:rgb(0%,0%,0%);fill-opacity:1;\">\n",
       "  <use xlink:href=\"#glyph0-1\" x=\"528.191406\" y=\"507.546875\"/>\n",
       "  <use xlink:href=\"#glyph0-4\" x=\"535.977539\" y=\"507.546875\"/>\n",
       "  <use xlink:href=\"#glyph0-1\" x=\"543.763672\" y=\"507.546875\"/>\n",
       "  <use xlink:href=\"#glyph0-6\" x=\"551.549805\" y=\"507.546875\"/>\n",
       "  <use xlink:href=\"#glyph0-10\" x=\"559.335938\" y=\"507.546875\"/>\n",
       "  <use xlink:href=\"#glyph0-2\" x=\"567.12207\" y=\"507.546875\"/>\n",
       "  <use xlink:href=\"#glyph0-7\" x=\"574.908203\" y=\"507.546875\"/>\n",
       "</g>\n",
       "<g style=\"fill:rgb(0%,0%,0%);fill-opacity:1;\">\n",
       "  <use xlink:href=\"#glyph0-1\" x=\"493.777344\" y=\"464.140625\"/>\n",
       "  <use xlink:href=\"#glyph0-1\" x=\"501.563477\" y=\"464.140625\"/>\n",
       "  <use xlink:href=\"#glyph0-3\" x=\"509.349609\" y=\"464.140625\"/>\n",
       "  <use xlink:href=\"#glyph0-1\" x=\"517.135742\" y=\"464.140625\"/>\n",
       "  <use xlink:href=\"#glyph0-4\" x=\"524.921875\" y=\"464.140625\"/>\n",
       "  <use xlink:href=\"#glyph0-2\" x=\"532.708008\" y=\"464.140625\"/>\n",
       "  <use xlink:href=\"#glyph0-9\" x=\"540.494141\" y=\"464.140625\"/>\n",
       "</g>\n",
       "<g style=\"fill:rgb(0%,0%,0%);fill-opacity:1;\">\n",
       "  <use xlink:href=\"#glyph0-1\" x=\"542.402344\" y=\"364.144531\"/>\n",
       "  <use xlink:href=\"#glyph0-3\" x=\"550.188477\" y=\"364.144531\"/>\n",
       "  <use xlink:href=\"#glyph0-2\" x=\"557.974609\" y=\"364.144531\"/>\n",
       "  <use xlink:href=\"#glyph0-8\" x=\"565.760742\" y=\"364.144531\"/>\n",
       "  <use xlink:href=\"#glyph0-2\" x=\"573.546875\" y=\"364.144531\"/>\n",
       "  <use xlink:href=\"#glyph0-6\" x=\"581.333008\" y=\"364.144531\"/>\n",
       "  <use xlink:href=\"#glyph0-7\" x=\"589.119141\" y=\"364.144531\"/>\n",
       "</g>\n",
       "<g style=\"fill:rgb(0%,0%,0%);fill-opacity:1;\">\n",
       "  <use xlink:href=\"#glyph0-1\" x=\"459.414063\" y=\"571.734375\"/>\n",
       "  <use xlink:href=\"#glyph0-2\" x=\"467.200195\" y=\"571.734375\"/>\n",
       "  <use xlink:href=\"#glyph0-10\" x=\"474.986328\" y=\"571.734375\"/>\n",
       "  <use xlink:href=\"#glyph0-6\" x=\"482.772461\" y=\"571.734375\"/>\n",
       "  <use xlink:href=\"#glyph0-7\" x=\"490.558594\" y=\"571.734375\"/>\n",
       "  <use xlink:href=\"#glyph0-6\" x=\"498.344727\" y=\"571.734375\"/>\n",
       "  <use xlink:href=\"#glyph0-9\" x=\"506.130859\" y=\"571.734375\"/>\n",
       "</g>\n",
       "<g style=\"fill:rgb(0%,0%,0%);fill-opacity:1;\">\n",
       "  <use xlink:href=\"#glyph0-1\" x=\"434.304688\" y=\"314.972656\"/>\n",
       "  <use xlink:href=\"#glyph0-1\" x=\"442.09082\" y=\"314.972656\"/>\n",
       "  <use xlink:href=\"#glyph0-7\" x=\"449.876953\" y=\"314.972656\"/>\n",
       "  <use xlink:href=\"#glyph0-6\" x=\"457.663086\" y=\"314.972656\"/>\n",
       "  <use xlink:href=\"#glyph0-1\" x=\"465.449219\" y=\"314.972656\"/>\n",
       "  <use xlink:href=\"#glyph0-4\" x=\"473.235352\" y=\"314.972656\"/>\n",
       "  <use xlink:href=\"#glyph0-1\" x=\"481.021484\" y=\"314.972656\"/>\n",
       "</g>\n",
       "<g style=\"fill:rgb(0%,0%,0%);fill-opacity:1;\">\n",
       "  <use xlink:href=\"#glyph0-1\" x=\"517.726563\" y=\"327.710938\"/>\n",
       "  <use xlink:href=\"#glyph0-2\" x=\"525.512695\" y=\"327.710938\"/>\n",
       "  <use xlink:href=\"#glyph0-1\" x=\"533.298828\" y=\"327.710938\"/>\n",
       "  <use xlink:href=\"#glyph0-9\" x=\"541.084961\" y=\"327.710938\"/>\n",
       "  <use xlink:href=\"#glyph0-9\" x=\"548.871094\" y=\"327.710938\"/>\n",
       "  <use xlink:href=\"#glyph0-3\" x=\"556.657227\" y=\"327.710938\"/>\n",
       "  <use xlink:href=\"#glyph0-8\" x=\"564.443359\" y=\"327.710938\"/>\n",
       "</g>\n",
       "<g style=\"fill:rgb(0%,0%,0%);fill-opacity:1;\">\n",
       "  <use xlink:href=\"#glyph0-1\" x=\"547.410156\" y=\"461.132813\"/>\n",
       "  <use xlink:href=\"#glyph0-4\" x=\"555.196289\" y=\"461.132813\"/>\n",
       "  <use xlink:href=\"#glyph0-5\" x=\"562.982422\" y=\"461.132813\"/>\n",
       "  <use xlink:href=\"#glyph0-7\" x=\"570.768555\" y=\"461.132813\"/>\n",
       "  <use xlink:href=\"#glyph0-10\" x=\"578.554688\" y=\"461.132813\"/>\n",
       "  <use xlink:href=\"#glyph0-6\" x=\"586.34082\" y=\"461.132813\"/>\n",
       "  <use xlink:href=\"#glyph0-9\" x=\"594.126953\" y=\"461.132813\"/>\n",
       "</g>\n",
       "<g style=\"fill:rgb(0%,0%,0%);fill-opacity:1;\">\n",
       "  <use xlink:href=\"#glyph0-1\" x=\"368.578125\" y=\"583.40625\"/>\n",
       "  <use xlink:href=\"#glyph0-3\" x=\"376.364258\" y=\"583.40625\"/>\n",
       "  <use xlink:href=\"#glyph0-4\" x=\"384.150391\" y=\"583.40625\"/>\n",
       "  <use xlink:href=\"#glyph0-6\" x=\"391.936523\" y=\"583.40625\"/>\n",
       "  <use xlink:href=\"#glyph0-10\" x=\"399.722656\" y=\"583.40625\"/>\n",
       "  <use xlink:href=\"#glyph0-8\" x=\"407.508789\" y=\"583.40625\"/>\n",
       "  <use xlink:href=\"#glyph0-1\" x=\"415.294922\" y=\"583.40625\"/>\n",
       "</g>\n",
       "<g style=\"fill:rgb(0%,0%,0%);fill-opacity:1;\">\n",
       "  <use xlink:href=\"#glyph0-1\" x=\"323.347656\" y=\"462.625\"/>\n",
       "  <use xlink:href=\"#glyph0-1\" x=\"331.133789\" y=\"462.625\"/>\n",
       "  <use xlink:href=\"#glyph0-5\" x=\"338.919922\" y=\"462.625\"/>\n",
       "  <use xlink:href=\"#glyph0-9\" x=\"346.706055\" y=\"462.625\"/>\n",
       "  <use xlink:href=\"#glyph0-1\" x=\"354.492188\" y=\"462.625\"/>\n",
       "  <use xlink:href=\"#glyph0-8\" x=\"362.27832\" y=\"462.625\"/>\n",
       "  <use xlink:href=\"#glyph0-10\" x=\"370.064453\" y=\"462.625\"/>\n",
       "</g>\n",
       "<g style=\"fill:rgb(0%,0%,0%);fill-opacity:1;\">\n",
       "  <use xlink:href=\"#glyph0-1\" x=\"453.648438\" y=\"513.488281\"/>\n",
       "  <use xlink:href=\"#glyph0-4\" x=\"461.43457\" y=\"513.488281\"/>\n",
       "  <use xlink:href=\"#glyph0-8\" x=\"469.220703\" y=\"513.488281\"/>\n",
       "  <use xlink:href=\"#glyph0-6\" x=\"477.006836\" y=\"513.488281\"/>\n",
       "  <use xlink:href=\"#glyph0-10\" x=\"484.792969\" y=\"513.488281\"/>\n",
       "  <use xlink:href=\"#glyph0-8\" x=\"492.579102\" y=\"513.488281\"/>\n",
       "  <use xlink:href=\"#glyph0-5\" x=\"500.365234\" y=\"513.488281\"/>\n",
       "</g>\n",
       "<g style=\"fill:rgb(0%,0%,0%);fill-opacity:1;\">\n",
       "  <use xlink:href=\"#glyph0-1\" x=\"502.4375\" y=\"401.078125\"/>\n",
       "  <use xlink:href=\"#glyph0-2\" x=\"510.223633\" y=\"401.078125\"/>\n",
       "  <use xlink:href=\"#glyph0-7\" x=\"518.009766\" y=\"401.078125\"/>\n",
       "  <use xlink:href=\"#glyph0-2\" x=\"525.795898\" y=\"401.078125\"/>\n",
       "  <use xlink:href=\"#glyph0-2\" x=\"533.582031\" y=\"401.078125\"/>\n",
       "  <use xlink:href=\"#glyph0-3\" x=\"541.368164\" y=\"401.078125\"/>\n",
       "  <use xlink:href=\"#glyph0-7\" x=\"549.154297\" y=\"401.078125\"/>\n",
       "</g>\n",
       "<g style=\"fill:rgb(0%,0%,0%);fill-opacity:1;\">\n",
       "  <use xlink:href=\"#glyph0-1\" x=\"462.128906\" y=\"359.480469\"/>\n",
       "  <use xlink:href=\"#glyph0-5\" x=\"469.915039\" y=\"359.480469\"/>\n",
       "  <use xlink:href=\"#glyph0-8\" x=\"477.701172\" y=\"359.480469\"/>\n",
       "  <use xlink:href=\"#glyph0-5\" x=\"485.487305\" y=\"359.480469\"/>\n",
       "  <use xlink:href=\"#glyph0-6\" x=\"493.273438\" y=\"359.480469\"/>\n",
       "  <use xlink:href=\"#glyph0-2\" x=\"501.05957\" y=\"359.480469\"/>\n",
       "  <use xlink:href=\"#glyph0-7\" x=\"508.845703\" y=\"359.480469\"/>\n",
       "</g>\n",
       "<g style=\"fill:rgb(0%,0%,0%);fill-opacity:1;\">\n",
       "  <use xlink:href=\"#glyph0-4\" x=\"485.023438\" y=\"304.882813\"/>\n",
       "  <use xlink:href=\"#glyph0-1\" x=\"492.80957\" y=\"304.882813\"/>\n",
       "  <use xlink:href=\"#glyph0-1\" x=\"500.595703\" y=\"304.882813\"/>\n",
       "  <use xlink:href=\"#glyph0-6\" x=\"508.381836\" y=\"304.882813\"/>\n",
       "  <use xlink:href=\"#glyph0-8\" x=\"516.167969\" y=\"304.882813\"/>\n",
       "  <use xlink:href=\"#glyph0-1\" x=\"523.954102\" y=\"304.882813\"/>\n",
       "</g>\n",
       "<g style=\"fill:rgb(0%,0%,0%);fill-opacity:1;\">\n",
       "  <use xlink:href=\"#glyph0-1\" x=\"361.539063\" y=\"26.53125\"/>\n",
       "  <use xlink:href=\"#glyph0-4\" x=\"369.325195\" y=\"26.53125\"/>\n",
       "  <use xlink:href=\"#glyph0-2\" x=\"377.111328\" y=\"26.53125\"/>\n",
       "  <use xlink:href=\"#glyph0-1\" x=\"384.897461\" y=\"26.53125\"/>\n",
       "  <use xlink:href=\"#glyph0-7\" x=\"392.683594\" y=\"26.53125\"/>\n",
       "  <use xlink:href=\"#glyph0-1\" x=\"400.469727\" y=\"26.53125\"/>\n",
       "  <use xlink:href=\"#glyph0-6\" x=\"408.255859\" y=\"26.53125\"/>\n",
       "</g>\n",
       "<g style=\"fill:rgb(0%,0%,0%);fill-opacity:1;\">\n",
       "  <use xlink:href=\"#glyph0-1\" x=\"421.148438\" y=\"48.789063\"/>\n",
       "  <use xlink:href=\"#glyph0-4\" x=\"428.93457\" y=\"48.789063\"/>\n",
       "  <use xlink:href=\"#glyph0-1\" x=\"436.720703\" y=\"48.789063\"/>\n",
       "  <use xlink:href=\"#glyph0-3\" x=\"444.506836\" y=\"48.789063\"/>\n",
       "  <use xlink:href=\"#glyph0-9\" x=\"452.292969\" y=\"48.789063\"/>\n",
       "  <use xlink:href=\"#glyph0-9\" x=\"460.079102\" y=\"48.789063\"/>\n",
       "  <use xlink:href=\"#glyph0-4\" x=\"467.865234\" y=\"48.789063\"/>\n",
       "</g>\n",
       "<g style=\"fill:rgb(0%,0%,0%);fill-opacity:1;\">\n",
       "  <use xlink:href=\"#glyph0-1\" x=\"301.277344\" y=\"26.765625\"/>\n",
       "  <use xlink:href=\"#glyph0-2\" x=\"309.063477\" y=\"26.765625\"/>\n",
       "  <use xlink:href=\"#glyph0-1\" x=\"316.849609\" y=\"26.765625\"/>\n",
       "  <use xlink:href=\"#glyph0-9\" x=\"324.635742\" y=\"26.765625\"/>\n",
       "  <use xlink:href=\"#glyph0-4\" x=\"332.421875\" y=\"26.765625\"/>\n",
       "  <use xlink:href=\"#glyph0-9\" x=\"340.208008\" y=\"26.765625\"/>\n",
       "  <use xlink:href=\"#glyph0-1\" x=\"347.994141\" y=\"26.765625\"/>\n",
       "</g>\n",
       "<g style=\"fill:rgb(0%,0%,0%);fill-opacity:1;\">\n",
       "  <use xlink:href=\"#glyph0-1\" x=\"467.527344\" y=\"88.191406\"/>\n",
       "  <use xlink:href=\"#glyph0-5\" x=\"475.313477\" y=\"88.191406\"/>\n",
       "  <use xlink:href=\"#glyph0-10\" x=\"483.099609\" y=\"88.191406\"/>\n",
       "  <use xlink:href=\"#glyph0-2\" x=\"490.885742\" y=\"88.191406\"/>\n",
       "  <use xlink:href=\"#glyph0-7\" x=\"498.671875\" y=\"88.191406\"/>\n",
       "  <use xlink:href=\"#glyph0-6\" x=\"506.458008\" y=\"88.191406\"/>\n",
       "  <use xlink:href=\"#glyph0-9\" x=\"514.244141\" y=\"88.191406\"/>\n",
       "</g>\n",
       "</g>\n",
       "</svg>\n"
      ],
      "text/plain": [
       "<igraph.drawing.Plot at 0x2308888e9e8>"
      ]
     },
     "execution_count": 101,
     "metadata": {},
     "output_type": "execute_result"
    }
   ],
   "source": [
    "layout = g.layout(\"kk\")\n",
    "g.vs[\"label\"] = g.vs[\"name\"]\n",
    "ig.plot(g, layout = layout)"
   ]
  },
  {
   "cell_type": "code",
   "execution_count": 102,
   "metadata": {},
   "outputs": [],
   "source": [
    "X_train, X_test, y_train, y_test = train_test_split(train_data, train_labels, test_size=0.3, random_state=42)"
   ]
  }
 ],
 "metadata": {
  "kernelspec": {
   "display_name": "Python 3",
   "language": "python",
   "name": "python3"
  },
  "language_info": {
   "codemirror_mode": {
    "name": "ipython",
    "version": 3
   },
   "file_extension": ".py",
   "mimetype": "text/x-python",
   "name": "python",
   "nbconvert_exporter": "python",
   "pygments_lexer": "ipython3",
   "version": "3.7.2"
  }
 },
 "nbformat": 4,
 "nbformat_minor": 2
}
