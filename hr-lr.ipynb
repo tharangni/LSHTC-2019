{
 "cells": [
  {
   "cell_type": "code",
   "execution_count": 1,
   "metadata": {},
   "outputs": [],
   "source": [
    "# https://github.com/gcdart/MulticlassClassifier/blob/master/src/ml/LogisticRegression.java\n",
    "# https://www.kaggle.com/c/lshtc/discussion/6911#38233 - preprocessing: multilabels comma should not have spaces\n",
    "# https://www.kaggle.com/c/lshtc/discussion/14048 - dataset statistics\n",
    "## reading the LWIKI, SWIKI dataset"
   ]
  },
  {
   "cell_type": "code",
   "execution_count": 2,
   "metadata": {},
   "outputs": [],
   "source": [
    "import os\n",
    "import numpy as np\n",
    "import pandas as pd\n",
    "\n",
    "from pathlib import Path\n",
    "from tqdm import tqdm #always use this instead of `import tqdm`\n",
    "# from sklearn.datasets import fetch_rcv1\n",
    "\n",
    "# np.random.seed(123)"
   ]
  },
  {
   "cell_type": "code",
   "execution_count": 3,
   "metadata": {},
   "outputs": [],
   "source": [
    "import logging\n",
    "from collections import OrderedDict\n",
    "\n",
    "logging.basicConfig(level=logging.INFO)"
   ]
  },
  {
   "cell_type": "code",
   "execution_count": 4,
   "metadata": {},
   "outputs": [],
   "source": [
    "from sklearn.linear_model import SGDClassifier\n",
    "from sklearn import preprocessing, metrics"
   ]
  },
  {
   "cell_type": "code",
   "execution_count": 5,
   "metadata": {},
   "outputs": [],
   "source": [
    "from joblib import Memory\n",
    "from sklearn.datasets import load_svmlight_file"
   ]
  },
  {
   "cell_type": "code",
   "execution_count": 6,
   "metadata": {},
   "outputs": [],
   "source": [
    "mem = Memory(\"./mycache\")\n",
    "@mem.cache\n",
    "def get_data(filename):\n",
    "    \n",
    "    fname = str(Path(filename))\n",
    "    fe, ex = os.path.splitext(fname) \n",
    "\n",
    "    try:\n",
    "        data = load_svmlight_file(fname, multilabel=True)\n",
    "    except:\n",
    "        # Required: if the input data isn't in the correct libsvm format\n",
    "        outfile = str(Path(\"{}_small{}\".format(fe, ex)))\n",
    "#         outfile = str(Path(\"{}_remapped{}\".format(fe, ex)))\n",
    "        if not os.path.isfile(outfile):\n",
    "            logging.info(\"Remapping data to LibSVM format...\")\n",
    "            f = preprocess_libsvm(fname, outfile)\n",
    "        else:\n",
    "            logging.info(\"Using already remapped data...\")\n",
    "            f = outfile\n",
    "        data = load_svmlight_file(f, multilabel=True)\n",
    "        \n",
    "    return data[0], data[1]"
   ]
  },
  {
   "cell_type": "code",
   "execution_count": 7,
   "metadata": {},
   "outputs": [],
   "source": [
    "def preprocess_libsvm(input_file, output_file):\n",
    "    # converts file to the required libsvm format.\n",
    "    # this is very brute force but can be made faster [IMPROVE]\n",
    "\n",
    "    file = open(output_file, \"w+\")\n",
    "    with open(input_file, \"r\") as f:\n",
    "        head = [next(f) for x in range(500)] # retrieve only `n` docs\n",
    "        for i, line in enumerate(tqdm(head)): # change to f/head depending on your needs\n",
    "            instance = line.strip().split()\n",
    "            labels = instance[0]\n",
    "            doc_dict = OrderedDict()\n",
    "            temp_dict = {}\n",
    "            temp_string = ''\n",
    "\n",
    "            for pair in instance[1:]:\n",
    "                feat = pair.split(\":\")\n",
    "                if int(feat[0]) not in temp_dict:\n",
    "                    temp_dict[int(feat[0])] = int(feat[1])\n",
    "\n",
    "            for key in sorted(temp_dict.keys()):\n",
    "                doc_dict[key] = temp_dict[key]\n",
    "\n",
    "            for feat, tf in doc_dict.items():\n",
    "                temp_string = temp_string + \"{}:{} \".format(feat, tf)        \n",
    "            file.write(\"{} {}\\n\".format(labels, temp_string))\n",
    "        file.close()\n",
    "\n",
    "    return output_file"
   ]
  },
  {
   "cell_type": "raw",
   "metadata": {},
   "source": [
    "def preprocess_libsvm(input_file, output_file, smol = False):\n",
    "    \n",
    "    rand_labels = np.random.randint(0, 445729, size=500)\n",
    "    counter = 0\n",
    "    file = open(output_file, \"w+\")\n",
    "    with open(input_file, \"r\") as f:\n",
    "        the_file = ''\n",
    "    # head = [next(f) for x in range(1000)] # retrieve only `n` docs\n",
    "        for i, line in enumerate(tqdm(f)):\n",
    "            instance = line.strip().split()\n",
    "            labels = instance[0]\n",
    "            if smol:\n",
    "                label_list = list(map(int, labels.split(\",\")))\n",
    "                if any(x in label_list for x in rand_labels):\n",
    "                    counter = counter + 1\n",
    "                    doc_dict = OrderedDict()\n",
    "                    temp_dict = {}\n",
    "                    temp_string = ''\n",
    "\n",
    "                    for pair in instance[1:]:\n",
    "                        feat = pair.split(\":\")\n",
    "                        if int(feat[0]) not in temp_dict:\n",
    "                            temp_dict[int(feat[0])] = int(feat[1])\n",
    "\n",
    "                    for key in sorted(temp_dict.keys()):\n",
    "                        doc_dict[key] = temp_dict[key]\n",
    "\n",
    "                    for feat, tf in doc_dict.items():\n",
    "                        temp_string = temp_string + \"{}:{} \".format(feat, tf)        \n",
    "                    temp_string = labels + \" \" + temp_string\n",
    "                    the_file = the_file + temp_string + \"\\n\"\n",
    "                elif counter >=500:\n",
    "                     break   \n",
    "                else:\n",
    "                    pass\n",
    "            else:\n",
    "                doc_dict = OrderedDict()\n",
    "                temp_dict = {}\n",
    "                temp_string = ''\n",
    "\n",
    "                for pair in instance[1:]:\n",
    "                    feat = pair.split(\":\")\n",
    "                    if int(feat[0]) not in temp_dict:\n",
    "                        temp_dict[int(feat[0])] = int(feat[1])\n",
    "\n",
    "                for key in sorted(temp_dict.keys()):\n",
    "                    doc_dict[key] = temp_dict[key]\n",
    "\n",
    "                for feat, tf in doc_dict.items():\n",
    "                    temp_string = temp_string + \"{}:{} \".format(feat, tf)        \n",
    "                temp_string = labels + \" \" + temp_string\n",
    "                the_file = the_file + temp_string + \"\\n\"\n",
    "                \n",
    "    file.write(the_file)\n",
    "    file.close()\n",
    "    return output_file"
   ]
  },
  {
   "cell_type": "code",
   "execution_count": 8,
   "metadata": {},
   "outputs": [],
   "source": [
    "def label_extractor(labels):\n",
    "\n",
    "    leaf_labels = set()\n",
    "    labels_per_doc = []\n",
    "\n",
    "    for i in labels:\n",
    "        labels_per_doc.append(len(i))\n",
    "        for j in i:\n",
    "            leaf_labels.add(int(j))\n",
    "    \n",
    "    return leaf_labels, labels_per_doc"
   ]
  },
  {
   "cell_type": "code",
   "execution_count": 25,
   "metadata": {},
   "outputs": [],
   "source": [
    "def read_hier(filename):\n",
    "    \n",
    "    N = set()\n",
    "    pi = set()\n",
    "    T = set()\n",
    "    \n",
    "    with open(filename, \"r\") as f:\n",
    "        for i, line in enumerate(f):\n",
    "            words = line.strip().split()\n",
    "            pi.add(int(words[0])) #adding parent node\n",
    "            T.add(int(words[-1])) #adding ALL leaf nodes in the hierarchy\n",
    "            for w in words:\n",
    "                N.add(int(w))\n",
    "\n",
    "    return N, pi, T"
   ]
  },
  {
   "cell_type": "code",
   "execution_count": 10,
   "metadata": {},
   "outputs": [],
   "source": [
    "mem = Memory(\"./mycache\")\n",
    "@mem.cache\n",
    "def rr_reader(filename):\n",
    "    '''\n",
    "    create a dataframe from the data-label pair\n",
    "    '''\n",
    "\n",
    "    num_entries = 100000\n",
    "    df = pd.DataFrame()\n",
    "    \n",
    "    with open(filename, \"r\") as f:\n",
    "        head = [next(f) for x in range(100000)] # retrieve only `n` docs\n",
    "        for i, line in enumerate(tqdm(head)): # change to f/head depending on your needs\n",
    "            instance = line.strip().split()\n",
    "            labels = instance[0]\n",
    "            doc_dict = OrderedDict()\n",
    "            temp_dict = {}\n",
    "\n",
    "            for pair in instance[1:]:\n",
    "                feat = pair.split(\":\")\n",
    "                if int(feat[0]) not in temp_dict:\n",
    "                    temp_dict[int(feat[0])] = int(feat[1])\n",
    "\n",
    "            for key in sorted(temp_dict.keys()):\n",
    "                doc_dict[key] = temp_dict[key]\n",
    "                \n",
    "            temp_df = pd.DataFrame(data = [ labels, doc_dict ]).T\n",
    "            df = df.append(temp_df, ignore_index=True)\n",
    "    \n",
    "    df.columns = [\"labels\", \"feat_tf\"]\n",
    "    df[\"labels\"] = df[\"labels\"].apply( lambda x: list(map(int, x.split(\",\")))  )\n",
    "    return df"
   ]
  },
  {
   "cell_type": "code",
   "execution_count": 11,
   "metadata": {
    "scrolled": true
   },
   "outputs": [],
   "source": [
    "df = rr_reader(\"swiki/data/train.txt\")"
   ]
  },
  {
   "cell_type": "code",
   "execution_count": 12,
   "metadata": {},
   "outputs": [
    {
     "data": {
      "text/html": [
       "<div>\n",
       "<style scoped>\n",
       "    .dataframe tbody tr th:only-of-type {\n",
       "        vertical-align: middle;\n",
       "    }\n",
       "\n",
       "    .dataframe tbody tr th {\n",
       "        vertical-align: top;\n",
       "    }\n",
       "\n",
       "    .dataframe thead th {\n",
       "        text-align: right;\n",
       "    }\n",
       "</style>\n",
       "<table border=\"1\" class=\"dataframe\">\n",
       "  <thead>\n",
       "    <tr style=\"text-align: right;\">\n",
       "      <th></th>\n",
       "      <th>labels</th>\n",
       "      <th>feat_tf</th>\n",
       "    </tr>\n",
       "  </thead>\n",
       "  <tbody>\n",
       "    <tr>\n",
       "      <th>0</th>\n",
       "      <td>[33692, 13402, 393382]</td>\n",
       "      <td>{624: 3, 4288: 1, 14403: 1, 54278: 1, 62619: 1...</td>\n",
       "    </tr>\n",
       "    <tr>\n",
       "      <th>1</th>\n",
       "      <td>[130762]</td>\n",
       "      <td>{120505: 1, 173442: 1, 554009: 1, 634374: 1, 6...</td>\n",
       "    </tr>\n",
       "    <tr>\n",
       "      <th>2</th>\n",
       "      <td>[352578, 395447, 27512, 157031]</td>\n",
       "      <td>{62483: 1, 73429: 1, 138155: 1, 160218: 1, 165...</td>\n",
       "    </tr>\n",
       "    <tr>\n",
       "      <th>3</th>\n",
       "      <td>[390846, 395447, 276114]</td>\n",
       "      <td>{200187: 1, 207596: 1, 343448: 1, 359544: 1, 4...</td>\n",
       "    </tr>\n",
       "    <tr>\n",
       "      <th>4</th>\n",
       "      <td>[14661, 71999, 292915, 188756, 131368]</td>\n",
       "      <td>{2906: 1, 4288: 1, 17471: 3, 56146: 1, 94588: ...</td>\n",
       "    </tr>\n",
       "  </tbody>\n",
       "</table>\n",
       "</div>"
      ],
      "text/plain": [
       "                                   labels  \\\n",
       "0                  [33692, 13402, 393382]   \n",
       "1                                [130762]   \n",
       "2         [352578, 395447, 27512, 157031]   \n",
       "3                [390846, 395447, 276114]   \n",
       "4  [14661, 71999, 292915, 188756, 131368]   \n",
       "\n",
       "                                             feat_tf  \n",
       "0  {624: 3, 4288: 1, 14403: 1, 54278: 1, 62619: 1...  \n",
       "1  {120505: 1, 173442: 1, 554009: 1, 634374: 1, 6...  \n",
       "2  {62483: 1, 73429: 1, 138155: 1, 160218: 1, 165...  \n",
       "3  {200187: 1, 207596: 1, 343448: 1, 359544: 1, 4...  \n",
       "4  {2906: 1, 4288: 1, 17471: 3, 56146: 1, 94588: ...  "
      ]
     },
     "execution_count": 12,
     "metadata": {},
     "output_type": "execute_result"
    }
   ],
   "source": [
    "df.head(5)"
   ]
  },
  {
   "cell_type": "code",
   "execution_count": 13,
   "metadata": {},
   "outputs": [],
   "source": [
    "leaf, label_per_doc = label_extractor(df[\"labels\"])"
   ]
  },
  {
   "cell_type": "code",
   "execution_count": 26,
   "metadata": {},
   "outputs": [],
   "source": [
    "N, pi, T = read_hier(\"swiki/data/cat_hier.txt\")"
   ]
  },
  {
   "cell_type": "code",
   "execution_count": 27,
   "metadata": {},
   "outputs": [
    {
     "data": {
      "text/plain": [
       "24076"
      ]
     },
     "execution_count": 27,
     "metadata": {},
     "output_type": "execute_result"
    }
   ],
   "source": [
    "len(leaf)"
   ]
  },
  {
   "cell_type": "code",
   "execution_count": 28,
   "metadata": {},
   "outputs": [
    {
     "data": {
      "text/plain": [
       "220943"
      ]
     },
     "execution_count": 28,
     "metadata": {},
     "output_type": "execute_result"
    }
   ],
   "source": [
    "sum(label_per_doc)"
   ]
  },
  {
   "cell_type": "code",
   "execution_count": 29,
   "metadata": {},
   "outputs": [
    {
     "name": "stdout",
     "output_type": "stream",
     "text": [
      "50312 50311\n",
      "{2143406}\n"
     ]
    }
   ],
   "source": [
    "print(len(N), len(T)) # there is one node without any parent\n",
    "print(N.difference(T)) # this is the node: this is probably the root node i guess"
   ]
  },
  {
   "cell_type": "code",
   "execution_count": 30,
   "metadata": {
    "scrolled": true
   },
   "outputs": [
    {
     "data": {
      "text/plain": [
       "13808"
      ]
     },
     "execution_count": 30,
     "metadata": {},
     "output_type": "execute_result"
    }
   ],
   "source": [
    "len(pi)"
   ]
  },
  {
   "cell_type": "code",
   "execution_count": 85,
   "metadata": {},
   "outputs": [],
   "source": [
    " def lookup_table(filename):\n",
    "        \n",
    "    p2c_table = {}\n",
    "    c2p_table = {}\n",
    "    \n",
    "        \n",
    "    with open(filename, \"r\") as f:\n",
    "        head = [next(f) for x in range(10)] # retrieve only `n` docs\n",
    "        for i, line in enumerate(tqdm(head)):\n",
    "            split_line = line.strip().split()\n",
    "            parent_node = int(split_line[0])\n",
    "            child_node = list(map(int, split_line[1:]))\n",
    "            \n",
    "            # map to the respective dicts\n",
    "            # parent2child lookup table\n",
    "            if parent_node not in p2c_table:\n",
    "                p2c_table[parent_node] = [child_node]\n",
    "            else:\n",
    "                p2c_table[parent_node].append(child_node)\n",
    "                \n",
    "            #child2parent lookup table\n",
    "            if child_node[0] not in c2p_table:\n",
    "                c2p_table[child_node[0]] = [parent_node]\n",
    "            else:\n",
    "                c2p_table[child_node[0]].append(parent_node)\n",
    "            \n",
    "    return p2c_table, c2p_table"
   ]
  },
  {
   "cell_type": "code",
   "execution_count": 86,
   "metadata": {},
   "outputs": [
    {
     "name": "stderr",
     "output_type": "stream",
     "text": [
      "100%|███████████████████████████████████████████████████████████████████████████████| 10/10 [00:00<00:00, 19906.52it/s]\n"
     ]
    }
   ],
   "source": [
    "p, c = lookup_table(\"swiki/data/cat_hier.txt\")"
   ]
  },
  {
   "cell_type": "code",
   "execution_count": 87,
   "metadata": {},
   "outputs": [
    {
     "data": {
      "text/plain": [
       "{2156813: [2143406],\n",
       " 2322682: [2143406],\n",
       " 143406: [2143406],\n",
       " 2255744: [2143406],\n",
       " 2235965: [2143406],\n",
       " 2440809: [2156813],\n",
       " 2159645: [2156813],\n",
       " 2267844: [2156813],\n",
       " 2271677: [2156813],\n",
       " 2152343: [2156813]}"
      ]
     },
     "execution_count": 87,
     "metadata": {},
     "output_type": "execute_result"
    }
   ],
   "source": [
    "c"
   ]
  },
  {
   "cell_type": "raw",
   "metadata": {},
   "source": [
    "rcv1 = fetch_rcv1(data_home=\"./mycache\", subset = \"train\", download_if_missing=True)"
   ]
  },
  {
   "cell_type": "raw",
   "metadata": {},
   "source": [
    "df = pd.DataFrame(rcv1.data.toarray())"
   ]
  },
  {
   "cell_type": "raw",
   "metadata": {
    "scrolled": true
   },
   "source": [
    "# x contains all the feat:value data\n",
    "# y contains all the labels (per line)\n",
    "x, y = get_data(\"swiki/data/train.txt\")\n",
    "a, b = get_data(\"swiki/data/test.txt\")\n",
    "# a, b = get_data(\"DMOZ/test.txt\")\n",
    "# x, y = get_data(\"DMOZ/train.txt\")"
   ]
  },
  {
   "cell_type": "raw",
   "metadata": {},
   "source": [
    "leaf_labels_y, labels_per_doc_y = label_extractor(y)\n",
    "leaf_labels_b, labels_per_doc_b = label_extractor(b)"
   ]
  },
  {
   "cell_type": "raw",
   "metadata": {},
   "source": [
    "# u = read_hier(\"hierarchy/hierarchy.txt\")\n",
    "hier = read_hier(\"swiki/data/cat_hier.txt\")"
   ]
  },
  {
   "cell_type": "raw",
   "metadata": {
    "scrolled": true
   },
   "source": [
    "print(\"Training data: {} - num documents X num features\".format(x.shape))\n",
    "print(\"Training data: {} - avg num_labels per instance\".format(sum(labels_per_doc_y)/len(y)))\n",
    "print(\"Training data: {} - num leaf labels\".format(len(leaf_labels_y)))\n",
    "\n",
    "print(\"Testing data: {} - num t_documents X num t_features\".format(a.shape))\n",
    "print(\"Testing data: {} - avg num_labels per instance\".format(sum(labels_per_doc_b)/len(b)))\n",
    "print(\"Testing data: {} - num leaf labels\".format(len(leaf_labels_b)))\n",
    "\n",
    "print(\"Hierarchical categories: {} - num class labels\".format(len(hier)))"
   ]
  },
  {
   "cell_type": "raw",
   "metadata": {},
   "source": [
    "rand_labels = np.random.randint(1, 445729, size=1000)"
   ]
  },
  {
   "cell_type": "raw",
   "metadata": {},
   "source": [
    "lk = [12, 23, 34, 45]\n",
    "\n",
    "sub = [12, 23]"
   ]
  },
  {
   "cell_type": "raw",
   "metadata": {},
   "source": [
    "if any(sub) in lk:\n",
    "    print(\"yes\")\n",
    "else:\n",
    "    print(\"no\")"
   ]
  },
  {
   "cell_type": "raw",
   "metadata": {},
   "source": [
    "any(x in lk for x in sub)"
   ]
  },
  {
   "cell_type": "raw",
   "metadata": {},
   "source": [
    "if any(rand_labels) in list(leaf_labels_y)[4:6]:\n",
    "    print(\"yes\")\n",
    "else:\n",
    "    print(list(leaf_labels_y)[4:6])"
   ]
  },
  {
   "cell_type": "code",
   "execution_count": 19,
   "metadata": {},
   "outputs": [],
   "source": [
    "train_data, train_labels = get_data(\"swiki/data/train_small.txt\")\n",
    "test_data, test_labels = get_data(\"swiki/data/test_small.txt\")"
   ]
  },
  {
   "cell_type": "raw",
   "metadata": {},
   "source": [
    "clf = SGDClassifier()\n",
    "lb = preprocessing.LabelBinarizer(sparse_output=True)\n",
    "mb = preprocessing.MultiLabelBinarizer(sparse_output=True)\n",
    "le = preprocessing.LabelEncoder()"
   ]
  },
  {
   "cell_type": "raw",
   "metadata": {},
   "source": [
    "list_labels = []\n",
    "for i in train_labels:\n",
    "    list_labels.append(list(i))\n",
    "    \n",
    "print(min(list_labels))"
   ]
  },
  {
   "cell_type": "code",
   "execution_count": 20,
   "metadata": {},
   "outputs": [
    {
     "data": {
      "text/plain": [
       "(500, 2085161)"
      ]
     },
     "execution_count": 20,
     "metadata": {},
     "output_type": "execute_result"
    }
   ],
   "source": [
    "train_data.shape"
   ]
  },
  {
   "cell_type": "code",
   "execution_count": 21,
   "metadata": {},
   "outputs": [],
   "source": [
    "trmp = pd.DataFrame(data = [3, [\"4\", 5, 8], {\"goo\":5}]).T"
   ]
  },
  {
   "cell_type": "code",
   "execution_count": 22,
   "metadata": {},
   "outputs": [
    {
     "data": {
      "text/plain": [
       "int"
      ]
     },
     "execution_count": 22,
     "metadata": {},
     "output_type": "execute_result"
    }
   ],
   "source": [
    "type(trmp[0][0])"
   ]
  },
  {
   "cell_type": "code",
   "execution_count": 31,
   "metadata": {},
   "outputs": [],
   "source": [
    "ll = [3, 4, 5, 6]"
   ]
  },
  {
   "cell_type": "code",
   "execution_count": 33,
   "metadata": {},
   "outputs": [
    {
     "data": {
      "text/plain": [
       "[4, 5, 6]"
      ]
     },
     "execution_count": 33,
     "metadata": {},
     "output_type": "execute_result"
    }
   ],
   "source": [
    "ll[1:]"
   ]
  },
  {
   "cell_type": "raw",
   "metadata": {},
   "source": [
    "lee = le.fit_transform(train_labels)"
   ]
  },
  {
   "cell_type": "raw",
   "metadata": {},
   "source": [
    "lee.shape"
   ]
  },
  {
   "cell_type": "raw",
   "metadata": {},
   "source": [
    "labbb = mb.fit_transform(train_labels)"
   ]
  },
  {
   "cell_type": "raw",
   "metadata": {},
   "source": [
    "tryy = np.argmax(labbb, axis = 1)"
   ]
  },
  {
   "cell_type": "raw",
   "metadata": {
    "scrolled": true
   },
   "source": [
    "clf.fit(train_data, lee)"
   ]
  },
  {
   "cell_type": "raw",
   "metadata": {},
   "source": [
    "pred = clf.predict(test_data)"
   ]
  },
  {
   "cell_type": "raw",
   "metadata": {},
   "source": [
    "score = metrics.accuracy_score(lee, pred)"
   ]
  },
  {
   "cell_type": "raw",
   "metadata": {},
   "source": [
    "tlabs = [list(x) for x in test_labels]"
   ]
  },
  {
   "cell_type": "raw",
   "metadata": {},
   "source": [
    "ttt = [int(x[0]) for x in tlabs]"
   ]
  },
  {
   "cell_type": "raw",
   "metadata": {},
   "source": [
    "print(\"Number of mislabeled points : %d\" % (ttt != pred).sum())"
   ]
  }
 ],
 "metadata": {
  "kernelspec": {
   "display_name": "Python 3",
   "language": "python",
   "name": "python3"
  },
  "language_info": {
   "codemirror_mode": {
    "name": "ipython",
    "version": 3
   },
   "file_extension": ".py",
   "mimetype": "text/x-python",
   "name": "python",
   "nbconvert_exporter": "python",
   "pygments_lexer": "ipython3",
   "version": "3.7.2"
  }
 },
 "nbformat": 4,
 "nbformat_minor": 2
}
