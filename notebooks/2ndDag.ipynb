{
 "cells": [
  {
   "cell_type": "code",
   "execution_count": 1,
   "metadata": {},
   "outputs": [],
   "source": [
    "import warnings\n",
    "warnings.filterwarnings('ignore')\n",
    "\n",
    "import pandas as pd\n",
    "import numpy as np\n",
    "import networkx as nx\n",
    "from collections import Counter, defaultdict\n",
    "import matplotlib.pyplot as plt"
   ]
  },
  {
   "cell_type": "code",
   "execution_count": 2,
   "metadata": {},
   "outputs": [],
   "source": [
    "graph = nx.read_graphml(\"../../../Starspace/data/oms/cat_hier_graph.graphml\")"
   ]
  },
  {
   "cell_type": "code",
   "execution_count": 3,
   "metadata": {},
   "outputs": [],
   "source": [
    "root = [n for n in graph.nodes() if len(list(graph.predecessors(n)))==0][0]"
   ]
  },
  {
   "cell_type": "code",
   "execution_count": 4,
   "metadata": {},
   "outputs": [
    {
     "data": {
      "text/plain": [
       "'science'"
      ]
     },
     "execution_count": 4,
     "metadata": {},
     "output_type": "execute_result"
    }
   ],
   "source": [
    "root"
   ]
  },
  {
   "cell_type": "code",
   "execution_count": 5,
   "metadata": {},
   "outputs": [],
   "source": [
    "visited = Counter() \n",
    "traversal = []\n",
    "new_edges = []\n",
    "queue = [] \n",
    "\n",
    "s = root\n",
    "queue.append(s) \n",
    "visited[s]+=1\n",
    "\n",
    "while queue: \n",
    "\n",
    "    s = queue.pop(0) \n",
    "    traversal.append(s)\n",
    "\n",
    "    for i in graph.neighbors(s): \n",
    "        queue.append(i) \n",
    "        visited[i] +=1\n",
    "        if visited[i] != 1:\n",
    "            pass\n",
    "        else:\n",
    "            new_edges.append((s, i))"
   ]
  },
  {
   "cell_type": "code",
   "execution_count": 6,
   "metadata": {},
   "outputs": [],
   "source": [
    "dag2tree = nx.DiGraph()"
   ]
  },
  {
   "cell_type": "code",
   "execution_count": 7,
   "metadata": {},
   "outputs": [],
   "source": [
    "dag2tree.add_edges_from(new_edges)"
   ]
  },
  {
   "cell_type": "code",
   "execution_count": 8,
   "metadata": {},
   "outputs": [
    {
     "data": {
      "text/plain": [
       "(55256, 60793)"
      ]
     },
     "execution_count": 8,
     "metadata": {},
     "output_type": "execute_result"
    }
   ],
   "source": [
    "dag2tree.size(), graph.size()"
   ]
  },
  {
   "cell_type": "code",
   "execution_count": 11,
   "metadata": {},
   "outputs": [
    {
     "data": {
      "image/png": "[encoded data removed]",
      "text/plain": [
       "<Figure size 432x288 with 1 Axes>"
      ]
     },
     "metadata": {},
     "output_type": "display_data"
    }
   ],
   "source": [
    "nx.draw_networkx(graph_copy, with_labels=True)"
   ]
  },
  {
   "cell_type": "code",
   "execution_count": 29,
   "metadata": {},
   "outputs": [],
   "source": [
    "copy_edges = [(0, 1), (0, 2), (1, 3), (2, 3), (3, 4), (3, 5)]"
   ]
  },
  {
   "cell_type": "code",
   "execution_count": 102,
   "metadata": {},
   "outputs": [],
   "source": [
    "# graph_copy = nx.DiGraph()\n",
    "# graph_copy.add_edges_from(copy_edges)\n",
    "graph_copy = graph.copy()"
   ]
  },
  {
   "cell_type": "code",
   "execution_count": 103,
   "metadata": {},
   "outputs": [],
   "source": [
    "root_copy = [n for n in graph_copy.nodes() if len(list(graph_copy.predecessors(n)))==0][0]"
   ]
  },
  {
   "cell_type": "code",
   "execution_count": 104,
   "metadata": {},
   "outputs": [],
   "source": [
    "visited = Counter() \n",
    "traversal = []\n",
    "new_edges_copy = []\n",
    "queue = [] \n",
    "\n",
    "s = root_copy\n",
    "queue.append(s) \n",
    "visited[s]+=1\n",
    "\n",
    "while queue: \n",
    "\n",
    "    s = queue.pop(0) \n",
    "    traversal.append(s)\n",
    "\n",
    "    for i in graph_copy.neighbors(s): \n",
    "        queue.append(i) \n",
    "        visited[i] +=1\n",
    "        if visited[i] != 1:\n",
    "            aux_node = \"{}/{}\".format(s, i)\n",
    "\n",
    "            for dup_edges in graph_copy.neighbors(i):\n",
    "                new_edges_copy.append((s, aux_node))\n",
    "                dup_aux_node = \"{}/{}\".format(aux_node, dup_edges)\n",
    "                new_edges_copy.append((aux_node, dup_aux_node))\n",
    "        else:\n",
    "            new_edges_copy.append((s, i))"
   ]
  },
  {
   "cell_type": "code",
   "execution_count": 105,
   "metadata": {},
   "outputs": [],
   "source": [
    "new_graph = nx.DiGraph()"
   ]
  },
  {
   "cell_type": "code",
   "execution_count": 106,
   "metadata": {},
   "outputs": [],
   "source": [
    "new_graph.add_edges_from(new_edges_copy)"
   ]
  },
  {
   "cell_type": "code",
   "execution_count": 113,
   "metadata": {},
   "outputs": [],
   "source": [
    "new_root = [n for n in new_graph.nodes() if len(list(new_graph.predecessors(n)))==0][0]"
   ]
  },
  {
   "cell_type": "code",
   "execution_count": 115,
   "metadata": {},
   "outputs": [],
   "source": [
    "nx.write_graphml(new_graph, \"oms_2nd_dag2tree.graphml\")"
   ]
  },
  {
   "cell_type": "code",
   "execution_count": 121,
   "metadata": {},
   "outputs": [],
   "source": [
    "def mapping(x):\n",
    "    return \"__label__{}\".format(x)"
   ]
  },
  {
   "cell_type": "code",
   "execution_count": 122,
   "metadata": {},
   "outputs": [],
   "source": [
    "H = nx.relabel_nodes(new_graph, mapping)"
   ]
  },
  {
   "cell_type": "code",
   "execution_count": 123,
   "metadata": {},
   "outputs": [],
   "source": [
    "nx.write_graphml(H, \"oms_2nd_dag2tree_fasttext.graphml\")"
   ]
  },
  {
   "cell_type": "code",
   "execution_count": 124,
   "metadata": {},
   "outputs": [],
   "source": [
    "rev_H = H.reverse(copy=True)"
   ]
  },
  {
   "cell_type": "code",
   "execution_count": 126,
   "metadata": {},
   "outputs": [],
   "source": [
    "nx.write_edgelist(rev_H, \"oms_2nd_dag2tree_fasttext_reverse.txt\", delimiter=\"\\t\")"
   ]
  },
  {
   "cell_type": "code",
   "execution_count": 119,
   "metadata": {},
   "outputs": [],
   "source": [
    "depth = Counter()\n",
    "for node, dist in nx.shortest_path_length(new_graph, 'science').items():\n",
    "    depth[dist]+=1"
   ]
  },
  {
   "cell_type": "code",
   "execution_count": 120,
   "metadata": {},
   "outputs": [
    {
     "data": {
      "text/plain": [
       "Counter({0: 1,\n",
       "         1: 6,\n",
       "         2: 53,\n",
       "         3: 634,\n",
       "         4: 5249,\n",
       "         5: 16001,\n",
       "         6: 29517,\n",
       "         7: 23413,\n",
       "         8: 12349,\n",
       "         9: 5417,\n",
       "         10: 2911,\n",
       "         11: 1461,\n",
       "         12: 1471,\n",
       "         13: 838,\n",
       "         14: 435,\n",
       "         15: 12})"
      ]
     },
     "execution_count": 120,
     "metadata": {},
     "output_type": "execute_result"
    }
   ],
   "source": [
    "depth"
   ]
  }
 ],
 "metadata": {
  "kernelspec": {
   "display_name": "Python 3",
   "language": "python",
   "name": "python3"
  },
  "language_info": {
   "codemirror_mode": {
    "name": "ipython",
    "version": 3
   },
   "file_extension": ".py",
   "mimetype": "text/x-python",
   "name": "python",
   "nbconvert_exporter": "python",
   "pygments_lexer": "ipython3",
   "version": "3.6.7"
  }
 },
 "nbformat": 4,
 "nbformat_minor": 2
}
