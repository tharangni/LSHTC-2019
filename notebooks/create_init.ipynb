{
 "cells": [
  {
   "cell_type": "code",
   "execution_count": 5,
   "metadata": {},
   "outputs": [],
   "source": [
    "import os\n",
    "import torch\n",
    "import numpy as np\n",
    "import pandas as pd"
   ]
  },
  {
   "cell_type": "code",
   "execution_count": 6,
   "metadata": {},
   "outputs": [],
   "source": [
    "with open(\"../data/oms/oms-init-model.txt\", \"r\") as fopen:\n",
    "    reader = fopen.readlines()"
   ]
  },
  {
   "cell_type": "code",
   "execution_count": 7,
   "metadata": {},
   "outputs": [],
   "source": [
    "model_dict = set()\n",
    "for line in reader:\n",
    "#     line = line.decode(\"utf-8\")\n",
    "    if \"\\t\" in line:\n",
    "        for tag in line.strip().split(\"\\t\"):\n",
    "            model_dict.add(tag)\n",
    "    else:\n",
    "        for word in line.strip().split(\" \"):\n",
    "            model_dict.add(word)"
   ]
  },
  {
   "cell_type": "code",
   "execution_count": 8,
   "metadata": {
    "scrolled": true
   },
   "outputs": [],
   "source": [
    "unicode = set()\n",
    "for word in model_dict:\n",
    "    if \"\\x7f\" in word:\n",
    "        unicode.add(word)"
   ]
  },
  {
   "cell_type": "code",
   "execution_count": 9,
   "metadata": {},
   "outputs": [],
   "source": [
    "gg = []\n",
    "for item in model_dict:\n",
    "    if \"__label__\" in item:\n",
    "        gg.append(item)"
   ]
  },
  {
   "cell_type": "code",
   "execution_count": 10,
   "metadata": {},
   "outputs": [],
   "source": [
    "wrong = []\n",
    "for item in gg:\n",
    "    ch = item.split(\"__label__\")\n",
    "    if not ch[1].isnumeric():\n",
    "        wrong.append(item)"
   ]
  },
  {
   "cell_type": "code",
   "execution_count": 11,
   "metadata": {},
   "outputs": [
    {
     "data": {
      "text/plain": [
       "1024"
      ]
     },
     "execution_count": 11,
     "metadata": {},
     "output_type": "execute_result"
    }
   ],
   "source": [
    "len(wrong)"
   ]
  },
  {
   "cell_type": "code",
   "execution_count": 12,
   "metadata": {},
   "outputs": [],
   "source": [
    "# vocab = list(set(model_dict).difference(unicode).difference(wrong))\n",
    "vocab = list(set(model_dict).difference(unicode))"
   ]
  },
  {
   "cell_type": "code",
   "execution_count": 13,
   "metadata": {},
   "outputs": [
    {
     "data": {
      "text/plain": [
       "230110"
      ]
     },
     "execution_count": 13,
     "metadata": {},
     "output_type": "execute_result"
    }
   ],
   "source": [
    "len(vocab)"
   ]
  },
  {
   "cell_type": "code",
   "execution_count": 14,
   "metadata": {},
   "outputs": [],
   "source": [
    "list_of_dim = [5, 10, 15, 20, 30, 40, 50, 60, 80, 100]"
   ]
  },
  {
   "cell_type": "code",
   "execution_count": 15,
   "metadata": {},
   "outputs": [
    {
     "data": {
      "text/plain": [
       "[100]"
      ]
     },
     "execution_count": 15,
     "metadata": {},
     "output_type": "execute_result"
    }
   ],
   "source": [
    "list_of_dim[9:]"
   ]
  },
  {
   "cell_type": "code",
   "execution_count": 16,
   "metadata": {},
   "outputs": [
    {
     "name": "stdout",
     "output_type": "stream",
     "text": [
      "(230110, 100)\n",
      "                               00         0         1         2         3  \\\n",
      "230107            __label__acarus -0.202276 -0.026920  0.135209 -0.117744   \n",
      "230108             __label__abuse  0.018583 -0.044016  0.118364 -0.011287   \n",
      "230109  __label__abstract-algebra -0.091226 -0.019598  0.063898 -0.161746   \n",
      "\n",
      "               4         5         6         7         8  ...        90  \\\n",
      "230107  0.058892  0.050661  0.159855 -0.224613  0.027699  ...  0.001473   \n",
      "230108  0.097431  0.333495 -0.042616  0.067127  0.161484  ...  0.044546   \n",
      "230109  0.007550  0.116127 -0.243117  0.024253  0.089642  ... -0.097380   \n",
      "\n",
      "              91        92        93        94        95        96        97  \\\n",
      "230107 -0.259785  0.039691  0.153535  0.026612  0.079044 -0.146370  0.078121   \n",
      "230108 -0.099233  0.043181  0.155847 -0.361026  0.055185 -0.319939 -0.122202   \n",
      "230109  0.009428  0.098711  0.069847 -0.046985 -0.129962 -0.050352  0.112043   \n",
      "\n",
      "              98        99  \n",
      "230107  0.014423 -0.241972  \n",
      "230108  0.060089 -0.046162  \n",
      "230109  0.119189 -0.045317  \n",
      "\n",
      "[3 rows x 101 columns]\n",
      "..next\n"
     ]
    }
   ],
   "source": [
    "for i in list_of_dim[9:]:\n",
    "    x = torch.randn(len(vocab), i)\n",
    "    X = torch.nn.init.kaiming_normal_(x)\n",
    "    X = np.array(X)\n",
    "    print(X.shape)\n",
    "    o = pd.DataFrame(X)\n",
    "    vocab = list(sorted(vocab, reverse=True))\n",
    "    o[\"00\"] = vocab\n",
    "    cols = o.columns.tolist()\n",
    "    cols = cols[-1:] + cols[:-1]\n",
    "    oo = o[cols]\n",
    "    print(oo.tail(3))\n",
    "    oo.to_csv(\"oms/oms-init-d{}.tsv\".format(i), sep=\"\\t\", index=False, header=False)\n",
    "    print(\"..next\")"
   ]
  },
  {
   "cell_type": "code",
   "execution_count": 25,
   "metadata": {},
   "outputs": [],
   "source": []
  },
  {
   "cell_type": "code",
   "execution_count": 26,
   "metadata": {},
   "outputs": [],
   "source": []
  },
  {
   "cell_type": "code",
   "execution_count": 28,
   "metadata": {},
   "outputs": [],
   "source": []
  },
  {
   "cell_type": "code",
   "execution_count": 29,
   "metadata": {},
   "outputs": [],
   "source": []
  },
  {
   "cell_type": "code",
   "execution_count": 30,
   "metadata": {},
   "outputs": [],
   "source": []
  },
  {
   "cell_type": "code",
   "execution_count": 31,
   "metadata": {},
   "outputs": [],
   "source": []
  },
  {
   "cell_type": "code",
   "execution_count": 32,
   "metadata": {},
   "outputs": [],
   "source": []
  },
  {
   "cell_type": "code",
   "execution_count": 33,
   "metadata": {},
   "outputs": [],
   "source": []
  },
  {
   "cell_type": "code",
   "execution_count": 35,
   "metadata": {},
   "outputs": [],
   "source": [
    "# oo.drop(oo.tail(1).index,inplace=True) # drop last n rows"
   ]
  },
  {
   "cell_type": "code",
   "execution_count": 37,
   "metadata": {},
   "outputs": [],
   "source": []
  },
  {
   "cell_type": "markdown",
   "metadata": {},
   "source": [
    "**------------------------------------------------------------------------------------------------------------------**"
   ]
  },
  {
   "cell_type": "code",
   "execution_count": null,
   "metadata": {},
   "outputs": [],
   "source": []
  },
  {
   "cell_type": "code",
   "execution_count": null,
   "metadata": {},
   "outputs": [],
   "source": []
  },
  {
   "cell_type": "code",
   "execution_count": null,
   "metadata": {},
   "outputs": [],
   "source": []
  }
 ],
 "metadata": {
  "kernelspec": {
   "display_name": "Python 3",
   "language": "python",
   "name": "python3"
  },
  "language_info": {
   "codemirror_mode": {
    "name": "ipython",
    "version": 3
   },
   "file_extension": ".py",
   "mimetype": "text/x-python",
   "name": "python",
   "nbconvert_exporter": "python",
   "pygments_lexer": "ipython3",
   "version": "3.6.8"
  }
 },
 "nbformat": 4,
 "nbformat_minor": 2
}
