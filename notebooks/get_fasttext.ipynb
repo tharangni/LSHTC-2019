{
 "cells": [
  {
   "cell_type": "code",
   "execution_count": null,
   "metadata": {},
   "outputs": [],
   "source": [
    "import warnings\n",
    "warnings.simplefilter(\"ignore\")\n",
    "\n",
    "import logging\n",
    "logging.basicConfig(level=logging.INFO)\n",
    "\n",
    "import os\n",
    "import ast\n",
    "import random\n",
    "import smart_open\n",
    "import numpy as np\n",
    "import pandas as pd\n",
    "import networkx as nx\n",
    "import matplotlib.pyplot as plt\n",
    "\n",
    "from joblib import Parallel, delayed\n",
    "\n",
    "from collections import OrderedDict, Counter\n",
    "from tqdm import tqdm_notebook as tqdm\n",
    "from sklearn.feature_extraction.text import TfidfVectorizer\n",
    "from gensim.models.fasttext import FastText\n",
    "from gensim.utils import tokenize\n",
    "\n",
    "\n",
    "import sys\n",
    "sys.path.append('..')"
   ]
  },
  {
   "cell_type": "code",
   "execution_count": null,
   "metadata": {},
   "outputs": [],
   "source": [
    "file = \"../../../Starspace/data/oms/text/oms-all_raw_preprocessed.txt\""
   ]
  },
  {
   "cell_type": "code",
   "execution_count": null,
   "metadata": {},
   "outputs": [],
   "source": [
    "class FTextIter(object):\n",
    "    def __init__(self, file_path):\n",
    "        super(FTextIter, self).__init__()\n",
    "        self.file_path = file_path\n",
    "\n",
    "    def __iter__(self):\n",
    "        with smart_open.smart_open(self.file_path, 'r', encoding='utf-8') as fin:\n",
    "            for line in fin:\n",
    "                yield list(tokenize(line))\n",
    "\n",
    "                \n",
    "def fasttext_generator(fname):\n",
    "    \n",
    "    prefix, file = os.path.split(fname)\n",
    "    name = \"oms_fasttext_300.model\"\n",
    "    filename = \"{}/fastext/\".format(prefix, name)\n",
    "\n",
    "    if not os.path.isfile(filename):\n",
    "        moo = FastText(size=300, window=3, min_count=1) # hs=0, negative=0, size=300\n",
    "        moo.build_vocab(sentences=FTextIter(fname))\n",
    "        total_examples = moo.corpus_count\n",
    "        moo.train(sentences=FTextIter(fname), total_examples=total_examples, epochs=5)\n",
    "        moo.save(filename)\n",
    "    else:\n",
    "        moo = FastText.load(filename)\n",
    "\n",
    "    return moo"
   ]
  },
  {
   "cell_type": "code",
   "execution_count": null,
   "metadata": {},
   "outputs": [],
   "source": [
    "model = fasttext_generator(file)"
   ]
  },
  {
   "cell_type": "code",
   "execution_count": null,
   "metadata": {},
   "outputs": [],
   "source": []
  }
 ],
 "metadata": {
  "kernelspec": {
   "display_name": "Python 3",
   "language": "python",
   "name": "python3"
  },
  "language_info": {
   "codemirror_mode": {
    "name": "ipython",
    "version": 3
   },
   "file_extension": ".py",
   "mimetype": "text/x-python",
   "name": "python",
   "nbconvert_exporter": "python",
   "pygments_lexer": "ipython3",
   "version": "3.6.7"
  }
 },
 "nbformat": 4,
 "nbformat_minor": 2
}
