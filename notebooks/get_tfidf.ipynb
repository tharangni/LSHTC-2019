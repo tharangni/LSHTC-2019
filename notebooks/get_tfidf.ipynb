{
 "cells": [
  {
   "cell_type": "code",
   "execution_count": 1,
   "metadata": {},
   "outputs": [],
   "source": [
    "import warnings\n",
    "warnings.simplefilter(\"ignore\")\n",
    "\n",
    "import os\n",
    "import ast\n",
    "import random\n",
    "import logging\n",
    "import numpy as np\n",
    "import pandas as pd\n",
    "import networkx as nx\n",
    "import matplotlib.pyplot as plt\n",
    "\n",
    "from joblib import Parallel, delayed\n",
    "\n",
    "from collections import OrderedDict, Counter\n",
    "from tqdm import tqdm_notebook as tqdm\n",
    "from sklearn.feature_extraction.text import TfidfVectorizer\n",
    "\n",
    "import sys\n",
    "sys.path.append('..')"
   ]
  },
  {
   "cell_type": "code",
   "execution_count": 2,
   "metadata": {},
   "outputs": [],
   "source": [
    "dum = pd.read_csv(\"../../../Starspace/data/oms/text/oms-prep.tsv\", sep=\"\\t\")"
   ]
  },
  {
   "cell_type": "code",
   "execution_count": 3,
   "metadata": {},
   "outputs": [],
   "source": [
    "dum[\"label_id\"] = dum[\"label_id\"].apply(lambda x: ast.literal_eval(x))"
   ]
  },
  {
   "cell_type": "code",
   "execution_count": 10,
   "metadata": {},
   "outputs": [
    {
     "data": {
      "text/html": [
       "<div>\n",
       "<style scoped>\n",
       "    .dataframe tbody tr th:only-of-type {\n",
       "        vertical-align: middle;\n",
       "    }\n",
       "\n",
       "    .dataframe tbody tr th {\n",
       "        vertical-align: top;\n",
       "    }\n",
       "\n",
       "    .dataframe thead th {\n",
       "        text-align: right;\n",
       "    }\n",
       "</style>\n",
       "<table border=\"1\" class=\"dataframe\">\n",
       "  <thead>\n",
       "    <tr style=\"text-align: right;\">\n",
       "      <th></th>\n",
       "      <th>abstract</th>\n",
       "      <th>file_id</th>\n",
       "      <th>label_id</th>\n",
       "      <th>labels</th>\n",
       "      <th>used_as</th>\n",
       "      <th>doc_len</th>\n",
       "      <th>doc</th>\n",
       "    </tr>\n",
       "  </thead>\n",
       "  <tbody>\n",
       "    <tr>\n",
       "      <th>583918</th>\n",
       "      <td>PurposeTo evaluate the optimal dosing of preop...</td>\n",
       "      <td>EVISE.PII:S2468-6530(18)30159-3</td>\n",
       "      <td>[250232259, 192626162, 210638741, 249133398, 2...</td>\n",
       "      <td>['Surgical Procedure', 'Endocrine Disorder', '...</td>\n",
       "      <td>validation</td>\n",
       "      <td>164</td>\n",
       "      <td>purposeto dose preoper intravitr bevacizumab i...</td>\n",
       "    </tr>\n",
       "    <tr>\n",
       "      <th>583919</th>\n",
       "      <td>ObjectiveTo assess the effect of an additional...</td>\n",
       "      <td>EVISE.PII:S2468-7847(18)30037-0</td>\n",
       "      <td>[249133402, 189721115]</td>\n",
       "      <td>['Reproductive Medicine', 'Biological Process']</td>\n",
       "      <td>validation</td>\n",
       "      <td>147</td>\n",
       "      <td>objectiveto assess mid luteal gonadotropin rel...</td>\n",
       "    </tr>\n",
       "    <tr>\n",
       "      <th>583920</th>\n",
       "      <td>Abstract A 2010 study found, assuming busines...</td>\n",
       "      <td>EVISE.PII:S2468-8967(17)30087-3</td>\n",
       "      <td>[170590715, 170589428, 189720823]</td>\n",
       "      <td>['Transport', 'Aerospace Engineering', 'Astron...</td>\n",
       "      <td>validation</td>\n",
       "      <td>178</td>\n",
       "      <td>abstract found assum busi usual satellit oper ...</td>\n",
       "    </tr>\n",
       "    <tr>\n",
       "      <th>583921</th>\n",
       "      <td>Abstract This paper describes the model curre...</td>\n",
       "      <td>EVISE.PII:S2468-8967(17)30090-3</td>\n",
       "      <td>[488032373, 190195197, 189720823]</td>\n",
       "      <td>['Area of Law', 'Industrial Organization', 'Ae...</td>\n",
       "      <td>validation</td>\n",
       "      <td>64</td>\n",
       "      <td>abstract describ current discuss itali develop...</td>\n",
       "    </tr>\n",
       "  </tbody>\n",
       "</table>\n",
       "</div>"
      ],
      "text/plain": [
       "                                                 abstract  \\\n",
       "583918  PurposeTo evaluate the optimal dosing of preop...   \n",
       "583919  ObjectiveTo assess the effect of an additional...   \n",
       "583920   Abstract A 2010 study found, assuming busines...   \n",
       "583921   Abstract This paper describes the model curre...   \n",
       "\n",
       "                                file_id  \\\n",
       "583918  EVISE.PII:S2468-6530(18)30159-3   \n",
       "583919  EVISE.PII:S2468-7847(18)30037-0   \n",
       "583920  EVISE.PII:S2468-8967(17)30087-3   \n",
       "583921  EVISE.PII:S2468-8967(17)30090-3   \n",
       "\n",
       "                                                 label_id  \\\n",
       "583918  [250232259, 192626162, 210638741, 249133398, 2...   \n",
       "583919                             [249133402, 189721115]   \n",
       "583920                  [170590715, 170589428, 189720823]   \n",
       "583921                  [488032373, 190195197, 189720823]   \n",
       "\n",
       "                                                   labels     used_as  \\\n",
       "583918  ['Surgical Procedure', 'Endocrine Disorder', '...  validation   \n",
       "583919    ['Reproductive Medicine', 'Biological Process']  validation   \n",
       "583920  ['Transport', 'Aerospace Engineering', 'Astron...  validation   \n",
       "583921  ['Area of Law', 'Industrial Organization', 'Ae...  validation   \n",
       "\n",
       "        doc_len                                                doc  \n",
       "583918      164  purposeto dose preoper intravitr bevacizumab i...  \n",
       "583919      147  objectiveto assess mid luteal gonadotropin rel...  \n",
       "583920      178  abstract found assum busi usual satellit oper ...  \n",
       "583921       64  abstract describ current discuss itali develop...  "
      ]
     },
     "execution_count": 10,
     "metadata": {},
     "output_type": "execute_result"
    }
   ],
   "source": [
    "dum.tail(4)"
   ]
  },
  {
   "cell_type": "code",
   "execution_count": 5,
   "metadata": {},
   "outputs": [],
   "source": [
    "dum = dum.dropna()"
   ]
  },
  {
   "cell_type": "code",
   "execution_count": 6,
   "metadata": {},
   "outputs": [],
   "source": [
    "dum =dum.reset_index()"
   ]
  },
  {
   "cell_type": "code",
   "execution_count": 7,
   "metadata": {},
   "outputs": [],
   "source": [
    "dum = dum.drop(\"index\", axis=1)"
   ]
  },
  {
   "cell_type": "code",
   "execution_count": 8,
   "metadata": {},
   "outputs": [],
   "source": [
    "valid_indx = np.where(dum[\"used_as\"]==\"validation\")[0]\n",
    "train_indx = np.where(dum[\"used_as\"]==\"training\")[0]\n",
    "# test_indx = np.where(all_df[\"used_as\"]==\"unused\")[0]"
   ]
  },
  {
   "cell_type": "code",
   "execution_count": null,
   "metadata": {},
   "outputs": [],
   "source": [
    "training_labels = dum.loc[train_indx, \"label_id\"]\n",
    "valid_labels = dum.loc[valid_indx, \"label_id\"]"
   ]
  },
  {
   "cell_type": "code",
   "execution_count": null,
   "metadata": {},
   "outputs": [],
   "source": [
    "preprocessed = list(dum[\"doc\"])"
   ]
  },
  {
   "cell_type": "code",
   "execution_count": null,
   "metadata": {},
   "outputs": [],
   "source": [
    "vectorizer = TfidfVectorizer(max_features = 300, max_df=0.7)"
   ]
  },
  {
   "cell_type": "code",
   "execution_count": null,
   "metadata": {},
   "outputs": [],
   "source": [
    "vectorizer.fit(preprocessed)"
   ]
  },
  {
   "cell_type": "code",
   "execution_count": null,
   "metadata": {},
   "outputs": [],
   "source": [
    "X = vectorizer.fit_transform(preprocessed)"
   ]
  },
  {
   "cell_type": "code",
   "execution_count": null,
   "metadata": {},
   "outputs": [],
   "source": [
    "X"
   ]
  },
  {
   "cell_type": "code",
   "execution_count": null,
   "metadata": {},
   "outputs": [],
   "source": [
    "tl = list(training_labels)\n",
    "vl = list(valid_labels)"
   ]
  },
  {
   "cell_type": "code",
   "execution_count": null,
   "metadata": {},
   "outputs": [],
   "source": [
    "X_train = X[train_indx]\n",
    "X_valid = X[valid_indx]"
   ]
  },
  {
   "cell_type": "code",
   "execution_count": null,
   "metadata": {},
   "outputs": [],
   "source": [
    "np.save(\"../../../Starspace/data/oms/tfidf/train_data.npy\", X_train)\n",
    "np.save(\"../../../Starspace/data/oms/tfidf/test_data.npy\", X_valid)\n",
    "np.save(\"../../../Starspace/data/oms/tfidf/train_labels.npy\", tl)\n",
    "np.save(\"../../../Starspace/data/oms/tfidf/test_labels.npy\", vl)"
   ]
  },
  {
   "cell_type": "code",
   "execution_count": null,
   "metadata": {},
   "outputs": [],
   "source": []
  },
  {
   "cell_type": "code",
   "execution_count": null,
   "metadata": {},
   "outputs": [],
   "source": []
  }
 ],
 "metadata": {
  "kernelspec": {
   "display_name": "Python 3",
   "language": "python",
   "name": "python3"
  },
  "language_info": {
   "codemirror_mode": {
    "name": "ipython",
    "version": 3
   },
   "file_extension": ".py",
   "mimetype": "text/x-python",
   "name": "python",
   "nbconvert_exporter": "python",
   "pygments_lexer": "ipython3",
   "version": "3.6.7"
  }
 },
 "nbformat": 4,
 "nbformat_minor": 2
}
