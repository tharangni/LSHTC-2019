{
 "cells": [
  {
   "cell_type": "code",
   "execution_count": 1,
   "metadata": {},
   "outputs": [],
   "source": [
    "import warnings\n",
    "warnings.simplefilter('ignore')"
   ]
  },
  {
   "cell_type": "code",
   "execution_count": 2,
   "metadata": {},
   "outputs": [
    {
     "name": "stderr",
     "output_type": "stream",
     "text": [
      "INFO:summarizer.preprocessing.cleaner:'pattern' package not found; tag filters are not available for English\n"
     ]
    }
   ],
   "source": [
    "from scripts.src.hierarchy import *\n",
    "from scripts.src.label_utils import *\n",
    "from scripts.src.processing import *\n",
    "from scripts.src.data_reading import *\n",
    "\n",
    "logging.basicConfig(level=logging.INFO )"
   ]
  },
  {
   "cell_type": "code",
   "execution_count": 3,
   "metadata": {
    "scrolled": true
   },
   "outputs": [
    {
     "name": "stderr",
     "output_type": "stream",
     "text": [
      "100%|███████████████████████████████████████████████████████████████████████| 850491/850491 [00:18<00:00, 45552.94it/s]\n"
     ]
    }
   ],
   "source": [
    "o = OmniscienceReader(\"OmniScience/original/ArXiv_BMED_Evise_title_abstract_os.2018-07-11.tsv\")"
   ]
  },
  {
   "cell_type": "code",
   "execution_count": 4,
   "metadata": {},
   "outputs": [],
   "source": [
    "temp = o.om_df"
   ]
  },
  {
   "cell_type": "code",
   "execution_count": 5,
   "metadata": {},
   "outputs": [
    {
     "data": {
      "text/html": [
       "<div>\n",
       "<style scoped>\n",
       "    .dataframe tbody tr th:only-of-type {\n",
       "        vertical-align: middle;\n",
       "    }\n",
       "\n",
       "    .dataframe tbody tr th {\n",
       "        vertical-align: top;\n",
       "    }\n",
       "\n",
       "    .dataframe thead th {\n",
       "        text-align: right;\n",
       "    }\n",
       "</style>\n",
       "<table border=\"1\" class=\"dataframe\">\n",
       "  <thead>\n",
       "    <tr style=\"text-align: right;\">\n",
       "      <th></th>\n",
       "      <th>abstract</th>\n",
       "      <th>file_id</th>\n",
       "      <th>omniscience_label_ids</th>\n",
       "      <th>omniscience_labels</th>\n",
       "      <th>title</th>\n",
       "      <th>used_as</th>\n",
       "      <th>category</th>\n",
       "      <th>doc_id</th>\n",
       "    </tr>\n",
       "  </thead>\n",
       "  <tbody>\n",
       "    <tr>\n",
       "      <th>424388</th>\n",
       "      <td>The abundance of Stokes V profiles dominated b...</td>\n",
       "      <td>ArXiv:1201.6501v2</td>\n",
       "      <td>[253478588]</td>\n",
       "      <td>[stellar_astrophysics]</td>\n",
       "      <td>On the polarimetric signature of emerging magn...</td>\n",
       "      <td>unused</td>\n",
       "      <td>ArXiv</td>\n",
       "      <td>424388</td>\n",
       "    </tr>\n",
       "    <tr>\n",
       "      <th>607233</th>\n",
       "      <td>We present results on the effects of interstit...</td>\n",
       "      <td>ArXiv:1612.08291v1</td>\n",
       "      <td>[254830662]</td>\n",
       "      <td>[accelerator_physics]</td>\n",
       "      <td>Effects of Interstitial Oxygen and Carbon on N...</td>\n",
       "      <td>training</td>\n",
       "      <td>ArXiv</td>\n",
       "      <td>607233</td>\n",
       "    </tr>\n",
       "    <tr>\n",
       "      <th>697615</th>\n",
       "      <td>We present a new method of estimating the dist...</td>\n",
       "      <td>ArXiv:0804.1837v1</td>\n",
       "      <td>[261848922]</td>\n",
       "      <td>[statistical_methodology]</td>\n",
       "      <td>Mathematical analysis of long tail economy usi...</td>\n",
       "      <td>training</td>\n",
       "      <td>ArXiv</td>\n",
       "      <td>697615</td>\n",
       "    </tr>\n",
       "  </tbody>\n",
       "</table>\n",
       "</div>"
      ],
      "text/plain": [
       "                                                 abstract             file_id  \\\n",
       "424388  The abundance of Stokes V profiles dominated b...   ArXiv:1201.6501v2   \n",
       "607233  We present results on the effects of interstit...  ArXiv:1612.08291v1   \n",
       "697615  We present a new method of estimating the dist...   ArXiv:0804.1837v1   \n",
       "\n",
       "       omniscience_label_ids         omniscience_labels  \\\n",
       "424388           [253478588]     [stellar_astrophysics]   \n",
       "607233           [254830662]      [accelerator_physics]   \n",
       "697615           [261848922]  [statistical_methodology]   \n",
       "\n",
       "                                                    title   used_as category  \\\n",
       "424388  On the polarimetric signature of emerging magn...    unused    ArXiv   \n",
       "607233  Effects of Interstitial Oxygen and Carbon on N...  training    ArXiv   \n",
       "697615  Mathematical analysis of long tail economy usi...  training    ArXiv   \n",
       "\n",
       "        doc_id  \n",
       "424388  424388  \n",
       "607233  607233  \n",
       "697615  697615  "
      ]
     },
     "execution_count": 5,
     "metadata": {},
     "output_type": "execute_result"
    }
   ],
   "source": [
    "temp.sample(n=3)"
   ]
  },
  {
   "cell_type": "code",
   "execution_count": 6,
   "metadata": {},
   "outputs": [
    {
     "data": {
      "text/plain": [
       "abstract                 Improvement of properties of weak soils in ter...\n",
       "file_id                                    EVISE.PII:S1674-7755(16)30108-1\n",
       "omniscience_label_ids    [170590667, 189720833, 189720833, 170590667, 1...\n",
       "omniscience_labels       [geology, civil_engineering, civil_engineering...\n",
       "title                    Improvement of geotechnical properties of sabk...\n",
       "used_as                                                           training\n",
       "category                                                         EVISE.PII\n",
       "doc_id                                                              709751\n",
       "Name: 709751, dtype: object"
      ]
     },
     "execution_count": 6,
     "metadata": {},
     "output_type": "execute_result"
    }
   ],
   "source": [
    "temp.iloc[709750]"
   ]
  },
  {
   "cell_type": "code",
   "execution_count": 7,
   "metadata": {},
   "outputs": [
    {
     "name": "stderr",
     "output_type": "stream",
     "text": [
      "INFO:root:Loading exisiting model... \n"
     ]
    }
   ],
   "source": [
    "y = o.gen_doc2vec(\"./OmniScience/Fasttext/\")"
   ]
  },
  {
   "cell_type": "code",
   "execution_count": 8,
   "metadata": {
    "scrolled": false
   },
   "outputs": [
    {
     "data": {
      "text/html": [
       "<div>\n",
       "<style scoped>\n",
       "    .dataframe tbody tr th:only-of-type {\n",
       "        vertical-align: middle;\n",
       "    }\n",
       "\n",
       "    .dataframe tbody tr th {\n",
       "        vertical-align: top;\n",
       "    }\n",
       "\n",
       "    .dataframe thead th {\n",
       "        text-align: right;\n",
       "    }\n",
       "</style>\n",
       "<table border=\"1\" class=\"dataframe\">\n",
       "  <thead>\n",
       "    <tr style=\"text-align: right;\">\n",
       "      <th></th>\n",
       "      <th>abstract</th>\n",
       "      <th>file_id</th>\n",
       "      <th>omniscience_label_ids</th>\n",
       "      <th>omniscience_labels</th>\n",
       "      <th>title</th>\n",
       "      <th>used_as</th>\n",
       "      <th>doc_id</th>\n",
       "      <th>category</th>\n",
       "      <th>vec</th>\n",
       "    </tr>\n",
       "  </thead>\n",
       "  <tbody>\n",
       "    <tr>\n",
       "      <th>800828</th>\n",
       "      <td>Regional cerebral oximetry using near-infrared...</td>\n",
       "      <td>BMED.PUI:613985749</td>\n",
       "      <td>[249133398, 170589426]</td>\n",
       "      <td>[surgical_procedure, surgery]</td>\n",
       "      <td>Factors associated with a low initial cerebral...</td>\n",
       "      <td>validation</td>\n",
       "      <td>800828</td>\n",
       "      <td>BMED.PUI</td>\n",
       "      <td>[-0.39739528, 0.20768715, -0.97140247, 0.57234...</td>\n",
       "    </tr>\n",
       "    <tr>\n",
       "      <th>636863</th>\n",
       "      <td>The latest determination of the Avogadro const...</td>\n",
       "      <td>ArXiv:1601.01450v1</td>\n",
       "      <td>[189720731]</td>\n",
       "      <td>[physical_chemistry]</td>\n",
       "      <td>30Si Mole Fraction of a Silicon Material Highl...</td>\n",
       "      <td>unused</td>\n",
       "      <td>636863</td>\n",
       "      <td>ArXiv</td>\n",
       "      <td>[-0.12798168, -0.4956219, 0.22365737, -0.27382...</td>\n",
       "    </tr>\n",
       "    <tr>\n",
       "      <th>285654</th>\n",
       "      <td>Pinning control on complex dynamical networks ...</td>\n",
       "      <td>ArXiv:1601.06042v1</td>\n",
       "      <td>[259401304]</td>\n",
       "      <td>[optimal_control_theory]</td>\n",
       "      <td>Controllability of complex networks using pert...</td>\n",
       "      <td>validation</td>\n",
       "      <td>285654</td>\n",
       "      <td>ArXiv</td>\n",
       "      <td>[-0.13292429, -0.6085968, 0.25060263, -0.43458...</td>\n",
       "    </tr>\n",
       "  </tbody>\n",
       "</table>\n",
       "</div>"
      ],
      "text/plain": [
       "                                                 abstract             file_id  \\\n",
       "800828  Regional cerebral oximetry using near-infrared...  BMED.PUI:613985749   \n",
       "636863  The latest determination of the Avogadro const...  ArXiv:1601.01450v1   \n",
       "285654  Pinning control on complex dynamical networks ...  ArXiv:1601.06042v1   \n",
       "\n",
       "         omniscience_label_ids             omniscience_labels  \\\n",
       "800828  [249133398, 170589426]  [surgical_procedure, surgery]   \n",
       "636863             [189720731]           [physical_chemistry]   \n",
       "285654             [259401304]       [optimal_control_theory]   \n",
       "\n",
       "                                                    title     used_as  doc_id  \\\n",
       "800828  Factors associated with a low initial cerebral...  validation  800828   \n",
       "636863  30Si Mole Fraction of a Silicon Material Highl...      unused  636863   \n",
       "285654  Controllability of complex networks using pert...  validation  285654   \n",
       "\n",
       "        category                                                vec  \n",
       "800828  BMED.PUI  [-0.39739528, 0.20768715, -0.97140247, 0.57234...  \n",
       "636863     ArXiv  [-0.12798168, -0.4956219, 0.22365737, -0.27382...  \n",
       "285654     ArXiv  [-0.13292429, -0.6085968, 0.25060263, -0.43458...  "
      ]
     },
     "execution_count": 8,
     "metadata": {},
     "output_type": "execute_result"
    }
   ],
   "source": [
    "y.sample(n=3)"
   ]
  },
  {
   "cell_type": "code",
   "execution_count": 9,
   "metadata": {},
   "outputs": [
    {
     "data": {
      "text/plain": [
       "abstract                 Background Deficits in emotion perception are ...\n",
       "file_id                                                 BMED.PUI:616099509\n",
       "omniscience_label_ids    [249671933, 249671933, 250235251, 253230677, 2...\n",
       "omniscience_labels       [mental_disorder, mental_disorder, behavioral_...\n",
       "title                    Subtle cues missed: Impaired perception of emo...\n",
       "used_as                                                           training\n",
       "doc_id                                                              810451\n",
       "category                                                          BMED.PUI\n",
       "vec                      [-0.20958541, -0.22922592, -1.1238672, 0.38415...\n",
       "Name: 810451, dtype: object"
      ]
     },
     "execution_count": 9,
     "metadata": {},
     "output_type": "execute_result"
    }
   ],
   "source": [
    "y.iloc[807777]"
   ]
  },
  {
   "cell_type": "code",
   "execution_count": 10,
   "metadata": {},
   "outputs": [
    {
     "name": "stderr",
     "output_type": "stream",
     "text": [
      "143052it [00:00, 197060.20it/s]\n"
     ]
    }
   ],
   "source": [
    "hier = HierarchyUtils(\"OmniScience/original/os_tree_cat_hier.txt\", True, False)"
   ]
  },
  {
   "cell_type": "code",
   "execution_count": 11,
   "metadata": {},
   "outputs": [],
   "source": [
    "from collections import defaultdict"
   ]
  },
  {
   "cell_type": "code",
   "execution_count": 12,
   "metadata": {},
   "outputs": [],
   "source": [
    "mapper = defaultdict(set)"
   ]
  },
  {
   "cell_type": "code",
   "execution_count": 13,
   "metadata": {},
   "outputs": [
    {
     "name": "stderr",
     "output_type": "stream",
     "text": [
      "100%|███████████████████████████████████████████████████████████████████████| 850491/850491 [00:18<00:00, 46844.05it/s]\n"
     ]
    }
   ],
   "source": [
    "for ix in tqdm(y.index):\n",
    "    for labelid in y.at[ix, \"omniscience_label_ids\"]:\n",
    "        mapper[labelid].add(y.at[ix, \"doc_id\"])"
   ]
  },
  {
   "cell_type": "code",
   "execution_count": 14,
   "metadata": {
    "scrolled": true
   },
   "outputs": [
    {
     "data": {
      "text/plain": [
       "55258"
      ]
     },
     "execution_count": 14,
     "metadata": {},
     "output_type": "execute_result"
    }
   ],
   "source": [
    "len(hier.N_all_nodes)"
   ]
  },
  {
   "cell_type": "code",
   "execution_count": 17,
   "metadata": {},
   "outputs": [
    {
     "data": {
      "text/plain": [
       "1023"
      ]
     },
     "execution_count": 17,
     "metadata": {},
     "output_type": "execute_result"
    }
   ],
   "source": [
    "len(mapper)"
   ]
  },
  {
   "cell_type": "code",
   "execution_count": 18,
   "metadata": {},
   "outputs": [],
   "source": [
    "rev_df = pd.DataFrame(columns=[\"label_id\", \"doc_id_list\"])"
   ]
  },
  {
   "cell_type": "code",
   "execution_count": 19,
   "metadata": {},
   "outputs": [],
   "source": [
    "rev_df[\"label_id\"] = list(mapper.keys())"
   ]
  },
  {
   "cell_type": "code",
   "execution_count": 20,
   "metadata": {},
   "outputs": [],
   "source": [
    "rev_df[\"doc_id_list\"] = list(mapper.values())"
   ]
  },
  {
   "cell_type": "code",
   "execution_count": 27,
   "metadata": {},
   "outputs": [
    {
     "data": {
      "text/html": [
       "<div>\n",
       "<style scoped>\n",
       "    .dataframe tbody tr th:only-of-type {\n",
       "        vertical-align: middle;\n",
       "    }\n",
       "\n",
       "    .dataframe tbody tr th {\n",
       "        vertical-align: top;\n",
       "    }\n",
       "\n",
       "    .dataframe thead th {\n",
       "        text-align: right;\n",
       "    }\n",
       "</style>\n",
       "<table border=\"1\" class=\"dataframe\">\n",
       "  <thead>\n",
       "    <tr style=\"text-align: right;\">\n",
       "      <th></th>\n",
       "      <th>label_id</th>\n",
       "      <th>doc_id_list</th>\n",
       "    </tr>\n",
       "  </thead>\n",
       "  <tbody>\n",
       "    <tr>\n",
       "      <th>69</th>\n",
       "      <td>360769451</td>\n",
       "      <td>{704512, 704514, 704516, 704517, 704518, 70451...</td>\n",
       "    </tr>\n",
       "    <tr>\n",
       "      <th>311</th>\n",
       "      <td>249671933</td>\n",
       "      <td>{786437, 786471, 786484, 786489, 786490, 78650...</td>\n",
       "    </tr>\n",
       "    <tr>\n",
       "      <th>684</th>\n",
       "      <td>253689096</td>\n",
       "      <td>{763872, 766176, 761606, 765671, 728840, 72960...</td>\n",
       "    </tr>\n",
       "    <tr>\n",
       "      <th>799</th>\n",
       "      <td>210639271</td>\n",
       "      <td>{765672, 846376, 720090, 720091, 720092, 72009...</td>\n",
       "    </tr>\n",
       "    <tr>\n",
       "      <th>273</th>\n",
       "      <td>257942088</td>\n",
       "      <td>{720902, 823308, 823309, 823310, 782351, 82331...</td>\n",
       "    </tr>\n",
       "  </tbody>\n",
       "</table>\n",
       "</div>"
      ],
      "text/plain": [
       "      label_id                                        doc_id_list\n",
       "69   360769451  {704512, 704514, 704516, 704517, 704518, 70451...\n",
       "311  249671933  {786437, 786471, 786484, 786489, 786490, 78650...\n",
       "684  253689096  {763872, 766176, 761606, 765671, 728840, 72960...\n",
       "799  210639271  {765672, 846376, 720090, 720091, 720092, 72009...\n",
       "273  257942088  {720902, 823308, 823309, 823310, 782351, 82331..."
      ]
     },
     "execution_count": 27,
     "metadata": {},
     "output_type": "execute_result"
    }
   ],
   "source": [
    "rev_df.sample(5)"
   ]
  },
  {
   "cell_type": "raw",
   "metadata": {},
   "source": [
    "class_statistics(temp, \"omniscience\")"
   ]
  },
  {
   "cell_type": "raw",
   "metadata": {},
   "source": [
    "result.to_csv(\"OmniScience/fasttextV1.tsv\", sep='\\t', encoding='utf-8')"
   ]
  }
 ],
 "metadata": {
  "kernelspec": {
   "display_name": "Python 3",
   "language": "python",
   "name": "python3"
  },
  "language_info": {
   "codemirror_mode": {
    "name": "ipython",
    "version": 3
   },
   "file_extension": ".py",
   "mimetype": "text/x-python",
   "name": "python",
   "nbconvert_exporter": "python",
   "pygments_lexer": "ipython3",
   "version": "3.6.7"
  }
 },
 "nbformat": 4,
 "nbformat_minor": 2
}
