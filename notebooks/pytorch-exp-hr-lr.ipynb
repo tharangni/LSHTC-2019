{
 "cells": [
  {
   "cell_type": "code",
   "execution_count": null,
   "metadata": {},
   "outputs": [],
   "source": [
    "import sys\n",
    "sys.path.append(\"..\")\n",
    "\n",
    "import math\n",
    "import logging\n",
    "import numpy as np\n",
    "import pandas as pd\n",
    "\n",
    "import torch\n",
    "import torch.nn as nn\n",
    "import torch.nn.functional as F\n",
    "\n",
    "import warnings\n",
    "warnings.filterwarnings('ignore')\n",
    "\n",
    "import matplotlib.pyplot as plt\n",
    "%matplotlib inline\n",
    "\n",
    "from torch.autograd import Variable\n",
    "from torch.utils.data import DataLoader, Dataset\n",
    "from torch.utils.data.sampler import SubsetRandomSampler\n",
    "\n",
    "from scripts.src.hierarchy import *\n",
    "from scripts.src.processing import *\n",
    "from scripts.src.label_utils import *\n",
    "from scripts.src.data_reading import *\n",
    "\n",
    "from sklearn.metrics import f1_score, precision_score, recall_score, classification_report\n",
    "\n",
    "logging.basicConfig(level=logging.INFO )"
   ]
  },
  {
   "cell_type": "code",
   "execution_count": null,
   "metadata": {},
   "outputs": [],
   "source": [
    "num_gpus = torch.cuda.device_count()\n",
    "device = torch.device(\"cuda\" if (torch.cuda.is_available() and num_gpus > 0) else \"cpu\")\n",
    "device"
   ]
  },
  {
   "cell_type": "code",
   "execution_count": null,
   "metadata": {},
   "outputs": [],
   "source": [
    "n_components = 300"
   ]
  },
  {
   "cell_type": "code",
   "execution_count": null,
   "metadata": {},
   "outputs": [],
   "source": [
    "class DatasetIterator:\n",
    "    def __init__(self, datafile, catfile, subsample, is_directed, fmt):\n",
    "        self.datafile = datafile\n",
    "        \n",
    "        if fmt == \"libsvm\":\n",
    "            self.lib_data = LIBSVM_Reader(self.datafile, True, n_components, subsample)\n",
    "            self.df = self.lib_data.data_df\n",
    "            self.rev_df = self.lib_data.rev_df\n",
    "        elif fmt ==\"raw\":\n",
    "            self.raw_df = CSV_Reader(self.datafile, subsample)\n",
    "            self.df = self.raw_df.data_df\n",
    "            self.rev_df = self.raw_df.rev_df\n",
    "        \n",
    "        self.cat = HierarchyUtils(catfile, [n_components, len(self.df)], is_directed, False)\n",
    "        self.wn = self.cat.generate_vectors(device = device, neighbours = True)\n",
    "\n",
    "    def read_df(self, idx):\n",
    "        i = self.df.index[self.df[\"doc_id\"] == idx][0]\n",
    "        label = self.df.at[idx, \"label_id\"]\n",
    "        W = self.wn[0][label]\n",
    "        W_pi = self.wn[1][label]\n",
    "        return label, self.df.at[idx, \"doc_id_list\"], idx, W, W_pi\n",
    "\n",
    "    def __getitem__(self, _id):\n",
    "        return self.read_df(_id)\n",
    "\n",
    "    def __iter__(self):\n",
    "        for _id in self.df.index:\n",
    "            yield self[_id]\n",
    "\n",
    "class DatasetModule(Dataset):\n",
    "\n",
    "    def __init__(self, root_location, cat_file, subsample, is_directed, fmt):\n",
    "        self.iter = DatasetIterator(root_location, cat_file, subsample, is_directed, fmt)\n",
    "        \n",
    "        class_labels = self.iter.lib_data.binarizer.classes_\n",
    "        temp = {}\n",
    "        for j, i in enumerate(list(class_labels)):\n",
    "            if i not in temp:\n",
    "                temp[i] = j\n",
    "\n",
    "        self.small_mapper = temp\n",
    "        \n",
    "        self.lmbda = self.lambda_param()\n",
    "        \n",
    "    def lambda_param(self):\n",
    "        w_n = list2tensor(self.iter.wn[0].values())\n",
    "        w_pi = list2tensor(self.iter.wn[1].values())\n",
    "\n",
    "        norm2 = torch.norm(w_n-w_pi, 2)\n",
    "        lmbda = 0.5*norm2**2\n",
    "        return lmbda\n",
    "\n",
    "    def encode_labels(self, labels):\n",
    "        \n",
    "        label_vector = torch.zeros((len(self.small_mapper),), device = device, dtype = torch.float32)\n",
    "        label_vector[self.small_mapper[labels]] = torch.Tensor([1.])\n",
    "        \n",
    "        y_in = torch.ones((len(self.small_mapper),), dtype=torch.float32, device = device)*-1\n",
    "        y_in[self.small_mapper[labels]] = torch.Tensor([1.])\n",
    "        \n",
    "        return label_vector, y_in\n",
    "\n",
    "    def doc_vector(self, doc_ids):\n",
    "        \n",
    "        doc_vec = []\n",
    "        \n",
    "        for docs in doc_ids:\n",
    "            ix = self.iter.doc_df.index[self.iter.doc_df[\"doc_id\"] == docs]\n",
    "            doc_vec.append(self.iter.doc_df.at[ix[0], \"doc_vector\"])\n",
    "        \n",
    "        doc_vector_ = list2tensor(doc_vec)\n",
    "        \n",
    "        return doc_vector_\n",
    "\n",
    "    def __len__(self):\n",
    "        return len(self.iter.df)\n",
    "\n",
    "    def __load(self, idx):\n",
    "        label_ids, doc_id_list, _id, W, W_pi = self.iter[idx]\n",
    "        return self.doc_vector(doc_id_list), label_ids, _id, self.encode_labels(label_ids), W, W_pi\n",
    "\n",
    "    def __getitem__(self, idx):\n",
    "        return self.__load(idx)"
   ]
  },
  {
   "cell_type": "code",
   "execution_count": null,
   "metadata": {},
   "outputs": [],
   "source": [
    "class DevsetIterator:\n",
    "    def __init__(self, datafile, catfile, subsample, is_directed, fmt):\n",
    "        self.datafile = datafile\n",
    "        \n",
    "        if fmt == \"libsvm\":\n",
    "            self.lib_data = LIBSVM_Reader(self.datafile, True, n_components, subsample)\n",
    "            self.doc_df = self.lib_data.data_df\n",
    "            self.df = self.lib_data.data_df\n",
    "            self.MLmatrix = self.lib_data.label_matrix\n",
    "            self.MLbin = self.lib_data.binarizer\n",
    "        elif fmt ==\"raw\":\n",
    "            self.csv = CSV_Reader(self.datafile, subsample)\n",
    "            self.df = self.csv.data_df\n",
    "        \n",
    "        self.cat = HierarchyUtils(catfile, [n_components, len(self.df)], is_directed, False)\n",
    "        self.wn = self.cat.generate_vectors(device = device, neighbours = True)\n",
    "\n",
    "    def read_df(self, idx):\n",
    "        i = self.df.index[self.df[\"doc_id\"] == idx][0]\n",
    "        return self.df.at[i, \"doc_vector\"], self.df.at[i, \"doc_labels\"], i\n",
    "    \n",
    "    def __getitem__(self, _id):\n",
    "        return self.read_df(_id)\n",
    "\n",
    "    def __iter__(self):\n",
    "        for _id in self.df.index:\n",
    "            yield self[_id]\n",
    "\n",
    "class DevsetModule(Dataset):\n",
    "\n",
    "    def __init__(self, root_location, cat_file, subsample, is_directed, fmt):\n",
    "        self.iter = DevsetIterator(root_location, cat_file, subsample, is_directed, fmt)\n",
    "        \n",
    "        class_labels = sorted(self.iter.MLbin.classes_)\n",
    "        temp = {}\n",
    "        for j, i in enumerate(list(class_labels)):\n",
    "            if int(i) not in temp:\n",
    "                temp[i] = j\n",
    "\n",
    "        self.small_mapper = temp\n",
    "        self.rev_mapper = {v:k for k, v in self.small_mapper.items()}\n",
    "    \n",
    "    def __len__(self):\n",
    "        return len(self.iter.df)\n",
    "\n",
    "    def encode_labels(self, doc_labels):\n",
    "        vec = torch.zeros((len(train_data.small_mapper),), device = device, dtype = torch.float32)\n",
    "        for each_label in doc_labels:\n",
    "            try:\n",
    "                vec[self.small_mapper[each_label]] = 1\n",
    "            except:\n",
    "                pass\n",
    "        return vec\n",
    "    \n",
    "    def __load(self, idx):\n",
    "        doc_vec, doc_labels, doc_id = self.iter[idx]\n",
    "        return doc_vec, doc_labels, doc_id, self.encode_labels(doc_labels)\n",
    "\n",
    "    def __getitem__(self, idx):\n",
    "        return self.__load(idx)"
   ]
  },
  {
   "cell_type": "code",
   "execution_count": null,
   "metadata": {
    "scrolled": true
   },
   "outputs": [],
   "source": [
    "train_data = DatasetModule(\"../rcv1.tar/RCV1_1/rcv1.train.ltc.svm\", \"../rcv1.tar/RCV1_1/rcv1.topic.hierarchy\", True, False, \"libsvm\")"
   ]
  },
  {
   "cell_type": "code",
   "execution_count": null,
   "metadata": {},
   "outputs": [],
   "source": [
    "test_data = DevsetModule(\"../rcv1.tar/RCV1_1/rcv1.train.ltc.svm\", \"../rcv1.tar/RCV1_1/rcv1.topic.hierarchy\", 0.1, False, \"libsvm\")"
   ]
  },
  {
   "cell_type": "code",
   "execution_count": null,
   "metadata": {},
   "outputs": [],
   "source": [
    "train_node_list = train_data.iter.df[\"label_id\"]"
   ]
  },
  {
   "cell_type": "raw",
   "metadata": {
    "scrolled": false
   },
   "source": [
    "train_data = DatasetModule(\"../swiki/data/train_remapped.txt\", \"../swiki/data/cat_hier.txt\", False, False, \"libsvm\")"
   ]
  },
  {
   "cell_type": "code",
   "execution_count": null,
   "metadata": {},
   "outputs": [],
   "source": [
    "batch_size = 1\n",
    "validation_split = .2\n",
    "shuffle_dataset = True\n",
    "random_seed= 42\n",
    "\n",
    "# Creating data indices for training and validation splits:\n",
    "dataset_size = len(train_data)\n",
    "indices = list(range(dataset_size))\n",
    "split = int(np.floor(validation_split * dataset_size))\n",
    "if shuffle_dataset :\n",
    "    np.random.seed(random_seed)\n",
    "    np.random.shuffle(indices)\n",
    "train_indices, val_indices = indices[split:], indices[:split]\n",
    "\n",
    "# Creating PT data samplers and loaders:\n",
    "train_sampler = SubsetRandomSampler(train_indices)\n",
    "valid_sampler = SubsetRandomSampler(val_indices)\n",
    "\n",
    "train_loader = DataLoader(train_data, batch_size=batch_size, sampler=train_sampler)\n",
    "validation_loader = DataLoader(test_data, batch_size=batch_size, sampler=valid_sampler)"
   ]
  },
  {
   "cell_type": "raw",
   "metadata": {},
   "source": [
    "test_data = DevsetModule(\"../swiki/data/test_remapped.txt\", \"../swiki/data/cat_hier.txt\", False, False, \"libsvm\")"
   ]
  },
  {
   "cell_type": "code",
   "execution_count": null,
   "metadata": {},
   "outputs": [],
   "source": [
    "batch_size = 1\n",
    "train_loader = DataLoader(train_data, shuffle = True, batch_size=batch_size)\n",
    "valid_loader = DataLoader(test_data, batch_size=batch_size, shuffle = False)"
   ]
  },
  {
   "cell_type": "code",
   "execution_count": null,
   "metadata": {},
   "outputs": [],
   "source": [
    "train_iter = iter(train_loader)\n",
    "doc_vec, doc_labels, _id, yy, W, W_pi =  train_iter.next()"
   ]
  },
  {
   "cell_type": "code",
   "execution_count": null,
   "metadata": {},
   "outputs": [],
   "source": [
    "doc_vec, label_id, _id, yy, W, W_pi =  next(train_iter)"
   ]
  },
  {
   "cell_type": "code",
   "execution_count": null,
   "metadata": {
    "scrolled": false
   },
   "outputs": [],
   "source": [
    "print(doc_vec.squeeze().shape)\n",
    "print(\"*\"*50)\n",
    "print(label_id)\n",
    "print(\"~\"*50)\n",
    "print(yy[0][0])\n",
    "print(\"-\"*50)\n",
    "print(yy[1][0])\n",
    "print(\"_\"*50)\n",
    "print(W.shape, W_pi.shape)\n",
    "print(\"^\"*50)"
   ]
  },
  {
   "cell_type": "code",
   "execution_count": null,
   "metadata": {},
   "outputs": [],
   "source": [
    "torch.version.cuda\n",
    "torch.backends.cudnn.version()\n",
    "torch.backends.cudnn.benchmark = True"
   ]
  },
  {
   "cell_type": "code",
   "execution_count": null,
   "metadata": {},
   "outputs": [],
   "source": [
    "class Node(nn.Module):\n",
    "    def __init__(self, weight_dims):\n",
    "        super().__init__()\n",
    "        w_n = torch.FloatTensor(*weight_dims)\n",
    "        w_pi = torch.FloatTensor([random.uniform(0.005, 0.009)])\n",
    "\n",
    "        weights_n = nn.init.xavier_normal_(w_n, gain = nn.init.calculate_gain('relu'))\n",
    "        weights_pi = nn.init.normal_(w_pi)\n",
    "        \n",
    "        self.w = nn.Parameter(weights_n)    \n",
    "        self.w_pi = nn.Parameter(weights_pi) \n",
    "        \n",
    "    def forward(self, x_i):\n",
    "        return x_i.matmul(self.w)\n",
    "    \n",
    "    def L2_reg(self):\n",
    "        norm = torch.norm((self.w-self.w_pi), 2)\n",
    "        return 0.5*norm**2\n",
    "    \n",
    "class HRLR(nn.Module):\n",
    "    def __init__(self, n_components, num_tasks):\n",
    "        super().__init__()\n",
    "        self.linear = Node([n_components, num_tasks])\n",
    "\n",
    "    def forward(self, yin, x_i):\n",
    "        # for each node, compute forward, and do a -1 +1 threshold to get classes\n",
    "        score = self.linear.forward(x_i)\n",
    "        self.fwd_pass = - yin * score\n",
    "        \n",
    "        return self.fwd_pass\n",
    "    \n",
    "    def compute_loss_leaf(self):\n",
    "        loss = torch.log2(1+torch.exp(self.fwd_pass))\n",
    "        l2_reg = self.linear.L2_reg()\n",
    "        value = loss.mean() \n",
    "        return value\n",
    "    "
   ]
  },
  {
   "cell_type": "code",
   "execution_count": null,
   "metadata": {},
   "outputs": [],
   "source": [
    "def reset_model():\n",
    "\n",
    "    # Hyper Parameters \n",
    "    num_epochs = 5\n",
    "    learning_rate = 0.001 \n",
    "    n_tasks = len(train_data.iter.df)\n",
    "\n",
    "    model = HRLR(n_components, n_tasks)\n",
    "\n",
    "    optimizer = torch.optim.Adam(model.parameters(), lr=learning_rate, weight_decay=0.6)\n",
    "\n",
    "#     optimizer = torch.optim.LBFGS(model.parameters(), lr=learning_rate)\n",
    "    \n",
    "    return model, optimizer, num_epochs"
   ]
  },
  {
   "cell_type": "code",
   "execution_count": null,
   "metadata": {},
   "outputs": [],
   "source": [
    "model, optimizer, num_epochs = reset_model()"
   ]
  },
  {
   "cell_type": "code",
   "execution_count": null,
   "metadata": {},
   "outputs": [],
   "source": [
    "total_step = len(train_loader)\n",
    "total_step"
   ]
  },
  {
   "cell_type": "code",
   "execution_count": null,
   "metadata": {},
   "outputs": [],
   "source": [
    "torch.cuda.empty_cache()"
   ]
  },
  {
   "cell_type": "code",
   "execution_count": null,
   "metadata": {},
   "outputs": [],
   "source": [
    "monitor = {\n",
    "    \"test_f1\": [],\n",
    "    \"loss\": []\n",
    "}"
   ]
  },
  {
   "cell_type": "code",
   "execution_count": null,
   "metadata": {
    "scrolled": true
   },
   "outputs": [],
   "source": [
    "for i in range(num_epochs):\n",
    "    for j, (doc_vec, doc_labels, _id, labelz, _, _) in enumerate(tqdm(train_loader)):\n",
    "        \n",
    "        if torch.isnan(list(model.parameters())[0].data.sum()):\n",
    "            model, optimizer, num_epochs = reset_model()\n",
    "            continue\n",
    "        else:\n",
    "            doc_vec = doc_vec.squeeze()\n",
    "            yin = labelz[1][0]\n",
    "\n",
    "            optimizer.zero_grad()\n",
    "            output = model.forward(yin, doc_vec)\n",
    "            loss = model.compute_loss_leaf()\n",
    "            loss.backward()\n",
    "            optimizer.step()\n",
    "            monitor[\"loss\"].append(loss.item())\n",
    "            "
   ]
  },
  {
   "cell_type": "code",
   "execution_count": null,
   "metadata": {
    "scrolled": true
   },
   "outputs": [],
   "source": [
    "plt.plot(monitor[\"loss\"]);"
   ]
  },
  {
   "cell_type": "code",
   "execution_count": null,
   "metadata": {
    "scrolled": true
   },
   "outputs": [],
   "source": [
    "def gather_outputs(data, model):\n",
    "    logging.info(\"Evaluating ...\")\n",
    "    yy_t = []\n",
    "    yy_p = []\n",
    "    with torch.no_grad():\n",
    "        for index, (doc_vec, label_ids, doc_id, y_true) in enumerate(tqdm(data)):\n",
    "            \n",
    "            doc_vec = doc_vec.squeeze()\n",
    "\n",
    "            W_params = list(model.parameters())[0].data.squeeze()\n",
    "            \n",
    "            score = torch.matmul(doc_vec, W_params)\n",
    "            score = score.detach().numpy()\n",
    "            y_index = np.argmax(score)\n",
    "            \n",
    "            sc = torch.from_numpy(score)\n",
    "            sorted_, indices  = torch.sort(sc)\n",
    "            mid = (sorted_[1:] + sorted_[:-1])/2\n",
    "            best_thresh, best_f1 = sorted_[0], 0\n",
    "            \n",
    "            for threshold in mid:\n",
    "                y_pred = np.array(sc > threshold).astype(int)\n",
    "                f1 = f1_score(y_true, y_pred, average=\"micro\")\n",
    "\n",
    "                if f1 > best_f1:\n",
    "                    best_thresh = threshold\n",
    "                    best_f1 = f1\n",
    "            \n",
    "            y_pred = np.array(sc > best_thresh).astype(int)\n",
    "            y_true = y_true.numpy().astype(int)\n",
    "            \n",
    "            yy_t.append(y_true)\n",
    "            yy_p.append(y_pred)\n",
    "            \n",
    "    return np.array(yy_t), np.array(yy_p)\n",
    "\n",
    "y1, y2 = gather_outputs(test_data, model)\n",
    "# f1_score(y1, y2, average=\"micro\")"
   ]
  },
  {
   "cell_type": "code",
   "execution_count": null,
   "metadata": {
    "scrolled": false
   },
   "outputs": [],
   "source": [
    "print(classification_report(y1, y2))"
   ]
  },
  {
   "cell_type": "code",
   "execution_count": null,
   "metadata": {},
   "outputs": [],
   "source": [
    "train_data.iter.lib_data.binarizer.inverse_transform(y1)[:10]"
   ]
  },
  {
   "cell_type": "code",
   "execution_count": null,
   "metadata": {},
   "outputs": [],
   "source": [
    "test_data.iter.MLbin.inverse_transform(y2)[:10]"
   ]
  },
  {
   "cell_type": "code",
   "execution_count": null,
   "metadata": {},
   "outputs": [],
   "source": []
  }
 ],
 "metadata": {
  "kernelspec": {
   "display_name": "Python 3",
   "language": "python",
   "name": "python3"
  },
  "language_info": {
   "codemirror_mode": {
    "name": "ipython",
    "version": 3
   },
   "file_extension": ".py",
   "mimetype": "text/x-python",
   "name": "python",
   "nbconvert_exporter": "python",
   "pygments_lexer": "ipython3",
   "version": "3.6.7"
  }
 },
 "nbformat": 4,
 "nbformat_minor": 2
}
