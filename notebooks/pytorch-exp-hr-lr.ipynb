{
 "cells": [
  {
   "cell_type": "code",
   "execution_count": 1,
   "metadata": {},
   "outputs": [
    {
     "name": "stderr",
     "output_type": "stream",
     "text": [
      "INFO:summarizer.preprocessing.cleaner:'pattern' package not found; tag filters are not available for English\n"
     ]
    }
   ],
   "source": [
    "import sys\n",
    "sys.path.append(\"..\")\n",
    "\n",
    "import math\n",
    "import logging\n",
    "import numpy as np\n",
    "import pandas as pd\n",
    "\n",
    "import torch\n",
    "import torch.nn as nn\n",
    "import torch.nn.functional as F\n",
    "\n",
    "import warnings\n",
    "warnings.filterwarnings('ignore')\n",
    "\n",
    "import matplotlib.pyplot as plt\n",
    "%matplotlib inline\n",
    "\n",
    "from torch.autograd import Variable\n",
    "from torch.utils.data import DataLoader, Dataset\n",
    "from torch.utils.data.sampler import SubsetRandomSampler\n",
    "\n",
    "from scripts.src.hierarchy import *\n",
    "from scripts.src.processing import *\n",
    "from scripts.src.label_utils import *\n",
    "from scripts.src.data_reading import *\n",
    "\n",
    "from sklearn.metrics import f1_score, precision_score, recall_score, classification_report\n",
    "\n",
    "logging.basicConfig(level=logging.INFO )"
   ]
  },
  {
   "cell_type": "code",
   "execution_count": 2,
   "metadata": {},
   "outputs": [
    {
     "data": {
      "text/plain": [
       "device(type='cpu')"
      ]
     },
     "execution_count": 2,
     "metadata": {},
     "output_type": "execute_result"
    }
   ],
   "source": [
    "num_gpus = torch.cuda.device_count()\n",
    "device = torch.device(\"cuda\" if (torch.cuda.is_available() and num_gpus > 0) else \"cpu\")\n",
    "device"
   ]
  },
  {
   "cell_type": "code",
   "execution_count": 3,
   "metadata": {},
   "outputs": [],
   "source": [
    "n_components = 300"
   ]
  },
  {
   "cell_type": "code",
   "execution_count": 4,
   "metadata": {},
   "outputs": [],
   "source": [
    "def _check_data(y):\n",
    "\n",
    "    class_labels = np.unique(y)\n",
    "    num_tasks = len(class_labels)\n",
    "    num_examples = y.shape[0]\n",
    "    if num_tasks == 1:\n",
    "        raise ValueError(\"The number of classes has to be greater than one.\")\n",
    "    elif num_tasks == 2:\n",
    "        if 1 in class_labels and -1 in class_labels:\n",
    "            num_tasks = 1\n",
    "            class_labels = np.array([-1, 1])\n",
    "        elif 1 in class_labels and 0 in class_labels:\n",
    "            num_tasks = 1\n",
    "            class_labels = np.array([0, 1])\n",
    "        else:\n",
    "            raise ValueError(\"Unable to decide postive label\")\n",
    "\n",
    "    lbin = LabelBinarizer(neg_label=-1, pos_label=1)\n",
    "    lbin.fit(class_labels)\n",
    "    y_bin = lbin.transform(y)\n",
    "    return y_bin, class_labels, num_tasks"
   ]
  },
  {
   "cell_type": "code",
   "execution_count": 22,
   "metadata": {},
   "outputs": [],
   "source": [
    "class DatasetIterator:\n",
    "    def __init__(self, datafile, catfile, subsample, is_directed, fmt):\n",
    "        self.datafile = datafile\n",
    "        \n",
    "        if fmt == \"libsvm\":\n",
    "            self.lib_data = LIBSVM_Reader(self.datafile, True, n_components, subsample)\n",
    "            self.df = self.lib_data.data_df\n",
    "            self.MLmatrix = self.lib_data.label_matrix\n",
    "            self.MLbin = self.lib_data.binarizer\n",
    "            self.rev_df = self.lib_data.rev_df\n",
    "        elif fmt ==\"raw\":\n",
    "            self.raw_df = CSV_Reader(self.datafile, subsample)\n",
    "            self.df = self.raw_df.data_df\n",
    "            self.rev_df = self.raw_df.rev_df\n",
    "        \n",
    "        self.cat = HierarchyUtils(catfile, [n_components,1], is_directed, False)\n",
    "#         self.wn = self.cat.generate_vectors(device = device, neighbours = True)\n",
    "\n",
    "    def read_df(self, idx):\n",
    "        i = self.df.index[self.df[\"doc_id\"] == idx][0]\n",
    "        return self.df.at[i, \"doc_vector\"], self.df.at[i, \"doc_labels\"], i\n",
    "    \n",
    "    def __getitem__(self, _id):\n",
    "        return self.read_df(_id)\n",
    "\n",
    "    def __iter__(self):\n",
    "        for _id in self.df.index:\n",
    "            yield self[_id]\n",
    "\n",
    "class DatasetModule(Dataset):\n",
    "\n",
    "    def __init__(self, root_location, cat_file, subsample, is_directed, fmt):\n",
    "        \n",
    "        self.iter = DatasetIterator(root_location, cat_file, subsample, is_directed, fmt)\n",
    "        \n",
    "        class_labels = self.iter.MLbin.classes_\n",
    "        temp = {}\n",
    "        for j, i in enumerate(list(class_labels)):\n",
    "            if i not in temp:\n",
    "                temp[i] = j\n",
    "\n",
    "        self.small_mapper = temp\n",
    "        \n",
    "        self.lmbda = self.lambda_param()\n",
    "        \n",
    "    def lambda_param(self):\n",
    "        wn = self.iter.cat.generate_vectors(device = device, neighbours=True)\n",
    "        w_n = list2tensor(wn[0].values())\n",
    "        w_pi = list2tensor(wn[1].values())\n",
    "\n",
    "        norm2 = torch.norm(w_n-w_pi, 2)\n",
    "        lmbda = 0.5*norm2**2\n",
    "        return lmbda\n",
    "\n",
    "    def encode_labels(self, labels, idx):\n",
    "        for each_label in labels:\n",
    "            if each_label in self.iter.cat.T_leaves:\n",
    "                y = self.iter.MLmatrix[idx].toarray().flatten()\n",
    "                y_in, _, _ = _check_data(y)\n",
    "                y_in = y_in.flatten()\n",
    "                break\n",
    "            else:\n",
    "                y_in = np.ones((len(self.small_mapper),))*-1\n",
    "        y_in = torch.as_tensor(y_in, dtype=torch.float32, device=device)\n",
    "        return y_in\n",
    "\n",
    "    def __len__(self):\n",
    "        return len(self.iter.df)\n",
    "\n",
    "    def __load(self, idx):\n",
    "        doc_vec, doc_labels, doc_id = self.iter[idx]\n",
    "        yin = self.encode_labels(doc_labels, idx)\n",
    "        return doc_vec, doc_labels, doc_id, yin\n",
    "\n",
    "    def __getitem__(self, idx):\n",
    "        return self.__load(idx)"
   ]
  },
  {
   "cell_type": "code",
   "execution_count": null,
   "metadata": {
    "scrolled": false
   },
   "outputs": [],
   "source": [
    "train_data = DatasetModule(\"../rcv1.tar/RCV1_1/rcv1.train.ltc.svm\", \"../rcv1.tar/RCV1_1/rcv1.topic.hierarchy\", False, False, \"libsvm\")"
   ]
  },
  {
   "cell_type": "code",
   "execution_count": null,
   "metadata": {},
   "outputs": [],
   "source": [
    "test_data = DatasetModule(\"../rcv1.tar/RCV1_1/rcv1.test.ltc.svm\", \"../rcv1.tar/RCV1_1/rcv1.topic.hierarchy\", 0.2, False, \"libsvm\")"
   ]
  },
  {
   "cell_type": "code",
   "execution_count": null,
   "metadata": {},
   "outputs": [],
   "source": [
    "train_data = DatasetModule(\"../swiki/data/train_remapped.txt\", \"../swiki/data/cat_hier.txt\", False, True, \"libsvm\")"
   ]
  },
  {
   "cell_type": "code",
   "execution_count": null,
   "metadata": {},
   "outputs": [],
   "source": [
    "test_data = DatasetModule(\"../swiki/data/test_remapped.txt\", \"../swiki/data/cat_hier.txt\", False, False, \"libsvm\")"
   ]
  },
  {
   "cell_type": "code",
   "execution_count": 25,
   "metadata": {},
   "outputs": [],
   "source": [
    "batch_size = 99\n",
    "validation_split = .2\n",
    "shuffle_dataset = True\n",
    "random_seed= 42\n",
    "\n",
    "# Creating data indices for training and validation splits:\n",
    "dataset_size = len(train_data)\n",
    "indices = list(range(dataset_size))\n",
    "split = int(np.floor(validation_split * dataset_size))\n",
    "if shuffle_dataset :\n",
    "    np.random.seed(random_seed)\n",
    "    np.random.shuffle(indices)\n",
    "train_indices, val_indices = indices[split:], indices[:split]\n",
    "\n",
    "# Creating PT data samplers and loaders:\n",
    "train_sampler = SubsetRandomSampler(train_indices)\n",
    "valid_sampler = SubsetRandomSampler(val_indices)\n",
    "\n",
    "train_loader = DataLoader(train_data, batch_size=batch_size, sampler=train_sampler)\n",
    "validation_loader = DataLoader(train_data, batch_size=batch_size, sampler=valid_sampler)\n",
    "test_loader = DataLoader(test_data, batch_size=batch_size, shuffle = False)"
   ]
  },
  {
   "cell_type": "code",
   "execution_count": 26,
   "metadata": {},
   "outputs": [],
   "source": [
    "train_iter = iter(train_loader)\n",
    "doc_vec, doc_labels, _id, yy =  train_iter.next()"
   ]
  },
  {
   "cell_type": "code",
   "execution_count": 27,
   "metadata": {
    "scrolled": false
   },
   "outputs": [
    {
     "name": "stdout",
     "output_type": "stream",
     "text": [
      "torch.Size([40, 300])\n",
      "**************************************************\n",
      "tensor([10, 10,  5, 71, 95,  5, 71, 99, 35, 71, 96,  5,  5,  5, 99,  5, 71, 71,\n",
      "        19, 28,  5,  5,  2, 71, 35, 71, 99, 71, 22,  5, 31, 94, 71, 59,  3, 15,\n",
      "        34,  2, 71,  1])\n",
      "~~~~~~~~~~~~~~~~~~~~~~~~~~~~~~~~~~~~~~~~~~~~~~~~~~\n",
      "tensor([-1., -1., -1., -1., -1., -1., -1., -1., -1., -1., -1., -1., -1., -1.,\n",
      "        -1., -1., -1., -1., -1., -1., -1., -1., -1., -1., -1., -1., -1., -1.,\n",
      "        -1., -1., -1., -1., -1., -1., -1., -1., -1., -1., -1., -1., -1., -1.,\n",
      "        -1., -1., -1., -1., -1., -1., -1., -1., -1., -1., -1., -1., -1., -1.,\n",
      "        -1., -1., -1.,  1., -1., -1., -1., -1., -1., -1., -1.,  1., -1.,  1.,\n",
      "         1., -1.,  1., -1., -1., -1., -1., -1., -1., -1., -1.,  1., -1., -1.,\n",
      "        -1., -1., -1., -1., -1., -1., -1., -1., -1., -1., -1., -1., -1., -1.,\n",
      "        -1., -1., -1.])\n",
      "--------------------------------------------------\n",
      "__________________________________________________\n",
      "tensor([ 6736,  5844,  3337, 18878,  9493, 12201, 22161, 10656, 13453, 19755,\n",
      "        20177,  3313,  7810, 13713, 13076, 19540, 18017, 13450, 15386,  5449,\n",
      "        17159, 15793,  6323, 17962,  8987,  4553, 16332, 21406,  6495,  4545,\n",
      "        14931, 18734, 12272,  6395,  3064, 19465,  1914, 16291,  2975,  2735])\n",
      "^^^^^^^^^^^^^^^^^^^^^^^^^^^^^^^^^^^^^^^^^^^^^^^^^^\n"
     ]
    }
   ],
   "source": [
    "print(doc_vec.shape)\n",
    "print(\"*\"*50)\n",
    "print(doc_labels[0])\n",
    "print(\"~\"*50)\n",
    "print(yy[0])\n",
    "print(\"-\"*50)\n",
    "# print(yy[1][0])\n",
    "print(\"_\"*50)\n",
    "print(_id)\n",
    "print(\"^\"*50)"
   ]
  },
  {
   "cell_type": "code",
   "execution_count": 28,
   "metadata": {},
   "outputs": [],
   "source": [
    "torch.version.cuda\n",
    "torch.backends.cudnn.version()\n",
    "torch.backends.cudnn.benchmark = True"
   ]
  },
  {
   "cell_type": "code",
   "execution_count": 29,
   "metadata": {},
   "outputs": [],
   "source": [
    "class Node(nn.Module):\n",
    "    def __init__(self, weight_dims):\n",
    "        super().__init__()\n",
    "        w_n = torch.FloatTensor(*weight_dims)\n",
    "\n",
    "        weights_n = nn.init.xavier_normal_(w_n, gain = nn.init.calculate_gain('relu'))\n",
    "        weights_pi = torch.Tensor([nn.init.random.random()*1e-2])\n",
    "        \n",
    "        self.w = nn.Parameter(weights_n)    \n",
    "        self.w_pi = nn.Parameter(weights_pi) + self.w\n",
    "        \n",
    "    def forward(self, x_i):\n",
    "        tanh = torch.tanh(x_i.matmul(self.w))\n",
    "        return tanh\n",
    "    \n",
    "    def L2_reg(self):\n",
    "        norm = torch.norm((self.w-self.w_pi), 2)\n",
    "        sol = 0.5*norm**2\n",
    "        return sol\n",
    "    \n",
    "class HRLR(nn.Module):\n",
    "    def __init__(self, n_components, num_tasks):\n",
    "        super().__init__()\n",
    "        self.linear = Node([n_components, num_tasks])\n",
    "\n",
    "    def forward(self, yin, x_i):\n",
    "        # for each node, compute forward, and do a -1 +1 threshold to get classes\n",
    "        score = self.linear.forward(x_i)\n",
    "        self.fwd_pass = - yin * score\n",
    "        return self.fwd_pass\n",
    "    \n",
    "    def compute_loss_leaf(self):\n",
    "        loss = torch.log2(1+torch.exp(self.fwd_pass))\n",
    "        l2_reg = self.linear.L2_reg()\n",
    "        value = loss.mean()\n",
    "        return value\n",
    "    "
   ]
  },
  {
   "cell_type": "code",
   "execution_count": 46,
   "metadata": {},
   "outputs": [],
   "source": [
    "def save_entire_model(model, path):\n",
    "    torch.save(model, path)\n",
    "\n",
    "def save_model_state(model, path):\n",
    "    torch.save(model.state_dict(), path)"
   ]
  },
  {
   "cell_type": "code",
   "execution_count": 30,
   "metadata": {},
   "outputs": [],
   "source": [
    "def reset_model():\n",
    "    '''\n",
    "    training performance is affected by large `n_tasks` size which basically increases the number of parameters to tune.\n",
    "    as parameter dimension increases, weight decay also needs to be increased. what is the relation between param dim \n",
    "    and weight decay?\n",
    "    '''\n",
    "\n",
    "    # Hyper Parameters \n",
    "    num_epochs = 5\n",
    "    learning_rate = 0.001 \n",
    "    n_tasks = len(train_data.iter.MLbin.classes_) #batch_size\n",
    "\n",
    "    model = HRLR(n_components, n_tasks)\n",
    "\n",
    "    optimizer = torch.optim.Adam(model.parameters(), lr=learning_rate, weight_decay=model.linear.L2_reg().item())\n",
    "\n",
    "#     optimizer = torch.optim.LBFGS(model.parameters(), lr=learning_rate)\n",
    "    \n",
    "    return model, optimizer, num_epochs"
   ]
  },
  {
   "cell_type": "code",
   "execution_count": 31,
   "metadata": {},
   "outputs": [],
   "source": [
    "model, optimizer, num_epochs = reset_model()"
   ]
  },
  {
   "cell_type": "code",
   "execution_count": 53,
   "metadata": {},
   "outputs": [
    {
     "data": {
      "text/plain": [
       "tensor([[-1.9715e-02, -1.9600e-02, -1.8655e-02,  ..., -1.9813e-02,\n",
       "         -1.9029e-02, -1.2243e-02],\n",
       "        [-6.5944e-04, -1.2343e-03, -3.9871e-04,  ..., -1.1730e-03,\n",
       "          3.7422e-04, -2.2475e-03],\n",
       "        [ 2.4277e-03,  2.7103e-03,  2.5467e-03,  ...,  1.6826e-03,\n",
       "          2.2863e-03,  1.1948e-03],\n",
       "        ...,\n",
       "        [ 4.7320e-05,  1.0373e-04,  6.9379e-05,  ...,  3.5816e-05,\n",
       "          1.4818e-04,  4.2904e-04],\n",
       "        [-1.7985e-04, -1.1426e-04, -4.1487e-04,  ..., -1.0698e-04,\n",
       "         -8.1758e-05, -3.7880e-04],\n",
       "        [-8.7251e-05, -2.1085e-04, -1.2022e-04,  ..., -1.7656e-04,\n",
       "         -1.5752e-04, -2.9808e-04]])"
      ]
     },
     "execution_count": 53,
     "metadata": {},
     "output_type": "execute_result"
    }
   ],
   "source": [
    "list(model.parameters())[0].data"
   ]
  },
  {
   "cell_type": "code",
   "execution_count": 56,
   "metadata": {},
   "outputs": [],
   "source": [
    "wd = optimizer.param_groups[0][\"weight_decay\"]"
   ]
  },
  {
   "cell_type": "code",
   "execution_count": 33,
   "metadata": {},
   "outputs": [
    {
     "data": {
      "text/plain": [
       "463"
      ]
     },
     "execution_count": 33,
     "metadata": {},
     "output_type": "execute_result"
    }
   ],
   "source": [
    "total_step = len(train_loader)\n",
    "total_step"
   ]
  },
  {
   "cell_type": "code",
   "execution_count": 34,
   "metadata": {},
   "outputs": [],
   "source": [
    "torch.cuda.empty_cache()"
   ]
  },
  {
   "cell_type": "code",
   "execution_count": 35,
   "metadata": {},
   "outputs": [],
   "source": [
    "monitor = {\n",
    "    \"test_f1\": [],\n",
    "    \"loss\": []\n",
    "}"
   ]
  },
  {
   "cell_type": "code",
   "execution_count": 36,
   "metadata": {
    "scrolled": true
   },
   "outputs": [
    {
     "name": "stderr",
     "output_type": "stream",
     "text": [
      "100%|████████████████████████████████████████████████████████████████████████████████| 463/463 [01:05<00:00,  7.01it/s]\n",
      "100%|████████████████████████████████████████████████████████████████████████████████| 463/463 [01:06<00:00,  7.14it/s]\n",
      "100%|████████████████████████████████████████████████████████████████████████████████| 463/463 [01:10<00:00,  7.31it/s]\n",
      "100%|████████████████████████████████████████████████████████████████████████████████| 463/463 [01:11<00:00,  7.07it/s]\n",
      "100%|████████████████████████████████████████████████████████████████████████████████| 463/463 [01:05<00:00,  7.10it/s]\n"
     ]
    }
   ],
   "source": [
    "for i in range(num_epochs):\n",
    "    for j, (doc_vec, doc_labels, _id, yin) in enumerate(tqdm(train_loader)):\n",
    "\n",
    "        if torch.isnan(list(model.parameters())[0].data.sum()):\n",
    "            logging.info(\"oh we got some nans...!\")\n",
    "            model, optimizer, num_epochs = reset_model()\n",
    "            continue\n",
    "        else:\n",
    "            optimizer.zero_grad()\n",
    "            output = model.forward(yin, doc_vec)\n",
    "            loss = model.compute_loss_leaf()\n",
    "            loss.backward()\n",
    "            optimizer.step()\n",
    "            monitor[\"loss\"].append(loss.item())"
   ]
  },
  {
   "cell_type": "code",
   "execution_count": 37,
   "metadata": {
    "scrolled": true
   },
   "outputs": [
    {
     "data": {
      "image/png": "[encoded data removed]",
      "text/plain": [
       "<Figure size 432x288 with 1 Axes>"
      ]
     },
     "metadata": {
      "needs_background": "light"
     },
     "output_type": "display_data"
    }
   ],
   "source": [
    "plt.plot(monitor[\"loss\"]);"
   ]
  },
  {
   "cell_type": "code",
   "execution_count": null,
   "metadata": {},
   "outputs": [],
   "source": [
    "monitor[\"loss\"][:500]"
   ]
  },
  {
   "cell_type": "code",
   "execution_count": 57,
   "metadata": {},
   "outputs": [],
   "source": [
    "save_entire_model(model, \"../saved_models/swiki_full-model_lr-{}_bs-{}_lmbda-{}.pth\".format(1e-3, batch_size, wd))\n",
    "save_model_state(model, \"../saved_models/swiki_model-state_lr-{}_bs-{}_lmbda-{}.pth\".format(1e-3, batch_size, wd))"
   ]
  },
  {
   "cell_type": "code",
   "execution_count": 43,
   "metadata": {},
   "outputs": [
    {
     "name": "stderr",
     "output_type": "stream",
     "text": [
      "INFO:root:Predicting for validation model...\n",
      "  0%|                                                                                          | 0/116 [00:00<?, ?it/s]"
     ]
    },
    {
     "name": "stdout",
     "output_type": "stream",
     "text": [
      "torch.Size([40, 300])\n",
      "torch.Size([40])\n",
      "torch.Size([40, 101])\n"
     ]
    },
    {
     "name": "stderr",
     "output_type": "stream",
     "text": [
      "\n"
     ]
    },
    {
     "data": {
      "text/plain": [
       "tensor([33, 33, 33, 33, 33, 33, 33, 33, 33, 33, 33, 33, 33, 33, 33, 33, 33, 33,\n",
       "        33, 33, 33, 33, 33, 33, 33, 33, 33, 33, 33, 33, 33, 33, 33, 33, 33, 33,\n",
       "        33, 33, 33, 33])"
      ]
     },
     "execution_count": 43,
     "metadata": {},
     "output_type": "execute_result"
    }
   ],
   "source": [
    "def y_predict(data, model):\n",
    "    logging.info(\"Predicting for validation model...\")\n",
    "    with torch.no_grad():\n",
    "        for index, (doc_vec, label_ids, doc_id, y_true) in enumerate(tqdm(data)):\n",
    "\n",
    "            print(doc_vec.shape)\n",
    "            \n",
    "            score = model.linear.forward(doc_vec)\n",
    "            print(score[0])            \n",
    "            y_index = np.argmax(score, 1)\n",
    "\n",
    "            break\n",
    "    return y_index\n",
    "\n",
    "y_predict(validation_loader, model)"
   ]
  },
  {
   "cell_type": "code",
   "execution_count": 39,
   "metadata": {
    "scrolled": true
   },
   "outputs": [
    {
     "name": "stderr",
     "output_type": "stream",
     "text": [
      "INFO:root:Evaluating ...\n",
      "100%|████████████████████████████████████████████████████████████████████████████████| 116/116 [00:20<00:00,  6.11it/s]\n"
     ]
    }
   ],
   "source": [
    "def gather_outputs(data, model):\n",
    "    logging.info(\"Evaluating ...\")\n",
    "    yy_t = []\n",
    "    yy_p = []\n",
    "    with torch.no_grad():\n",
    "        for index, (doc_vec, label_ids, doc_id, yin) in enumerate(tqdm(data)):\n",
    "            \n",
    "            \n",
    "            W_params = list(model.parameters())[0].data.squeeze()\n",
    "            \n",
    "            score = model.linear.forward(doc_vec)\n",
    "            score = score.detach().numpy()\n",
    "            y_index = np.argmax(score, 1)\n",
    "            \n",
    "            sc = torch.sigmoid(torch.from_numpy(score))\n",
    "            sorted_, indices  = torch.sort(sc)\n",
    "            mid = (sorted_[1:] + sorted_[:-1])/2\n",
    "            best_thresh, best_f1 = sorted_[0], 0\n",
    "            y_true = torch.where(yin > 0, torch.Tensor([1]), torch.Tensor([0])).int()\n",
    "            y_true = y_true.numpy()\n",
    "\n",
    "            for threshold in mid:\n",
    "                y_pred = np.array(sc > threshold).astype(int)\n",
    "                f1 = f1_score(y_true, y_pred, average=\"micro\")\n",
    "\n",
    "                if f1 > best_f1:\n",
    "                    best_thresh = threshold\n",
    "                    best_f1 = f1\n",
    "            \n",
    "            y_pred = np.array(sc > best_thresh).astype(int)\n",
    "            \n",
    "            yy_t.append(y_true)\n",
    "            yy_p.append(y_pred)\n",
    "            \n",
    "    yy_t = np.vstack(yy_t)\n",
    "    yy_p = np.vstack(yy_p)\n",
    "    return yy_t, yy_p\n",
    "\n",
    "y1, y2 = gather_outputs(validation_loader, model)\n",
    "# f1_score(y1, y2, average=\"micro\")"
   ]
  },
  {
   "cell_type": "code",
   "execution_count": 40,
   "metadata": {
    "scrolled": true
   },
   "outputs": [
    {
     "name": "stdout",
     "output_type": "stream",
     "text": [
      "              precision    recall  f1-score   support\n",
      "\n",
      "           0       0.03      0.20      0.06       129\n",
      "           1       0.02      0.23      0.04        73\n",
      "           2       0.03      0.16      0.05       153\n",
      "           3       0.00      0.10      0.01        31\n",
      "           4       0.17      0.39      0.23       736\n",
      "           5       0.09      0.22      0.13       410\n",
      "           6       0.02      0.19      0.04        72\n",
      "           7       0.08      0.21      0.11       347\n",
      "           8       0.00      0.12      0.00         8\n",
      "           9       0.04      0.16      0.07       206\n",
      "          10       0.02      0.13      0.03        75\n",
      "          11       0.01      0.10      0.02        48\n",
      "          12       0.00      0.08      0.00        13\n",
      "          13       0.02      0.20      0.03        46\n",
      "          14       0.06      0.20      0.09       244\n",
      "          15       0.05      0.16      0.07       206\n",
      "          16       0.01      0.24      0.02        25\n",
      "          17       0.01      0.13      0.01        30\n",
      "          18       0.03      0.12      0.05       153\n",
      "          19       0.02      0.21      0.03        38\n",
      "          20       0.00      0.12      0.01        17\n",
      "          21       0.04      0.13      0.06       156\n",
      "          22       0.04      0.12      0.06       198\n",
      "          23       0.00      0.10      0.01        20\n",
      "          24       0.01      0.12      0.02        41\n",
      "          25       0.00      0.00      0.00         9\n",
      "          26       0.00      0.20      0.01         5\n",
      "          27       0.02      0.12      0.03        81\n",
      "          28       0.00      0.20      0.00         5\n",
      "          29       0.00      0.10      0.01        20\n",
      "          30       0.01      0.13      0.03        55\n",
      "          31       0.01      0.12      0.02        49\n",
      "          32       0.01      0.14      0.03        51\n",
      "          33       0.41      1.00      0.58      1879\n",
      "          34       0.00      0.00      0.00        39\n",
      "          35       0.03      0.12      0.05       129\n",
      "          36       0.00      0.18      0.01        11\n",
      "          37       0.00      0.06      0.01        34\n",
      "          38       0.01      0.09      0.01        33\n",
      "          39       0.00      0.00      0.00         1\n",
      "          40       0.01      0.31      0.02        13\n",
      "          41       0.00      0.00      0.00         3\n",
      "          42       0.00      0.00      0.00         1\n",
      "          43       0.00      0.12      0.00         8\n",
      "          44       0.07      0.15      0.09       212\n",
      "          45       0.02      0.15      0.04        67\n",
      "          46       0.05      0.18      0.08       142\n",
      "          47       0.00      0.00      0.00        12\n",
      "          48       0.00      0.00      0.00         9\n",
      "          49       0.00      0.00      0.00         0\n",
      "          50       0.02      0.14      0.04        65\n",
      "          51       0.00      0.00      0.00         4\n",
      "          52       0.00      0.02      0.01       102\n",
      "          53       0.00      0.00      0.00        17\n",
      "          54       0.01      0.05      0.01        62\n",
      "          55       0.00      0.00      0.00         4\n",
      "          56       0.00      0.00      0.00         4\n",
      "          57       0.01      0.17      0.02        29\n",
      "          58       0.12      0.22      0.16       566\n",
      "          59       0.01      0.08      0.02        74\n",
      "          60       0.01      0.15      0.01        13\n",
      "          61       0.00      0.12      0.01         8\n",
      "          62       0.00      0.11      0.01         9\n",
      "          63       0.01      0.09      0.02        35\n",
      "          64       0.00      0.00      0.00         3\n",
      "          65       0.00      0.00      0.00         0\n",
      "          66       0.00      0.00      0.00        11\n",
      "          67       0.00      0.00      0.00        13\n",
      "          68       0.00      0.00      0.00         0\n",
      "          69       0.28      0.52      0.37      1176\n",
      "          70       0.06      0.17      0.08       192\n",
      "          71       0.01      0.13      0.02        38\n",
      "          72       0.04      0.10      0.06       165\n",
      "          73       0.01      0.05      0.01        44\n",
      "          74       0.01      0.09      0.01        23\n",
      "          75       0.01      0.06      0.01        31\n",
      "          76       0.00      1.00      0.01         1\n",
      "          77       0.00      0.00      0.00        35\n",
      "          78       0.02      0.08      0.03        66\n",
      "          79       0.00      0.00      0.00         2\n",
      "          80       0.00      0.11      0.01         9\n",
      "          81       0.06      0.09      0.07       274\n",
      "          82       0.01      0.05      0.01        37\n",
      "          83       0.01      0.12      0.02        16\n",
      "          84       0.00      0.00      0.00         7\n",
      "          85       0.04      0.08      0.05       152\n",
      "          86       0.00      0.00      0.00         2\n",
      "          87       0.03      0.04      0.03       184\n",
      "          88       0.01      0.04      0.01        57\n",
      "          89       0.00      0.04      0.01        25\n",
      "          90       0.00      0.00      0.00         9\n",
      "          91       0.06      0.08      0.07       228\n",
      "          92       0.02      0.05      0.03       118\n",
      "          93       0.07      0.06      0.07       289\n",
      "          94       0.03      0.05      0.04       156\n",
      "          95       0.02      0.03      0.02       136\n",
      "          96       0.13      0.08      0.10       440\n",
      "          97       0.07      0.04      0.05       260\n",
      "          98       0.03      0.05      0.04        55\n",
      "          99       0.06      0.04      0.05       101\n",
      "         100       0.26      0.01      0.02      1033\n",
      "\n",
      "   micro avg       0.07      0.30      0.12     12723\n",
      "   macro avg       0.03      0.12      0.04     12723\n",
      "weighted avg       0.15      0.30      0.17     12723\n",
      " samples avg       0.30      0.26      0.19     12723\n",
      "\n"
     ]
    }
   ],
   "source": [
    "print(classification_report(y1, y2))"
   ]
  },
  {
   "cell_type": "code",
   "execution_count": 41,
   "metadata": {},
   "outputs": [
    {
     "data": {
      "text/plain": [
       "[(22.0, 34.0, 71.0, 77.0), (), (94.0, 103.0), (15.0, 16.0, 34.0), (71.0, 84.0)]"
      ]
     },
     "execution_count": 41,
     "metadata": {},
     "output_type": "execute_result"
    }
   ],
   "source": [
    "train_data.iter.lib_data.binarizer.inverse_transform(y1)[:5]"
   ]
  },
  {
   "cell_type": "code",
   "execution_count": 42,
   "metadata": {
    "scrolled": true
   },
   "outputs": [
    {
     "data": {
      "text/plain": [
       "[(5.0, 6.0, 34.0, 71.0), (34.0,), (5.0, 34.0), (34.0,), (34.0, 71.0)]"
      ]
     },
     "execution_count": 42,
     "metadata": {},
     "output_type": "execute_result"
    }
   ],
   "source": [
    "train_data.iter.MLbin.inverse_transform(y2)[:5] #scoring function"
   ]
  },
  {
   "cell_type": "code",
   "execution_count": 44,
   "metadata": {
    "scrolled": true
   },
   "outputs": [
    {
     "name": "stdout",
     "output_type": "stream",
     "text": [
      "tensor([ 0.2298,  0.3665, -0.4045,  0.7686,  0.4514])\n",
      "Loss: 0.897\n",
      "tensor([ 0.4765,  0.0375, -0.0704,  0.3880,  0.1110])\n",
      "Loss: 0.716\n",
      "tensor([ 0.6899, -0.2463,  0.2180,  0.0561, -0.1830])\n",
      "Loss: 0.580\n",
      "tensor([ 0.8760, -0.4907,  0.4663, -0.2303, -0.4362])\n",
      "Loss: 0.479\n",
      "tensor([ 1.0398, -0.7023,  0.6811, -0.4769, -0.6549])\n",
      "Loss: 0.403\n",
      "tensor([ 1.1853, -0.8869,  0.8683, -0.6903, -0.8454])\n",
      "Loss: 0.345\n",
      "tensor([ 1.3157, -1.0494,  1.0330, -0.8764, -1.0128])\n",
      "Loss: 0.300\n",
      "tensor([ 1.4336, -1.1939,  1.1792, -1.0401, -1.1612])\n",
      "Loss: 0.264\n",
      "tensor([ 1.5408, -1.3235,  1.3103, -1.1856, -1.2940])\n",
      "Loss: 0.236\n",
      "tensor([ 1.6391, -1.4406,  1.4286, -1.3160, -1.4139])\n",
      "Loss: 0.212\n"
     ]
    }
   ],
   "source": [
    "mod = nn.Linear(20, 5) # predict logits for 5 classes\n",
    "x = torch.randn(1, 20)\n",
    "y = torch.Tensor([[1., 0., 1., 0., 0.]]) # get classA and classC as active\n",
    "\n",
    "criterio = nn.BCEWithLogitsLoss()\n",
    "optimize = torch.optim.SGD(mod.parameters(), lr=1e-1)\n",
    "\n",
    "for epoch in range(10):\n",
    "    optimize.zero_grad()\n",
    "    output = mod(x)\n",
    "    print(output.data.squeeze())\n",
    "    los = criterio(output, y)\n",
    "    los.backward()\n",
    "    optimize.step()\n",
    "    print('Loss: {:.3f}'.format(los.item()))"
   ]
  },
  {
   "cell_type": "code",
   "execution_count": null,
   "metadata": {},
   "outputs": [],
   "source": []
  }
 ],
 "metadata": {
  "kernelspec": {
   "display_name": "Python 3",
   "language": "python",
   "name": "python3"
  },
  "language_info": {
   "codemirror_mode": {
    "name": "ipython",
    "version": 3
   },
   "file_extension": ".py",
   "mimetype": "text/x-python",
   "name": "python",
   "nbconvert_exporter": "python",
   "pygments_lexer": "ipython3",
   "version": "3.6.7"
  }
 },
 "nbformat": 4,
 "nbformat_minor": 2
}
