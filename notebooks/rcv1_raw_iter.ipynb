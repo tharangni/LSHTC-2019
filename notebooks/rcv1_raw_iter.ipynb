{
 "cells": [
  {
   "cell_type": "code",
   "execution_count": 1,
   "metadata": {},
   "outputs": [
    {
     "name": "stderr",
     "output_type": "stream",
     "text": [
      "C:\\Users\\harshasivajit\\AppData\\Local\\Continuum\\miniconda3\\envs\\venv\\lib\\site-packages\\gensim\\utils.py:1209: UserWarning: detected Windows; aliasing chunkize to chunkize_serial\n",
      "  warnings.warn(\"detected Windows; aliasing chunkize to chunkize_serial\")\n",
      "INFO:summarizer.preprocessing.cleaner:'pattern' package not found; tag filters are not available for English\n"
     ]
    }
   ],
   "source": [
    "import sys\n",
    "sys.path.append(\"..\")\n",
    "\n",
    "import logging \n",
    "logging.basicConfig(level=logging.INFO)\n",
    "\n",
    "import os\n",
    "import ast\n",
    "import smart_open\n",
    "\n",
    "import numpy as np\n",
    "import pandas as pd\n",
    "import xml.etree.ElementTree as ET\n",
    "\n",
    "from tqdm import tqdm\n",
    "from datetime import datetime\n",
    "from collections import OrderedDict\n",
    "\n",
    "from scripts.src.data_reading import *"
   ]
  },
  {
   "cell_type": "code",
   "execution_count": 5,
   "metadata": {},
   "outputs": [],
   "source": [
    "def create_df():\n",
    "    \n",
    "    root = \"rcv1.tar/rcv1/\"\n",
    "\n",
    "    files = []\n",
    "\n",
    "    for (dirpath, dirnames, filenames) in os.walk(root):\n",
    "        for name in filenames:\n",
    "            path = \"{}/{}\".format(dirpath, name)\n",
    "            files.append(path)\n",
    "\n",
    "    item_id = []\n",
    "    cat_list = []\n",
    "    date_list = []\n",
    "    raw_text = []\n",
    "\n",
    "    for file in tqdm(files[1:-8]):\n",
    "        tree = ET.parse(file)\n",
    "        d = {}\n",
    "        d['text'] = ''\n",
    "\n",
    "        for child in tree.getiterator():            \n",
    "            for k, v in child.attrib.items():\n",
    "                if k not in d:\n",
    "                    d[k] = [v]\n",
    "                else:\n",
    "                    d[k].append(v)\n",
    "            try:\n",
    "                if len(child.text.strip()) > 1:\n",
    "                    d['text'] += child.text\n",
    "            except:\n",
    "                pass\n",
    "\n",
    "\n",
    "        item_id.append(int(d['itemid'][0]))\n",
    "        date_list.append(d['date'][0])\n",
    "        cat_list.append(d['code'])\n",
    "        raw_text.append(d['text'])\n",
    "\n",
    "    rcv1_text_df = pd.DataFrame(columns = [\"doc_id\", \"text\", \"date\", \"categories\"])\n",
    "    rcv1_text_df[\"doc_id\"] = item_id\n",
    "    rcv1_text_df[\"text\"] = raw_text\n",
    "    rcv1_text_df[\"date\"] = date_list\n",
    "    rcv1_text_df[\"categories\"] = cat_list\n",
    "\n",
    "    save_dest = \"rcv1.tar/raw_text_df.tsv\"\n",
    "\n",
    "    rcv1_text_df.to_csv(save_dest, sep='\\t', index=False)\n",
    "    \n",
    "    return save_dest\n",
    "\n",
    "# df_file = create_df()\n",
    "\n",
    "# raw_df = pd.read_csv(\"rcv1.tar/raw_text_df.tsv\", sep=\"\\t\", index_col=0) #df_file"
   ]
  },
  {
   "cell_type": "code",
   "execution_count": null,
   "metadata": {},
   "outputs": [],
   "source": [
    "# getting list of topic codes\n",
    "def get_codes(filename):\n",
    "    topics = []\n",
    "    with smart_open.smart_open(filename, \"r\") as t:\n",
    "        for line in t:\n",
    "            el = line.strip().split(\"\\t\")\n",
    "            topics.append(el[0])\n",
    "    \n",
    "    topic_codes = topics[2:-1]\n",
    "    return topic_codes\n",
    "\n",
    "def func(listxlist, major_list):\n",
    "    res = []\n",
    "    for ids in listxlist:\n",
    "        if ids in major_list:\n",
    "            res.append(ids)\n",
    "    \n",
    "    if len(res) == 0:\n",
    "        res = np.nan\n",
    "    return res\n",
    "\n",
    "def generate_cat_hier(filename):\n",
    "    new = []\n",
    "    with smart_open.smart_open(filename, \"r\") as file:\n",
    "        for line in file:\n",
    "            el = line.strip().split(\"parent:\")\n",
    "            parent = el[1].strip().split(\"child:\")\n",
    "            p = parent[0].strip().split(\" \")[0]\n",
    "            child = parent[1].strip().split(\" \")[0]\n",
    "            if p != \"Root\" :\n",
    "                new.append((p, child))\n",
    "    return new[1:]\n",
    "\n",
    "def cat_of_n(n):\n",
    "    sadlist = set()\n",
    "    ordrd = OrderedDict()\n",
    "\n",
    "    for p, c in n:\n",
    "        if p not in sadlist:\n",
    "            sadlist.add(p)\n",
    "        if c not in sadlist:\n",
    "            sadlist.add(c)\n",
    "\n",
    "    for i, j in enumerate(sadlist):\n",
    "        ordrd[j] = i\n",
    "\n",
    "    rev_or = {v:k for k, v in ordrd.items()}\n",
    "    \n",
    "    return ordrd, rev_or\n"
   ]
  },
  {
   "cell_type": "code",
   "execution_count": null,
   "metadata": {},
   "outputs": [],
   "source": [
    "def process_raw_df(raw_df):\n",
    "    \n",
    "    raw_df[\"categories\"] = raw_df[\"categories\"].apply(lambda x: ast.literal_eval(x))\n",
    "\n",
    "    n = generate_cat_hier(\"rcv1.tar/rcv1.topics.hier.orig.txt\")\n",
    "\n",
    "    topic_codes = get_codes(\"rcv1.tar/rcv1/codes/topic_codes.txt\")\n",
    "    region_codes = get_codes(\"rcv1.tar/rcv1/codes/region_codes.txt\")\n",
    "\n",
    "    orig, rev = cat_of_n(n)\n",
    "\n",
    "    cat_file = \"rcv1.tar/rcv1_topics_cat_hier.txt\"\n",
    "    file = open(cat_file, \"w+\")\n",
    "    for p, c in n:\n",
    "        string = \"{} {}\\n\".format(orig[p], orig[c])\n",
    "        file.write(string)\n",
    "    file.close()\n",
    "\n",
    "    raw_df[\"topic_categories\"] = ''\n",
    "    raw_df[\"region_categories\"] = ''\n",
    "    raw_df[\"split\"] = ''\n",
    "\n",
    "    raw_df[\"topic_categories\"] = raw_df[\"categories\"].apply(lambda x: func(x, topic_codes))\n",
    "    raw_df[\"region_categories\"] = raw_df[\"categories\"].apply(lambda x: func(x, region_codes))\n",
    "    raw_df[\"date\"] = pd.to_datetime(raw_df[\"date\"])\n",
    "\n",
    "    train_in = pd.Timestamp(year=1996, month=8, day=20)\n",
    "    train_out = pd.Timestamp(year=1996, month=8, day=31)\n",
    "\n",
    "    for ix in tqdm(raw_df.index):\n",
    "        if raw_df.at[ix, \"date\"] >= train_in and raw_df.at[ix, \"date\"] <= train_out:\n",
    "            raw_df.at[ix, \"split\"] = 'training'\n",
    "        else:\n",
    "            raw_df.at[ix, \"split\"] = 'testing'\n",
    "\n",
    "    raw_df = raw_df.dropna()\n",
    "\n",
    "    raw_df = raw_df.drop(columns=\"Unnamed: 0\")\n",
    "\n",
    "    # convert topic list to topic id list\n",
    "    raw_df[\"topic_ids\"] = raw_df[\"topic_categories\"].apply(lambda x: [orig[item] for item in x])\n",
    "\n",
    "    raw_df.to_csv(\"rcv1.tar/rcv1_ckpt.tsv\", sep='\\t', index=False)\n",
    "    \n",
    "    return raw_df_df"
   ]
  },
  {
   "cell_type": "code",
   "execution_count": 3,
   "metadata": {},
   "outputs": [],
   "source": [
    "raw_df = pd.read_csv(\"../rcv1.tar/rcv1_ckpt.tsv\", sep='\\t', index_col=0)"
   ]
  },
  {
   "cell_type": "code",
   "execution_count": 19,
   "metadata": {},
   "outputs": [
    {
     "data": {
      "text/html": [
       "<div>\n",
       "<style scoped>\n",
       "    .dataframe tbody tr th:only-of-type {\n",
       "        vertical-align: middle;\n",
       "    }\n",
       "\n",
       "    .dataframe tbody tr th {\n",
       "        vertical-align: top;\n",
       "    }\n",
       "\n",
       "    .dataframe thead th {\n",
       "        text-align: right;\n",
       "    }\n",
       "</style>\n",
       "<table border=\"1\" class=\"dataframe\">\n",
       "  <thead>\n",
       "    <tr style=\"text-align: right;\">\n",
       "      <th></th>\n",
       "      <th>doc_id</th>\n",
       "      <th>text</th>\n",
       "      <th>date</th>\n",
       "      <th>categories</th>\n",
       "      <th>topic_categories</th>\n",
       "      <th>region_categories</th>\n",
       "      <th>split</th>\n",
       "      <th>topic_ids</th>\n",
       "    </tr>\n",
       "  </thead>\n",
       "  <tbody>\n",
       "    <tr>\n",
       "      <th>0</th>\n",
       "      <td>2286</td>\n",
       "      <td>MEXICO: Recovery excitement brings Mexican mar...</td>\n",
       "      <td>1996-08-20</td>\n",
       "      <td>['MEX', 'E11', 'ECAT', 'M11', 'M12', 'MCAT']</td>\n",
       "      <td>['E11', 'ECAT', 'M11', 'M12', 'MCAT']</td>\n",
       "      <td>['MEX']</td>\n",
       "      <td>training</td>\n",
       "      <td>[101, 32, 1, 18, 37]</td>\n",
       "    </tr>\n",
       "    <tr>\n",
       "      <th>1</th>\n",
       "      <td>2287</td>\n",
       "      <td>USA: Chrysler plans new investments in Latin A...</td>\n",
       "      <td>1996-08-20</td>\n",
       "      <td>['ARG', 'BRAZ', 'USA', 'I24700', 'I34320', 'I3...</td>\n",
       "      <td>['C24', 'CCAT']</td>\n",
       "      <td>['ARG', 'BRAZ', 'USA']</td>\n",
       "      <td>training</td>\n",
       "      <td>[82, 33]</td>\n",
       "    </tr>\n",
       "    <tr>\n",
       "      <th>2</th>\n",
       "      <td>2288</td>\n",
       "      <td>USA: CompuServe reports loss, cutting work for...</td>\n",
       "      <td>1996-08-20</td>\n",
       "      <td>['USA', 'I83940', 'C15', 'C151', 'CCAT', 'E41'...</td>\n",
       "      <td>['C15', 'C151', 'CCAT', 'E41', 'ECAT', 'GCAT',...</td>\n",
       "      <td>['USA']</td>\n",
       "      <td>training</td>\n",
       "      <td>[41, 23, 33, 28, 32, 15, 5]</td>\n",
       "    </tr>\n",
       "    <tr>\n",
       "      <th>3</th>\n",
       "      <td>2289</td>\n",
       "      <td>USA: CompuServe reports loss, cutting work for...</td>\n",
       "      <td>1996-08-20</td>\n",
       "      <td>['USA', 'I83940', 'C15', 'C151', 'CCAT']</td>\n",
       "      <td>['C15', 'C151', 'CCAT']</td>\n",
       "      <td>['USA']</td>\n",
       "      <td>training</td>\n",
       "      <td>[41, 23, 33]</td>\n",
       "    </tr>\n",
       "  </tbody>\n",
       "</table>\n",
       "</div>"
      ],
      "text/plain": [
       "   doc_id                                               text        date  \\\n",
       "0    2286  MEXICO: Recovery excitement brings Mexican mar...  1996-08-20   \n",
       "1    2287  USA: Chrysler plans new investments in Latin A...  1996-08-20   \n",
       "2    2288  USA: CompuServe reports loss, cutting work for...  1996-08-20   \n",
       "3    2289  USA: CompuServe reports loss, cutting work for...  1996-08-20   \n",
       "\n",
       "                                          categories  \\\n",
       "0       ['MEX', 'E11', 'ECAT', 'M11', 'M12', 'MCAT']   \n",
       "1  ['ARG', 'BRAZ', 'USA', 'I24700', 'I34320', 'I3...   \n",
       "2  ['USA', 'I83940', 'C15', 'C151', 'CCAT', 'E41'...   \n",
       "3           ['USA', 'I83940', 'C15', 'C151', 'CCAT']   \n",
       "\n",
       "                                    topic_categories       region_categories  \\\n",
       "0              ['E11', 'ECAT', 'M11', 'M12', 'MCAT']                 ['MEX']   \n",
       "1                                    ['C24', 'CCAT']  ['ARG', 'BRAZ', 'USA']   \n",
       "2  ['C15', 'C151', 'CCAT', 'E41', 'ECAT', 'GCAT',...                 ['USA']   \n",
       "3                            ['C15', 'C151', 'CCAT']                 ['USA']   \n",
       "\n",
       "      split                    topic_ids  \n",
       "0  training         [101, 32, 1, 18, 37]  \n",
       "1  training                     [82, 33]  \n",
       "2  training  [41, 23, 33, 28, 32, 15, 5]  \n",
       "3  training                 [41, 23, 33]  "
      ]
     },
     "execution_count": 19,
     "metadata": {},
     "output_type": "execute_result"
    }
   ],
   "source": [
    "raw_df.head(4)"
   ]
  },
  {
   "cell_type": "code",
   "execution_count": 9,
   "metadata": {},
   "outputs": [],
   "source": [
    "class FTextIter(object):\n",
    "    def __init__(self, file_path):\n",
    "        super(FTextIter, self).__init__()\n",
    "        self.file_path = file_path\n",
    "\n",
    "    def __iter__(self):\n",
    "        with smart_open.smart_open(self.file_path, 'r') as fin:\n",
    "            for line in fin:\n",
    "                line = preprocess_string(line)\n",
    "                yield list(line)"
   ]
  },
  {
   "cell_type": "code",
   "execution_count": 10,
   "metadata": {},
   "outputs": [],
   "source": [
    "def get_text(prefix, df):\n",
    "\n",
    "    fname = \"{}/all_rcv1_raw.txt\".format(prefix)\n",
    "    fe, ex = os.path.splitext(fname)\n",
    "    \n",
    "    if not os.path.isfile(fname):\n",
    "        file = open(fname, \"w+\", newline='\\n')\n",
    "\n",
    "        for i in tqdm(df.index):\n",
    "            str_each_line = df.at[i, \"text\"]\n",
    "            file.write(str_each_line)\n",
    "\n",
    "        file.close()\n",
    "\n",
    "    return fe"
   ]
  },
  {
   "cell_type": "code",
   "execution_count": 11,
   "metadata": {},
   "outputs": [],
   "source": [
    "def fasttext_generator(fname):\n",
    "    '''\n",
    "    prefix: path to save the file\n",
    "    '''\n",
    "    fe, ex = os.path.splitext(fname)\n",
    "    filename = \"{}.model\".format(fe)\n",
    "\n",
    "    if not os.path.isfile(filename):\n",
    "        moo = FastText(size=300, window=3, min_count=1) # hs=0, negative=0, size=300\n",
    "        moo.build_vocab(sentences=FTextIter(fname))\n",
    "        total_examples = moo.corpus_count\n",
    "        moo.train(sentences=FTextIter(fname), total_examples=total_examples, epochs=5)\n",
    "        moo.save(filename)\n",
    "    else:\n",
    "        moo = FastText.load(filename)\n",
    "\n",
    "    return moo"
   ]
  },
  {
   "cell_type": "code",
   "execution_count": 20,
   "metadata": {},
   "outputs": [],
   "source": [
    "def gen_doc2vec(df, prefix):\n",
    "    '''\n",
    "    prefix: os file path to pickle file/saved models\n",
    "    '''\n",
    "    save_dest = \"{}/rcv1_fasttextV1.tsv\".format(prefix)\n",
    "\n",
    "    if not os.path.isfile(save_dest):\n",
    "        logging.info(\"Generating document vectors...\")\n",
    "        fname = get_text(prefix, df)\n",
    "        feex = fname + \".txt\"\n",
    "        model = fasttext_generator(feex)\n",
    "        \n",
    "        temp_col = []\n",
    "        for index in tqdm(df.index):\n",
    "            vec = []\n",
    "            line = preprocess_string(raw_df.at[index, \"text\"])\n",
    "            for word in line:\n",
    "                vec.append(model.wv[word])\n",
    "            temp_col.append(np.mean(vec, axis=0))\n",
    "\n",
    "        df[\"vec\"] = temp_col\n",
    "        \n",
    "        result = df.sort_index(0)\n",
    "        \n",
    "        result.to_csv(save_dest, sep='\\t', index=False)\n",
    "\n",
    "    else:\n",
    "        logging.info(\"Loading exisiting model... \")\n",
    "        result = pd.read_csv(save_dest, sep='\\t', index_col=0)\n",
    "\n",
    "    return result"
   ]
  },
  {
   "cell_type": "code",
   "execution_count": 21,
   "metadata": {
    "scrolled": true
   },
   "outputs": [
    {
     "name": "stderr",
     "output_type": "stream",
     "text": [
      "INFO:root:Loading exisiting model... \n"
     ]
    }
   ],
   "source": [
    "res = gen_doc2vec(raw_df, \"rcv1.tar\") #run this only once"
   ]
  },
  {
   "cell_type": "code",
   "execution_count": 22,
   "metadata": {},
   "outputs": [],
   "source": [
    "grouped = res.groupby(\"split\")\n",
    "tr = grouped.get_group(\"training\")\n",
    "te = grouped.get_group(\"testing\")"
   ]
  },
  {
   "cell_type": "code",
   "execution_count": 23,
   "metadata": {},
   "outputs": [],
   "source": [
    "tr = tr.drop(columns=[\"categories\", \"region_categories\"])"
   ]
  },
  {
   "cell_type": "code",
   "execution_count": 24,
   "metadata": {},
   "outputs": [],
   "source": [
    "te = te.drop(columns=[\"categories\", \"region_categories\"])"
   ]
  },
  {
   "cell_type": "code",
   "execution_count": 27,
   "metadata": {},
   "outputs": [
    {
     "data": {
      "text/plain": [
       "((23149, 7), (781265, 7))"
      ]
     },
     "execution_count": 27,
     "metadata": {},
     "output_type": "execute_result"
    }
   ],
   "source": [
    "tr.shape, te.shape"
   ]
  },
  {
   "cell_type": "code",
   "execution_count": 28,
   "metadata": {},
   "outputs": [],
   "source": [
    "tr.to_csv(\"rcv1.tar/rcv1_fasttext_train.tsv\", sep='\\t', index=False)\n",
    "te.to_csv(\"rcv1.tar/rcv1_fasttext_test.tsv\", sep='\\t', index=False)"
   ]
  },
  {
   "cell_type": "code",
   "execution_count": 9,
   "metadata": {},
   "outputs": [],
   "source": [
    "tr = pd.read_csv(\"../rcv1.tar/rcv1_fasttext_train.tsv\", sep=\"\\t\", index_col=0)"
   ]
  },
  {
   "cell_type": "code",
   "execution_count": 10,
   "metadata": {},
   "outputs": [],
   "source": [
    "tr = tr.rename(columns={'topic_categories': 'doc_labels'})"
   ]
  },
  {
   "cell_type": "code",
   "execution_count": 25,
   "metadata": {},
   "outputs": [],
   "source": [
    "tr[\"doc_labels\"] = tr[\"doc_labels\"].apply(lambda x: ast.literal_eval(x))"
   ]
  },
  {
   "cell_type": "code",
   "execution_count": 28,
   "metadata": {},
   "outputs": [
    {
     "name": "stderr",
     "output_type": "stream",
     "text": [
      "100%|████████████████████████████████████████████████████████████████████████| 23149/23149 [00:00<00:00, 133813.60it/s]\n",
      "100%|████████████████████████████████████████████████████████████████████████| 23149/23149 [00:00<00:00, 149171.74it/s]\n"
     ]
    },
    {
     "data": {
      "text/plain": [
       "0"
      ]
     },
     "execution_count": 28,
     "metadata": {},
     "output_type": "execute_result"
    },
    {
     "data": {
      "image/png": "[encoded data removed]",
      "text/plain": [
       "<Figure size 432x288 with 1 Axes>"
      ]
     },
     "metadata": {
      "needs_background": "light"
     },
     "output_type": "display_data"
    },
    {
     "data": {
      "image/png": "[encoded data removed]",
      "text/plain": [
       "<Figure size 432x288 with 1 Axes>"
      ]
     },
     "metadata": {
      "needs_background": "light"
     },
     "output_type": "display_data"
    }
   ],
   "source": [
    "class_statistics(tr, \"rcv1\")"
   ]
  }
 ],
 "metadata": {
  "kernelspec": {
   "display_name": "Python 3",
   "language": "python",
   "name": "python3"
  },
  "language_info": {
   "codemirror_mode": {
    "name": "ipython",
    "version": 3
   },
   "file_extension": ".py",
   "mimetype": "text/x-python",
   "name": "python",
   "nbconvert_exporter": "python",
   "pygments_lexer": "ipython3",
   "version": "3.6.7"
  }
 },
 "nbformat": 4,
 "nbformat_minor": 2
}
