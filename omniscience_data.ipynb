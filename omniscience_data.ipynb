{
 "cells": [
  {
   "cell_type": "code",
   "execution_count": 1,
   "metadata": {},
   "outputs": [],
   "source": [
    "import warnings\n",
    "warnings.simplefilter('ignore')"
   ]
  },
  {
   "cell_type": "code",
   "execution_count": 2,
   "metadata": {},
   "outputs": [],
   "source": [
    "from scripts.src.hierarchy import *\n",
    "from scripts.src.processing import *\n",
    "from scripts.src.data_reading import *\n",
    "\n",
    "logging.basicConfig(level=logging.INFO )"
   ]
  },
  {
   "cell_type": "code",
   "execution_count": 3,
   "metadata": {
    "scrolled": true
   },
   "outputs": [
    {
     "name": "stderr",
     "output_type": "stream",
     "text": [
      "100%|███████████████████████████████████████████████████████████████████████| 850491/850491 [00:13<00:00, 65365.95it/s]\n"
     ]
    }
   ],
   "source": [
    "o = OmniscienceReader(\"OmniScience/original/ArXiv_BMED_Evise_title_abstract_os.2018-07-11.tsv\")"
   ]
  },
  {
   "cell_type": "code",
   "execution_count": 4,
   "metadata": {},
   "outputs": [],
   "source": [
    "temp = o.om_df"
   ]
  },
  {
   "cell_type": "code",
   "execution_count": 6,
   "metadata": {},
   "outputs": [
    {
     "data": {
      "text/html": [
       "<div>\n",
       "<style scoped>\n",
       "    .dataframe tbody tr th:only-of-type {\n",
       "        vertical-align: middle;\n",
       "    }\n",
       "\n",
       "    .dataframe tbody tr th {\n",
       "        vertical-align: top;\n",
       "    }\n",
       "\n",
       "    .dataframe thead th {\n",
       "        text-align: right;\n",
       "    }\n",
       "</style>\n",
       "<table border=\"1\" class=\"dataframe\">\n",
       "  <thead>\n",
       "    <tr style=\"text-align: right;\">\n",
       "      <th></th>\n",
       "      <th>abstract</th>\n",
       "      <th>file_id</th>\n",
       "      <th>omniscience_label_ids</th>\n",
       "      <th>omniscience_labels</th>\n",
       "      <th>title</th>\n",
       "      <th>used_as</th>\n",
       "      <th>category</th>\n",
       "      <th>doc_id</th>\n",
       "    </tr>\n",
       "  </thead>\n",
       "  <tbody>\n",
       "    <tr>\n",
       "      <th>781429</th>\n",
       "      <td>Background and aims Determination of the degre...</td>\n",
       "      <td>BMED.PUI:616746862</td>\n",
       "      <td>[170589418, 249133392, 170590659]</td>\n",
       "      <td>[dentistry, diagnostic_procedure, zoology]</td>\n",
       "      <td>Assessment of atherosclerotic luminal narrowin...</td>\n",
       "      <td>training</td>\n",
       "      <td>BMED.PUI</td>\n",
       "      <td>781429</td>\n",
       "    </tr>\n",
       "    <tr>\n",
       "      <th>245673</th>\n",
       "      <td>We prove that the squared partition function o...</td>\n",
       "      <td>ArXiv:1312.7026v2</td>\n",
       "      <td>[189720919]</td>\n",
       "      <td>[mathematical_physics]</td>\n",
       "      <td>Critical Ising model and spanning trees partit...</td>\n",
       "      <td>unused</td>\n",
       "      <td>ArXiv</td>\n",
       "      <td>245673</td>\n",
       "    </tr>\n",
       "    <tr>\n",
       "      <th>103685</th>\n",
       "      <td>We present an implementation in the functional...</td>\n",
       "      <td>ArXiv:1605.02532v2</td>\n",
       "      <td>[360769449]</td>\n",
       "      <td>[symbolic_computation]</td>\n",
       "      <td>HLinear: Exact Dense Linear Algebra in Haskell</td>\n",
       "      <td>training</td>\n",
       "      <td>ArXiv</td>\n",
       "      <td>103685</td>\n",
       "    </tr>\n",
       "  </tbody>\n",
       "</table>\n",
       "</div>"
      ],
      "text/plain": [
       "                                                 abstract             file_id  \\\n",
       "781429  Background and aims Determination of the degre...  BMED.PUI:616746862   \n",
       "245673  We prove that the squared partition function o...   ArXiv:1312.7026v2   \n",
       "103685  We present an implementation in the functional...  ArXiv:1605.02532v2   \n",
       "\n",
       "                    omniscience_label_ids  \\\n",
       "781429  [170589418, 249133392, 170590659]   \n",
       "245673                        [189720919]   \n",
       "103685                        [360769449]   \n",
       "\n",
       "                                omniscience_labels  \\\n",
       "781429  [dentistry, diagnostic_procedure, zoology]   \n",
       "245673                      [mathematical_physics]   \n",
       "103685                      [symbolic_computation]   \n",
       "\n",
       "                                                    title   used_as  category  \\\n",
       "781429  Assessment of atherosclerotic luminal narrowin...  training  BMED.PUI   \n",
       "245673  Critical Ising model and spanning trees partit...    unused     ArXiv   \n",
       "103685     HLinear: Exact Dense Linear Algebra in Haskell  training     ArXiv   \n",
       "\n",
       "        doc_id  \n",
       "781429  781429  \n",
       "245673  245673  \n",
       "103685  103685  "
      ]
     },
     "execution_count": 6,
     "metadata": {},
     "output_type": "execute_result"
    }
   ],
   "source": [
    "temp.sample(n=3)"
   ]
  },
  {
   "cell_type": "code",
   "execution_count": 7,
   "metadata": {},
   "outputs": [
    {
     "data": {
      "text/plain": [
       "abstract                 Improvement of properties of weak soils in ter...\n",
       "file_id                                    EVISE.PII:S1674-7755(16)30108-1\n",
       "omniscience_label_ids    [170590667, 189720833, 189720833, 170590667, 1...\n",
       "omniscience_labels       [geology, civil_engineering, civil_engineering...\n",
       "title                    Improvement of geotechnical properties of sabk...\n",
       "used_as                                                           training\n",
       "category                                                         EVISE.PII\n",
       "doc_id                                                              709751\n",
       "Name: 709751, dtype: object"
      ]
     },
     "execution_count": 7,
     "metadata": {},
     "output_type": "execute_result"
    }
   ],
   "source": [
    "temp.iloc[709750]"
   ]
  },
  {
   "cell_type": "code",
   "execution_count": 8,
   "metadata": {},
   "outputs": [
    {
     "name": "stderr",
     "output_type": "stream",
     "text": [
      "INFO:root:Loading exisiting model... \n"
     ]
    }
   ],
   "source": [
    "y = o.gen_doc2vec(\"./OmniScience/Fasttext/\")"
   ]
  },
  {
   "cell_type": "code",
   "execution_count": 9,
   "metadata": {},
   "outputs": [
    {
     "data": {
      "text/html": [
       "<div>\n",
       "<style scoped>\n",
       "    .dataframe tbody tr th:only-of-type {\n",
       "        vertical-align: middle;\n",
       "    }\n",
       "\n",
       "    .dataframe tbody tr th {\n",
       "        vertical-align: top;\n",
       "    }\n",
       "\n",
       "    .dataframe thead th {\n",
       "        text-align: right;\n",
       "    }\n",
       "</style>\n",
       "<table border=\"1\" class=\"dataframe\">\n",
       "  <thead>\n",
       "    <tr style=\"text-align: right;\">\n",
       "      <th></th>\n",
       "      <th>abstract</th>\n",
       "      <th>file_id</th>\n",
       "      <th>omniscience_label_ids</th>\n",
       "      <th>omniscience_labels</th>\n",
       "      <th>title</th>\n",
       "      <th>used_as</th>\n",
       "      <th>doc_id</th>\n",
       "      <th>category</th>\n",
       "      <th>vec</th>\n",
       "    </tr>\n",
       "  </thead>\n",
       "  <tbody>\n",
       "    <tr>\n",
       "      <th>579130</th>\n",
       "      <td>We give a status report of our work on light c...</td>\n",
       "      <td>ArXiv:0709.4213v2</td>\n",
       "      <td>[189721267]</td>\n",
       "      <td>[particle_physics]</td>\n",
       "      <td>Hamiltonian Lattice QCD near the Light Cone</td>\n",
       "      <td>training</td>\n",
       "      <td>579130</td>\n",
       "      <td>ArXiv</td>\n",
       "      <td>[0.49446747, -0.7992116, 0.1846602, 0.46918806...</td>\n",
       "    </tr>\n",
       "    <tr>\n",
       "      <th>201696</th>\n",
       "      <td>We present a new scale $U^{t,s}_p$ (with $s&lt;-t...</td>\n",
       "      <td>ArXiv:1607.00654v2</td>\n",
       "      <td>[249523356]</td>\n",
       "      <td>[chaos_theory]</td>\n",
       "      <td>The quest for the ultimate anisotropic Banach ...</td>\n",
       "      <td>training</td>\n",
       "      <td>201696</td>\n",
       "      <td>ArXiv</td>\n",
       "      <td>[0.16831723, -0.5212948, 0.18278453, -0.166112...</td>\n",
       "    </tr>\n",
       "    <tr>\n",
       "      <th>823078</th>\n",
       "      <td>This paper presents the Lagrangian particle mo...</td>\n",
       "      <td>BMED.PUI:616477010</td>\n",
       "      <td>[190195316, 189721291, 235582518]</td>\n",
       "      <td>[mathematical_modeling, cognitive_psychology, ...</td>\n",
       "      <td>Formulation of the Lagrangian particle model L...</td>\n",
       "      <td>training</td>\n",
       "      <td>823078</td>\n",
       "      <td>BMED.PUI</td>\n",
       "      <td>[-0.47544155, 0.095304824, -0.59082204, 0.1791...</td>\n",
       "    </tr>\n",
       "  </tbody>\n",
       "</table>\n",
       "</div>"
      ],
      "text/plain": [
       "                                                 abstract             file_id  \\\n",
       "579130  We give a status report of our work on light c...   ArXiv:0709.4213v2   \n",
       "201696  We present a new scale $U^{t,s}_p$ (with $s<-t...  ArXiv:1607.00654v2   \n",
       "823078  This paper presents the Lagrangian particle mo...  BMED.PUI:616477010   \n",
       "\n",
       "                    omniscience_label_ids  \\\n",
       "579130                        [189721267]   \n",
       "201696                        [249523356]   \n",
       "823078  [190195316, 189721291, 235582518]   \n",
       "\n",
       "                                       omniscience_labels  \\\n",
       "579130                                 [particle_physics]   \n",
       "201696                                     [chaos_theory]   \n",
       "823078  [mathematical_modeling, cognitive_psychology, ...   \n",
       "\n",
       "                                                    title   used_as  doc_id  \\\n",
       "579130        Hamiltonian Lattice QCD near the Light Cone  training  579130   \n",
       "201696  The quest for the ultimate anisotropic Banach ...  training  201696   \n",
       "823078  Formulation of the Lagrangian particle model L...  training  823078   \n",
       "\n",
       "        category                                                vec  \n",
       "579130     ArXiv  [0.49446747, -0.7992116, 0.1846602, 0.46918806...  \n",
       "201696     ArXiv  [0.16831723, -0.5212948, 0.18278453, -0.166112...  \n",
       "823078  BMED.PUI  [-0.47544155, 0.095304824, -0.59082204, 0.1791...  "
      ]
     },
     "execution_count": 9,
     "metadata": {},
     "output_type": "execute_result"
    }
   ],
   "source": [
    "y.sample(n=3)"
   ]
  },
  {
   "cell_type": "code",
   "execution_count": 10,
   "metadata": {},
   "outputs": [
    {
     "name": "stderr",
     "output_type": "stream",
     "text": [
      "100%|██████████████████████████████████████████████████████████████████████| 850491/850491 [00:05<00:00, 149119.79it/s]\n",
      "100%|██████████████████████████████████████████████████████████████████████| 850491/850491 [00:05<00:00, 160720.13it/s]\n"
     ]
    },
    {
     "data": {
      "text/plain": [
       "0"
      ]
     },
     "execution_count": 10,
     "metadata": {},
     "output_type": "execute_result"
    },
    {
     "data": {
      "image/png": "[encoded data removed]",
      "text/plain": [
       "<Figure size 432x288 with 1 Axes>"
      ]
     },
     "metadata": {
      "needs_background": "light"
     },
     "output_type": "display_data"
    },
    {
     "data": {
      "image/png": "[encoded data removed]",
      "text/plain": [
       "<Figure size 432x288 with 1 Axes>"
      ]
     },
     "metadata": {
      "needs_background": "light"
     },
     "output_type": "display_data"
    }
   ],
   "source": [
    "class_statistics(temp, \"omniscience\")"
   ]
  },
  {
   "cell_type": "raw",
   "metadata": {},
   "source": [
    "result.to_csv(\"OmniScience/fasttextV1.tsv\", sep='\\t', encoding='utf-8')"
   ]
  }
 ],
 "metadata": {
  "kernelspec": {
   "display_name": "Python 3",
   "language": "python",
   "name": "python3"
  },
  "language_info": {
   "codemirror_mode": {
    "name": "ipython",
    "version": 3
   },
   "file_extension": ".py",
   "mimetype": "text/x-python",
   "name": "python",
   "nbconvert_exporter": "python",
   "pygments_lexer": "ipython3",
   "version": "3.6.7"
  }
 },
 "nbformat": 4,
 "nbformat_minor": 2
}
