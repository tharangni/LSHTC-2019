{
 "cells": [
  {
   "cell_type": "code",
   "execution_count": null,
   "metadata": {},
   "outputs": [],
   "source": [
    "import os\n",
    "import ast \n",
    "import math\n",
    "import time\n",
    "import torch\n",
    "import logging\n",
    "import smart_open\n",
    "\n",
    "import numpy as np\n",
    "import pandas as pd\n",
    "import matplotlib.pyplot as plt\n",
    "\n",
    "from gensim.utils import tokenize\n",
    "from gensim.models.fasttext import FastText \n",
    "\n",
    "import warnings\n",
    "warnings.simplefilter('ignore')"
   ]
  },
  {
   "cell_type": "code",
   "execution_count": null,
   "metadata": {},
   "outputs": [],
   "source": [
    "from scripts.utils.hierarchy import *\n",
    "from scripts.utils.processing import *\n",
    "from scripts.utils.data_reading import *\n",
    "\n",
    "logging.basicConfig(level=logging.INFO )"
   ]
  },
  {
   "cell_type": "code",
   "execution_count": null,
   "metadata": {
    "scrolled": true
   },
   "outputs": [],
   "source": [
    "o = OmniscienceReader(\"OmniScience/original/ArXiv_BMED_Evise_title_abstract_os.2018-07-11.tsv\")"
   ]
  },
  {
   "cell_type": "code",
   "execution_count": null,
   "metadata": {},
   "outputs": [],
   "source": [
    "temp = o.om_df"
   ]
  },
  {
   "cell_type": "code",
   "execution_count": null,
   "metadata": {},
   "outputs": [],
   "source": [
    "temp.shape"
   ]
  },
  {
   "cell_type": "code",
   "execution_count": null,
   "metadata": {},
   "outputs": [],
   "source": [
    "temp = temp.dropna()"
   ]
  },
  {
   "cell_type": "code",
   "execution_count": null,
   "metadata": {},
   "outputs": [],
   "source": [
    "temp.shape"
   ]
  },
  {
   "cell_type": "code",
   "execution_count": null,
   "metadata": {},
   "outputs": [],
   "source": [
    "temp[\"category\"] = temp[\"file_id\"].apply(lambda x: x.split(\":\")[0])"
   ]
  },
  {
   "cell_type": "code",
   "execution_count": null,
   "metadata": {},
   "outputs": [],
   "source": [
    "grouped = temp.groupby('category')"
   ]
  },
  {
   "cell_type": "code",
   "execution_count": null,
   "metadata": {},
   "outputs": [],
   "source": [
    "grouped.groups.keys()"
   ]
  },
  {
   "cell_type": "code",
   "execution_count": null,
   "metadata": {},
   "outputs": [],
   "source": [
    "arxiv = grouped.get_group('ArXiv')\n",
    "esvii = grouped.get_group('EVISE.PII')\n",
    "bmed = grouped.get_group('BMED.PUI')"
   ]
  },
  {
   "cell_type": "code",
   "execution_count": null,
   "metadata": {},
   "outputs": [],
   "source": [
    "print(esvii.shape)\n",
    "print(arxiv.shape)\n",
    "print(bmed.shape)"
   ]
  },
  {
   "cell_type": "code",
   "execution_count": null,
   "metadata": {},
   "outputs": [],
   "source": [
    "esvii[\"omniscience_label_ids\"] = esvii[\"omniscience_label_ids\"].apply(lambda x: list(map(int, x[0])))"
   ]
  },
  {
   "cell_type": "code",
   "execution_count": null,
   "metadata": {
    "scrolled": false
   },
   "outputs": [],
   "source": [
    "def get_text(df):\n",
    "    \n",
    "    name = df.iloc[0][\"category\"]\n",
    "    fname = \"{}_raw.txt\".format(name)\n",
    "    \n",
    "    file = open(fname, \"wb+\")\n",
    "\n",
    "    for i in tqdm(df.index):\n",
    "        str_each_line = df.at[i, \"abstract\"] + '\\n'\n",
    "        file.write(str_each_line.encode('utf-8'))\n",
    "\n",
    "    file.close()\n",
    "    \n",
    "    return  name, fname"
   ]
  },
  {
   "cell_type": "code",
   "execution_count": null,
   "metadata": {},
   "outputs": [],
   "source": [
    "class CorpusIter(object):\n",
    "    def __init__(self, file_path):\n",
    "        super(CorpusIter, self).__init__()\n",
    "        self.file_path = file_path\n",
    "\n",
    "    def __iter__(self):\n",
    "        with smart_open.smart_open(self.file_path, 'r', encoding='utf-8') as fin:\n",
    "            for line in fin:\n",
    "                yield list(tokenize(line))"
   ]
  },
  {
   "cell_type": "code",
   "execution_count": null,
   "metadata": {},
   "outputs": [],
   "source": [
    "def fasttext_generator(fname, name):\n",
    "\n",
    "    filename = \"Omniscience/Fasttext/{}.model\".format(name)\n",
    "\n",
    "    if not os.path.isfile(filename):\n",
    "        model = FastText(size=128, window=3, min_count=1) # hs=0, negative=0\n",
    "        model.build_vocab(sentences=CorpusIter(fname))\n",
    "        total_examples = model.corpus_count\n",
    "        model.train(sentences=CorpusIter(fname), total_examples=total_examples, epochs=5)\n",
    "        model.save(filename)\n",
    "    else:\n",
    "        model = FastText.load(filename)\n",
    "    return model"
   ]
  },
  {
   "cell_type": "code",
   "execution_count": null,
   "metadata": {},
   "outputs": [],
   "source": [
    "esvii[\"vec\"] = 0"
   ]
  },
  {
   "cell_type": "code",
   "execution_count": null,
   "metadata": {},
   "outputs": [],
   "source": [
    "e_name, e_fname = get_text(esvii)"
   ]
  },
  {
   "cell_type": "code",
   "execution_count": null,
   "metadata": {
    "scrolled": false
   },
   "outputs": [],
   "source": [
    "e_model = fasttext_generator(e_fname, e_name)"
   ]
  },
  {
   "cell_type": "code",
   "execution_count": null,
   "metadata": {
    "scrolled": true
   },
   "outputs": [],
   "source": [
    "for i, sent in enumerate(tqdm(CorpusIter(e_fname))):\n",
    "    temp = 0.0\n",
    "    slen = len(sent)\n",
    "    for w in sent:\n",
    "        temp += e_model.wv[w]\n",
    "    temp /= slen\n",
    "    esvii.iloc[i][\"vec\"] = temp"
   ]
  }
 ],
 "metadata": {
  "kernelspec": {
   "display_name": "Python 3",
   "language": "python",
   "name": "python3"
  },
  "language_info": {
   "codemirror_mode": {
    "name": "ipython",
    "version": 3
   },
   "file_extension": ".py",
   "mimetype": "text/x-python",
   "name": "python",
   "nbconvert_exporter": "python",
   "pygments_lexer": "ipython3",
   "version": "3.6.7"
  }
 },
 "nbformat": 4,
 "nbformat_minor": 2
}
