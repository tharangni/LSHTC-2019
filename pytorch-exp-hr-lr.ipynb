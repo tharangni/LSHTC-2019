{
 "cells": [
  {
   "cell_type": "code",
   "execution_count": 1,
   "metadata": {},
   "outputs": [],
   "source": [
    "import math\n",
    "import logging\n",
    "import numpy as np\n",
    "import pandas as pd\n",
    "\n",
    "import torch\n",
    "import torch.nn as nn\n",
    "import torch.nn.functional as F\n",
    "\n",
    "from torch.autograd import Variable\n",
    "from torch.utils.data import DataLoader, Dataset\n",
    "\n",
    "\n",
    "from scripts.utils.hierarchy import *\n",
    "from scripts.utils.processing import *\n",
    "from scripts.utils.label_utils import *\n",
    "from scripts.utils.data_reading import *\n",
    "\n",
    "logging.basicConfig(level=logging.INFO )"
   ]
  },
  {
   "cell_type": "raw",
   "metadata": {},
   "source": [
    "n = 32 # wn vector size  --> ~log_{2}(num_classes)"
   ]
  },
  {
   "cell_type": "code",
   "execution_count": 2,
   "metadata": {},
   "outputs": [],
   "source": [
    "num_gpus = torch.cuda.device_count()"
   ]
  },
  {
   "cell_type": "code",
   "execution_count": 3,
   "metadata": {},
   "outputs": [],
   "source": [
    "device = torch.device(\"cuda\" if (torch.cuda.is_available() and num_gpus > 0) else \"cpu\")"
   ]
  },
  {
   "cell_type": "code",
   "execution_count": 4,
   "metadata": {
    "scrolled": true
   },
   "outputs": [
    {
     "data": {
      "text/plain": [
       "device(type='cpu')"
      ]
     },
     "execution_count": 4,
     "metadata": {},
     "output_type": "execute_result"
    }
   ],
   "source": [
    "device"
   ]
  },
  {
   "cell_type": "code",
   "execution_count": 5,
   "metadata": {},
   "outputs": [],
   "source": [
    "n_components = 300"
   ]
  },
  {
   "cell_type": "raw",
   "metadata": {
    "scrolled": true
   },
   "source": [
    "order_mapping = generate_order_mapping(T.N_all_nodes, False)\n",
    "rev_order_mapping = generate_order_mapping(T.N_all_nodes, True)\n",
    "binary_yin = generate_binary_yin(T.N_all_nodes, device)"
   ]
  },
  {
   "cell_type": "raw",
   "metadata": {},
   "source": [
    "data = lower_dim(\"swiki/data/train_remapped.txt\", True, 300)"
   ]
  },
  {
   "cell_type": "code",
   "execution_count": 6,
   "metadata": {},
   "outputs": [],
   "source": [
    "class DatasetIterator:\n",
    "    def __init__(self, datafile, catfile):\n",
    "        self.datafile = datafile\n",
    "        self.cat = HierarchyUtils(catfile, False, False)\n",
    "        self.wn = self.cat.generate_vectors(device = device, neighbours = True)\n",
    "        self.lib_data = LIBSVM_Reader(self.datafile, True, n_components)\n",
    "        self.df = self.lib_data.data_df\n",
    "    \n",
    "    def read_df(self, idx):\n",
    "        i = self.df.index[self.df[\"doc_id\"] == idx][0]\n",
    "        return self.df.at[i, \"doc_vector\"], self.df.at[i, \"doc_labels\"], i\n",
    "\n",
    "    def __getitem__(self, _id):\n",
    "        return self.read_df(_id)\n",
    "\n",
    "    def __iter__(self):\n",
    "        for _id in self.df[\"doc_id\"]:\n",
    "            yield self[_id]\n",
    "\n",
    "class DatasetModule(Dataset):\n",
    "\n",
    "    def __init__(self, root_location, cat_file):\n",
    "        self.iter = DatasetIterator(root_location, cat_file)\n",
    "        self.lmbda = self.lambda_param()\n",
    "        \n",
    "    def lambda_param(self):\n",
    "        for n_node, n_vector in self.iter.wn[0].items():\n",
    "            w_n = n_vector\n",
    "            w_pi = torch.mean(list2tensor(self.iter.wn[1][n_node]), dim=0)\n",
    "            norm2 = torch.norm(w_n-w_pi, 2)\n",
    "            lmbda = 0.5*norm2**2\n",
    "        return lmbda\n",
    "\n",
    "    def encode_labels(self, labels):\n",
    "        yin = torch.ones(len(self.iter.cat.node2id), dtype=torch.float32)*-1\n",
    "        label_vector = 0\n",
    "        for l in labels:\n",
    "            yin[self.iter.cat.node2id[l]] = 1.\n",
    "            label_vector += self.iter.wn[0][l]\n",
    "        label_vector = label_vector/len(labels)\n",
    "        return label_vector, yin\n",
    "\n",
    "    def __len__(self):\n",
    "        return len(self.iter.df[\"doc_id\"])\n",
    "\n",
    "    def __load(self, idx):\n",
    "        doc_vec, doc_labels, _id = self.iter[idx]\n",
    "        return doc_vec, doc_labels, _id, self.encode_labels(doc_labels)\n",
    "\n",
    "    def __getitem__(self, idx):\n",
    "        return self.__load(idx)"
   ]
  },
  {
   "cell_type": "raw",
   "metadata": {},
   "source": [
    "rcv1 = fetch_rcv1(return_X_y=False)"
   ]
  },
  {
   "cell_type": "raw",
   "metadata": {},
   "source": [
    "train_data = DatasetModule(\"swiki/data/train_remapped.txt\", \"swiki/data/cat_hier.txt\")"
   ]
  },
  {
   "cell_type": "code",
   "execution_count": 7,
   "metadata": {},
   "outputs": [
    {
     "name": "stderr",
     "output_type": "stream",
     "text": [
      "35it [00:00, 34869.51it/s]\n",
      "100%|███████████████████████████████████████████████████████████████████████████████████| 1/1 [00:00<00:00, 284.98it/s]\n",
      "100%|█████████████████████████████████████████████████████████████████████████| 23149/23149 [00:00<00:00, 35445.94it/s]\n"
     ]
    }
   ],
   "source": [
    "train_data = DatasetModule(\"rcv1.tar/RCV1_1/rcv1.train.ltc.svm\", \"rcv1.tar/RCV1_1/rcv1.topic.hierarchy\")"
   ]
  },
  {
   "cell_type": "raw",
   "metadata": {},
   "source": [
    "test_data = rcv1.data[len(train_data):]"
   ]
  },
  {
   "cell_type": "code",
   "execution_count": 8,
   "metadata": {},
   "outputs": [
    {
     "name": "stderr",
     "output_type": "stream",
     "text": [
      "35it [00:00, 69772.17it/s]\n",
      "100%|███████████████████████████████████████████████████████████████████████████████████| 1/1 [00:00<00:00, 398.70it/s]\n",
      "100%|███████████████████████████████████████████████████████████████████████| 781265/781265 [00:21<00:00, 35590.49it/s]\n"
     ]
    }
   ],
   "source": [
    "test_data = DatasetModule(\"rcv1.tar/RCV1_1/rcv1.test.ltc.svm\", \"rcv1.tar/RCV1_1/rcv1.topic.hierarchy\")"
   ]
  },
  {
   "cell_type": "code",
   "execution_count": null,
   "metadata": {},
   "outputs": [],
   "source": [
    "batch_size = 64"
   ]
  },
  {
   "cell_type": "code",
   "execution_count": null,
   "metadata": {},
   "outputs": [],
   "source": [
    "train_loader = DataLoader(train_data, batch_size=batch_size, shuffle = True, pin_memory=True)\n",
    "# valid_loader = DataLoader(valid_data, batch_size=batch_size, shuffle = False)"
   ]
  },
  {
   "cell_type": "code",
   "execution_count": null,
   "metadata": {},
   "outputs": [],
   "source": [
    "train_iter = iter(train_loader)\n",
    "doc_vec, doc_labels, _id, wn =  train_iter.next()"
   ]
  },
  {
   "cell_type": "code",
   "execution_count": null,
   "metadata": {},
   "outputs": [],
   "source": [
    "print(doc_vec.shape)\n",
    "print(\"*\"*50)\n",
    "print(wn[0].shape)\n",
    "print(\"-\"*50)\n",
    "print(wn[1].shape)\n",
    "print(\"_\"*50)"
   ]
  },
  {
   "cell_type": "raw",
   "metadata": {},
   "source": [
    "train_data.iter.df[\"doc_labels\"][16289]"
   ]
  },
  {
   "cell_type": "code",
   "execution_count": null,
   "metadata": {},
   "outputs": [],
   "source": [
    "# Hyper Parameters \n",
    "input_size = n_components #128 n_components\n",
    "# input_size = train_data.data[0].shape[1] #2085164 \n",
    "\n",
    "num_classes = len(train_data.iter.cat.N_all_nodes) #50312 --> n (16)\n",
    "num_epochs = 15 # TRAIN IT FOR A LOT OF EPOCHS in case of lbfgs (2nd order method) else less is more\n",
    "learning_rate = 0.001 #1e-4, 0.0005"
   ]
  },
  {
   "cell_type": "code",
   "execution_count": null,
   "metadata": {},
   "outputs": [],
   "source": [
    "torch.version.cuda"
   ]
  },
  {
   "cell_type": "code",
   "execution_count": null,
   "metadata": {},
   "outputs": [],
   "source": [
    "torch.backends.cudnn.version()"
   ]
  },
  {
   "cell_type": "code",
   "execution_count": null,
   "metadata": {},
   "outputs": [],
   "source": [
    "torch.backends.cudnn.benchmark = True"
   ]
  },
  {
   "cell_type": "code",
   "execution_count": null,
   "metadata": {},
   "outputs": [],
   "source": [
    "from sklearn.metrics import f1_score, precision_score, recall_score\n",
    "\n",
    "def gather_outputs(data, model):\n",
    "    y_true = []\n",
    "    y_pred = []\n",
    "    logging.info(\"Evaluating ...\")\n",
    "    with torch.no_grad():\n",
    "        for index, (doc_vec, doc_labels, _id, label_vecs) in enumerate(data):\n",
    "            \n",
    "            seq = doc_vec\n",
    "            label_vec = label_vecs[0].squeeze()\n",
    "            yin = label_vecs[1]\n",
    "            output = model(seq, label_vec, yin)\n",
    "            \n",
    "            if (index+1) % 500 == 0:\n",
    "                print(output)\n",
    "\n",
    "            threshold = torch.mean(output).item()\n",
    "#             threshold = 0.5\n",
    "\n",
    "            output[output >= threshold] = 1\n",
    "            output[output < threshold] = -1\n",
    "            \n",
    "            y_pred.append(output.cpu().view(-1).numpy())\n",
    "            y_true.append(yin.numpy())\n",
    "            \n",
    "            if (index+1) % 500 == 0:\n",
    "                print(output, yin)\n",
    "                test_f1 = f1_score(np.asarray(y_true), np.array(y_pred), average=\"micro\")\n",
    "                print(\"Index: {}/{} F1: {}\".format(index+1, len(data), test_f1))\n",
    "    \n",
    "    y_true = np.asarray(y_true)\n",
    "    y_pred = np.array(y_pred)\n",
    "    test_f1 = f1_score(y_true, y_pred, average=\"micro\")\n",
    "    return y_true, y_pred"
   ]
  },
  {
   "cell_type": "code",
   "execution_count": null,
   "metadata": {},
   "outputs": [],
   "source": [
    "# Model\n",
    "class LogisticRegression(nn.Module):\n",
    "    def __init__(self):\n",
    "        super(LogisticRegression, self).__init__()\n",
    "        self.linear1 = nn.Linear(input_size, num_classes, False)\n",
    "        self.exp = torch.exp\n",
    "        \n",
    "    def forward(self, x, labels, yin):\n",
    "        x1 = self.linear1(x)\n",
    "        y  = x1.mul(labels)\n",
    "        exp_ = self.exp(-y*yin)\n",
    "        return torch.log(1+exp_)"
   ]
  },
  {
   "cell_type": "code",
   "execution_count": null,
   "metadata": {},
   "outputs": [],
   "source": [
    "model = LogisticRegression()"
   ]
  },
  {
   "cell_type": "code",
   "execution_count": null,
   "metadata": {},
   "outputs": [],
   "source": [
    "criterion = nn.BCEWithLogitsLoss()\n",
    "optimizer = torch.optim.Adam(model.parameters(), lr=learning_rate, weight_decay=train_data.lmbda)"
   ]
  },
  {
   "cell_type": "raw",
   "metadata": {},
   "source": [
    "logger = Logger('./logs')"
   ]
  },
  {
   "cell_type": "code",
   "execution_count": null,
   "metadata": {},
   "outputs": [],
   "source": [
    "total_step = len(train_loader)"
   ]
  },
  {
   "cell_type": "code",
   "execution_count": null,
   "metadata": {
    "scrolled": true
   },
   "outputs": [],
   "source": [
    "total_step"
   ]
  },
  {
   "cell_type": "code",
   "execution_count": null,
   "metadata": {},
   "outputs": [],
   "source": [
    "torch.cuda.empty_cache()"
   ]
  },
  {
   "cell_type": "code",
   "execution_count": null,
   "metadata": {},
   "outputs": [],
   "source": [
    "import matplotlib.pyplot as plt\n",
    "%matplotlib inline"
   ]
  },
  {
   "cell_type": "code",
   "execution_count": null,
   "metadata": {},
   "outputs": [],
   "source": [
    "monitor = {\n",
    "    \"test_f1\": [],\n",
    "    \"loss\": []\n",
    "}"
   ]
  },
  {
   "cell_type": "code",
   "execution_count": null,
   "metadata": {
    "scrolled": false
   },
   "outputs": [],
   "source": [
    "for epoch in range(num_epochs):\n",
    "    for doc_vec, doc_labels, _id, label_vecs in tqdm(train_loader):\n",
    "        \n",
    "        label_vec = label_vecs[0].squeeze()\n",
    "        yin = label_vecs[1]\n",
    "        \n",
    "        model.zero_grad()\n",
    "        output = model.forward(doc_vec, label_vec, yin)\n",
    "\n",
    "        loss = criterion(output, label_vec)\n",
    "        loss.backward()\n",
    "        \n",
    "        optimizer.step()\n",
    "        \n",
    "        monitor[\"loss\"].append(loss.item())        "
   ]
  },
  {
   "cell_type": "code",
   "execution_count": null,
   "metadata": {},
   "outputs": [],
   "source": [
    "plt.plot(monitor[\"loss\"]);"
   ]
  },
  {
   "cell_type": "code",
   "execution_count": null,
   "metadata": {
    "scrolled": true
   },
   "outputs": [],
   "source": [
    "y_true, y_pred = gather_outputs(test_data, model)\n",
    "test_f1 = f1_score(y_true, y_pred, average=\"micro\")\n",
    "logging.info(\"Test F1: {}\".format(test_f1))\n",
    "monitor[\"test_f1\"].append(test_f1)"
   ]
  },
  {
   "cell_type": "code",
   "execution_count": null,
   "metadata": {},
   "outputs": [],
   "source": [
    "plt.plot(monitor[\"test_f1\"]);"
   ]
  }
 ],
 "metadata": {
  "kernelspec": {
   "display_name": "Python 3",
   "language": "python",
   "name": "python3"
  },
  "language_info": {
   "codemirror_mode": {
    "name": "ipython",
    "version": 3
   },
   "file_extension": ".py",
   "mimetype": "text/x-python",
   "name": "python",
   "nbconvert_exporter": "python",
   "pygments_lexer": "ipython3",
   "version": "3.6.7"
  }
 },
 "nbformat": 4,
 "nbformat_minor": 2
}
