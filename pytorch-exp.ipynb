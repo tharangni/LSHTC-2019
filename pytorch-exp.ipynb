{
 "cells": [
  {
   "cell_type": "code",
   "execution_count": 1,
   "metadata": {},
   "outputs": [],
   "source": [
    "# https://www.kaggle.com/pinocookie/pytorch-dataset-and-dataloader/data\n",
    "# https://discuss.pytorch.org/t/runtimeerror-multi-target-not-supported-newbie/10216/4\n",
    "\n",
    "# Build the Dataset. We are going to generate a simple data set and then we will read it.\n",
    "# Build the DataLoader.\n",
    "# Build the model.\n",
    "# Define the loss function and the optimizer.\n",
    "# Train the model.\n",
    "# Generate predictions.\n",
    "# Plot the results. I hope it can be useful for someone who is starting programming using Pytorch."
   ]
  },
  {
   "cell_type": "code",
   "execution_count": 2,
   "metadata": {},
   "outputs": [],
   "source": [
    "import logging\n",
    "import numpy as np\n",
    "\n",
    "import torch\n",
    "import torch.nn as nn\n",
    "import torch.nn.functional as F\n",
    "\n",
    "from torch.autograd import Variable\n",
    "from sklearn import preprocessing, metrics\n",
    "from torch.utils.data import DataLoader, Dataset\n",
    "\n",
    "\n",
    "from scripts.utils.logger import Logger\n",
    "from scripts.utils.data_reading import lower_dim, rr_reader\n",
    "from scripts.utils.processing import lookup_table, generate_label_vector\n",
    "\n",
    "logging.basicConfig(level=logging.INFO )"
   ]
  },
  {
   "cell_type": "code",
   "execution_count": 3,
   "metadata": {},
   "outputs": [],
   "source": [
    "# N and one_hot_labels have to be present globally! (list of all the labels)\n",
    "# one_hot_labels because I will keep accessing it for each document <1082>\n",
    "_, _, _, _, _, _, N = lookup_table(\"swiki/data/cat_hier.txt\", subset = False)"
   ]
  },
  {
   "cell_type": "code",
   "execution_count": 4,
   "metadata": {},
   "outputs": [
    {
     "data": {
      "text/plain": [
       "50312"
      ]
     },
     "execution_count": 4,
     "metadata": {},
     "output_type": "execute_result"
    }
   ],
   "source": [
    "len(N)"
   ]
  },
  {
   "cell_type": "code",
   "execution_count": 5,
   "metadata": {
    "scrolled": true
   },
   "outputs": [],
   "source": [
    "order_label_mapping = generate_label_vector(N)"
   ]
  },
  {
   "cell_type": "code",
   "execution_count": 6,
   "metadata": {
    "scrolled": true
   },
   "outputs": [
    {
     "data": {
      "text/plain": [
       "1"
      ]
     },
     "execution_count": 6,
     "metadata": {},
     "output_type": "execute_result"
    }
   ],
   "source": [
    "order_label_mapping[1]"
   ]
  },
  {
   "cell_type": "code",
   "execution_count": 7,
   "metadata": {},
   "outputs": [],
   "source": [
    "def too_hot_mapping(label_tuple):\n",
    "\n",
    "    # order_label_mapping HAS TO BE A GLOBAL OBJECT\n",
    "\n",
    "    doc_labels = list(map(int, list(label_tuple)))\n",
    "    temp = torch.zeros((len(N),))\n",
    "    \n",
    "    try:\n",
    "        for label in doc_labels:\n",
    "            int_rep = order_label_mapping[label]\n",
    "            temp[int_rep-1] += 1 \n",
    "    except:\n",
    "        print(\"wait whaat?\")\n",
    "    return temp"
   ]
  },
  {
   "cell_type": "code",
   "execution_count": 8,
   "metadata": {},
   "outputs": [],
   "source": [
    "class DatasetSWIKI(Dataset):\n",
    "    \n",
    "    def __init__(self, file_path, reduce = True, n_components = 128):\n",
    "        self.reduce = reduce\n",
    "        self.n_components = n_components\n",
    "        self.data, self.labels = lower_dim(file_path, reduce, n_components)\n",
    "        \n",
    "    def __len__(self):\n",
    "        return self.data.shape[0]\n",
    "    \n",
    "    def __getitem__(self, index):\n",
    "        \n",
    "        if self.reduce:\n",
    "            document = torch.from_numpy(self.data[index])\n",
    "        else:\n",
    "            document = torch.from_numpy(self.data[index].todense())\n",
    "        \n",
    "        label = self.labels[index]\n",
    "        label_vector = too_hot_mapping(label)\n",
    "        \n",
    "        return document, label, label_vector"
   ]
  },
  {
   "cell_type": "code",
   "execution_count": 9,
   "metadata": {},
   "outputs": [],
   "source": [
    "n_components = 128"
   ]
  },
  {
   "cell_type": "code",
   "execution_count": 10,
   "metadata": {
    "scrolled": true
   },
   "outputs": [
    {
     "name": "stderr",
     "output_type": "stream",
     "text": [
      "INFO:root:Time elapsed: 4min 4.2secs\n",
      "INFO:root:Time elapsed: 3min 18.7secs\n"
     ]
    }
   ],
   "source": [
    "train_data = DatasetSWIKI(\"swiki/data/train_split_remapped.txt\", reduce=True, n_components = n_components)\n",
    "valid_data = DatasetSWIKI(\"swiki/data/valid_remapped.txt\", reduce=True, n_components = n_components)"
   ]
  },
  {
   "cell_type": "code",
   "execution_count": 11,
   "metadata": {},
   "outputs": [
    {
     "data": {
      "text/plain": [
       "(128,)"
      ]
     },
     "execution_count": 11,
     "metadata": {},
     "output_type": "execute_result"
    }
   ],
   "source": [
    "train_data.data[0].shape"
   ]
  },
  {
   "cell_type": "code",
   "execution_count": 12,
   "metadata": {},
   "outputs": [],
   "source": [
    "batch_size = 100"
   ]
  },
  {
   "cell_type": "code",
   "execution_count": 13,
   "metadata": {},
   "outputs": [],
   "source": [
    "train_loader = DataLoader(train_data, batch_size=batch_size, shuffle = True)\n",
    "valid_loader = DataLoader(valid_data, batch_size=batch_size, shuffle = False)"
   ]
  },
  {
   "cell_type": "code",
   "execution_count": 14,
   "metadata": {},
   "outputs": [
    {
     "name": "stdout",
     "output_type": "stream",
     "text": [
      "images shape on batch size = torch.Size([100, 128])\n",
      "labels shape on batch size = torch.Size([100, 50312])\n"
     ]
    }
   ],
   "source": [
    "train_iter = iter(train_loader)\n",
    "\n",
    "doc, _, labs = train_iter.next()\n",
    "\n",
    "print('images shape on batch size = {}'.format(doc.size()))\n",
    "print('labels shape on batch size = {}'.format(labs.size()))"
   ]
  },
  {
   "cell_type": "code",
   "execution_count": 15,
   "metadata": {
    "collapsed": true
   },
   "outputs": [
    {
     "data": {
      "text/plain": [
       "19060.0"
      ]
     },
     "execution_count": 15,
     "metadata": {},
     "output_type": "execute_result"
    }
   ],
   "source": [
    "208516400/10940\n",
    "# 2085164/547"
   ]
  },
  {
   "cell_type": "code",
   "execution_count": 16,
   "metadata": {},
   "outputs": [],
   "source": [
    "# Hyper Parameters \n",
    "input_size = train_data.data.shape[1] #2085164 -> 128\n",
    "\n",
    "num_classes = 50312 #50312\n",
    "num_epochs = 5\n",
    "learning_rate = 0.01"
   ]
  },
  {
   "cell_type": "code",
   "execution_count": 17,
   "metadata": {},
   "outputs": [],
   "source": [
    "# Model\n",
    "class LogisticRegression(nn.Module):\n",
    "    def __init__(self):\n",
    "        super(LogisticRegression, self).__init__()\n",
    "#         self.linear1 = nn.Linear(input_size, batch_size)\n",
    "#         self.linear2 = nn.Linear(batch_size, num_classes)\n",
    "        self.linear2 = nn.Linear(input_size, num_classes)\n",
    "\n",
    "    \n",
    "    def forward(self, x):\n",
    "#         x = self.linear1(x)\n",
    "        out = self.linear2(x)\n",
    "        out = F.sigmoid(out)\n",
    "        return out"
   ]
  },
  {
   "cell_type": "code",
   "execution_count": 18,
   "metadata": {},
   "outputs": [],
   "source": [
    "model = LogisticRegression()"
   ]
  },
  {
   "cell_type": "code",
   "execution_count": 19,
   "metadata": {},
   "outputs": [
    {
     "data": {
      "text/plain": [
       "LogisticRegression(\n",
       "  (linear2): Linear(in_features=128, out_features=50312, bias=True)\n",
       ")"
      ]
     },
     "execution_count": 19,
     "metadata": {},
     "output_type": "execute_result"
    }
   ],
   "source": [
    "model"
   ]
  },
  {
   "cell_type": "code",
   "execution_count": 20,
   "metadata": {},
   "outputs": [],
   "source": [
    "criterion = nn.BCELoss()  \n",
    "optimizer = torch.optim.LBFGS(model.parameters(), lr=learning_rate)"
   ]
  },
  {
   "cell_type": "code",
   "execution_count": 21,
   "metadata": {},
   "outputs": [],
   "source": [
    "logger = Logger('./logs')"
   ]
  },
  {
   "cell_type": "code",
   "execution_count": 22,
   "metadata": {},
   "outputs": [],
   "source": [
    "train_iter = iter(train_loader)\n",
    "iter_per_epoch = len(train_loader)\n",
    "total_step = 50000"
   ]
  },
  {
   "cell_type": "code",
   "execution_count": 26,
   "metadata": {
    "scrolled": true
   },
   "outputs": [
    {
     "name": "stdout",
     "output_type": "stream",
     "text": [
      "Step [680/50000], Loss: 0.7101\n",
      "Step [680/50000], Loss: 0.7101\n",
      "Step [690/50000], Loss: 0.7132\n",
      "Step [690/50000], Loss: 0.7132\n",
      "Step [700/50000], Loss: 0.7090\n",
      "Step [700/50000], Loss: 0.7090\n",
      "Step [710/50000], Loss: 0.7076\n",
      "Step [710/50000], Loss: 0.7076\n",
      "Step [720/50000], Loss: 0.7161\n",
      "Step [720/50000], Loss: 0.7161\n",
      "Step [730/50000], Loss: 0.7101\n",
      "Step [730/50000], Loss: 0.7101\n",
      "Step [740/50000], Loss: 0.7087\n",
      "Step [740/50000], Loss: 0.7087\n",
      "Step [750/50000], Loss: 0.7108\n",
      "Step [750/50000], Loss: 0.7108\n",
      "Step [760/50000], Loss: 0.7073\n",
      "Step [760/50000], Loss: 0.7073\n",
      "Step [770/50000], Loss: 0.7119\n",
      "Step [770/50000], Loss: 0.7119\n",
      "Step [780/50000], Loss: 0.7127\n",
      "Step [780/50000], Loss: 0.7127\n",
      "Step [790/50000], Loss: 0.7076\n",
      "Step [790/50000], Loss: 0.7076\n",
      "Step [800/50000], Loss: 0.7111\n",
      "Step [800/50000], Loss: 0.7111\n",
      "Step [810/50000], Loss: 0.7087\n",
      "Step [810/50000], Loss: 0.7087\n",
      "Step [820/50000], Loss: 0.7082\n",
      "Step [820/50000], Loss: 0.7082\n",
      "Step [830/50000], Loss: 0.7113\n",
      "Step [830/50000], Loss: 0.7113\n",
      "Step [840/50000], Loss: 0.7073\n",
      "Step [840/50000], Loss: 0.7073\n",
      "Step [850/50000], Loss: 0.7102\n",
      "Step [850/50000], Loss: 0.7102\n",
      "Step [860/50000], Loss: 0.7092\n",
      "Step [860/50000], Loss: 0.7092\n",
      "Step [870/50000], Loss: 0.7090\n",
      "Step [870/50000], Loss: 0.7090\n",
      "Step [880/50000], Loss: 0.7148\n",
      "Step [880/50000], Loss: 0.7148\n",
      "Step [890/50000], Loss: 0.7101\n",
      "Step [890/50000], Loss: 0.7101\n",
      "Step [900/50000], Loss: 0.7130\n",
      "Step [900/50000], Loss: 0.7130\n",
      "Step [910/50000], Loss: 0.7105\n",
      "Step [910/50000], Loss: 0.7105\n",
      "Step [920/50000], Loss: 0.7072\n",
      "Step [920/50000], Loss: 0.7072\n",
      "Step [930/50000], Loss: 0.7120\n",
      "Step [930/50000], Loss: 0.7120\n",
      "Step [940/50000], Loss: 0.7109\n",
      "Step [940/50000], Loss: 0.7109\n",
      "Step [950/50000], Loss: 0.7065\n",
      "Step [950/50000], Loss: 0.7065\n",
      "Step [960/50000], Loss: 0.7134\n",
      "Step [960/50000], Loss: 0.7134\n",
      "Step [970/50000], Loss: 0.7100\n",
      "Step [970/50000], Loss: 0.7100\n",
      "Step [980/50000], Loss: 0.7264\n",
      "Step [980/50000], Loss: 0.7264\n",
      "Step [990/50000], Loss: 0.7121\n",
      "Step [990/50000], Loss: 0.7121\n",
      "Step [1000/50000], Loss: 0.7163\n",
      "Step [1000/50000], Loss: 0.7163\n",
      "Step [1010/50000], Loss: 0.7111\n",
      "Step [1010/50000], Loss: 0.7111\n",
      "Step [1020/50000], Loss: 0.7111\n",
      "Step [1020/50000], Loss: 0.7111\n",
      "Step [1030/50000], Loss: 0.7129\n",
      "Step [1030/50000], Loss: 0.7129\n",
      "Step [1040/50000], Loss: 0.7091\n",
      "Step [1040/50000], Loss: 0.7091\n",
      "Step [1050/50000], Loss: 0.7079\n",
      "Step [1050/50000], Loss: 0.7079\n",
      "Step [1060/50000], Loss: 0.7135\n",
      "Step [1060/50000], Loss: 0.7135\n",
      "Step [1070/50000], Loss: 0.7115\n",
      "Step [1070/50000], Loss: 0.7115\n",
      "Step [1080/50000], Loss: 0.7094\n",
      "Step [1080/50000], Loss: 0.7094\n",
      "Step [1090/50000], Loss: 0.7142\n",
      "Step [1090/50000], Loss: 0.7142\n",
      "Step [1100/50000], Loss: 0.7104\n",
      "Step [1100/50000], Loss: 0.7104\n",
      "Step [1110/50000], Loss: 0.7123\n",
      "Step [1110/50000], Loss: 0.7123\n",
      "Step [1120/50000], Loss: 0.7067\n",
      "Step [1120/50000], Loss: 0.7067\n",
      "Step [1130/50000], Loss: 0.7086\n",
      "Step [1130/50000], Loss: 0.7086\n",
      "Step [1140/50000], Loss: 0.7056\n",
      "Step [1140/50000], Loss: 0.7056\n"
     ]
    },
    {
     "ename": "KeyboardInterrupt",
     "evalue": "",
     "output_type": "error",
     "traceback": [
      "\u001b[1;31m---------------------------------------------------------------------------\u001b[0m",
      "\u001b[1;31mKeyboardInterrupt\u001b[0m                         Traceback (most recent call last)",
      "\u001b[1;32m<ipython-input-26-568e9f205d1e>\u001b[0m in \u001b[0;36m<module>\u001b[1;34m\u001b[0m\n\u001b[0;32m     35\u001b[0m                 \u001b[0mprint\u001b[0m \u001b[1;33m(\u001b[0m\u001b[1;34m'Step [{}/{}], Loss: {:.4f}'\u001b[0m\u001b[1;33m.\u001b[0m\u001b[0mformat\u001b[0m\u001b[1;33m(\u001b[0m\u001b[0mi\u001b[0m\u001b[1;33m+\u001b[0m\u001b[1;36m1\u001b[0m\u001b[1;33m,\u001b[0m \u001b[0mtotal_step\u001b[0m\u001b[1;33m,\u001b[0m \u001b[0mloss\u001b[0m\u001b[1;33m.\u001b[0m\u001b[0mitem\u001b[0m\u001b[1;33m(\u001b[0m\u001b[1;33m)\u001b[0m\u001b[1;33m)\u001b[0m\u001b[1;33m)\u001b[0m\u001b[1;33m\u001b[0m\u001b[1;33m\u001b[0m\u001b[0m\n\u001b[0;32m     36\u001b[0m             \u001b[1;32mreturn\u001b[0m \u001b[0mloss\u001b[0m\u001b[1;33m\u001b[0m\u001b[1;33m\u001b[0m\u001b[0m\n\u001b[1;32m---> 37\u001b[1;33m         \u001b[0moptimizer\u001b[0m\u001b[1;33m.\u001b[0m\u001b[0mstep\u001b[0m\u001b[1;33m(\u001b[0m\u001b[0mclosure\u001b[0m\u001b[1;33m)\u001b[0m\u001b[1;33m\u001b[0m\u001b[1;33m\u001b[0m\u001b[0m\n\u001b[0m\u001b[0;32m     38\u001b[0m \u001b[1;33m\u001b[0m\u001b[0m\n\u001b[0;32m     39\u001b[0m \u001b[1;31m#         if (i+1) % 10 == 0:\u001b[0m\u001b[1;33m\u001b[0m\u001b[1;33m\u001b[0m\u001b[1;33m\u001b[0m\u001b[0m\n",
      "\u001b[1;32m~\\AppData\\Local\\Continuum\\miniconda3\\envs\\venv\\lib\\site-packages\\torch\\optim\\lbfgs.py\u001b[0m in \u001b[0;36mstep\u001b[1;34m(self, closure)\u001b[0m\n\u001b[0;32m    211\u001b[0m                     \u001b[1;31m# the reason we do this: in a stochastic setting,\u001b[0m\u001b[1;33m\u001b[0m\u001b[1;33m\u001b[0m\u001b[1;33m\u001b[0m\u001b[0m\n\u001b[0;32m    212\u001b[0m                     \u001b[1;31m# no use to re-evaluate that function here\u001b[0m\u001b[1;33m\u001b[0m\u001b[1;33m\u001b[0m\u001b[1;33m\u001b[0m\u001b[0m\n\u001b[1;32m--> 213\u001b[1;33m                     \u001b[0mloss\u001b[0m \u001b[1;33m=\u001b[0m \u001b[0mfloat\u001b[0m\u001b[1;33m(\u001b[0m\u001b[0mclosure\u001b[0m\u001b[1;33m(\u001b[0m\u001b[1;33m)\u001b[0m\u001b[1;33m)\u001b[0m\u001b[1;33m\u001b[0m\u001b[1;33m\u001b[0m\u001b[0m\n\u001b[0m\u001b[0;32m    214\u001b[0m                     \u001b[0mflat_grad\u001b[0m \u001b[1;33m=\u001b[0m \u001b[0mself\u001b[0m\u001b[1;33m.\u001b[0m\u001b[0m_gather_flat_grad\u001b[0m\u001b[1;33m(\u001b[0m\u001b[1;33m)\u001b[0m\u001b[1;33m\u001b[0m\u001b[1;33m\u001b[0m\u001b[0m\n\u001b[0;32m    215\u001b[0m                     \u001b[0mabs_grad_sum\u001b[0m \u001b[1;33m=\u001b[0m \u001b[0mflat_grad\u001b[0m\u001b[1;33m.\u001b[0m\u001b[0mabs\u001b[0m\u001b[1;33m(\u001b[0m\u001b[1;33m)\u001b[0m\u001b[1;33m.\u001b[0m\u001b[0msum\u001b[0m\u001b[1;33m(\u001b[0m\u001b[1;33m)\u001b[0m\u001b[1;33m\u001b[0m\u001b[1;33m\u001b[0m\u001b[0m\n",
      "\u001b[1;32m<ipython-input-26-568e9f205d1e>\u001b[0m in \u001b[0;36mclosure\u001b[1;34m()\u001b[0m\n\u001b[0;32m     31\u001b[0m             \u001b[0moutputs\u001b[0m \u001b[1;33m=\u001b[0m \u001b[0mmodel\u001b[0m\u001b[1;33m(\u001b[0m\u001b[0mdocument\u001b[0m\u001b[1;33m)\u001b[0m\u001b[1;33m\u001b[0m\u001b[1;33m\u001b[0m\u001b[0m\n\u001b[0;32m     32\u001b[0m             \u001b[0mloss\u001b[0m \u001b[1;33m=\u001b[0m \u001b[0mcriterion\u001b[0m\u001b[1;33m(\u001b[0m\u001b[0moutputs\u001b[0m\u001b[1;33m,\u001b[0m \u001b[0mlabels\u001b[0m\u001b[1;33m)\u001b[0m\u001b[1;33m\u001b[0m\u001b[1;33m\u001b[0m\u001b[0m\n\u001b[1;32m---> 33\u001b[1;33m             \u001b[0mloss\u001b[0m\u001b[1;33m.\u001b[0m\u001b[0mbackward\u001b[0m\u001b[1;33m(\u001b[0m\u001b[1;33m)\u001b[0m\u001b[1;33m\u001b[0m\u001b[1;33m\u001b[0m\u001b[0m\n\u001b[0m\u001b[0;32m     34\u001b[0m             \u001b[1;32mif\u001b[0m \u001b[1;33m(\u001b[0m\u001b[0mi\u001b[0m\u001b[1;33m+\u001b[0m\u001b[1;36m1\u001b[0m\u001b[1;33m)\u001b[0m \u001b[1;33m%\u001b[0m \u001b[1;36m10\u001b[0m \u001b[1;33m==\u001b[0m \u001b[1;36m0\u001b[0m\u001b[1;33m:\u001b[0m\u001b[1;33m\u001b[0m\u001b[1;33m\u001b[0m\u001b[0m\n\u001b[0;32m     35\u001b[0m                 \u001b[0mprint\u001b[0m \u001b[1;33m(\u001b[0m\u001b[1;34m'Step [{}/{}], Loss: {:.4f}'\u001b[0m\u001b[1;33m.\u001b[0m\u001b[0mformat\u001b[0m\u001b[1;33m(\u001b[0m\u001b[0mi\u001b[0m\u001b[1;33m+\u001b[0m\u001b[1;36m1\u001b[0m\u001b[1;33m,\u001b[0m \u001b[0mtotal_step\u001b[0m\u001b[1;33m,\u001b[0m \u001b[0mloss\u001b[0m\u001b[1;33m.\u001b[0m\u001b[0mitem\u001b[0m\u001b[1;33m(\u001b[0m\u001b[1;33m)\u001b[0m\u001b[1;33m)\u001b[0m\u001b[1;33m)\u001b[0m\u001b[1;33m\u001b[0m\u001b[1;33m\u001b[0m\u001b[0m\n",
      "\u001b[1;32m~\\AppData\\Local\\Continuum\\miniconda3\\envs\\venv\\lib\\site-packages\\torch\\tensor.py\u001b[0m in \u001b[0;36mbackward\u001b[1;34m(self, gradient, retain_graph, create_graph)\u001b[0m\n\u001b[0;32m    100\u001b[0m                 \u001b[0mproducts\u001b[0m\u001b[1;33m.\u001b[0m \u001b[0mDefaults\u001b[0m \u001b[0mto\u001b[0m\u001b[0;31m \u001b[0m\u001b[0;31m`\u001b[0m\u001b[0;31m`\u001b[0m\u001b[1;32mFalse\u001b[0m\u001b[0;31m`\u001b[0m\u001b[0;31m`\u001b[0m\u001b[1;33m.\u001b[0m\u001b[1;33m\u001b[0m\u001b[1;33m\u001b[0m\u001b[0m\n\u001b[0;32m    101\u001b[0m         \"\"\"\n\u001b[1;32m--> 102\u001b[1;33m         \u001b[0mtorch\u001b[0m\u001b[1;33m.\u001b[0m\u001b[0mautograd\u001b[0m\u001b[1;33m.\u001b[0m\u001b[0mbackward\u001b[0m\u001b[1;33m(\u001b[0m\u001b[0mself\u001b[0m\u001b[1;33m,\u001b[0m \u001b[0mgradient\u001b[0m\u001b[1;33m,\u001b[0m \u001b[0mretain_graph\u001b[0m\u001b[1;33m,\u001b[0m \u001b[0mcreate_graph\u001b[0m\u001b[1;33m)\u001b[0m\u001b[1;33m\u001b[0m\u001b[1;33m\u001b[0m\u001b[0m\n\u001b[0m\u001b[0;32m    103\u001b[0m \u001b[1;33m\u001b[0m\u001b[0m\n\u001b[0;32m    104\u001b[0m     \u001b[1;32mdef\u001b[0m \u001b[0mregister_hook\u001b[0m\u001b[1;33m(\u001b[0m\u001b[0mself\u001b[0m\u001b[1;33m,\u001b[0m \u001b[0mhook\u001b[0m\u001b[1;33m)\u001b[0m\u001b[1;33m:\u001b[0m\u001b[1;33m\u001b[0m\u001b[1;33m\u001b[0m\u001b[0m\n",
      "\u001b[1;32m~\\AppData\\Local\\Continuum\\miniconda3\\envs\\venv\\lib\\site-packages\\torch\\autograd\\__init__.py\u001b[0m in \u001b[0;36mbackward\u001b[1;34m(tensors, grad_tensors, retain_graph, create_graph, grad_variables)\u001b[0m\n\u001b[0;32m     88\u001b[0m     Variable._execution_engine.run_backward(\n\u001b[0;32m     89\u001b[0m         \u001b[0mtensors\u001b[0m\u001b[1;33m,\u001b[0m \u001b[0mgrad_tensors\u001b[0m\u001b[1;33m,\u001b[0m \u001b[0mretain_graph\u001b[0m\u001b[1;33m,\u001b[0m \u001b[0mcreate_graph\u001b[0m\u001b[1;33m,\u001b[0m\u001b[1;33m\u001b[0m\u001b[1;33m\u001b[0m\u001b[0m\n\u001b[1;32m---> 90\u001b[1;33m         allow_unreachable=True)  # allow_unreachable flag\n\u001b[0m\u001b[0;32m     91\u001b[0m \u001b[1;33m\u001b[0m\u001b[0m\n\u001b[0;32m     92\u001b[0m \u001b[1;33m\u001b[0m\u001b[0m\n",
      "\u001b[1;31mKeyboardInterrupt\u001b[0m: "
     ]
    }
   ],
   "source": [
    "# Training the Model\n",
    "\n",
    "# for epoch in range(num_epochs):\n",
    "#     for i, (document, labels, _) in enumerate(train_iter):\n",
    "#     for i, (document, _, labels) in enumerate(train_data):\n",
    "\n",
    "for i in range(total_step):\n",
    "    \n",
    "        # Reset the data_iter\n",
    "        if (i+1) % iter_per_epoch == 0:\n",
    "            train_iter = iter(train_loader)\n",
    "\n",
    "        document, _, labels = train_iter.next()        \n",
    "        document = Variable(document).float() # batch size 100\n",
    "        labels = Variable(labels).float()\n",
    "\n",
    "        # forward pass\n",
    "#         outputs = model(document)\n",
    "#         print(outputs.shape)\n",
    "#         print(labels.shape)\n",
    "#         loss = criterion(outputs, labels)\n",
    "\n",
    "        # backward + optimize\n",
    "#         optimizer.zero_grad()\n",
    "#         loss.backward()\n",
    "#         optimizer.step()\n",
    "        \n",
    "        def closure():\n",
    "            optimizer.zero_grad()\n",
    "            outputs = model(document)\n",
    "            loss = criterion(outputs, labels)\n",
    "            loss.backward()\n",
    "            if (i+1) % 10 == 0:\n",
    "                print ('Step [{}/{}], Loss: {:.4f}'.format(i+1, total_step, loss.item()))            \n",
    "            return loss\n",
    "        optimizer.step(closure)\n",
    "        \n",
    "#         if (i+1) % 10 == 0:\n",
    "#             print ('Step [{}/{}], Loss: {:.4f}'.format(i+1, total_step, loss.item()))"
   ]
  },
  {
   "cell_type": "code",
   "execution_count": null,
   "metadata": {},
   "outputs": [],
   "source": [
    "print(torch.sum(torch.where(outputs>0.0000001, torch.tensor(1), torch.tensor(0)), dim=0))"
   ]
  },
  {
   "cell_type": "code",
   "execution_count": null,
   "metadata": {},
   "outputs": [],
   "source": [
    "print(torch.sum(torch.where(labels>0, torch.tensor(1), torch.tensor(0)), dim=0))"
   ]
  },
  {
   "cell_type": "code",
   "execution_count": null,
   "metadata": {},
   "outputs": [],
   "source": [
    "50128-50312"
   ]
  },
  {
   "cell_type": "code",
   "execution_count": null,
   "metadata": {},
   "outputs": [],
   "source": [
    "with torch.no_grad():\n",
    "    correct = 0\n",
    "    total = 0\n",
    "    for documents, _, labels in valid_data:\n",
    "        docs = Variable(torch.from_numpy(documents)).float()\n",
    "        outputs = model(docs)\n",
    "        print(torch.sum(torch.where(outputs>0.0001, torch.tensor(1), torch.tensor(0)), dim=0))\n",
    "        print(torch.sum(torch.where(labels>0, torch.tensor(1), torch.tensor(0)), dim=0))\n",
    "\n",
    "        umm, predicted = torch.max(outputs.data, 1)\n",
    "        print(umm.shape)\n",
    "        total += labels.size(0)\n",
    "        correct += (predicted == labels).sum()\n",
    "\n",
    "    print('Accuracy of the model on the 10000 test images: {} %'.format(100 * correct / total))\n",
    "\n",
    "# Save the model checkpoint\n",
    "torch.save(model.state_dict(), 'model.ckpt')"
   ]
  },
  {
   "cell_type": "code",
   "execution_count": null,
   "metadata": {},
   "outputs": [],
   "source": [
    "95894672/50312"
   ]
  },
  {
   "cell_type": "code",
   "execution_count": null,
   "metadata": {},
   "outputs": [],
   "source": [
    "import torchvision.utils as vutils\n",
    "from tensorboardX import SummaryWriter\n",
    "writer = SummaryWriter()"
   ]
  },
  {
   "cell_type": "code",
   "execution_count": null,
   "metadata": {},
   "outputs": [],
   "source": [
    "import matplotlib.pyplot as plt\n",
    "plt.switch_backend('agg')\n",
    "\n",
    "fig = plt.figure()\n",
    "\n",
    "c1 = plt.Circle((0.2, 0.5), 0.2, color='r')\n",
    "c2 = plt.Circle((0.8, 0.5), 0.2, color='r')\n",
    "\n",
    "ax = plt.gca()\n",
    "ax.add_patch(c1)\n",
    "ax.add_patch(c2)\n",
    "plt.axis('scaled')\n",
    "\n",
    "\n",
    "# from tensorboardX import SummaryWriter\n",
    "# writer = SummaryWriter()\n",
    "writer.add_figure('matplotlib', fig)\n",
    "writer.close()"
   ]
  },
  {
   "cell_type": "code",
   "execution_count": null,
   "metadata": {},
   "outputs": [],
   "source": [
    "# #         Forward + Backward + Optimize\n",
    "#         def closure():\n",
    "#             optimizer.zero_grad()\n",
    "#             outputs = model(document)\n",
    "#             loss = criterion(outputs, torch.max(labels, 1)[0])\n",
    "# #             print('loss:', loss.item())\n",
    "#             loss.backward()\n",
    "#             return loss\n",
    "#         optimizer.step(closure)\n"
   ]
  },
  {
   "cell_type": "code",
   "execution_count": null,
   "metadata": {
    "scrolled": false
   },
   "outputs": [],
   "source": [
    "import umap # fit should get a sparse matrix\n",
    "%time trans = umap.UMAP(n_neighbors=5, random_state=42, n_components=32, verbose=True).fit(train_data.data)\n",
    "trans.embedding_"
   ]
  }
 ],
 "metadata": {
  "kernelspec": {
   "display_name": "Python 3",
   "language": "python",
   "name": "python3"
  },
  "language_info": {
   "codemirror_mode": {
    "name": "ipython",
    "version": 3
   },
   "file_extension": ".py",
   "mimetype": "text/x-python",
   "name": "python",
   "nbconvert_exporter": "python",
   "pygments_lexer": "ipython3",
   "version": "3.6.7"
  }
 },
 "nbformat": 4,
 "nbformat_minor": 2
}
