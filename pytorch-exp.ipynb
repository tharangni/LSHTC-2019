{
 "cells": [
  {
   "cell_type": "code",
   "execution_count": null,
   "metadata": {},
   "outputs": [],
   "source": [
    "# wn_tensors = wn_tensors.to(device)\n",
    "# binary_yin = binary_yin.to(device)"
   ]
  },
  {
   "cell_type": "code",
   "execution_count": null,
   "metadata": {},
   "outputs": [],
   "source": [
    "# https://www.kaggle.com/pinocookie/pytorch-dataset-and-dataloader/data\n",
    "# https://discuss.pytorch.org/t/runtimeerror-multi-target-not-supported-newbie/10216/4\n",
    "\n",
    "# Build the Dataset. We are going to generate a simple data set and then we will read it.\n",
    "# Build the DataLoader.\n",
    "# Build the model.\n",
    "# Define the loss function and the optimizer.\n",
    "# Train the model.\n",
    "# Generate predictions.\n",
    "# Plot the results. "
   ]
  },
  {
   "cell_type": "code",
   "execution_count": 1,
   "metadata": {},
   "outputs": [],
   "source": [
    "import logging\n",
    "import numpy as np\n",
    "import collections, gc\n",
    "\n",
    "import torch\n",
    "import torch.nn as nn\n",
    "import torch.nn.functional as F\n",
    "\n",
    "from torch.autograd import Variable\n",
    "from sklearn import preprocessing, metrics\n",
    "from torch.utils.data import DataLoader, Dataset\n",
    "\n",
    "\n",
    "# from scripts.utils.logger import Logger\n",
    "from scripts.utils.data_reading import *\n",
    "from scripts.utils.processing import *\n",
    "\n",
    "logging.basicConfig(level=logging.INFO )"
   ]
  },
  {
   "cell_type": "code",
   "execution_count": 2,
   "metadata": {},
   "outputs": [],
   "source": [
    "n = 16 # wn vector size  --> ~log_{2}(num_classes)"
   ]
  },
  {
   "cell_type": "code",
   "execution_count": 3,
   "metadata": {},
   "outputs": [
    {
     "name": "stderr",
     "output_type": "stream",
     "text": [
      "65333it [00:00, 257137.66it/s]\n"
     ]
    }
   ],
   "source": [
    "# N, T_leaves & PI_parents have to be present globally! (list of all the labels)\n",
    "# one_hot_labels because I will keep accessing it for each document <1082>\n",
    "p2c_table, c2p_table, _, _, PI_parents, T_leaves, N = lookup_table(\"swiki/data/cat_hier.txt\", subset = False)"
   ]
  },
  {
   "cell_type": "code",
   "execution_count": 4,
   "metadata": {
    "scrolled": true
   },
   "outputs": [
    {
     "name": "stderr",
     "output_type": "stream",
     "text": [
      "100%|████████████████████████████████████████████████████████████████████████| 50312/50312 [00:00<00:00, 189563.36it/s]\n"
     ]
    }
   ],
   "source": [
    "order_mapping = generate_order_mapping(N)\n",
    "wn_tensors = generate_wn(N, n)\n",
    "binary_yin = generate_binary_yin(N)"
   ]
  },
  {
   "cell_type": "code",
   "execution_count": 5,
   "metadata": {},
   "outputs": [],
   "source": [
    "num_gpus = torch.cuda.device_count()"
   ]
  },
  {
   "cell_type": "code",
   "execution_count": 6,
   "metadata": {},
   "outputs": [],
   "source": [
    "device = torch.device(\"cuda\" if (torch.cuda.is_available() and num_gpus > 0) else \"cpu\")"
   ]
  },
  {
   "cell_type": "code",
   "execution_count": 7,
   "metadata": {},
   "outputs": [
    {
     "data": {
      "text/plain": [
       "device(type='cpu')"
      ]
     },
     "execution_count": 7,
     "metadata": {},
     "output_type": "execute_result"
    }
   ],
   "source": [
    "device"
   ]
  },
  {
   "cell_type": "code",
   "execution_count": 8,
   "metadata": {},
   "outputs": [],
   "source": [
    "torch.cuda.manual_seed(123)"
   ]
  },
  {
   "cell_type": "code",
   "execution_count": 18,
   "metadata": {},
   "outputs": [],
   "source": [
    "def too_hot_mapping(label):\n",
    "\n",
    "    # order_mapping, wn_tensors & binary_yin HAVE TO BE A GLOBAL OBJECT\n",
    "    \n",
    "#     doc_labels = list(map(int, list(label)))\n",
    "    w_n = []\n",
    "    w_pi = []\n",
    "    y_in = []\n",
    "    \n",
    "    try:\n",
    "        int_rep = order_mapping[label]\n",
    "        w_n.append(wn_tensors[int_rep-1])\n",
    "        if label in T_leaves:\n",
    "            y_in.append(binary_yin[int_rep-1])\n",
    "            if label in c2p_table:\n",
    "                pi_n = order_mapping[c2p_table[label][0]]\n",
    "                w_pi.append(wn_tensors[pi_n-1])\n",
    "    except:\n",
    "        print(\"wait whaat?\")\n",
    "    \n",
    "    w_n = list2tensor(w_n).to(device)\n",
    "    w_pi = list2tensor(w_pi).to(device)\n",
    "    y_in = list2tensor(y_in).to(device)\n",
    "    \n",
    "    return w_n, w_pi, y_in"
   ]
  },
  {
   "cell_type": "code",
   "execution_count": 19,
   "metadata": {},
   "outputs": [],
   "source": [
    "class DatasetSWIKI(Dataset):\n",
    "    \n",
    "    def __init__(self, file_path, reduce = True, n_components = 128):\n",
    "        self.reduce = reduce\n",
    "        self.n_components = n_components\n",
    "        self.data, self.labels = lower_dim(file_path, reduce, n_components)\n",
    "        \n",
    "    def __len__(self):\n",
    "        return self.data.shape[0]\n",
    "    \n",
    "    def __getitem__(self, index):\n",
    "        \n",
    "        if self.reduce:\n",
    "            document = torch.from_numpy(self.data[index]).to(device)\n",
    "        else:\n",
    "            document = torch.from_numpy(self.data[index].todense()).to(device)\n",
    "        \n",
    "        label = self.labels[index]\n",
    "        \n",
    "        w_n, w_pi, y_in = too_hot_mapping(label)        \n",
    "        \n",
    "        return document, label, w_n, w_pi, y_in"
   ]
  },
  {
   "cell_type": "code",
   "execution_count": 20,
   "metadata": {},
   "outputs": [],
   "source": [
    "n_components = 128"
   ]
  },
  {
   "cell_type": "code",
   "execution_count": 21,
   "metadata": {
    "scrolled": true
   },
   "outputs": [],
   "source": [
    "train_data = DatasetSWIKI(\"swiki/data/train_remapped_small.txt\", reduce=True, n_components = n_components)\n",
    "# valid_data = DatasetSWIKI(\"swiki/data/valid_remapped.txt\", reduce=True, n_components = n_components)"
   ]
  },
  {
   "cell_type": "code",
   "execution_count": 22,
   "metadata": {},
   "outputs": [
    {
     "data": {
      "text/plain": [
       "1396"
      ]
     },
     "execution_count": 22,
     "metadata": {},
     "output_type": "execute_result"
    }
   ],
   "source": [
    "len(train_data)"
   ]
  },
  {
   "cell_type": "code",
   "execution_count": 23,
   "metadata": {},
   "outputs": [],
   "source": [
    "batch_size = 32"
   ]
  },
  {
   "cell_type": "code",
   "execution_count": 24,
   "metadata": {},
   "outputs": [],
   "source": [
    "train_loader = DataLoader(train_data, batch_size=batch_size, shuffle = True)\n",
    "# valid_loader = DataLoader(valid_data, batch_size=batch_size, shuffle = False)"
   ]
  },
  {
   "cell_type": "code",
   "execution_count": 28,
   "metadata": {
    "scrolled": true
   },
   "outputs": [
    {
     "name": "stdout",
     "output_type": "stream",
     "text": [
      "docs shape on batch size = torch.Size([32, 128])\n",
      "label shape on batch size = torch.Size([32])\n",
      "w_n shape on batch size = torch.Size([32, 1, 16])\n",
      "w_pi shape on batch size = torch.Size([32, 1, 16])\n",
      "y_in shape on batch size = torch.Size([32, 1, 16])\n"
     ]
    }
   ],
   "source": [
    "train_iter = iter(train_loader)\n",
    "\n",
    "doc, labs, w_n, w_pi, y_in = train_iter.next()\n",
    "\n",
    "print('docs shape on batch size = {}'.format(doc.shape))\n",
    "print('label shape on batch size = {}'.format(labs.shape))\n",
    "print('w_n shape on batch size = {}'.format(w_n.shape))\n",
    "print('w_pi shape on batch size = {}'.format(w_pi.shape))\n",
    "print('y_in shape on batch size = {}'.format(y_in.shape))"
   ]
  },
  {
   "cell_type": "code",
   "execution_count": 29,
   "metadata": {},
   "outputs": [
    {
     "data": {
      "text/plain": [
       "(tensor([ 9.8365, -5.0457, -1.7610, -0.1776, -2.7741,  2.3263, -0.2055,  1.7506,\n",
       "          1.1513,  0.3741, -2.5467, -1.2244,  0.4956,  0.6239,  1.1025,  0.4333,\n",
       "         -0.0221, -0.9534, -1.0785, -0.1622, -1.1985,  1.3402,  0.2410, -1.3047,\n",
       "          0.8091,  1.4383, -0.9604,  0.8942,  1.6953, -0.5882, -0.7627,  0.2241,\n",
       "          1.3576,  0.1927, -0.4254, -1.1699, -0.1532,  0.4774,  0.8600, -1.2309,\n",
       "          0.4896,  0.3407, -0.1808,  0.6861,  0.5701,  0.3511, -1.0711,  1.4789,\n",
       "          0.2393, -0.2528, -0.1849, -1.2790,  1.0678,  0.0774, -0.3383,  2.4926,\n",
       "          0.3256, -1.9476,  0.2631, -1.7924, -1.8929, -0.3645,  0.0732,  1.4308,\n",
       "          0.7945, -0.4393,  1.7312, -0.6344,  0.2225, -1.0386, -0.1363, -1.2747,\n",
       "         -0.8533,  0.0650,  0.3359, -2.2044, -0.1062,  1.2255, -0.3418,  0.1249,\n",
       "         -1.2310, -0.9614, -1.3562, -0.6249,  0.4060,  0.2473, -1.5463,  0.7643,\n",
       "          0.4451, -1.7043,  0.2260, -1.0866,  1.5432,  0.4001, -0.6890,  0.3798,\n",
       "         -0.1583, -0.6503, -0.1117,  0.5798, -1.6438,  1.1445,  1.6411, -0.3180,\n",
       "         -1.1951,  1.8735,  0.0816,  0.9931,  0.7761,  0.8295,  0.9851, -0.9963,\n",
       "          0.7158, -0.2670, -0.8541, -0.4770,  0.0660,  0.4014,  1.1393,  0.3514,\n",
       "         -1.1032,  0.2914,  0.5652,  1.4823, -0.3056, -1.9122,  1.3495, -1.7799],\n",
       "        dtype=torch.float64),\n",
       " 13402,\n",
       " tensor([[0.9069, 0.2945, 0.2527, 0.7020, 0.3367, 0.0900, 0.2541, 0.5268, 0.3378,\n",
       "          0.4858, 0.4239, 0.2036, 0.4931, 0.2289, 0.9206, 0.2354]]),\n",
       " tensor([[0.7469, 0.1345, 0.3135, 0.8404, 0.9329, 0.4151, 0.7060, 0.7008, 0.3826,\n",
       "          0.9310, 0.1312, 0.3248, 0.4052, 0.4325, 0.4348, 0.4708]]),\n",
       " tensor([[-1., -1., -1., -1., -1.,  1., -1., -1., -1.,  1., -1., -1.,  1., -1.,\n",
       "          -1., -1.]]))"
      ]
     },
     "execution_count": 29,
     "metadata": {},
     "output_type": "execute_result"
    }
   ],
   "source": [
    "train_data.__getitem__(0)"
   ]
  },
  {
   "cell_type": "code",
   "execution_count": 138,
   "metadata": {},
   "outputs": [],
   "source": [
    "# Hyper Parameters \n",
    "input_size = train_data.data.shape[1] #2085164 -> 128\n",
    "\n",
    "num_classes = n #50312 --> n (16)\n",
    "num_epochs = 30 # TRAIN IT FOR A LOT OF EPOCHS!!!\n",
    "learning_rate = 0.001"
   ]
  },
  {
   "cell_type": "code",
   "execution_count": 139,
   "metadata": {},
   "outputs": [],
   "source": [
    "# Model\n",
    "class LogisticRegression(nn.Module):\n",
    "    def __init__(self):\n",
    "        super(LogisticRegression, self).__init__()\n",
    "        self.linear1 = nn.Linear(input_size, num_classes, False)\n",
    "        \n",
    "    def forward(self, x, wn):\n",
    "        x1 = self.linear1(x)\n",
    "        return x1*(wn)"
   ]
  },
  {
   "cell_type": "code",
   "execution_count": 140,
   "metadata": {},
   "outputs": [],
   "source": [
    "model = LogisticRegression().to(device)"
   ]
  },
  {
   "cell_type": "code",
   "execution_count": 141,
   "metadata": {},
   "outputs": [
    {
     "data": {
      "text/plain": [
       "LogisticRegression(\n",
       "  (linear1): Linear(in_features=128, out_features=16, bias=False)\n",
       ")"
      ]
     },
     "execution_count": 141,
     "metadata": {},
     "output_type": "execute_result"
    }
   ],
   "source": [
    "model"
   ]
  },
  {
   "cell_type": "code",
   "execution_count": 142,
   "metadata": {},
   "outputs": [],
   "source": [
    "criterion = nn.SoftMarginLoss(reduction='mean') \n",
    "L2Loss = nn.MSELoss()\n",
    "optimizer = torch.optim.LBFGS(model.parameters(), lr=learning_rate)"
   ]
  },
  {
   "cell_type": "raw",
   "metadata": {},
   "source": [
    "logger = Logger('./logs')"
   ]
  },
  {
   "cell_type": "code",
   "execution_count": 143,
   "metadata": {},
   "outputs": [],
   "source": [
    "total_step = len(train_loader)"
   ]
  },
  {
   "cell_type": "code",
   "execution_count": 144,
   "metadata": {},
   "outputs": [],
   "source": [
    "torch.cuda.empty_cache()"
   ]
  },
  {
   "cell_type": "code",
   "execution_count": 145,
   "metadata": {},
   "outputs": [],
   "source": [
    "# torch.cuda.memory_cached()-torch.cuda.memory_allocated()"
   ]
  },
  {
   "cell_type": "code",
   "execution_count": 146,
   "metadata": {},
   "outputs": [
    {
     "data": {
      "text/plain": [
       "tensor(0.0134, grad_fn=<MulBackward0>)"
      ]
     },
     "execution_count": 146,
     "metadata": {},
     "output_type": "execute_result"
    }
   ],
   "source": [
    "nn.parameter.Parameter(torch.mean(0.5*torch.sqrt(torch.sum((labels-pis)**2, dim=1))**2))*1e-2"
   ]
  },
  {
   "cell_type": "code",
   "execution_count": 147,
   "metadata": {},
   "outputs": [
    {
     "name": "stdout",
     "output_type": "stream",
     "text": [
      "<class 'torch.nn.parameter.Parameter'>\n",
      "torch.Size([16, 128])\n",
      "tensor(2.2950, grad_fn=<NormBackward0>)\n"
     ]
    }
   ],
   "source": [
    "for m in model.parameters():\n",
    "    print(type(m))\n",
    "    print(m.shape)\n",
    "    print(m.norm(p=2))"
   ]
  },
  {
   "cell_type": "code",
   "execution_count": 148,
   "metadata": {
    "scrolled": true
   },
   "outputs": [
    {
     "name": "stdout",
     "output_type": "stream",
     "text": [
      "Epoch [1/30], step:[40/44], loss: 0.701780\n",
      "Epoch [1/30], step:[40/44], loss: 0.701776\n",
      "Epoch [1/30], step:[40/44], loss: 0.701670\n",
      "Epoch [1/30], step:[40/44], loss: 0.701461\n",
      "Epoch [1/30], step:[40/44], loss: 0.701159\n",
      "Epoch [1/30], step:[40/44], loss: 0.700785\n",
      "Epoch [1/30], step:[40/44], loss: 0.700378\n",
      "Epoch [1/30], step:[40/44], loss: 0.699948\n",
      "Epoch [1/30], step:[40/44], loss: 0.699492\n",
      "Epoch [1/30], step:[40/44], loss: 0.699007\n",
      "Epoch [1/30], step:[40/44], loss: 0.698487\n",
      "Epoch [1/30], step:[40/44], loss: 0.697928\n",
      "Epoch [1/30], step:[40/44], loss: 0.697341\n",
      "Epoch [1/30], step:[40/44], loss: 0.696745\n",
      "Epoch [1/30], step:[40/44], loss: 0.696138\n",
      "Epoch [1/30], step:[40/44], loss: 0.695504\n",
      "Epoch [1/30], step:[40/44], loss: 0.694851\n",
      "Epoch [1/30], step:[40/44], loss: 0.694196\n",
      "Epoch [1/30], step:[40/44], loss: 0.693538\n",
      "Epoch [1/30], step:[40/44], loss: 0.692863\n",
      "Epoch [2/30], step:[40/44], loss: 0.689873\n",
      "Epoch [2/30], step:[40/44], loss: 0.689846\n",
      "Epoch [2/30], step:[40/44], loss: 0.689708\n",
      "Epoch [2/30], step:[40/44], loss: 0.689504\n",
      "Epoch [2/30], step:[40/44], loss: 0.689194\n",
      "Epoch [2/30], step:[40/44], loss: 0.688795\n",
      "Epoch [2/30], step:[40/44], loss: 0.688309\n",
      "Epoch [2/30], step:[40/44], loss: 0.687809\n",
      "Epoch [2/30], step:[40/44], loss: 0.687331\n",
      "Epoch [2/30], step:[40/44], loss: 0.686813\n",
      "Epoch [2/30], step:[40/44], loss: 0.686240\n",
      "Epoch [2/30], step:[40/44], loss: 0.685633\n",
      "Epoch [2/30], step:[40/44], loss: 0.684988\n",
      "Epoch [2/30], step:[40/44], loss: 0.684291\n",
      "Epoch [2/30], step:[40/44], loss: 0.683614\n",
      "Epoch [2/30], step:[40/44], loss: 0.682963\n",
      "Epoch [2/30], step:[40/44], loss: 0.682293\n",
      "Epoch [2/30], step:[40/44], loss: 0.681601\n",
      "Epoch [2/30], step:[40/44], loss: 0.680914\n",
      "Epoch [2/30], step:[40/44], loss: 0.680224\n",
      "Epoch [3/30], step:[40/44], loss: 0.662275\n",
      "Epoch [3/30], step:[40/44], loss: 0.662266\n",
      "Epoch [3/30], step:[40/44], loss: 0.662123\n",
      "Epoch [3/30], step:[40/44], loss: 0.661867\n",
      "Epoch [3/30], step:[40/44], loss: 0.661539\n",
      "Epoch [3/30], step:[40/44], loss: 0.661119\n",
      "Epoch [3/30], step:[40/44], loss: 0.660723\n",
      "Epoch [3/30], step:[40/44], loss: 0.660307\n",
      "Epoch [3/30], step:[40/44], loss: 0.659837\n",
      "Epoch [3/30], step:[40/44], loss: 0.659336\n",
      "Epoch [3/30], step:[40/44], loss: 0.658829\n",
      "Epoch [3/30], step:[40/44], loss: 0.658312\n",
      "Epoch [3/30], step:[40/44], loss: 0.657699\n",
      "Epoch [3/30], step:[40/44], loss: 0.657092\n",
      "Epoch [3/30], step:[40/44], loss: 0.656526\n",
      "Epoch [3/30], step:[40/44], loss: 0.655944\n",
      "Epoch [3/30], step:[40/44], loss: 0.655350\n",
      "Epoch [3/30], step:[40/44], loss: 0.654748\n",
      "Epoch [3/30], step:[40/44], loss: 0.654135\n",
      "Epoch [3/30], step:[40/44], loss: 0.653514\n",
      "Epoch [4/30], step:[40/44], loss: 0.633975\n",
      "Epoch [4/30], step:[40/44], loss: 0.633959\n",
      "Epoch [4/30], step:[40/44], loss: 0.633843\n",
      "Epoch [4/30], step:[40/44], loss: 0.633688\n",
      "Epoch [4/30], step:[40/44], loss: 0.633478\n",
      "Epoch [4/30], step:[40/44], loss: 0.633226\n",
      "Epoch [4/30], step:[40/44], loss: 0.632940\n",
      "Epoch [4/30], step:[40/44], loss: 0.632595\n",
      "Epoch [4/30], step:[40/44], loss: 0.632220\n",
      "Epoch [4/30], step:[40/44], loss: 0.631836\n",
      "Epoch [4/30], step:[40/44], loss: 0.631447\n",
      "Epoch [4/30], step:[40/44], loss: 0.631036\n",
      "Epoch [4/30], step:[40/44], loss: 0.630583\n",
      "Epoch [4/30], step:[40/44], loss: 0.630133\n",
      "Epoch [4/30], step:[40/44], loss: 0.629671\n",
      "Epoch [4/30], step:[40/44], loss: 0.629186\n",
      "Epoch [4/30], step:[40/44], loss: 0.628686\n",
      "Epoch [4/30], step:[40/44], loss: 0.628165\n",
      "Epoch [4/30], step:[40/44], loss: 0.627618\n",
      "Epoch [4/30], step:[40/44], loss: 0.627065\n",
      "Epoch [5/30], step:[40/44], loss: 0.662006\n",
      "Epoch [5/30], step:[40/44], loss: 0.662002\n",
      "Epoch [5/30], step:[40/44], loss: 0.661909\n",
      "Epoch [5/30], step:[40/44], loss: 0.661755\n",
      "Epoch [5/30], step:[40/44], loss: 0.661545\n",
      "Epoch [5/30], step:[40/44], loss: 0.661274\n",
      "Epoch [5/30], step:[40/44], loss: 0.660947\n",
      "Epoch [5/30], step:[40/44], loss: 0.660603\n",
      "Epoch [5/30], step:[40/44], loss: 0.660246\n",
      "Epoch [5/30], step:[40/44], loss: 0.659855\n",
      "Epoch [5/30], step:[40/44], loss: 0.659416\n",
      "Epoch [5/30], step:[40/44], loss: 0.658940\n",
      "Epoch [5/30], step:[40/44], loss: 0.658474\n",
      "Epoch [5/30], step:[40/44], loss: 0.657985\n",
      "Epoch [5/30], step:[40/44], loss: 0.657456\n",
      "Epoch [5/30], step:[40/44], loss: 0.656945\n",
      "Epoch [5/30], step:[40/44], loss: 0.656438\n",
      "Epoch [5/30], step:[40/44], loss: 0.655912\n",
      "Epoch [5/30], step:[40/44], loss: 0.655302\n",
      "Epoch [5/30], step:[40/44], loss: 0.654730\n",
      "Epoch [6/30], step:[40/44], loss: 0.638961\n",
      "Epoch [6/30], step:[40/44], loss: 0.638953\n",
      "Epoch [6/30], step:[40/44], loss: 0.638858\n",
      "Epoch [6/30], step:[40/44], loss: 0.638695\n",
      "Epoch [6/30], step:[40/44], loss: 0.638448\n",
      "Epoch [6/30], step:[40/44], loss: 0.638183\n",
      "Epoch [6/30], step:[40/44], loss: 0.637884\n",
      "Epoch [6/30], step:[40/44], loss: 0.637511\n",
      "Epoch [6/30], step:[40/44], loss: 0.637133\n",
      "Epoch [6/30], step:[40/44], loss: 0.636735\n",
      "Epoch [6/30], step:[40/44], loss: 0.636284\n",
      "Epoch [6/30], step:[40/44], loss: 0.635810\n",
      "Epoch [6/30], step:[40/44], loss: 0.635334\n",
      "Epoch [6/30], step:[40/44], loss: 0.634833\n",
      "Epoch [6/30], step:[40/44], loss: 0.634293\n",
      "Epoch [6/30], step:[40/44], loss: 0.633736\n",
      "Epoch [6/30], step:[40/44], loss: 0.633186\n",
      "Epoch [6/30], step:[40/44], loss: 0.632619\n",
      "Epoch [6/30], step:[40/44], loss: 0.632010\n",
      "Epoch [6/30], step:[40/44], loss: 0.631430\n",
      "Epoch [7/30], step:[40/44], loss: 0.665746\n",
      "Epoch [7/30], step:[40/44], loss: 0.665708\n",
      "Epoch [7/30], step:[40/44], loss: 0.665595\n",
      "Epoch [7/30], step:[40/44], loss: 0.665430\n",
      "Epoch [7/30], step:[40/44], loss: 0.665191\n",
      "Epoch [7/30], step:[40/44], loss: 0.664861\n",
      "Epoch [7/30], step:[40/44], loss: 0.664495\n",
      "Epoch [7/30], step:[40/44], loss: 0.664069\n",
      "Epoch [7/30], step:[40/44], loss: 0.663660\n",
      "Epoch [7/30], step:[40/44], loss: 0.663227\n",
      "Epoch [7/30], step:[40/44], loss: 0.662719\n",
      "Epoch [7/30], step:[40/44], loss: 0.662200\n",
      "Epoch [7/30], step:[40/44], loss: 0.661680\n",
      "Epoch [7/30], step:[40/44], loss: 0.661150\n",
      "Epoch [7/30], step:[40/44], loss: 0.660585\n",
      "Epoch [7/30], step:[40/44], loss: 0.659986\n",
      "Epoch [7/30], step:[40/44], loss: 0.659365\n",
      "Epoch [7/30], step:[40/44], loss: 0.658724\n",
      "Epoch [7/30], step:[40/44], loss: 0.658058\n",
      "Epoch [7/30], step:[40/44], loss: 0.657378\n",
      "Epoch [8/30], step:[40/44], loss: 0.655957\n",
      "Epoch [8/30], step:[40/44], loss: 0.655949\n",
      "Epoch [8/30], step:[40/44], loss: 0.655864\n",
      "Epoch [8/30], step:[40/44], loss: 0.655697\n",
      "Epoch [8/30], step:[40/44], loss: 0.655443\n",
      "Epoch [8/30], step:[40/44], loss: 0.655109\n",
      "Epoch [8/30], step:[40/44], loss: 0.654728\n",
      "Epoch [8/30], step:[40/44], loss: 0.654290\n",
      "Epoch [8/30], step:[40/44], loss: 0.653822\n",
      "Epoch [8/30], step:[40/44], loss: 0.653377\n",
      "Epoch [8/30], step:[40/44], loss: 0.652901\n",
      "Epoch [8/30], step:[40/44], loss: 0.652396\n",
      "Epoch [8/30], step:[40/44], loss: 0.651896\n",
      "Epoch [8/30], step:[40/44], loss: 0.651372\n",
      "Epoch [8/30], step:[40/44], loss: 0.650811\n",
      "Epoch [8/30], step:[40/44], loss: 0.650235\n",
      "Epoch [8/30], step:[40/44], loss: 0.649657\n",
      "Epoch [8/30], step:[40/44], loss: 0.649083\n",
      "Epoch [8/30], step:[40/44], loss: 0.648489\n",
      "Epoch [8/30], step:[40/44], loss: 0.647871\n",
      "Epoch [9/30], step:[40/44], loss: 0.657447\n",
      "Epoch [9/30], step:[40/44], loss: 0.657440\n",
      "Epoch [9/30], step:[40/44], loss: 0.657341\n",
      "Epoch [9/30], step:[40/44], loss: 0.657203\n",
      "Epoch [9/30], step:[40/44], loss: 0.657002\n",
      "Epoch [9/30], step:[40/44], loss: 0.656744\n",
      "Epoch [9/30], step:[40/44], loss: 0.656435\n",
      "Epoch [9/30], step:[40/44], loss: 0.656065\n",
      "Epoch [9/30], step:[40/44], loss: 0.655670\n",
      "Epoch [9/30], step:[40/44], loss: 0.655261\n",
      "Epoch [9/30], step:[40/44], loss: 0.654828\n",
      "Epoch [9/30], step:[40/44], loss: 0.654361\n",
      "Epoch [9/30], step:[40/44], loss: 0.653856\n",
      "Epoch [9/30], step:[40/44], loss: 0.653338\n",
      "Epoch [9/30], step:[40/44], loss: 0.652807\n",
      "Epoch [9/30], step:[40/44], loss: 0.652257\n",
      "Epoch [9/30], step:[40/44], loss: 0.651691\n",
      "Epoch [9/30], step:[40/44], loss: 0.651113\n",
      "Epoch [9/30], step:[40/44], loss: 0.650526\n",
      "Epoch [9/30], step:[40/44], loss: 0.649900\n",
      "Epoch [10/30], step:[40/44], loss: 0.675455\n",
      "Epoch [10/30], step:[40/44], loss: 0.675445\n",
      "Epoch [10/30], step:[40/44], loss: 0.675287\n",
      "Epoch [10/30], step:[40/44], loss: 0.675030\n",
      "Epoch [10/30], step:[40/44], loss: 0.674603\n",
      "Epoch [10/30], step:[40/44], loss: 0.674104\n",
      "Epoch [10/30], step:[40/44], loss: 0.673560\n",
      "Epoch [10/30], step:[40/44], loss: 0.672894\n",
      "Epoch [10/30], step:[40/44], loss: 0.672208\n",
      "Epoch [10/30], step:[40/44], loss: 0.671524\n"
     ]
    },
    {
     "name": "stdout",
     "output_type": "stream",
     "text": [
      "Epoch [10/30], step:[40/44], loss: 0.670789\n",
      "Epoch [10/30], step:[40/44], loss: 0.669994\n",
      "Epoch [10/30], step:[40/44], loss: 0.669203\n",
      "Epoch [10/30], step:[40/44], loss: 0.668447\n",
      "Epoch [10/30], step:[40/44], loss: 0.667655\n",
      "Epoch [10/30], step:[40/44], loss: 0.666843\n",
      "Epoch [10/30], step:[40/44], loss: 0.666043\n",
      "Epoch [10/30], step:[40/44], loss: 0.665224\n",
      "Epoch [10/30], step:[40/44], loss: 0.664428\n",
      "Epoch [10/30], step:[40/44], loss: 0.663645\n",
      "Epoch [11/30], step:[40/44], loss: 0.675747\n",
      "Epoch [11/30], step:[40/44], loss: 0.675734\n",
      "Epoch [11/30], step:[40/44], loss: 0.675646\n",
      "Epoch [11/30], step:[40/44], loss: 0.675503\n",
      "Epoch [11/30], step:[40/44], loss: 0.675274\n",
      "Epoch [11/30], step:[40/44], loss: 0.674955\n",
      "Epoch [11/30], step:[40/44], loss: 0.674545\n",
      "Epoch [11/30], step:[40/44], loss: 0.674150\n",
      "Epoch [11/30], step:[40/44], loss: 0.673725\n",
      "Epoch [11/30], step:[40/44], loss: 0.673230\n",
      "Epoch [11/30], step:[40/44], loss: 0.672747\n",
      "Epoch [11/30], step:[40/44], loss: 0.672250\n",
      "Epoch [11/30], step:[40/44], loss: 0.671709\n",
      "Epoch [11/30], step:[40/44], loss: 0.671140\n",
      "Epoch [11/30], step:[40/44], loss: 0.670584\n",
      "Epoch [11/30], step:[40/44], loss: 0.669999\n",
      "Epoch [11/30], step:[40/44], loss: 0.669391\n",
      "Epoch [11/30], step:[40/44], loss: 0.668790\n",
      "Epoch [11/30], step:[40/44], loss: 0.668185\n",
      "Epoch [11/30], step:[40/44], loss: 0.667561\n",
      "Epoch [12/30], step:[40/44], loss: 0.636496\n",
      "Epoch [12/30], step:[40/44], loss: 0.636479\n",
      "Epoch [12/30], step:[40/44], loss: 0.636275\n",
      "Epoch [12/30], step:[40/44], loss: 0.636093\n",
      "Epoch [12/30], step:[40/44], loss: 0.635829\n",
      "Epoch [12/30], step:[40/44], loss: 0.635501\n",
      "Epoch [12/30], step:[40/44], loss: 0.635128\n",
      "Epoch [12/30], step:[40/44], loss: 0.634706\n",
      "Epoch [12/30], step:[40/44], loss: 0.634259\n",
      "Epoch [12/30], step:[40/44], loss: 0.633792\n",
      "Epoch [12/30], step:[40/44], loss: 0.633299\n",
      "Epoch [12/30], step:[40/44], loss: 0.632774\n",
      "Epoch [12/30], step:[40/44], loss: 0.632217\n",
      "Epoch [12/30], step:[40/44], loss: 0.631662\n",
      "Epoch [12/30], step:[40/44], loss: 0.631104\n",
      "Epoch [12/30], step:[40/44], loss: 0.630528\n",
      "Epoch [12/30], step:[40/44], loss: 0.629899\n",
      "Epoch [12/30], step:[40/44], loss: 0.629212\n",
      "Epoch [12/30], step:[40/44], loss: 0.628554\n",
      "Epoch [12/30], step:[40/44], loss: 0.627910\n",
      "Epoch [13/30], step:[40/44], loss: 0.632621\n",
      "Epoch [13/30], step:[40/44], loss: 0.632615\n",
      "Epoch [13/30], step:[40/44], loss: 0.632512\n",
      "Epoch [13/30], step:[40/44], loss: 0.632312\n",
      "Epoch [13/30], step:[40/44], loss: 0.632031\n",
      "Epoch [13/30], step:[40/44], loss: 0.631640\n",
      "Epoch [13/30], step:[40/44], loss: 0.631233\n",
      "Epoch [13/30], step:[40/44], loss: 0.630825\n",
      "Epoch [13/30], step:[40/44], loss: 0.630394\n",
      "Epoch [13/30], step:[40/44], loss: 0.629935\n",
      "Epoch [13/30], step:[40/44], loss: 0.629435\n",
      "Epoch [13/30], step:[40/44], loss: 0.628942\n",
      "Epoch [13/30], step:[40/44], loss: 0.628445\n",
      "Epoch [13/30], step:[40/44], loss: 0.627940\n",
      "Epoch [13/30], step:[40/44], loss: 0.627419\n",
      "Epoch [13/30], step:[40/44], loss: 0.626866\n",
      "Epoch [13/30], step:[40/44], loss: 0.626290\n",
      "Epoch [13/30], step:[40/44], loss: 0.625712\n",
      "Epoch [13/30], step:[40/44], loss: 0.625138\n",
      "Epoch [13/30], step:[40/44], loss: 0.624554\n",
      "Epoch [14/30], step:[40/44], loss: 0.627099\n",
      "Epoch [14/30], step:[40/44], loss: 0.627079\n",
      "Epoch [14/30], step:[40/44], loss: 0.626916\n",
      "Epoch [14/30], step:[40/44], loss: 0.626720\n",
      "Epoch [14/30], step:[40/44], loss: 0.626417\n",
      "Epoch [14/30], step:[40/44], loss: 0.626131\n",
      "Epoch [14/30], step:[40/44], loss: 0.625808\n",
      "Epoch [14/30], step:[40/44], loss: 0.625350\n",
      "Epoch [14/30], step:[40/44], loss: 0.624922\n",
      "Epoch [14/30], step:[40/44], loss: 0.624495\n",
      "Epoch [14/30], step:[40/44], loss: 0.623993\n",
      "Epoch [14/30], step:[40/44], loss: 0.623448\n",
      "Epoch [14/30], step:[40/44], loss: 0.622925\n",
      "Epoch [14/30], step:[40/44], loss: 0.622391\n",
      "Epoch [14/30], step:[40/44], loss: 0.621827\n",
      "Epoch [14/30], step:[40/44], loss: 0.621222\n",
      "Epoch [14/30], step:[40/44], loss: 0.620659\n",
      "Epoch [14/30], step:[40/44], loss: 0.620049\n",
      "Epoch [14/30], step:[40/44], loss: 0.619442\n",
      "Epoch [14/30], step:[40/44], loss: 0.618864\n",
      "Epoch [15/30], step:[40/44], loss: 0.675035\n",
      "Epoch [15/30], step:[40/44], loss: 0.675022\n",
      "Epoch [15/30], step:[40/44], loss: 0.674904\n",
      "Epoch [15/30], step:[40/44], loss: 0.674659\n",
      "Epoch [15/30], step:[40/44], loss: 0.674274\n",
      "Epoch [15/30], step:[40/44], loss: 0.673856\n",
      "Epoch [15/30], step:[40/44], loss: 0.673415\n",
      "Epoch [15/30], step:[40/44], loss: 0.672890\n",
      "Epoch [15/30], step:[40/44], loss: 0.672349\n",
      "Epoch [15/30], step:[40/44], loss: 0.671796\n",
      "Epoch [15/30], step:[40/44], loss: 0.671207\n",
      "Epoch [15/30], step:[40/44], loss: 0.670613\n",
      "Epoch [15/30], step:[40/44], loss: 0.669994\n",
      "Epoch [15/30], step:[40/44], loss: 0.669352\n",
      "Epoch [15/30], step:[40/44], loss: 0.668712\n",
      "Epoch [15/30], step:[40/44], loss: 0.668079\n",
      "Epoch [15/30], step:[40/44], loss: 0.667432\n",
      "Epoch [15/30], step:[40/44], loss: 0.666747\n",
      "Epoch [15/30], step:[40/44], loss: 0.666075\n",
      "Epoch [15/30], step:[40/44], loss: 0.665414\n",
      "Epoch [16/30], step:[40/44], loss: 0.664683\n",
      "Epoch [16/30], step:[40/44], loss: 0.664676\n",
      "Epoch [16/30], step:[40/44], loss: 0.664585\n",
      "Epoch [16/30], step:[40/44], loss: 0.664414\n",
      "Epoch [16/30], step:[40/44], loss: 0.664161\n",
      "Epoch [16/30], step:[40/44], loss: 0.663800\n",
      "Epoch [16/30], step:[40/44], loss: 0.663359\n",
      "Epoch [16/30], step:[40/44], loss: 0.662926\n",
      "Epoch [16/30], step:[40/44], loss: 0.662478\n",
      "Epoch [16/30], step:[40/44], loss: 0.661999\n",
      "Epoch [16/30], step:[40/44], loss: 0.661502\n",
      "Epoch [16/30], step:[40/44], loss: 0.660991\n",
      "Epoch [16/30], step:[40/44], loss: 0.660438\n",
      "Epoch [16/30], step:[40/44], loss: 0.659879\n",
      "Epoch [16/30], step:[40/44], loss: 0.659308\n",
      "Epoch [16/30], step:[40/44], loss: 0.658710\n",
      "Epoch [16/30], step:[40/44], loss: 0.658130\n",
      "Epoch [16/30], step:[40/44], loss: 0.657537\n",
      "Epoch [16/30], step:[40/44], loss: 0.656905\n",
      "Epoch [16/30], step:[40/44], loss: 0.656285\n",
      "Epoch [17/30], step:[40/44], loss: 0.664024\n",
      "Epoch [17/30], step:[40/44], loss: 0.664018\n",
      "Epoch [17/30], step:[40/44], loss: 0.663932\n",
      "Epoch [17/30], step:[40/44], loss: 0.663748\n",
      "Epoch [17/30], step:[40/44], loss: 0.663427\n",
      "Epoch [17/30], step:[40/44], loss: 0.663020\n",
      "Epoch [17/30], step:[40/44], loss: 0.662560\n",
      "Epoch [17/30], step:[40/44], loss: 0.661999\n",
      "Epoch [17/30], step:[40/44], loss: 0.661344\n",
      "Epoch [17/30], step:[40/44], loss: 0.660618\n",
      "Epoch [17/30], step:[40/44], loss: 0.659876\n",
      "Epoch [17/30], step:[40/44], loss: 0.659055\n",
      "Epoch [17/30], step:[40/44], loss: 0.658270\n",
      "Epoch [17/30], step:[40/44], loss: 0.657527\n",
      "Epoch [17/30], step:[40/44], loss: 0.656751\n",
      "Epoch [17/30], step:[40/44], loss: 0.655932\n",
      "Epoch [17/30], step:[40/44], loss: 0.655066\n",
      "Epoch [17/30], step:[40/44], loss: 0.654226\n",
      "Epoch [17/30], step:[40/44], loss: 0.653399\n",
      "Epoch [17/30], step:[40/44], loss: 0.652545\n",
      "Epoch [18/30], step:[40/44], loss: 0.649094\n",
      "Epoch [18/30], step:[40/44], loss: 0.649065\n",
      "Epoch [18/30], step:[40/44], loss: 0.648987\n",
      "Epoch [18/30], step:[40/44], loss: 0.648824\n",
      "Epoch [18/30], step:[40/44], loss: 0.648582\n",
      "Epoch [18/30], step:[40/44], loss: 0.648286\n",
      "Epoch [18/30], step:[40/44], loss: 0.647970\n",
      "Epoch [18/30], step:[40/44], loss: 0.647628\n",
      "Epoch [18/30], step:[40/44], loss: 0.647252\n",
      "Epoch [18/30], step:[40/44], loss: 0.646822\n",
      "Epoch [18/30], step:[40/44], loss: 0.646368\n",
      "Epoch [18/30], step:[40/44], loss: 0.645906\n",
      "Epoch [18/30], step:[40/44], loss: 0.645414\n",
      "Epoch [18/30], step:[40/44], loss: 0.644914\n",
      "Epoch [18/30], step:[40/44], loss: 0.644417\n",
      "Epoch [18/30], step:[40/44], loss: 0.643905\n",
      "Epoch [18/30], step:[40/44], loss: 0.643370\n",
      "Epoch [18/30], step:[40/44], loss: 0.642802\n",
      "Epoch [18/30], step:[40/44], loss: 0.642264\n",
      "Epoch [18/30], step:[40/44], loss: 0.641733\n",
      "Epoch [19/30], step:[40/44], loss: 0.648408\n",
      "Epoch [19/30], step:[40/44], loss: 0.648402\n",
      "Epoch [19/30], step:[40/44], loss: 0.648317\n",
      "Epoch [19/30], step:[40/44], loss: 0.648144\n",
      "Epoch [19/30], step:[40/44], loss: 0.647842\n",
      "Epoch [19/30], step:[40/44], loss: 0.647534\n",
      "Epoch [19/30], step:[40/44], loss: 0.647176\n",
      "Epoch [19/30], step:[40/44], loss: 0.646725\n",
      "Epoch [19/30], step:[40/44], loss: 0.646221\n",
      "Epoch [19/30], step:[40/44], loss: 0.645711\n",
      "Epoch [19/30], step:[40/44], loss: 0.645178\n",
      "Epoch [19/30], step:[40/44], loss: 0.644566\n",
      "Epoch [19/30], step:[40/44], loss: 0.643983\n",
      "Epoch [19/30], step:[40/44], loss: 0.643429\n",
      "Epoch [19/30], step:[40/44], loss: 0.642824\n",
      "Epoch [19/30], step:[40/44], loss: 0.642174\n"
     ]
    },
    {
     "name": "stdout",
     "output_type": "stream",
     "text": [
      "Epoch [19/30], step:[40/44], loss: 0.641565\n",
      "Epoch [19/30], step:[40/44], loss: 0.640958\n",
      "Epoch [19/30], step:[40/44], loss: 0.640280\n",
      "Epoch [19/30], step:[40/44], loss: 0.639651\n",
      "Epoch [20/30], step:[40/44], loss: 0.668756\n",
      "Epoch [20/30], step:[40/44], loss: 0.668742\n",
      "Epoch [20/30], step:[40/44], loss: 0.668604\n",
      "Epoch [20/30], step:[40/44], loss: 0.668354\n",
      "Epoch [20/30], step:[40/44], loss: 0.668030\n",
      "Epoch [20/30], step:[40/44], loss: 0.667698\n",
      "Epoch [20/30], step:[40/44], loss: 0.667283\n",
      "Epoch [20/30], step:[40/44], loss: 0.666839\n",
      "Epoch [20/30], step:[40/44], loss: 0.666366\n",
      "Epoch [20/30], step:[40/44], loss: 0.665797\n",
      "Epoch [20/30], step:[40/44], loss: 0.665181\n",
      "Epoch [20/30], step:[40/44], loss: 0.664568\n",
      "Epoch [20/30], step:[40/44], loss: 0.663917\n",
      "Epoch [20/30], step:[40/44], loss: 0.663224\n",
      "Epoch [20/30], step:[40/44], loss: 0.662473\n",
      "Epoch [20/30], step:[40/44], loss: 0.661687\n",
      "Epoch [20/30], step:[40/44], loss: 0.660897\n",
      "Epoch [20/30], step:[40/44], loss: 0.660096\n",
      "Epoch [20/30], step:[40/44], loss: 0.659256\n",
      "Epoch [20/30], step:[40/44], loss: 0.658370\n",
      "Epoch [21/30], step:[40/44], loss: 0.672321\n",
      "Epoch [21/30], step:[40/44], loss: 0.672315\n",
      "Epoch [21/30], step:[40/44], loss: 0.672164\n",
      "Epoch [21/30], step:[40/44], loss: 0.671900\n",
      "Epoch [21/30], step:[40/44], loss: 0.671542\n",
      "Epoch [21/30], step:[40/44], loss: 0.671106\n",
      "Epoch [21/30], step:[40/44], loss: 0.670602\n",
      "Epoch [21/30], step:[40/44], loss: 0.670029\n",
      "Epoch [21/30], step:[40/44], loss: 0.669395\n",
      "Epoch [21/30], step:[40/44], loss: 0.668709\n",
      "Epoch [21/30], step:[40/44], loss: 0.668050\n",
      "Epoch [21/30], step:[40/44], loss: 0.667395\n",
      "Epoch [21/30], step:[40/44], loss: 0.666696\n",
      "Epoch [21/30], step:[40/44], loss: 0.666006\n",
      "Epoch [21/30], step:[40/44], loss: 0.665318\n",
      "Epoch [21/30], step:[40/44], loss: 0.664631\n",
      "Epoch [21/30], step:[40/44], loss: 0.663917\n",
      "Epoch [21/30], step:[40/44], loss: 0.663207\n",
      "Epoch [21/30], step:[40/44], loss: 0.662523\n",
      "Epoch [21/30], step:[40/44], loss: 0.661831\n",
      "Epoch [22/30], step:[40/44], loss: 0.657040\n",
      "Epoch [22/30], step:[40/44], loss: 0.657027\n",
      "Epoch [22/30], step:[40/44], loss: 0.656854\n",
      "Epoch [22/30], step:[40/44], loss: 0.656598\n",
      "Epoch [22/30], step:[40/44], loss: 0.656241\n",
      "Epoch [22/30], step:[40/44], loss: 0.655807\n",
      "Epoch [22/30], step:[40/44], loss: 0.655315\n",
      "Epoch [22/30], step:[40/44], loss: 0.654776\n",
      "Epoch [22/30], step:[40/44], loss: 0.654187\n",
      "Epoch [22/30], step:[40/44], loss: 0.653542\n",
      "Epoch [22/30], step:[40/44], loss: 0.652891\n",
      "Epoch [22/30], step:[40/44], loss: 0.652240\n",
      "Epoch [22/30], step:[40/44], loss: 0.651552\n",
      "Epoch [22/30], step:[40/44], loss: 0.650861\n",
      "Epoch [22/30], step:[40/44], loss: 0.650161\n",
      "Epoch [22/30], step:[40/44], loss: 0.649417\n",
      "Epoch [22/30], step:[40/44], loss: 0.648690\n",
      "Epoch [22/30], step:[40/44], loss: 0.647960\n",
      "Epoch [22/30], step:[40/44], loss: 0.647239\n",
      "Epoch [22/30], step:[40/44], loss: 0.646520\n",
      "Epoch [23/30], step:[40/44], loss: 0.668486\n",
      "Epoch [23/30], step:[40/44], loss: 0.668473\n",
      "Epoch [23/30], step:[40/44], loss: 0.668196\n",
      "Epoch [23/30], step:[40/44], loss: 0.667962\n",
      "Epoch [23/30], step:[40/44], loss: 0.667625\n",
      "Epoch [23/30], step:[40/44], loss: 0.667202\n",
      "Epoch [23/30], step:[40/44], loss: 0.666749\n",
      "Epoch [23/30], step:[40/44], loss: 0.666269\n",
      "Epoch [23/30], step:[40/44], loss: 0.665751\n",
      "Epoch [23/30], step:[40/44], loss: 0.665187\n",
      "Epoch [23/30], step:[40/44], loss: 0.664597\n",
      "Epoch [23/30], step:[40/44], loss: 0.663996\n",
      "Epoch [23/30], step:[40/44], loss: 0.663373\n",
      "Epoch [23/30], step:[40/44], loss: 0.662723\n",
      "Epoch [23/30], step:[40/44], loss: 0.662072\n",
      "Epoch [23/30], step:[40/44], loss: 0.661411\n",
      "Epoch [23/30], step:[40/44], loss: 0.660716\n",
      "Epoch [23/30], step:[40/44], loss: 0.659992\n",
      "Epoch [23/30], step:[40/44], loss: 0.659299\n",
      "Epoch [23/30], step:[40/44], loss: 0.658619\n",
      "Epoch [24/30], step:[40/44], loss: 0.641456\n",
      "Epoch [24/30], step:[40/44], loss: 0.641444\n",
      "Epoch [24/30], step:[40/44], loss: 0.641250\n",
      "Epoch [24/30], step:[40/44], loss: 0.640953\n",
      "Epoch [24/30], step:[40/44], loss: 0.640514\n",
      "Epoch [24/30], step:[40/44], loss: 0.639997\n",
      "Epoch [24/30], step:[40/44], loss: 0.639436\n",
      "Epoch [24/30], step:[40/44], loss: 0.638781\n",
      "Epoch [24/30], step:[40/44], loss: 0.638140\n",
      "Epoch [24/30], step:[40/44], loss: 0.637480\n",
      "Epoch [24/30], step:[40/44], loss: 0.636764\n",
      "Epoch [24/30], step:[40/44], loss: 0.636050\n",
      "Epoch [24/30], step:[40/44], loss: 0.635344\n",
      "Epoch [24/30], step:[40/44], loss: 0.634602\n",
      "Epoch [24/30], step:[40/44], loss: 0.633879\n",
      "Epoch [24/30], step:[40/44], loss: 0.633149\n",
      "Epoch [24/30], step:[40/44], loss: 0.632412\n",
      "Epoch [24/30], step:[40/44], loss: 0.631684\n",
      "Epoch [24/30], step:[40/44], loss: 0.630942\n",
      "Epoch [24/30], step:[40/44], loss: 0.630220\n",
      "Epoch [25/30], step:[40/44], loss: 0.630600\n",
      "Epoch [25/30], step:[40/44], loss: 0.630571\n",
      "Epoch [25/30], step:[40/44], loss: 0.630443\n",
      "Epoch [25/30], step:[40/44], loss: 0.630178\n",
      "Epoch [25/30], step:[40/44], loss: 0.629889\n",
      "Epoch [25/30], step:[40/44], loss: 0.629552\n",
      "Epoch [25/30], step:[40/44], loss: 0.629170\n",
      "Epoch [25/30], step:[40/44], loss: 0.628768\n",
      "Epoch [25/30], step:[40/44], loss: 0.628340\n",
      "Epoch [25/30], step:[40/44], loss: 0.627896\n",
      "Epoch [25/30], step:[40/44], loss: 0.627424\n",
      "Epoch [25/30], step:[40/44], loss: 0.626920\n",
      "Epoch [25/30], step:[40/44], loss: 0.626367\n",
      "Epoch [25/30], step:[40/44], loss: 0.625807\n",
      "Epoch [25/30], step:[40/44], loss: 0.625252\n",
      "Epoch [25/30], step:[40/44], loss: 0.624685\n",
      "Epoch [25/30], step:[40/44], loss: 0.624100\n",
      "Epoch [25/30], step:[40/44], loss: 0.623478\n",
      "Epoch [25/30], step:[40/44], loss: 0.622867\n",
      "Epoch [25/30], step:[40/44], loss: 0.622261\n",
      "Epoch [26/30], step:[40/44], loss: 0.641969\n",
      "Epoch [26/30], step:[40/44], loss: 0.641952\n",
      "Epoch [26/30], step:[40/44], loss: 0.641883\n",
      "Epoch [26/30], step:[40/44], loss: 0.641719\n",
      "Epoch [26/30], step:[40/44], loss: 0.641524\n",
      "Epoch [26/30], step:[40/44], loss: 0.641306\n",
      "Epoch [26/30], step:[40/44], loss: 0.641048\n",
      "Epoch [26/30], step:[40/44], loss: 0.640731\n",
      "Epoch [26/30], step:[40/44], loss: 0.640375\n",
      "Epoch [26/30], step:[40/44], loss: 0.640038\n",
      "Epoch [26/30], step:[40/44], loss: 0.639697\n",
      "Epoch [26/30], step:[40/44], loss: 0.639335\n",
      "Epoch [26/30], step:[40/44], loss: 0.638958\n",
      "Epoch [26/30], step:[40/44], loss: 0.638574\n",
      "Epoch [26/30], step:[40/44], loss: 0.638188\n",
      "Epoch [26/30], step:[40/44], loss: 0.637795\n",
      "Epoch [26/30], step:[40/44], loss: 0.637393\n",
      "Epoch [26/30], step:[40/44], loss: 0.636975\n",
      "Epoch [26/30], step:[40/44], loss: 0.636541\n",
      "Epoch [26/30], step:[40/44], loss: 0.636095\n",
      "Epoch [27/30], step:[40/44], loss: 0.655737\n",
      "Epoch [27/30], step:[40/44], loss: 0.655734\n",
      "Epoch [27/30], step:[40/44], loss: 0.655584\n",
      "Epoch [27/30], step:[40/44], loss: 0.655308\n",
      "Epoch [27/30], step:[40/44], loss: 0.654850\n",
      "Epoch [27/30], step:[40/44], loss: 0.654441\n",
      "Epoch [27/30], step:[40/44], loss: 0.653999\n",
      "Epoch [27/30], step:[40/44], loss: 0.653450\n",
      "Epoch [27/30], step:[40/44], loss: 0.652854\n",
      "Epoch [27/30], step:[40/44], loss: 0.652272\n",
      "Epoch [27/30], step:[40/44], loss: 0.651653\n",
      "Epoch [27/30], step:[40/44], loss: 0.650994\n",
      "Epoch [27/30], step:[40/44], loss: 0.650308\n",
      "Epoch [27/30], step:[40/44], loss: 0.649617\n",
      "Epoch [27/30], step:[40/44], loss: 0.648909\n",
      "Epoch [27/30], step:[40/44], loss: 0.648193\n",
      "Epoch [27/30], step:[40/44], loss: 0.647517\n",
      "Epoch [27/30], step:[40/44], loss: 0.646831\n",
      "Epoch [27/30], step:[40/44], loss: 0.646108\n",
      "Epoch [27/30], step:[40/44], loss: 0.645370\n",
      "Epoch [28/30], step:[40/44], loss: 0.639571\n",
      "Epoch [28/30], step:[40/44], loss: 0.639568\n",
      "Epoch [28/30], step:[40/44], loss: 0.639419\n",
      "Epoch [28/30], step:[40/44], loss: 0.639169\n",
      "Epoch [28/30], step:[40/44], loss: 0.638830\n",
      "Epoch [28/30], step:[40/44], loss: 0.638418\n",
      "Epoch [28/30], step:[40/44], loss: 0.637975\n",
      "Epoch [28/30], step:[40/44], loss: 0.637529\n",
      "Epoch [28/30], step:[40/44], loss: 0.637069\n",
      "Epoch [28/30], step:[40/44], loss: 0.636564\n",
      "Epoch [28/30], step:[40/44], loss: 0.636014\n",
      "Epoch [28/30], step:[40/44], loss: 0.635470\n",
      "Epoch [28/30], step:[40/44], loss: 0.634934\n",
      "Epoch [28/30], step:[40/44], loss: 0.634373\n",
      "Epoch [28/30], step:[40/44], loss: 0.633805\n",
      "Epoch [28/30], step:[40/44], loss: 0.633251\n",
      "Epoch [28/30], step:[40/44], loss: 0.632690\n",
      "Epoch [28/30], step:[40/44], loss: 0.632097\n",
      "Epoch [28/30], step:[40/44], loss: 0.631470\n",
      "Epoch [28/30], step:[40/44], loss: 0.630868\n",
      "Epoch [29/30], step:[40/44], loss: 0.632140\n",
      "Epoch [29/30], step:[40/44], loss: 0.632131\n"
     ]
    },
    {
     "name": "stdout",
     "output_type": "stream",
     "text": [
      "Epoch [29/30], step:[40/44], loss: 0.632031\n",
      "Epoch [29/30], step:[40/44], loss: 0.631872\n",
      "Epoch [29/30], step:[40/44], loss: 0.631655\n",
      "Epoch [29/30], step:[40/44], loss: 0.631380\n",
      "Epoch [29/30], step:[40/44], loss: 0.631049\n",
      "Epoch [29/30], step:[40/44], loss: 0.630691\n",
      "Epoch [29/30], step:[40/44], loss: 0.630315\n",
      "Epoch [29/30], step:[40/44], loss: 0.629889\n",
      "Epoch [29/30], step:[40/44], loss: 0.629441\n",
      "Epoch [29/30], step:[40/44], loss: 0.628983\n",
      "Epoch [29/30], step:[40/44], loss: 0.628512\n",
      "Epoch [29/30], step:[40/44], loss: 0.628045\n",
      "Epoch [29/30], step:[40/44], loss: 0.627573\n",
      "Epoch [29/30], step:[40/44], loss: 0.627095\n",
      "Epoch [29/30], step:[40/44], loss: 0.626601\n",
      "Epoch [29/30], step:[40/44], loss: 0.626077\n",
      "Epoch [29/30], step:[40/44], loss: 0.625542\n",
      "Epoch [29/30], step:[40/44], loss: 0.625014\n",
      "Epoch [30/30], step:[40/44], loss: 0.650448\n",
      "Epoch [30/30], step:[40/44], loss: 0.650438\n",
      "Epoch [30/30], step:[40/44], loss: 0.650221\n",
      "Epoch [30/30], step:[40/44], loss: 0.649948\n",
      "Epoch [30/30], step:[40/44], loss: 0.649536\n",
      "Epoch [30/30], step:[40/44], loss: 0.649005\n",
      "Epoch [30/30], step:[40/44], loss: 0.648452\n",
      "Epoch [30/30], step:[40/44], loss: 0.647847\n",
      "Epoch [30/30], step:[40/44], loss: 0.647289\n",
      "Epoch [30/30], step:[40/44], loss: 0.646699\n",
      "Epoch [30/30], step:[40/44], loss: 0.646054\n",
      "Epoch [30/30], step:[40/44], loss: 0.645406\n",
      "Epoch [30/30], step:[40/44], loss: 0.644727\n",
      "Epoch [30/30], step:[40/44], loss: 0.644056\n",
      "Epoch [30/30], step:[40/44], loss: 0.643354\n",
      "Epoch [30/30], step:[40/44], loss: 0.642632\n",
      "Epoch [30/30], step:[40/44], loss: 0.641902\n",
      "Epoch [30/30], step:[40/44], loss: 0.641191\n",
      "Epoch [30/30], step:[40/44], loss: 0.640490\n",
      "Epoch [30/30], step:[40/44], loss: 0.639792\n"
     ]
    }
   ],
   "source": [
    "# Training the Model\n",
    "losses = []\n",
    "\n",
    "for epoch in range(num_epochs):\n",
    "    train_iter = iter(train_loader)\n",
    "    for i, (document, all_labels, labels, pis, y_ins) in enumerate(train_iter):\n",
    "        \n",
    "        document = Variable(document).float().to(device) \n",
    "        \n",
    "        labels = Variable(labels).float().to(device).view(-1, n)\n",
    "        pis = pis.view(-1, n)\n",
    "        y_ins = y_ins.view(-1, n)\n",
    "        \n",
    "        # todo: make this better i.e. better label embeddings that actually embed hierarchy\n",
    "        # ideas: skipgram/cbow uses context-word pair to create embeddings. try similarly for\n",
    "        # label hierarchy - i.e. parent-child relationship - use this to create label embeddings\n",
    "        # maybe this way l2_reg value will be low. right now it needs to be of atleast 1e-3 order\n",
    "        # to get nice curve. [OR] start with a fixed random vector initialization for the root node\n",
    "        # and then as you traverse through the tree add v.v.v.small amount of randomness to the children\n",
    "        # till you reach the leaf.\n",
    "        l2_reg = nn.parameter.Parameter(torch.mean(0.5*torch.sqrt(torch.sum((labels-pis)**2, dim=1))**2))*1e-3\n",
    "        \n",
    "        if type(optimizer) != torch.optim.LBFGS:            \n",
    "            optimizer.zero_grad()\n",
    "            w_xi = model(document, labels)\n",
    "            loss1 = criterion(w_xi, y_ins) + l2_reg\n",
    "            \n",
    "            if (i+1) % 40 == 0: \n",
    "                print ('Epoch [{}/{}], step:[{}/{}], loss: {:.6f}'.format(epoch+1, num_epochs, i+1, total_step, loss1.item()))\n",
    "                torch.cuda.empty_cache()\n",
    "\n",
    "            losses.append(loss1.item())\n",
    "            loss1.backward()\n",
    "            optimizer.step()\n",
    "\n",
    "        else:\n",
    "            def closure():               \n",
    "                optimizer.zero_grad()\n",
    "                w_xi = model(document, labels)\n",
    "                loss1 = criterion(w_xi, y_ins) \n",
    "                \n",
    "                if (i+1) % 40 == 0: \n",
    "                    print ('Epoch [{}/{}], step:[{}/{}], loss: {:.6f}'.format(epoch+1, num_epochs, i+1, total_step, loss1.item()))\n",
    "                    torch.cuda.empty_cache()\n",
    "                \n",
    "                losses.append(loss1.item())\n",
    "                loss1.backward()\n",
    "                return loss1\n",
    "            optimizer.step(closure)\n"
   ]
  },
  {
   "cell_type": "code",
   "execution_count": 149,
   "metadata": {},
   "outputs": [
    {
     "data": {
      "image/png": "[encoded data removed]",
      "text/plain": [
       "<Figure size 432x288 with 1 Axes>"
      ]
     },
     "metadata": {
      "needs_background": "light"
     },
     "output_type": "display_data"
    }
   ],
   "source": [
    "import matplotlib.pyplot as plt\n",
    "%matplotlib inline\n",
    "plt.plot(losses);"
   ]
  },
  {
   "cell_type": "code",
   "execution_count": null,
   "metadata": {},
   "outputs": [],
   "source": [
    "labels.t().mm(document)"
   ]
  },
  {
   "cell_type": "code",
   "execution_count": null,
   "metadata": {},
   "outputs": [],
   "source": [
    "losses[-469]"
   ]
  },
  {
   "cell_type": "raw",
   "metadata": {},
   "source": [
    "torch.save(model.state_dict(), 'train_small_model.ckpt')"
   ]
  },
  {
   "cell_type": "code",
   "execution_count": null,
   "metadata": {},
   "outputs": [],
   "source": [
    "with torch.no_grad():\n",
    "    correct = 0\n",
    "    total = 0\n",
    "    for documents, _, labels in valid_data:\n",
    "        docs = Variable(torch.from_numpy(documents)).float()\n",
    "        outputs = model(docs)\n",
    "        print(torch.sum(torch.where(outputs>0.0001, torch.tensor(1), torch.tensor(0)), dim=0))\n",
    "        print(torch.sum(torch.where(labels>0, torch.tensor(1), torch.tensor(0)), dim=0))\n",
    "\n",
    "        umm, predicted = torch.max(outputs.data, 1)\n",
    "        print(umm.shape)\n",
    "        total += labels.size(0)\n",
    "        correct += (predicted == labels).sum()\n",
    "\n",
    "    print('Accuracy of the model on the 10000 test images: {} %'.format(100 * correct / total))"
   ]
  },
  {
   "cell_type": "code",
   "execution_count": null,
   "metadata": {},
   "outputs": [],
   "source": [
    "# Save the model checkpoint\n",
    "torch.save(model.state_dict(), 'train_valid_model.ckpt')"
   ]
  },
  {
   "cell_type": "code",
   "execution_count": null,
   "metadata": {},
   "outputs": [],
   "source": [
    "import torchvision.utils as vutils\n",
    "from tensorboardX import SummaryWriter\n",
    "writer = SummaryWriter()"
   ]
  },
  {
   "cell_type": "code",
   "execution_count": null,
   "metadata": {},
   "outputs": [],
   "source": [
    "import matplotlib.pyplot as plt\n",
    "plt.switch_backend('agg')\n",
    "\n",
    "fig = plt.figure()\n",
    "\n",
    "c1 = plt.Circle((0.2, 0.5), 0.2, color='r')\n",
    "c2 = plt.Circle((0.8, 0.5), 0.2, color='r')\n",
    "\n",
    "ax = plt.gca()\n",
    "ax.add_patch(c1)\n",
    "ax.add_patch(c2)\n",
    "plt.axis('scaled')\n",
    "\n",
    "\n",
    "# from tensorboardX import SummaryWriter\n",
    "# writer = SummaryWriter()\n",
    "writer.add_figure('matplotlib', fig)\n",
    "writer.close()"
   ]
  },
  {
   "cell_type": "code",
   "execution_count": null,
   "metadata": {},
   "outputs": [],
   "source": [
    "# #         Forward + Backward + Optimize\n",
    "#         def closure():\n",
    "#             optimizer.zero_grad()\n",
    "#             outputs = model(document)\n",
    "#             loss = criterion(outputs, torch.max(labels, 1)[0])\n",
    "# #             print('loss:', loss.item())\n",
    "#             loss.backward()\n",
    "#             return loss\n",
    "#         optimizer.step(closure)\n"
   ]
  },
  {
   "cell_type": "code",
   "execution_count": null,
   "metadata": {
    "scrolled": false
   },
   "outputs": [],
   "source": [
    "import umap # fit should get a sparse matrix\n",
    "%time trans = umap.UMAP(n_neighbors=5, random_state=42, n_components=32, verbose=True).fit(train_data.data)\n",
    "trans.embedding_"
   ]
  },
  {
   "cell_type": "code",
   "execution_count": null,
   "metadata": {},
   "outputs": [],
   "source": [
    "167593,441685 160318:1 227881:1 255720:1 265934:1 432905:2 515946:1 538188:1 586136:1 610561:1 692683:1 \n",
    "                                        735075:1 828325:1 874107:1 898766:1 1087064:1 1354716:1 1432746:1 \n",
    "                                        1454292:1 1463839:1 1626714:1 1715083:1 1839104:1 1864180:1 2023750:1 \n"
   ]
  }
 ],
 "metadata": {
  "kernelspec": {
   "display_name": "Python 3",
   "language": "python",
   "name": "python3"
  },
  "language_info": {
   "codemirror_mode": {
    "name": "ipython",
    "version": 3
   },
   "file_extension": ".py",
   "mimetype": "text/x-python",
   "name": "python",
   "nbconvert_exporter": "python",
   "pygments_lexer": "ipython3",
   "version": "3.6.7"
  }
 },
 "nbformat": 4,
 "nbformat_minor": 2
}
