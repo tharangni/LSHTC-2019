{
 "cells": [
  {
   "cell_type": "code",
   "execution_count": null,
   "metadata": {},
   "outputs": [],
   "source": [
    "# https://www.kaggle.com/pinocookie/pytorch-dataset-and-dataloader/data\n",
    "# https://discuss.pytorch.org/t/runtimeerror-multi-target-not-supported-newbie/10216/4\n",
    "\n",
    "# Build the Dataset. We are going to generate a simple data set and then we will read it.\n",
    "# Build the DataLoader.\n",
    "# Build the model.\n",
    "# Define the loss function and the optimizer.\n",
    "# Train the model.\n",
    "# Generate predictions.\n",
    "# Plot the results. "
   ]
  },
  {
   "cell_type": "code",
   "execution_count": 1,
   "metadata": {},
   "outputs": [],
   "source": [
    "import logging\n",
    "import numpy as np\n",
    "import collections, gc\n",
    "\n",
    "import torch\n",
    "import torch.nn as nn\n",
    "import torch.nn.functional as F\n",
    "\n",
    "from torch.autograd import Variable\n",
    "from sklearn import preprocessing, metrics\n",
    "from torch.utils.data import DataLoader, Dataset\n",
    "\n",
    "\n",
    "# from scripts.utils.logger import Logger\n",
    "from scripts.utils.data_reading import lower_dim, rr_reader\n",
    "from scripts.utils.processing import *\n",
    "\n",
    "logging.basicConfig(level=logging.INFO )"
   ]
  },
  {
   "cell_type": "code",
   "execution_count": 2,
   "metadata": {},
   "outputs": [
    {
     "name": "stderr",
     "output_type": "stream",
     "text": [
      "65333it [00:00, 249997.23it/s]\n"
     ]
    }
   ],
   "source": [
    "# N, T_leaves & PI_parents have to be present globally! (list of all the labels)\n",
    "# one_hot_labels because I will keep accessing it for each document <1082>\n",
    "p2c_table, c2p_table, _, _, PI_parents, T_leaves, N = lookup_table(\"swiki/data/cat_hier.txt\", subset = False)"
   ]
  },
  {
   "cell_type": "code",
   "execution_count": 3,
   "metadata": {},
   "outputs": [],
   "source": [
    "n = 16 # wn vector size  --> ~log_{2}(num_classes)"
   ]
  },
  {
   "cell_type": "code",
   "execution_count": 4,
   "metadata": {
    "scrolled": true
   },
   "outputs": [
    {
     "name": "stderr",
     "output_type": "stream",
     "text": [
      "100%|████████████████████████████████████████████████████████████████████████| 50312/50312 [00:00<00:00, 161865.70it/s]\n"
     ]
    }
   ],
   "source": [
    "order_mapping = generate_order_mapping(N)\n",
    "wn_tensors = generate_wn(N, n)\n",
    "binary_yin = generate_binary_yin(N)"
   ]
  },
  {
   "cell_type": "code",
   "execution_count": 5,
   "metadata": {},
   "outputs": [],
   "source": [
    "num_gpus = torch.cuda.device_count()"
   ]
  },
  {
   "cell_type": "code",
   "execution_count": 6,
   "metadata": {},
   "outputs": [
    {
     "data": {
      "text/plain": [
       "0"
      ]
     },
     "execution_count": 6,
     "metadata": {},
     "output_type": "execute_result"
    }
   ],
   "source": [
    "num_gpus"
   ]
  },
  {
   "cell_type": "code",
   "execution_count": 7,
   "metadata": {},
   "outputs": [],
   "source": [
    "device = torch.device(\"cpu\" if (torch.cuda.is_available() and num_gpus > 0) else \"cpu\")"
   ]
  },
  {
   "cell_type": "code",
   "execution_count": 8,
   "metadata": {},
   "outputs": [
    {
     "data": {
      "text/plain": [
       "device(type='cpu')"
      ]
     },
     "execution_count": 8,
     "metadata": {},
     "output_type": "execute_result"
    }
   ],
   "source": [
    "device"
   ]
  },
  {
   "cell_type": "code",
   "execution_count": 9,
   "metadata": {},
   "outputs": [],
   "source": [
    "wn_tensors = wn_tensors.to(device)\n",
    "binary_yin = binary_yin.to(device)"
   ]
  },
  {
   "cell_type": "code",
   "execution_count": 10,
   "metadata": {},
   "outputs": [],
   "source": [
    "torch.cuda.manual_seed(123)"
   ]
  },
  {
   "cell_type": "code",
   "execution_count": 11,
   "metadata": {},
   "outputs": [],
   "source": [
    "def too_hot_mapping(label_tuple):\n",
    "\n",
    "    # order_mapping, wn_tensors & binary_yin HAVE TO BE A GLOBAL OBJECT\n",
    "    \n",
    "    doc_labels = list(map(int, list(label_tuple)))\n",
    "    w_n = []\n",
    "    w_pi = []\n",
    "    y_in = []\n",
    "    try:\n",
    "        for label in doc_labels:\n",
    "            int_rep = order_mapping[label]\n",
    "            w_n.append(wn_tensors[int_rep-1])\n",
    "            if label in T_leaves:\n",
    "                y_in.append(binary_yin[int_rep-1])\n",
    "                if label in c2p_table:\n",
    "                    pi_n = order_mapping[c2p_table[label][0]]\n",
    "                    w_pi.append(wn_tensors[pi_n-1])\n",
    "\n",
    "    except:\n",
    "        print(\"wait whaat?\")\n",
    "    \n",
    "    w_n = list2tensor(w_n)\n",
    "    w_pi = list2tensor(w_pi)\n",
    "    y_in = list2tensor(y_in)\n",
    "    \n",
    "    return w_n, w_pi, y_in"
   ]
  },
  {
   "cell_type": "code",
   "execution_count": 12,
   "metadata": {},
   "outputs": [],
   "source": [
    "class DatasetSWIKI(Dataset):\n",
    "    \n",
    "    def __init__(self, file_path, reduce = True, n_components = 128):\n",
    "        self.reduce = reduce\n",
    "        self.n_components = n_components\n",
    "        self.data, self.labels = lower_dim(file_path, reduce, n_components)\n",
    "        \n",
    "    def __len__(self):\n",
    "        return self.data.shape[0]\n",
    "    \n",
    "    def __getitem__(self, index):\n",
    "        \n",
    "        if self.reduce:\n",
    "            document = torch.from_numpy(self.data[index]).to(device)\n",
    "        else:\n",
    "            document = torch.from_numpy(self.data[index].todense()).to(device)\n",
    "        \n",
    "        label = self.labels[index]\n",
    "        \n",
    "        w_n, w_pi, y_in = too_hot_mapping(label)        \n",
    "        \n",
    "        return document, label, w_n, w_pi, y_in"
   ]
  },
  {
   "cell_type": "code",
   "execution_count": 13,
   "metadata": {},
   "outputs": [],
   "source": [
    "n_components = 128"
   ]
  },
  {
   "cell_type": "code",
   "execution_count": 14,
   "metadata": {
    "scrolled": true
   },
   "outputs": [
    {
     "name": "stderr",
     "output_type": "stream",
     "text": [
      "INFO:root:Elapsed time: 2.0min 54.63sec\n"
     ]
    }
   ],
   "source": [
    "train_data = DatasetSWIKI(\"swiki/data/train_remapped_small.txt\", reduce=True, n_components = n_components)\n",
    "# valid_data = DatasetSWIKI(\"swiki/data/valid_remapped.txt\", reduce=True, n_components = n_components)"
   ]
  },
  {
   "cell_type": "code",
   "execution_count": 15,
   "metadata": {},
   "outputs": [
    {
     "data": {
      "text/plain": [
       "500"
      ]
     },
     "execution_count": 15,
     "metadata": {},
     "output_type": "execute_result"
    }
   ],
   "source": [
    "len(train_data)"
   ]
  },
  {
   "cell_type": "code",
   "execution_count": 16,
   "metadata": {},
   "outputs": [],
   "source": [
    "batch_size = 1"
   ]
  },
  {
   "cell_type": "code",
   "execution_count": 17,
   "metadata": {},
   "outputs": [],
   "source": [
    "train_loader = DataLoader(train_data, batch_size=1, shuffle = False)\n",
    "# valid_loader = DataLoader(valid_data, batch_size=batch_size, shuffle = False)"
   ]
  },
  {
   "cell_type": "code",
   "execution_count": 18,
   "metadata": {
    "scrolled": true
   },
   "outputs": [
    {
     "name": "stdout",
     "output_type": "stream",
     "text": [
      "docs shape on batch size = torch.Size([1, 128])\n",
      "w_n shape on batch size = torch.Size([1, 3, 16])\n",
      "w_pi shape on batch size = torch.Size([1, 3, 16])\n",
      "y_in shape on batch size = torch.Size([1, 3, 16])\n"
     ]
    }
   ],
   "source": [
    "train_iter = iter(train_loader)\n",
    "\n",
    "doc, labbbs, w_n, w_pi, y_in = train_iter.next()\n",
    "\n",
    "print('docs shape on batch size = {}'.format(doc.shape))\n",
    "print('w_n shape on batch size = {}'.format(w_n.shape))\n",
    "print('w_pi shape on batch size = {}'.format(w_pi.shape))\n",
    "print('y_in shape on batch size = {}'.format(y_in.shape))"
   ]
  },
  {
   "cell_type": "code",
   "execution_count": 19,
   "metadata": {},
   "outputs": [
    {
     "data": {
      "text/plain": [
       "[tensor([13402.], dtype=torch.float64),\n",
       " tensor([33692.], dtype=torch.float64),\n",
       " tensor([393382.], dtype=torch.float64)]"
      ]
     },
     "execution_count": 19,
     "metadata": {},
     "output_type": "execute_result"
    }
   ],
   "source": [
    "labbbs"
   ]
  },
  {
   "cell_type": "code",
   "execution_count": 22,
   "metadata": {},
   "outputs": [
    {
     "data": {
      "text/plain": [
       "(tensor([ 9.8365e+00, -5.0457e+00, -1.7610e+00, -1.7764e-01, -2.7741e+00,\n",
       "          2.3263e+00, -2.0546e-01,  1.7506e+00,  1.1513e+00,  3.7410e-01,\n",
       "         -2.5467e+00, -1.2244e+00,  4.9557e-01,  6.2389e-01,  1.1025e+00,\n",
       "          4.3328e-01, -2.2094e-02, -9.5338e-01, -1.0785e+00, -1.6221e-01,\n",
       "         -1.1985e+00,  1.3402e+00,  2.4101e-01, -1.3047e+00,  8.0909e-01,\n",
       "          1.4383e+00, -9.6044e-01,  8.9424e-01,  1.6953e+00, -5.8823e-01,\n",
       "         -7.6265e-01,  2.2405e-01,  1.3576e+00,  1.9262e-01, -4.2536e-01,\n",
       "         -1.1699e+00, -1.5318e-01,  4.7740e-01,  8.5998e-01, -1.2309e+00,\n",
       "          4.8969e-01,  3.4071e-01, -1.8085e-01,  6.8598e-01,  5.7038e-01,\n",
       "          3.5133e-01, -1.0711e+00,  1.4789e+00,  2.3927e-01, -2.5339e-01,\n",
       "         -1.8474e-01, -1.2786e+00,  1.0679e+00,  7.7296e-02, -3.3784e-01,\n",
       "          2.4934e+00,  3.2623e-01, -1.9476e+00,  2.6238e-01, -1.7930e+00,\n",
       "         -1.8926e+00, -3.6320e-01,  7.2859e-02,  1.4309e+00,  7.9354e-01,\n",
       "         -4.4250e-01,  1.7334e+00, -6.2880e-01,  2.1958e-01, -1.0419e+00,\n",
       "         -1.3593e-01, -1.2756e+00, -8.4593e-01,  6.0635e-02,  3.3714e-01,\n",
       "         -2.1999e+00, -1.0898e-01,  1.2160e+00, -3.3381e-01,  1.1847e-01,\n",
       "         -1.2329e+00, -9.6092e-01, -1.3512e+00, -6.2562e-01,  3.9689e-01,\n",
       "          2.3990e-01, -1.5516e+00,  8.0380e-01,  4.4671e-01, -1.6609e+00,\n",
       "          2.6043e-01, -1.0986e+00,  1.5092e+00,  4.4274e-01, -6.5265e-01,\n",
       "          3.6001e-01, -1.3397e-01, -5.8993e-01, -6.0876e-02,  4.9252e-01,\n",
       "         -1.5758e+00,  1.1723e+00,  1.5125e+00, -3.2655e-01, -1.2649e+00,\n",
       "          1.6493e+00, -3.7900e-03,  8.4932e-01,  7.8090e-01,  3.5758e-01,\n",
       "          1.2759e+00, -8.2051e-01,  8.2986e-01, -6.4242e-02, -1.1653e+00,\n",
       "         -6.6539e-02,  8.4700e-01, -9.2775e-01,  1.1268e+00,  3.8902e-01,\n",
       "         -5.7732e-01, -1.3879e-01,  3.2794e-01, -9.8594e-01,  6.0522e-01,\n",
       "         -2.1904e+00, -3.0406e-01, -5.2515e-01], dtype=torch.float64),\n",
       " (13402.0, 33692.0, 393382.0),\n",
       " tensor([[0.9069, 0.2945, 0.2527, 0.7020, 0.3367, 0.0900, 0.2541, 0.5268, 0.3378,\n",
       "          0.4858, 0.4239, 0.2036, 0.4931, 0.2289, 0.9206, 0.2354],\n",
       "         [0.2943, 0.5716, 0.9146, 0.5599, 0.6611, 0.7190, 0.4120, 0.3430, 0.9802,\n",
       "          0.1819, 0.1820, 0.4825, 0.2596, 0.1379, 0.0494, 0.9703],\n",
       "         [0.8061, 0.8215, 0.6244, 0.6234, 0.0730, 0.8895, 0.0764, 0.0242, 0.9700,\n",
       "          0.0967, 0.4697, 0.1513, 0.6834, 0.3311, 0.8447, 0.6131]]),\n",
       " tensor([[0.7469, 0.1345, 0.3135, 0.8404, 0.9329, 0.4151, 0.7060, 0.7008, 0.3826,\n",
       "          0.9310, 0.1312, 0.3248, 0.4052, 0.4325, 0.4348, 0.4708],\n",
       "         [0.9391, 0.5735, 0.4942, 0.8688, 0.7416, 0.1870, 0.2167, 0.8589, 0.6207,\n",
       "          0.1773, 0.4504, 0.9518, 0.1637, 0.6488, 0.0771, 0.3717],\n",
       "         [0.1760, 0.5682, 0.6505, 0.9302, 0.2402, 0.4864, 0.2179, 0.9202, 0.1609,\n",
       "          0.4528, 0.0604, 0.8746, 0.5877, 0.2214, 0.1029, 0.9737]]),\n",
       " tensor([[-1., -1., -1., -1., -1.,  1., -1., -1., -1.,  1., -1., -1.,  1., -1.,\n",
       "          -1., -1.],\n",
       "         [-1., -1., -1., -1.,  1., -1.,  1., -1.,  1.,  1.,  1., -1.,  1., -1.,\n",
       "          -1., -1.],\n",
       "         [-1.,  1.,  1.,  1.,  1.,  1., -1.,  1.,  1.,  1.,  1.,  1.,  1.,  1.,\n",
       "          -1.,  1.]]))"
      ]
     },
     "execution_count": 22,
     "metadata": {},
     "output_type": "execute_result"
    }
   ],
   "source": [
    "train_data.__getitem__(0)"
   ]
  },
  {
   "cell_type": "code",
   "execution_count": null,
   "metadata": {},
   "outputs": [],
   "source": [
    "208516400/10940\n",
    "# 2085164/547"
   ]
  },
  {
   "cell_type": "code",
   "execution_count": 24,
   "metadata": {},
   "outputs": [],
   "source": [
    "# Hyper Parameters \n",
    "input_size = train_data.data.shape[1] #2085164 -> 128\n",
    "\n",
    "num_classes = n #50312 --> n (16)\n",
    "num_epochs = 10\n",
    "learning_rate = 0.001"
   ]
  },
  {
   "cell_type": "code",
   "execution_count": 25,
   "metadata": {},
   "outputs": [],
   "source": [
    "# Model\n",
    "class LogisticRegression(nn.Module):\n",
    "    def __init__(self):\n",
    "        super(LogisticRegression, self).__init__()\n",
    "        self.linear1 = nn.Linear(input_size, batch_size, False)\n",
    "        \n",
    "    def forward(self, x, y):\n",
    "        x1 = self.linear1(x)\n",
    "        x1 = F.relu(x1)\n",
    "        return x1.mm(y)"
   ]
  },
  {
   "cell_type": "code",
   "execution_count": 26,
   "metadata": {},
   "outputs": [],
   "source": [
    "model = LogisticRegression().to(device)"
   ]
  },
  {
   "cell_type": "code",
   "execution_count": 27,
   "metadata": {},
   "outputs": [
    {
     "data": {
      "text/plain": [
       "LogisticRegression(\n",
       "  (linear1): Linear(in_features=128, out_features=1, bias=False)\n",
       ")"
      ]
     },
     "execution_count": 27,
     "metadata": {},
     "output_type": "execute_result"
    }
   ],
   "source": [
    "model"
   ]
  },
  {
   "cell_type": "code",
   "execution_count": 28,
   "metadata": {},
   "outputs": [],
   "source": [
    "criterion = nn.SoftMarginLoss(reduction='mean') \n",
    "L2Loss = nn.MSELoss()\n",
    "optimizer = torch.optim.Adam(model.parameters(), lr=learning_rate)"
   ]
  },
  {
   "cell_type": "raw",
   "metadata": {},
   "source": [
    "logger = Logger('./logs')"
   ]
  },
  {
   "cell_type": "code",
   "execution_count": 29,
   "metadata": {},
   "outputs": [],
   "source": [
    "total_step = len(train_loader)"
   ]
  },
  {
   "cell_type": "code",
   "execution_count": 30,
   "metadata": {},
   "outputs": [],
   "source": [
    "torch.cuda.empty_cache()"
   ]
  },
  {
   "cell_type": "code",
   "execution_count": null,
   "metadata": {},
   "outputs": [],
   "source": [
    "# torch.cuda.memory_cached()-torch.cuda.memory_allocated()"
   ]
  },
  {
   "cell_type": "code",
   "execution_count": 31,
   "metadata": {
    "scrolled": true
   },
   "outputs": [
    {
     "name": "stdout",
     "output_type": "stream",
     "text": [
      "document.shape torch.Size([1, 128])\n",
      "labels.shape torch.Size([1, 3, 16])\n"
     ]
    },
    {
     "ename": "RuntimeError",
     "evalue": "matrices expected, got 2D, 3D tensors at c:\\users\\vssadministrator\\appdata\\local\\temp\\pip-req-build-ya97m4qs\\aten\\src\\th\\generic/THTensorMath.cpp:935",
     "output_type": "error",
     "traceback": [
      "\u001b[1;31m---------------------------------------------------------------------------\u001b[0m",
      "\u001b[1;31mRuntimeError\u001b[0m                              Traceback (most recent call last)",
      "\u001b[1;32m<ipython-input-31-39f60ac170aa>\u001b[0m in \u001b[0;36m<module>\u001b[1;34m\u001b[0m\n\u001b[0;32m     15\u001b[0m             \u001b[0moptimizer\u001b[0m\u001b[1;33m.\u001b[0m\u001b[0mzero_grad\u001b[0m\u001b[1;33m(\u001b[0m\u001b[1;33m)\u001b[0m\u001b[1;33m\u001b[0m\u001b[1;33m\u001b[0m\u001b[0m\n\u001b[0;32m     16\u001b[0m \u001b[1;33m\u001b[0m\u001b[0m\n\u001b[1;32m---> 17\u001b[1;33m             \u001b[0mw_xi\u001b[0m \u001b[1;33m=\u001b[0m \u001b[0mmodel\u001b[0m\u001b[1;33m(\u001b[0m\u001b[0mdocument\u001b[0m\u001b[1;33m,\u001b[0m \u001b[0mlabels\u001b[0m\u001b[1;33m)\u001b[0m\u001b[1;33m\u001b[0m\u001b[1;33m\u001b[0m\u001b[0m\n\u001b[0m\u001b[0;32m     18\u001b[0m             \u001b[0mprint\u001b[0m\u001b[1;33m(\u001b[0m\u001b[1;34m\"w_xi.shape\"\u001b[0m\u001b[1;33m,\u001b[0m \u001b[0mw_xi\u001b[0m\u001b[1;33m.\u001b[0m\u001b[0mshape\u001b[0m\u001b[1;33m)\u001b[0m\u001b[1;33m\u001b[0m\u001b[1;33m\u001b[0m\u001b[0m\n\u001b[0;32m     19\u001b[0m             \u001b[0mloss1\u001b[0m \u001b[1;33m=\u001b[0m \u001b[0mcriterion\u001b[0m\u001b[1;33m(\u001b[0m\u001b[0mw_xi\u001b[0m\u001b[1;33m,\u001b[0m \u001b[0my_in\u001b[0m\u001b[1;33m)\u001b[0m\u001b[1;33m\u001b[0m\u001b[1;33m\u001b[0m\u001b[0m\n",
      "\u001b[1;32m~\\AppData\\Local\\Continuum\\miniconda3\\envs\\venv\\lib\\site-packages\\torch\\nn\\modules\\module.py\u001b[0m in \u001b[0;36m__call__\u001b[1;34m(self, *input, **kwargs)\u001b[0m\n\u001b[0;32m    487\u001b[0m             \u001b[0mresult\u001b[0m \u001b[1;33m=\u001b[0m \u001b[0mself\u001b[0m\u001b[1;33m.\u001b[0m\u001b[0m_slow_forward\u001b[0m\u001b[1;33m(\u001b[0m\u001b[1;33m*\u001b[0m\u001b[0minput\u001b[0m\u001b[1;33m,\u001b[0m \u001b[1;33m**\u001b[0m\u001b[0mkwargs\u001b[0m\u001b[1;33m)\u001b[0m\u001b[1;33m\u001b[0m\u001b[1;33m\u001b[0m\u001b[0m\n\u001b[0;32m    488\u001b[0m         \u001b[1;32melse\u001b[0m\u001b[1;33m:\u001b[0m\u001b[1;33m\u001b[0m\u001b[1;33m\u001b[0m\u001b[0m\n\u001b[1;32m--> 489\u001b[1;33m             \u001b[0mresult\u001b[0m \u001b[1;33m=\u001b[0m \u001b[0mself\u001b[0m\u001b[1;33m.\u001b[0m\u001b[0mforward\u001b[0m\u001b[1;33m(\u001b[0m\u001b[1;33m*\u001b[0m\u001b[0minput\u001b[0m\u001b[1;33m,\u001b[0m \u001b[1;33m**\u001b[0m\u001b[0mkwargs\u001b[0m\u001b[1;33m)\u001b[0m\u001b[1;33m\u001b[0m\u001b[1;33m\u001b[0m\u001b[0m\n\u001b[0m\u001b[0;32m    490\u001b[0m         \u001b[1;32mfor\u001b[0m \u001b[0mhook\u001b[0m \u001b[1;32min\u001b[0m \u001b[0mself\u001b[0m\u001b[1;33m.\u001b[0m\u001b[0m_forward_hooks\u001b[0m\u001b[1;33m.\u001b[0m\u001b[0mvalues\u001b[0m\u001b[1;33m(\u001b[0m\u001b[1;33m)\u001b[0m\u001b[1;33m:\u001b[0m\u001b[1;33m\u001b[0m\u001b[1;33m\u001b[0m\u001b[0m\n\u001b[0;32m    491\u001b[0m             \u001b[0mhook_result\u001b[0m \u001b[1;33m=\u001b[0m \u001b[0mhook\u001b[0m\u001b[1;33m(\u001b[0m\u001b[0mself\u001b[0m\u001b[1;33m,\u001b[0m \u001b[0minput\u001b[0m\u001b[1;33m,\u001b[0m \u001b[0mresult\u001b[0m\u001b[1;33m)\u001b[0m\u001b[1;33m\u001b[0m\u001b[1;33m\u001b[0m\u001b[0m\n",
      "\u001b[1;32m<ipython-input-25-f6bff9003a4b>\u001b[0m in \u001b[0;36mforward\u001b[1;34m(self, x, y)\u001b[0m\n\u001b[0;32m      8\u001b[0m         \u001b[0mx1\u001b[0m \u001b[1;33m=\u001b[0m \u001b[0mself\u001b[0m\u001b[1;33m.\u001b[0m\u001b[0mlinear1\u001b[0m\u001b[1;33m(\u001b[0m\u001b[0mx\u001b[0m\u001b[1;33m)\u001b[0m\u001b[1;33m\u001b[0m\u001b[1;33m\u001b[0m\u001b[0m\n\u001b[0;32m      9\u001b[0m         \u001b[0mx1\u001b[0m \u001b[1;33m=\u001b[0m \u001b[0mF\u001b[0m\u001b[1;33m.\u001b[0m\u001b[0mrelu\u001b[0m\u001b[1;33m(\u001b[0m\u001b[0mx1\u001b[0m\u001b[1;33m)\u001b[0m\u001b[1;33m\u001b[0m\u001b[1;33m\u001b[0m\u001b[0m\n\u001b[1;32m---> 10\u001b[1;33m         \u001b[1;32mreturn\u001b[0m \u001b[0mx1\u001b[0m\u001b[1;33m.\u001b[0m\u001b[0mmm\u001b[0m\u001b[1;33m(\u001b[0m\u001b[0my\u001b[0m\u001b[1;33m)\u001b[0m\u001b[1;33m\u001b[0m\u001b[1;33m\u001b[0m\u001b[0m\n\u001b[0m",
      "\u001b[1;31mRuntimeError\u001b[0m: matrices expected, got 2D, 3D tensors at c:\\users\\vssadministrator\\appdata\\local\\temp\\pip-req-build-ya97m4qs\\aten\\src\\th\\generic/THTensorMath.cpp:935"
     ]
    }
   ],
   "source": [
    "# Training the Model\n",
    "losses = []\n",
    "\n",
    "for epoch in range(num_epochs):\n",
    "    train_iter = iter(train_loader)\n",
    "    for i, (document, _, labels, pis, y_ins) in enumerate(train_iter):\n",
    "        \n",
    "        document = Variable(document).float().to(device) # batch size 100\n",
    "        labels = Variable(labels).float().to(device)\n",
    "        print(\"document.shape\", document.shape)\n",
    "        print(\"labels.shape\", labels.shape)\n",
    "\n",
    "        if type(optimizer) != torch.optim.LBFGS:\n",
    "            \n",
    "            optimizer.zero_grad()\n",
    "\n",
    "            w_xi = model(document, labels)\n",
    "            print(\"w_xi.shape\", w_xi.shape)\n",
    "            loss1 = criterion(w_xi, y_in)\n",
    "            print(\"y_in.shape\", y_in.shape)\n",
    "            print(\"loss1.shape\", loss1)\n",
    "            loss2 = L2Loss(labels, pi)\n",
    "            print(\"loss2.shape\", loss2)\n",
    "            loss_full = torch.sqrt(loss2) + loss1\n",
    "            print(\"loss_full.shape\", loss_full)\n",
    "            if (i+1) % 5 == 0: \n",
    "                print ('Epoch [{}/{}], step:[{}/{}], loss: {:.6f}'.format(epoch+1, num_epochs, i+1, total_step, loss_full.item()))\n",
    "                torch.cuda.empty_cache()\n",
    " \n",
    "            losses.append(loss_full.item())\n",
    "            loss_full.backward()\n",
    "\n",
    "            optimizer.step()\n",
    "\n",
    "        else:\n",
    "            \n",
    "            def closure():\n",
    "                optimizer.zero_grad()\n",
    "\n",
    "                w_xi = model(document, labels)\n",
    "                loss1 = criterion(w_xi, y_in)\n",
    "                loss2 = L2Loss(labels, pi)\n",
    "                loss_full = torch.sqrt(loss2) + loss1\n",
    "                if (i+1) % 5 == 0: \n",
    "                    print ('Epoch [{}/{}], step:[{}/{}], loss: {:.6f}'.format(epoch+1, num_epochs, i+1, total_step, loss_full.item()))\n",
    "                    torch.cuda.empty_cache()\n",
    "\n",
    "                losses.append(loss_full.item())\n",
    "                loss_full.backward()\n",
    "                return loss_full\n",
    "\n",
    "            optimizer.step(closure)\n",
    "            \n",
    "        break\n",
    "    break"
   ]
  },
  {
   "cell_type": "code",
   "execution_count": null,
   "metadata": {},
   "outputs": [],
   "source": [
    "import matplotlib.pyplot as plt\n",
    "%matplotlib inline\n",
    "plt.plot(losses);"
   ]
  },
  {
   "cell_type": "code",
   "execution_count": null,
   "metadata": {},
   "outputs": [],
   "source": [
    "labels.t().mm(document)"
   ]
  },
  {
   "cell_type": "code",
   "execution_count": null,
   "metadata": {},
   "outputs": [],
   "source": [
    "losses[-469]"
   ]
  },
  {
   "cell_type": "raw",
   "metadata": {},
   "source": [
    "torch.save(model.state_dict(), 'train_small_model.ckpt')"
   ]
  },
  {
   "cell_type": "code",
   "execution_count": null,
   "metadata": {},
   "outputs": [],
   "source": [
    "with torch.no_grad():\n",
    "    correct = 0\n",
    "    total = 0\n",
    "    for documents, _, labels in valid_data:\n",
    "        docs = Variable(torch.from_numpy(documents)).float()\n",
    "        outputs = model(docs)\n",
    "        print(torch.sum(torch.where(outputs>0.0001, torch.tensor(1), torch.tensor(0)), dim=0))\n",
    "        print(torch.sum(torch.where(labels>0, torch.tensor(1), torch.tensor(0)), dim=0))\n",
    "\n",
    "        umm, predicted = torch.max(outputs.data, 1)\n",
    "        print(umm.shape)\n",
    "        total += labels.size(0)\n",
    "        correct += (predicted == labels).sum()\n",
    "\n",
    "    print('Accuracy of the model on the 10000 test images: {} %'.format(100 * correct / total))"
   ]
  },
  {
   "cell_type": "code",
   "execution_count": null,
   "metadata": {},
   "outputs": [],
   "source": [
    "# Save the model checkpoint\n",
    "torch.save(model.state_dict(), 'train_valid_model.ckpt')"
   ]
  },
  {
   "cell_type": "code",
   "execution_count": null,
   "metadata": {},
   "outputs": [],
   "source": [
    "import torchvision.utils as vutils\n",
    "from tensorboardX import SummaryWriter\n",
    "writer = SummaryWriter()"
   ]
  },
  {
   "cell_type": "code",
   "execution_count": null,
   "metadata": {},
   "outputs": [],
   "source": [
    "import matplotlib.pyplot as plt\n",
    "plt.switch_backend('agg')\n",
    "\n",
    "fig = plt.figure()\n",
    "\n",
    "c1 = plt.Circle((0.2, 0.5), 0.2, color='r')\n",
    "c2 = plt.Circle((0.8, 0.5), 0.2, color='r')\n",
    "\n",
    "ax = plt.gca()\n",
    "ax.add_patch(c1)\n",
    "ax.add_patch(c2)\n",
    "plt.axis('scaled')\n",
    "\n",
    "\n",
    "# from tensorboardX import SummaryWriter\n",
    "# writer = SummaryWriter()\n",
    "writer.add_figure('matplotlib', fig)\n",
    "writer.close()"
   ]
  },
  {
   "cell_type": "code",
   "execution_count": null,
   "metadata": {},
   "outputs": [],
   "source": [
    "# #         Forward + Backward + Optimize\n",
    "#         def closure():\n",
    "#             optimizer.zero_grad()\n",
    "#             outputs = model(document)\n",
    "#             loss = criterion(outputs, torch.max(labels, 1)[0])\n",
    "# #             print('loss:', loss.item())\n",
    "#             loss.backward()\n",
    "#             return loss\n",
    "#         optimizer.step(closure)\n"
   ]
  },
  {
   "cell_type": "code",
   "execution_count": null,
   "metadata": {
    "scrolled": false
   },
   "outputs": [],
   "source": [
    "import umap # fit should get a sparse matrix\n",
    "%time trans = umap.UMAP(n_neighbors=5, random_state=42, n_components=32, verbose=True).fit(train_data.data)\n",
    "trans.embedding_"
   ]
  },
  {
   "cell_type": "code",
   "execution_count": null,
   "metadata": {},
   "outputs": [],
   "source": [
    "167593,441685 160318:1 227881:1 255720:1 265934:1 432905:2 515946:1 538188:1 586136:1 610561:1 692683:1 \n",
    "                                        735075:1 828325:1 874107:1 898766:1 1087064:1 1354716:1 1432746:1 \n",
    "                                        1454292:1 1463839:1 1626714:1 1715083:1 1839104:1 1864180:1 2023750:1 \n"
   ]
  }
 ],
 "metadata": {
  "kernelspec": {
   "display_name": "Python 3",
   "language": "python",
   "name": "python3"
  },
  "language_info": {
   "codemirror_mode": {
    "name": "ipython",
    "version": 3
   },
   "file_extension": ".py",
   "mimetype": "text/x-python",
   "name": "python",
   "nbconvert_exporter": "python",
   "pygments_lexer": "ipython3",
   "version": "3.6.7"
  }
 },
 "nbformat": 4,
 "nbformat_minor": 2
}
