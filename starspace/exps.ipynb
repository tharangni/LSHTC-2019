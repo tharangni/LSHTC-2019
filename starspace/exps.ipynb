{
 "cells": [
  {
   "cell_type": "code",
   "execution_count": 1,
   "metadata": {},
   "outputs": [],
   "source": [
    "import warnings\n",
    "warnings.simplefilter(\"ignore\")\n",
    "\n",
    "import os\n",
    "import ast\n",
    "import random\n",
    "import logging\n",
    "import numpy as np\n",
    "import pandas as pd\n",
    "import networkx as nx\n",
    "import matplotlib.pyplot as plt\n",
    "\n",
    "from joblib import Parallel, delayed\n",
    "\n",
    "from collections import OrderedDict, Counter\n",
    "from tqdm import tqdm_notebook as tqdm\n",
    "from sklearn.feature_extraction.text import TfidfVectorizer\n",
    "\n",
    "import sys\n",
    "sys.path.append('..')"
   ]
  },
  {
   "cell_type": "code",
   "execution_count": 2,
   "metadata": {},
   "outputs": [],
   "source": [
    "from gensim.parsing import preprocessing\n",
    "from gensim.utils import tokenize\n",
    "\n",
    "def document_preprocess(text):\n",
    "    first = text.encode('ascii', 'ignore').decode('utf-8').lower()\n",
    "    second = preprocessing.remove_stopwords(first)\n",
    "    third = preprocessing.strip_punctuation(second)\n",
    "    fourth = preprocessing.strip_short(preprocessing.strip_numeric(third))\n",
    "    return fourth"
   ]
  },
  {
   "cell_type": "code",
   "execution_count": 3,
   "metadata": {},
   "outputs": [],
   "source": [
    "file = \"../../../Starspace/data/oms/text/oms-all_raw.txt\""
   ]
  },
  {
   "cell_type": "code",
   "execution_count": 4,
   "metadata": {},
   "outputs": [],
   "source": [
    "all_df = pd.read_csv(\"C:/Users/harshasivajit/Documents/master-ai/rr13/OmniScience/ArXiv_BMED_Evise_title_abstract_os_2019-01-14.tsv\",\n",
    "                     sep=\"\\t\", encoding=\"utf-8\")"
   ]
  },
  {
   "cell_type": "code",
   "execution_count": 5,
   "metadata": {},
   "outputs": [
    {
     "data": {
      "text/plain": [
       "853142"
      ]
     },
     "execution_count": 5,
     "metadata": {},
     "output_type": "execute_result"
    }
   ],
   "source": [
    "len(all_df[\"file_id\"].unique())"
   ]
  },
  {
   "cell_type": "code",
   "execution_count": 6,
   "metadata": {},
   "outputs": [],
   "source": [
    "q = all_df[all_df.isna().any(axis=1)]\n",
    "p1 = all_df[all_df[\"parentconceptid\"].isna()]\n",
    "p2 = all_df[all_df[\"title\"].isna()]\n",
    "r = q[q.columns[q.columns!='abstract']]\n",
    "u = r[r.isna().any(axis=1)]\n",
    "\n",
    "sub = all_df[all_df[\"abstract\"].notnull()]"
   ]
  },
  {
   "cell_type": "code",
   "execution_count": 7,
   "metadata": {},
   "outputs": [
    {
     "data": {
      "text/plain": [
       "Index(['abstract', 'conceptid', 'file_id', 'label', 'level', 'parentconceptid',\n",
       "       'parentlabel', 'parentpath', 'path', 'pathlabels', 'rootconceptid',\n",
       "       'rootlabel', 'title', 'used_as'],\n",
       "      dtype='object')"
      ]
     },
     "execution_count": 7,
     "metadata": {},
     "output_type": "execute_result"
    }
   ],
   "source": [
    "sub.columns"
   ]
  },
  {
   "cell_type": "code",
   "execution_count": 8,
   "metadata": {},
   "outputs": [
    {
     "data": {
      "text/plain": [
       "[0, 0, 0, 0, 0, 5, 5, 0, 0, 0, 0, 0, 3, 0]"
      ]
     },
     "execution_count": 8,
     "metadata": {},
     "output_type": "execute_result"
    }
   ],
   "source": [
    "[sub[i].isna().sum() for i in sub.columns]"
   ]
  },
  {
   "cell_type": "code",
   "execution_count": 9,
   "metadata": {},
   "outputs": [
    {
     "data": {
      "text/plain": [
       "11459"
      ]
     },
     "execution_count": 9,
     "metadata": {},
     "output_type": "execute_result"
    }
   ],
   "source": [
    "all_df[\"abstract\"].isna().sum()"
   ]
  },
  {
   "cell_type": "code",
   "execution_count": 10,
   "metadata": {},
   "outputs": [
    {
     "data": {
      "text/plain": [
       "11467"
      ]
     },
     "execution_count": 10,
     "metadata": {},
     "output_type": "execute_result"
    }
   ],
   "source": [
    "all_df.shape[0] - all_df.dropna().shape[0]"
   ]
  },
  {
   "cell_type": "code",
   "execution_count": 11,
   "metadata": {},
   "outputs": [],
   "source": [
    "sub_df = sub[[\"abstract\", \"conceptid\", \"file_id\", \"label\", \"title\", \"used_as\"]]\n",
    "sub_df = sub_df[sub_df[\"used_as\"] != \"unused\"]\n",
    "\n",
    "groupeddf = sub_df.groupby(\"used_as\")"
   ]
  },
  {
   "cell_type": "code",
   "execution_count": 12,
   "metadata": {},
   "outputs": [
    {
     "data": {
      "text/html": [
       "<div>\n",
       "<style scoped>\n",
       "    .dataframe tbody tr th:only-of-type {\n",
       "        vertical-align: middle;\n",
       "    }\n",
       "\n",
       "    .dataframe tbody tr th {\n",
       "        vertical-align: top;\n",
       "    }\n",
       "\n",
       "    .dataframe thead th {\n",
       "        text-align: right;\n",
       "    }\n",
       "</style>\n",
       "<table border=\"1\" class=\"dataframe\">\n",
       "  <thead>\n",
       "    <tr style=\"text-align: right;\">\n",
       "      <th></th>\n",
       "      <th>abstract</th>\n",
       "      <th>conceptid</th>\n",
       "      <th>file_id</th>\n",
       "      <th>label</th>\n",
       "      <th>title</th>\n",
       "      <th>used_as</th>\n",
       "    </tr>\n",
       "  </thead>\n",
       "  <tbody>\n",
       "    <tr>\n",
       "      <th>0</th>\n",
       "      <td>The fixed point that governs the critical beha...</td>\n",
       "      <td>189721267</td>\n",
       "      <td>ArXiv:0205046v2</td>\n",
       "      <td>Particle Physics</td>\n",
       "      <td>Chiral phase transitions: focus driven critica...</td>\n",
       "      <td>validation</td>\n",
       "    </tr>\n",
       "    <tr>\n",
       "      <th>1</th>\n",
       "      <td>We investigate the effects of impurities on th...</td>\n",
       "      <td>342949555</td>\n",
       "      <td>ArXiv:0205048v2</td>\n",
       "      <td>Disordered System</td>\n",
       "      <td>Competition between fluctuations and disorder ...</td>\n",
       "      <td>validation</td>\n",
       "    </tr>\n",
       "    <tr>\n",
       "      <th>2</th>\n",
       "      <td>When a high voltage (~30 kV) is applied to a c...</td>\n",
       "      <td>170589438</td>\n",
       "      <td>ArXiv:0211001v2</td>\n",
       "      <td>Physics</td>\n",
       "      <td>Force on an Asymmetric Capacitor</td>\n",
       "      <td>validation</td>\n",
       "    </tr>\n",
       "    <tr>\n",
       "      <th>3</th>\n",
       "      <td>We use quantum walks to construct a new quantu...</td>\n",
       "      <td>257942154</td>\n",
       "      <td>ArXiv:0311001v9</td>\n",
       "      <td>Quantum Physics</td>\n",
       "      <td>Quantum walk algorithm for element distinctness</td>\n",
       "      <td>validation</td>\n",
       "    </tr>\n",
       "    <tr>\n",
       "      <th>4</th>\n",
       "      <td>Consider laying out a fixed-topology tree of N...</td>\n",
       "      <td>190195160</td>\n",
       "      <td>ArXiv:0410048v4</td>\n",
       "      <td>Algorithms</td>\n",
       "      <td>Worst-Case Optimal Tree Layout in External Memory</td>\n",
       "      <td>validation</td>\n",
       "    </tr>\n",
       "    <tr>\n",
       "      <th>5</th>\n",
       "      <td>Consider laying out a fixed-topology tree of N...</td>\n",
       "      <td>190195160</td>\n",
       "      <td>ArXiv:0410048v4</td>\n",
       "      <td>Algorithms</td>\n",
       "      <td>Worst-Case Optimal Tree Layout in External Memory</td>\n",
       "      <td>validation</td>\n",
       "    </tr>\n",
       "    <tr>\n",
       "      <th>6</th>\n",
       "      <td>Consider laying out a fixed-topology tree of N...</td>\n",
       "      <td>190195160</td>\n",
       "      <td>ArXiv:0410048v4</td>\n",
       "      <td>Algorithms</td>\n",
       "      <td>Worst-Case Optimal Tree Layout in External Memory</td>\n",
       "      <td>validation</td>\n",
       "    </tr>\n",
       "    <tr>\n",
       "      <th>7</th>\n",
       "      <td>Consider laying out a fixed-topology tree of N...</td>\n",
       "      <td>190195160</td>\n",
       "      <td>ArXiv:0410048v4</td>\n",
       "      <td>Algorithms</td>\n",
       "      <td>Worst-Case Optimal Tree Layout in External Memory</td>\n",
       "      <td>validation</td>\n",
       "    </tr>\n",
       "    <tr>\n",
       "      <th>8</th>\n",
       "      <td>Consider laying out a fixed-topology tree of N...</td>\n",
       "      <td>190195160</td>\n",
       "      <td>ArXiv:0410048v4</td>\n",
       "      <td>Algorithms</td>\n",
       "      <td>Worst-Case Optimal Tree Layout in External Memory</td>\n",
       "      <td>validation</td>\n",
       "    </tr>\n",
       "    <tr>\n",
       "      <th>9</th>\n",
       "      <td>A new method for constructing minimum-redundan...</td>\n",
       "      <td>191884351</td>\n",
       "      <td>ArXiv:0509015v4</td>\n",
       "      <td>Information Theory</td>\n",
       "      <td>Optimal Prefix Codes with Fewer Distinct Codew...</td>\n",
       "      <td>validation</td>\n",
       "    </tr>\n",
       "    <tr>\n",
       "      <th>10</th>\n",
       "      <td>A new method for constructing minimum-redundan...</td>\n",
       "      <td>191884351</td>\n",
       "      <td>ArXiv:0509015v4</td>\n",
       "      <td>Information Theory</td>\n",
       "      <td>Optimal Prefix Codes with Fewer Distinct Codew...</td>\n",
       "      <td>validation</td>\n",
       "    </tr>\n",
       "    <tr>\n",
       "      <th>11</th>\n",
       "      <td>This paper gives a polynomial invariant for fl...</td>\n",
       "      <td>257778545</td>\n",
       "      <td>ArXiv:0512091v2</td>\n",
       "      <td>Geometric Topology</td>\n",
       "      <td>A Polynomial Invariant for Flat Virtual Links</td>\n",
       "      <td>validation</td>\n",
       "    </tr>\n",
       "    <tr>\n",
       "      <th>12</th>\n",
       "      <td>An efficient, low-complexity, soft-output dete...</td>\n",
       "      <td>191884351</td>\n",
       "      <td>ArXiv:0602079v3</td>\n",
       "      <td>Information Theory</td>\n",
       "      <td>SISO APP Searches in Lattices with Tanner Graphs</td>\n",
       "      <td>training</td>\n",
       "    </tr>\n",
       "    <tr>\n",
       "      <th>13</th>\n",
       "      <td>An efficient, low-complexity, soft-output dete...</td>\n",
       "      <td>191884351</td>\n",
       "      <td>ArXiv:0602079v3</td>\n",
       "      <td>Information Theory</td>\n",
       "      <td>SISO APP Searches in Lattices with Tanner Graphs</td>\n",
       "      <td>training</td>\n",
       "    </tr>\n",
       "    <tr>\n",
       "      <th>14</th>\n",
       "      <td>We present a randomized algorithm that, on inp...</td>\n",
       "      <td>189720921</td>\n",
       "      <td>ArXiv:0607105v5</td>\n",
       "      <td>Numerical Analysis</td>\n",
       "      <td>Nearly-Linear Time Algorithms for Precondition...</td>\n",
       "      <td>validation</td>\n",
       "    </tr>\n",
       "    <tr>\n",
       "      <th>15</th>\n",
       "      <td>Clique-width is a well-known graph parameter. ...</td>\n",
       "      <td>189720911</td>\n",
       "      <td>ArXiv:0701185v3</td>\n",
       "      <td>Discrete Mathematics</td>\n",
       "      <td>Graph Operations on Clique-Width Bounded Graphs</td>\n",
       "      <td>validation</td>\n",
       "    </tr>\n",
       "    <tr>\n",
       "      <th>16</th>\n",
       "      <td>Article presents the compatibility matrix meth...</td>\n",
       "      <td>189720911</td>\n",
       "      <td>ArXiv:0703146v4</td>\n",
       "      <td>Discrete Mathematics</td>\n",
       "      <td>A Polynomial Time Algorithm for SAT</td>\n",
       "      <td>training</td>\n",
       "    </tr>\n",
       "    <tr>\n",
       "      <th>17</th>\n",
       "      <td>The closest string problem is an NP-hard probl...</td>\n",
       "      <td>248827285</td>\n",
       "      <td>ArXiv:0705.0561v2</td>\n",
       "      <td>Computational Complexity Theory</td>\n",
       "      <td>Iterative Rounding for the Closest String Problem</td>\n",
       "      <td>validation</td>\n",
       "    </tr>\n",
       "    <tr>\n",
       "      <th>18</th>\n",
       "      <td>We show how to test whether a graph with n ver...</td>\n",
       "      <td>190195160</td>\n",
       "      <td>ArXiv:0705.1025v2</td>\n",
       "      <td>Algorithms</td>\n",
       "      <td>Recognizing Partial Cubes in Quadratic Time</td>\n",
       "      <td>training</td>\n",
       "    </tr>\n",
       "    <tr>\n",
       "      <th>19</th>\n",
       "      <td>We show how to test whether a graph with n ver...</td>\n",
       "      <td>190195160</td>\n",
       "      <td>ArXiv:0705.1025v2</td>\n",
       "      <td>Algorithms</td>\n",
       "      <td>Recognizing Partial Cubes in Quadratic Time</td>\n",
       "      <td>training</td>\n",
       "    </tr>\n",
       "    <tr>\n",
       "      <th>20</th>\n",
       "      <td>We show how to test whether a graph with n ver...</td>\n",
       "      <td>190195160</td>\n",
       "      <td>ArXiv:0705.1025v2</td>\n",
       "      <td>Algorithms</td>\n",
       "      <td>Recognizing Partial Cubes in Quadratic Time</td>\n",
       "      <td>training</td>\n",
       "    </tr>\n",
       "    <tr>\n",
       "      <th>21</th>\n",
       "      <td>We show how to test whether a graph with n ver...</td>\n",
       "      <td>190195160</td>\n",
       "      <td>ArXiv:0705.1025v2</td>\n",
       "      <td>Algorithms</td>\n",
       "      <td>Recognizing Partial Cubes in Quadratic Time</td>\n",
       "      <td>training</td>\n",
       "    </tr>\n",
       "    <tr>\n",
       "      <th>22</th>\n",
       "      <td>We show how to test whether a graph with n ver...</td>\n",
       "      <td>190195160</td>\n",
       "      <td>ArXiv:0705.1025v2</td>\n",
       "      <td>Algorithms</td>\n",
       "      <td>Recognizing Partial Cubes in Quadratic Time</td>\n",
       "      <td>training</td>\n",
       "    </tr>\n",
       "    <tr>\n",
       "      <th>23</th>\n",
       "      <td>Setcover greedy algorithm is a natural approxi...</td>\n",
       "      <td>190195160</td>\n",
       "      <td>ArXiv:0705.1750v6</td>\n",
       "      <td>Algorithms</td>\n",
       "      <td>A Tighter Analysis of Setcover Greedy Algorith...</td>\n",
       "      <td>training</td>\n",
       "    </tr>\n",
       "    <tr>\n",
       "      <th>24</th>\n",
       "      <td>Setcover greedy algorithm is a natural approxi...</td>\n",
       "      <td>190195160</td>\n",
       "      <td>ArXiv:0705.1750v6</td>\n",
       "      <td>Algorithms</td>\n",
       "      <td>A Tighter Analysis of Setcover Greedy Algorith...</td>\n",
       "      <td>training</td>\n",
       "    </tr>\n",
       "    <tr>\n",
       "      <th>25</th>\n",
       "      <td>Setcover greedy algorithm is a natural approxi...</td>\n",
       "      <td>190195160</td>\n",
       "      <td>ArXiv:0705.1750v6</td>\n",
       "      <td>Algorithms</td>\n",
       "      <td>A Tighter Analysis of Setcover Greedy Algorith...</td>\n",
       "      <td>training</td>\n",
       "    </tr>\n",
       "    <tr>\n",
       "      <th>26</th>\n",
       "      <td>Setcover greedy algorithm is a natural approxi...</td>\n",
       "      <td>190195160</td>\n",
       "      <td>ArXiv:0705.1750v6</td>\n",
       "      <td>Algorithms</td>\n",
       "      <td>A Tighter Analysis of Setcover Greedy Algorith...</td>\n",
       "      <td>training</td>\n",
       "    </tr>\n",
       "    <tr>\n",
       "      <th>27</th>\n",
       "      <td>Setcover greedy algorithm is a natural approxi...</td>\n",
       "      <td>190195160</td>\n",
       "      <td>ArXiv:0705.1750v6</td>\n",
       "      <td>Algorithms</td>\n",
       "      <td>A Tighter Analysis of Setcover Greedy Algorith...</td>\n",
       "      <td>training</td>\n",
       "    </tr>\n",
       "    <tr>\n",
       "      <th>28</th>\n",
       "      <td>Minimal-interval semantics associates with eac...</td>\n",
       "      <td>190195173</td>\n",
       "      <td>ArXiv:0710.1525v2</td>\n",
       "      <td>Information Retrieval</td>\n",
       "      <td>Efficient Optimally Lazy Algorithms for Minima...</td>\n",
       "      <td>validation</td>\n",
       "    </tr>\n",
       "    <tr>\n",
       "      <th>29</th>\n",
       "      <td>We present approximation algorithms for almost...</td>\n",
       "      <td>190195160</td>\n",
       "      <td>ArXiv:0711.2157v3</td>\n",
       "      <td>Algorithms</td>\n",
       "      <td>On Approximating Multi-Criteria TSP</td>\n",
       "      <td>training</td>\n",
       "    </tr>\n",
       "    <tr>\n",
       "      <th>...</th>\n",
       "      <td>...</td>\n",
       "      <td>...</td>\n",
       "      <td>...</td>\n",
       "      <td>...</td>\n",
       "      <td>...</td>\n",
       "      <td>...</td>\n",
       "    </tr>\n",
       "    <tr>\n",
       "      <th>1901685</th>\n",
       "      <td>Optically stimulated luminescence (OSL) was st...</td>\n",
       "      <td>253045429</td>\n",
       "      <td>BMED.PUI:616811122</td>\n",
       "      <td>Biochemistry Methods</td>\n",
       "      <td>Optically stimulated luminescence study in rar...</td>\n",
       "      <td>training</td>\n",
       "    </tr>\n",
       "    <tr>\n",
       "      <th>1901686</th>\n",
       "      <td>Regular nut consumption is associated with low...</td>\n",
       "      <td>192559100</td>\n",
       "      <td>BMED.PUI:616811449</td>\n",
       "      <td>Food Products</td>\n",
       "      <td>A walnut-containing meal had similar effects o...</td>\n",
       "      <td>training</td>\n",
       "    </tr>\n",
       "    <tr>\n",
       "      <th>1901687</th>\n",
       "      <td>Regular nut consumption is associated with low...</td>\n",
       "      <td>257947224</td>\n",
       "      <td>BMED.PUI:616811449</td>\n",
       "      <td>Agricultural Products</td>\n",
       "      <td>A walnut-containing meal had similar effects o...</td>\n",
       "      <td>training</td>\n",
       "    </tr>\n",
       "    <tr>\n",
       "      <th>1901688</th>\n",
       "      <td>Sex-determining region Y is a crucial gene tha...</td>\n",
       "      <td>189967537</td>\n",
       "      <td>BMED.PUI:616816281</td>\n",
       "      <td>Developmental Biology</td>\n",
       "      <td>Mutation of the Sp1 binding site in the 5' fla...</td>\n",
       "      <td>training</td>\n",
       "    </tr>\n",
       "    <tr>\n",
       "      <th>1901689</th>\n",
       "      <td>Although Earth's climate history is best known...</td>\n",
       "      <td>253214279</td>\n",
       "      <td>BMED.PUI:616866287</td>\n",
       "      <td>Time Period</td>\n",
       "      <td>Mio-Pliocene aridity in the south-central Ande...</td>\n",
       "      <td>training</td>\n",
       "    </tr>\n",
       "    <tr>\n",
       "      <th>1901690</th>\n",
       "      <td>Although Earth's climate history is best known...</td>\n",
       "      <td>210633469</td>\n",
       "      <td>BMED.PUI:616866287</td>\n",
       "      <td>Earth History</td>\n",
       "      <td>Mio-Pliocene aridity in the south-central Ande...</td>\n",
       "      <td>training</td>\n",
       "    </tr>\n",
       "    <tr>\n",
       "      <th>1901691</th>\n",
       "      <td>A considerable share of bacterial species main...</td>\n",
       "      <td>249133402</td>\n",
       "      <td>BMED.PUI:616824381</td>\n",
       "      <td>Biological Process</td>\n",
       "      <td>A Family of Single Copy repABC-Type Shuttle Ve...</td>\n",
       "      <td>validation</td>\n",
       "    </tr>\n",
       "    <tr>\n",
       "      <th>1901692</th>\n",
       "      <td>A considerable share of bacterial species main...</td>\n",
       "      <td>184830431</td>\n",
       "      <td>BMED.PUI:616824381</td>\n",
       "      <td>Molecular Biology</td>\n",
       "      <td>A Family of Single Copy repABC-Type Shuttle Ve...</td>\n",
       "      <td>validation</td>\n",
       "    </tr>\n",
       "    <tr>\n",
       "      <th>1901693</th>\n",
       "      <td>A considerable share of bacterial species main...</td>\n",
       "      <td>170590665</td>\n",
       "      <td>BMED.PUI:616824381</td>\n",
       "      <td>Genetics</td>\n",
       "      <td>A Family of Single Copy repABC-Type Shuttle Ve...</td>\n",
       "      <td>validation</td>\n",
       "    </tr>\n",
       "    <tr>\n",
       "      <th>1901694</th>\n",
       "      <td>A considerable share of bacterial species main...</td>\n",
       "      <td>186131996</td>\n",
       "      <td>BMED.PUI:616824381</td>\n",
       "      <td>Immunology</td>\n",
       "      <td>A Family of Single Copy repABC-Type Shuttle Ve...</td>\n",
       "      <td>validation</td>\n",
       "    </tr>\n",
       "    <tr>\n",
       "      <th>1901695</th>\n",
       "      <td>A considerable share of bacterial species main...</td>\n",
       "      <td>186131996</td>\n",
       "      <td>BMED.PUI:616824381</td>\n",
       "      <td>Immunology</td>\n",
       "      <td>A Family of Single Copy repABC-Type Shuttle Ve...</td>\n",
       "      <td>validation</td>\n",
       "    </tr>\n",
       "    <tr>\n",
       "      <th>1901696</th>\n",
       "      <td>A 23-year-old woman presented to the emergency...</td>\n",
       "      <td>248811484</td>\n",
       "      <td>BMED.PUI:616824645</td>\n",
       "      <td>Body Region</td>\n",
       "      <td>It's a cod! Finding Nemo (impacted fishbone) i...</td>\n",
       "      <td>training</td>\n",
       "    </tr>\n",
       "    <tr>\n",
       "      <th>1901697</th>\n",
       "      <td>The problem of battered baby and child abuse i...</td>\n",
       "      <td>249671976</td>\n",
       "      <td>BMED.PUI:616835854</td>\n",
       "      <td>Abuse</td>\n",
       "      <td>Battered baby syndrome</td>\n",
       "      <td>training</td>\n",
       "    </tr>\n",
       "    <tr>\n",
       "      <th>1901698</th>\n",
       "      <td>The problem of battered baby and child abuse i...</td>\n",
       "      <td>488032373</td>\n",
       "      <td>BMED.PUI:616835854</td>\n",
       "      <td>Area of Law</td>\n",
       "      <td>Battered baby syndrome</td>\n",
       "      <td>training</td>\n",
       "    </tr>\n",
       "    <tr>\n",
       "      <th>1901703</th>\n",
       "      <td>This paper presents the results of the researc...</td>\n",
       "      <td>192559100</td>\n",
       "      <td>BMED.PUI:616863183</td>\n",
       "      <td>Food Products</td>\n",
       "      <td>An analysis of the porous structure of activat...</td>\n",
       "      <td>training</td>\n",
       "    </tr>\n",
       "    <tr>\n",
       "      <th>1901704</th>\n",
       "      <td>This paper presents the results of the researc...</td>\n",
       "      <td>257947224</td>\n",
       "      <td>BMED.PUI:616863183</td>\n",
       "      <td>Agricultural Products</td>\n",
       "      <td>An analysis of the porous structure of activat...</td>\n",
       "      <td>training</td>\n",
       "    </tr>\n",
       "    <tr>\n",
       "      <th>1901705</th>\n",
       "      <td>Rhodococcus equi causes pyogranulomatous pneum...</td>\n",
       "      <td>189721340</td>\n",
       "      <td>BMED.PUI:616992605</td>\n",
       "      <td>Equine Medicine</td>\n",
       "      <td>Comparison of the vitek MS and bruker matrix-a...</td>\n",
       "      <td>training</td>\n",
       "    </tr>\n",
       "    <tr>\n",
       "      <th>1901706</th>\n",
       "      <td>Following Japanâs 2011 Fukushima nuclear inc...</td>\n",
       "      <td>253230809</td>\n",
       "      <td>BMED.PUI:616879610</td>\n",
       "      <td>Cognitive Neuroscience</td>\n",
       "      <td>Towards a long-term strategy for voluntary-bas...</td>\n",
       "      <td>validation</td>\n",
       "    </tr>\n",
       "    <tr>\n",
       "      <th>1901707</th>\n",
       "      <td>Following Japanâs 2011 Fukushima nuclear inc...</td>\n",
       "      <td>189721291</td>\n",
       "      <td>BMED.PUI:616879610</td>\n",
       "      <td>Cognitive Psychology</td>\n",
       "      <td>Towards a long-term strategy for voluntary-bas...</td>\n",
       "      <td>validation</td>\n",
       "    </tr>\n",
       "    <tr>\n",
       "      <th>1901708</th>\n",
       "      <td>Desertification is currently a major concern, ...</td>\n",
       "      <td>189723281</td>\n",
       "      <td>BMED.PUI:616913669</td>\n",
       "      <td>Environmental Science</td>\n",
       "      <td>Rapid development of cyanobacterial crust in t...</td>\n",
       "      <td>training</td>\n",
       "    </tr>\n",
       "    <tr>\n",
       "      <th>1901709</th>\n",
       "      <td>Desertification is currently a major concern, ...</td>\n",
       "      <td>189126964</td>\n",
       "      <td>BMED.PUI:616913669</td>\n",
       "      <td>Agronomy</td>\n",
       "      <td>Rapid development of cyanobacterial crust in t...</td>\n",
       "      <td>training</td>\n",
       "    </tr>\n",
       "    <tr>\n",
       "      <th>1901710</th>\n",
       "      <td>A non-syndromic approach to treatment of peopl...</td>\n",
       "      <td>249563520</td>\n",
       "      <td>BMED.PUI:616918105</td>\n",
       "      <td>Genitourinary Disorder</td>\n",
       "      <td>Urethral inflammatory response to ureaplasma i...</td>\n",
       "      <td>training</td>\n",
       "    </tr>\n",
       "    <tr>\n",
       "      <th>1901712</th>\n",
       "      <td>Laser photoacoustic spectroscopy (LPAS) is an ...</td>\n",
       "      <td>253226420</td>\n",
       "      <td>BMED.PUI:616937870</td>\n",
       "      <td>Physical Organic Chemistry</td>\n",
       "      <td>Novel laser induced photoacoustic spectroscopy...</td>\n",
       "      <td>validation</td>\n",
       "    </tr>\n",
       "    <tr>\n",
       "      <th>1901713</th>\n",
       "      <td>Laser photoacoustic spectroscopy (LPAS) is an ...</td>\n",
       "      <td>189720727</td>\n",
       "      <td>BMED.PUI:616937870</td>\n",
       "      <td>Inorganic Chemistry</td>\n",
       "      <td>Novel laser induced photoacoustic spectroscopy...</td>\n",
       "      <td>validation</td>\n",
       "    </tr>\n",
       "    <tr>\n",
       "      <th>1901714</th>\n",
       "      <td>Laser photoacoustic spectroscopy (LPAS) is an ...</td>\n",
       "      <td>189720723</td>\n",
       "      <td>BMED.PUI:616937870</td>\n",
       "      <td>Analytical Chemistry</td>\n",
       "      <td>Novel laser induced photoacoustic spectroscopy...</td>\n",
       "      <td>validation</td>\n",
       "    </tr>\n",
       "    <tr>\n",
       "      <th>1901715</th>\n",
       "      <td>Laser photoacoustic spectroscopy (LPAS) is an ...</td>\n",
       "      <td>253045429</td>\n",
       "      <td>BMED.PUI:616937870</td>\n",
       "      <td>Biochemistry Methods</td>\n",
       "      <td>Novel laser induced photoacoustic spectroscopy...</td>\n",
       "      <td>validation</td>\n",
       "    </tr>\n",
       "    <tr>\n",
       "      <th>1901716</th>\n",
       "      <td>Laser photoacoustic spectroscopy (LPAS) is an ...</td>\n",
       "      <td>253046970</td>\n",
       "      <td>BMED.PUI:616937870</td>\n",
       "      <td>Biological Sciences Research Methodologies</td>\n",
       "      <td>Novel laser induced photoacoustic spectroscopy...</td>\n",
       "      <td>validation</td>\n",
       "    </tr>\n",
       "    <tr>\n",
       "      <th>1901717</th>\n",
       "      <td>Laser photoacoustic spectroscopy (LPAS) is an ...</td>\n",
       "      <td>186131996</td>\n",
       "      <td>BMED.PUI:616937870</td>\n",
       "      <td>Immunology</td>\n",
       "      <td>Novel laser induced photoacoustic spectroscopy...</td>\n",
       "      <td>validation</td>\n",
       "    </tr>\n",
       "    <tr>\n",
       "      <th>1901718</th>\n",
       "      <td>Laser photoacoustic spectroscopy (LPAS) is an ...</td>\n",
       "      <td>186131996</td>\n",
       "      <td>BMED.PUI:616937870</td>\n",
       "      <td>Immunology</td>\n",
       "      <td>Novel laser induced photoacoustic spectroscopy...</td>\n",
       "      <td>validation</td>\n",
       "    </tr>\n",
       "    <tr>\n",
       "      <th>1901719</th>\n",
       "      <td>Laser photoacoustic spectroscopy (LPAS) is an ...</td>\n",
       "      <td>253033933</td>\n",
       "      <td>BMED.PUI:616937870</td>\n",
       "      <td>Materials Characterization</td>\n",
       "      <td>Novel laser induced photoacoustic spectroscopy...</td>\n",
       "      <td>validation</td>\n",
       "    </tr>\n",
       "  </tbody>\n",
       "</table>\n",
       "<p>1537087 rows × 6 columns</p>\n",
       "</div>"
      ],
      "text/plain": [
       "                                                  abstract  conceptid  \\\n",
       "0        The fixed point that governs the critical beha...  189721267   \n",
       "1        We investigate the effects of impurities on th...  342949555   \n",
       "2        When a high voltage (~30 kV) is applied to a c...  170589438   \n",
       "3        We use quantum walks to construct a new quantu...  257942154   \n",
       "4        Consider laying out a fixed-topology tree of N...  190195160   \n",
       "5        Consider laying out a fixed-topology tree of N...  190195160   \n",
       "6        Consider laying out a fixed-topology tree of N...  190195160   \n",
       "7        Consider laying out a fixed-topology tree of N...  190195160   \n",
       "8        Consider laying out a fixed-topology tree of N...  190195160   \n",
       "9        A new method for constructing minimum-redundan...  191884351   \n",
       "10       A new method for constructing minimum-redundan...  191884351   \n",
       "11       This paper gives a polynomial invariant for fl...  257778545   \n",
       "12       An efficient, low-complexity, soft-output dete...  191884351   \n",
       "13       An efficient, low-complexity, soft-output dete...  191884351   \n",
       "14       We present a randomized algorithm that, on inp...  189720921   \n",
       "15       Clique-width is a well-known graph parameter. ...  189720911   \n",
       "16       Article presents the compatibility matrix meth...  189720911   \n",
       "17       The closest string problem is an NP-hard probl...  248827285   \n",
       "18       We show how to test whether a graph with n ver...  190195160   \n",
       "19       We show how to test whether a graph with n ver...  190195160   \n",
       "20       We show how to test whether a graph with n ver...  190195160   \n",
       "21       We show how to test whether a graph with n ver...  190195160   \n",
       "22       We show how to test whether a graph with n ver...  190195160   \n",
       "23       Setcover greedy algorithm is a natural approxi...  190195160   \n",
       "24       Setcover greedy algorithm is a natural approxi...  190195160   \n",
       "25       Setcover greedy algorithm is a natural approxi...  190195160   \n",
       "26       Setcover greedy algorithm is a natural approxi...  190195160   \n",
       "27       Setcover greedy algorithm is a natural approxi...  190195160   \n",
       "28       Minimal-interval semantics associates with eac...  190195173   \n",
       "29       We present approximation algorithms for almost...  190195160   \n",
       "...                                                    ...        ...   \n",
       "1901685  Optically stimulated luminescence (OSL) was st...  253045429   \n",
       "1901686  Regular nut consumption is associated with low...  192559100   \n",
       "1901687  Regular nut consumption is associated with low...  257947224   \n",
       "1901688  Sex-determining region Y is a crucial gene tha...  189967537   \n",
       "1901689  Although Earth's climate history is best known...  253214279   \n",
       "1901690  Although Earth's climate history is best known...  210633469   \n",
       "1901691  A considerable share of bacterial species main...  249133402   \n",
       "1901692  A considerable share of bacterial species main...  184830431   \n",
       "1901693  A considerable share of bacterial species main...  170590665   \n",
       "1901694  A considerable share of bacterial species main...  186131996   \n",
       "1901695  A considerable share of bacterial species main...  186131996   \n",
       "1901696  A 23-year-old woman presented to the emergency...  248811484   \n",
       "1901697  The problem of battered baby and child abuse i...  249671976   \n",
       "1901698  The problem of battered baby and child abuse i...  488032373   \n",
       "1901703  This paper presents the results of the researc...  192559100   \n",
       "1901704  This paper presents the results of the researc...  257947224   \n",
       "1901705  Rhodococcus equi causes pyogranulomatous pneum...  189721340   \n",
       "1901706  Following Japanâs 2011 Fukushima nuclear inc...  253230809   \n",
       "1901707  Following Japanâs 2011 Fukushima nuclear inc...  189721291   \n",
       "1901708  Desertification is currently a major concern, ...  189723281   \n",
       "1901709  Desertification is currently a major concern, ...  189126964   \n",
       "1901710  A non-syndromic approach to treatment of peopl...  249563520   \n",
       "1901712  Laser photoacoustic spectroscopy (LPAS) is an ...  253226420   \n",
       "1901713  Laser photoacoustic spectroscopy (LPAS) is an ...  189720727   \n",
       "1901714  Laser photoacoustic spectroscopy (LPAS) is an ...  189720723   \n",
       "1901715  Laser photoacoustic spectroscopy (LPAS) is an ...  253045429   \n",
       "1901716  Laser photoacoustic spectroscopy (LPAS) is an ...  253046970   \n",
       "1901717  Laser photoacoustic spectroscopy (LPAS) is an ...  186131996   \n",
       "1901718  Laser photoacoustic spectroscopy (LPAS) is an ...  186131996   \n",
       "1901719  Laser photoacoustic spectroscopy (LPAS) is an ...  253033933   \n",
       "\n",
       "                    file_id                                       label  \\\n",
       "0           ArXiv:0205046v2                            Particle Physics   \n",
       "1           ArXiv:0205048v2                           Disordered System   \n",
       "2           ArXiv:0211001v2                                     Physics   \n",
       "3           ArXiv:0311001v9                             Quantum Physics   \n",
       "4           ArXiv:0410048v4                                  Algorithms   \n",
       "5           ArXiv:0410048v4                                  Algorithms   \n",
       "6           ArXiv:0410048v4                                  Algorithms   \n",
       "7           ArXiv:0410048v4                                  Algorithms   \n",
       "8           ArXiv:0410048v4                                  Algorithms   \n",
       "9           ArXiv:0509015v4                          Information Theory   \n",
       "10          ArXiv:0509015v4                          Information Theory   \n",
       "11          ArXiv:0512091v2                          Geometric Topology   \n",
       "12          ArXiv:0602079v3                          Information Theory   \n",
       "13          ArXiv:0602079v3                          Information Theory   \n",
       "14          ArXiv:0607105v5                          Numerical Analysis   \n",
       "15          ArXiv:0701185v3                        Discrete Mathematics   \n",
       "16          ArXiv:0703146v4                        Discrete Mathematics   \n",
       "17        ArXiv:0705.0561v2             Computational Complexity Theory   \n",
       "18        ArXiv:0705.1025v2                                  Algorithms   \n",
       "19        ArXiv:0705.1025v2                                  Algorithms   \n",
       "20        ArXiv:0705.1025v2                                  Algorithms   \n",
       "21        ArXiv:0705.1025v2                                  Algorithms   \n",
       "22        ArXiv:0705.1025v2                                  Algorithms   \n",
       "23        ArXiv:0705.1750v6                                  Algorithms   \n",
       "24        ArXiv:0705.1750v6                                  Algorithms   \n",
       "25        ArXiv:0705.1750v6                                  Algorithms   \n",
       "26        ArXiv:0705.1750v6                                  Algorithms   \n",
       "27        ArXiv:0705.1750v6                                  Algorithms   \n",
       "28        ArXiv:0710.1525v2                       Information Retrieval   \n",
       "29        ArXiv:0711.2157v3                                  Algorithms   \n",
       "...                     ...                                         ...   \n",
       "1901685  BMED.PUI:616811122                        Biochemistry Methods   \n",
       "1901686  BMED.PUI:616811449                               Food Products   \n",
       "1901687  BMED.PUI:616811449                       Agricultural Products   \n",
       "1901688  BMED.PUI:616816281                       Developmental Biology   \n",
       "1901689  BMED.PUI:616866287                                 Time Period   \n",
       "1901690  BMED.PUI:616866287                               Earth History   \n",
       "1901691  BMED.PUI:616824381                          Biological Process   \n",
       "1901692  BMED.PUI:616824381                           Molecular Biology   \n",
       "1901693  BMED.PUI:616824381                                    Genetics   \n",
       "1901694  BMED.PUI:616824381                                  Immunology   \n",
       "1901695  BMED.PUI:616824381                                  Immunology   \n",
       "1901696  BMED.PUI:616824645                                 Body Region   \n",
       "1901697  BMED.PUI:616835854                                       Abuse   \n",
       "1901698  BMED.PUI:616835854                                 Area of Law   \n",
       "1901703  BMED.PUI:616863183                               Food Products   \n",
       "1901704  BMED.PUI:616863183                       Agricultural Products   \n",
       "1901705  BMED.PUI:616992605                             Equine Medicine   \n",
       "1901706  BMED.PUI:616879610                      Cognitive Neuroscience   \n",
       "1901707  BMED.PUI:616879610                        Cognitive Psychology   \n",
       "1901708  BMED.PUI:616913669                       Environmental Science   \n",
       "1901709  BMED.PUI:616913669                                    Agronomy   \n",
       "1901710  BMED.PUI:616918105                      Genitourinary Disorder   \n",
       "1901712  BMED.PUI:616937870                  Physical Organic Chemistry   \n",
       "1901713  BMED.PUI:616937870                         Inorganic Chemistry   \n",
       "1901714  BMED.PUI:616937870                        Analytical Chemistry   \n",
       "1901715  BMED.PUI:616937870                        Biochemistry Methods   \n",
       "1901716  BMED.PUI:616937870  Biological Sciences Research Methodologies   \n",
       "1901717  BMED.PUI:616937870                                  Immunology   \n",
       "1901718  BMED.PUI:616937870                                  Immunology   \n",
       "1901719  BMED.PUI:616937870                  Materials Characterization   \n",
       "\n",
       "                                                     title     used_as  \n",
       "0        Chiral phase transitions: focus driven critica...  validation  \n",
       "1        Competition between fluctuations and disorder ...  validation  \n",
       "2                         Force on an Asymmetric Capacitor  validation  \n",
       "3          Quantum walk algorithm for element distinctness  validation  \n",
       "4        Worst-Case Optimal Tree Layout in External Memory  validation  \n",
       "5        Worst-Case Optimal Tree Layout in External Memory  validation  \n",
       "6        Worst-Case Optimal Tree Layout in External Memory  validation  \n",
       "7        Worst-Case Optimal Tree Layout in External Memory  validation  \n",
       "8        Worst-Case Optimal Tree Layout in External Memory  validation  \n",
       "9        Optimal Prefix Codes with Fewer Distinct Codew...  validation  \n",
       "10       Optimal Prefix Codes with Fewer Distinct Codew...  validation  \n",
       "11           A Polynomial Invariant for Flat Virtual Links  validation  \n",
       "12        SISO APP Searches in Lattices with Tanner Graphs    training  \n",
       "13        SISO APP Searches in Lattices with Tanner Graphs    training  \n",
       "14       Nearly-Linear Time Algorithms for Precondition...  validation  \n",
       "15         Graph Operations on Clique-Width Bounded Graphs  validation  \n",
       "16                     A Polynomial Time Algorithm for SAT    training  \n",
       "17       Iterative Rounding for the Closest String Problem  validation  \n",
       "18             Recognizing Partial Cubes in Quadratic Time    training  \n",
       "19             Recognizing Partial Cubes in Quadratic Time    training  \n",
       "20             Recognizing Partial Cubes in Quadratic Time    training  \n",
       "21             Recognizing Partial Cubes in Quadratic Time    training  \n",
       "22             Recognizing Partial Cubes in Quadratic Time    training  \n",
       "23       A Tighter Analysis of Setcover Greedy Algorith...    training  \n",
       "24       A Tighter Analysis of Setcover Greedy Algorith...    training  \n",
       "25       A Tighter Analysis of Setcover Greedy Algorith...    training  \n",
       "26       A Tighter Analysis of Setcover Greedy Algorith...    training  \n",
       "27       A Tighter Analysis of Setcover Greedy Algorith...    training  \n",
       "28       Efficient Optimally Lazy Algorithms for Minima...  validation  \n",
       "29                     On Approximating Multi-Criteria TSP    training  \n",
       "...                                                    ...         ...  \n",
       "1901685  Optically stimulated luminescence study in rar...    training  \n",
       "1901686  A walnut-containing meal had similar effects o...    training  \n",
       "1901687  A walnut-containing meal had similar effects o...    training  \n",
       "1901688  Mutation of the Sp1 binding site in the 5' fla...    training  \n",
       "1901689  Mio-Pliocene aridity in the south-central Ande...    training  \n",
       "1901690  Mio-Pliocene aridity in the south-central Ande...    training  \n",
       "1901691  A Family of Single Copy repABC-Type Shuttle Ve...  validation  \n",
       "1901692  A Family of Single Copy repABC-Type Shuttle Ve...  validation  \n",
       "1901693  A Family of Single Copy repABC-Type Shuttle Ve...  validation  \n",
       "1901694  A Family of Single Copy repABC-Type Shuttle Ve...  validation  \n",
       "1901695  A Family of Single Copy repABC-Type Shuttle Ve...  validation  \n",
       "1901696  It's a cod! Finding Nemo (impacted fishbone) i...    training  \n",
       "1901697                             Battered baby syndrome    training  \n",
       "1901698                             Battered baby syndrome    training  \n",
       "1901703  An analysis of the porous structure of activat...    training  \n",
       "1901704  An analysis of the porous structure of activat...    training  \n",
       "1901705  Comparison of the vitek MS and bruker matrix-a...    training  \n",
       "1901706  Towards a long-term strategy for voluntary-bas...  validation  \n",
       "1901707  Towards a long-term strategy for voluntary-bas...  validation  \n",
       "1901708  Rapid development of cyanobacterial crust in t...    training  \n",
       "1901709  Rapid development of cyanobacterial crust in t...    training  \n",
       "1901710  Urethral inflammatory response to ureaplasma i...    training  \n",
       "1901712  Novel laser induced photoacoustic spectroscopy...  validation  \n",
       "1901713  Novel laser induced photoacoustic spectroscopy...  validation  \n",
       "1901714  Novel laser induced photoacoustic spectroscopy...  validation  \n",
       "1901715  Novel laser induced photoacoustic spectroscopy...  validation  \n",
       "1901716  Novel laser induced photoacoustic spectroscopy...  validation  \n",
       "1901717  Novel laser induced photoacoustic spectroscopy...  validation  \n",
       "1901718  Novel laser induced photoacoustic spectroscopy...  validation  \n",
       "1901719  Novel laser induced photoacoustic spectroscopy...  validation  \n",
       "\n",
       "[1537087 rows x 6 columns]"
      ]
     },
     "execution_count": 12,
     "metadata": {},
     "output_type": "execute_result"
    }
   ],
   "source": [
    "sub_df"
   ]
  },
  {
   "cell_type": "code",
   "execution_count": 13,
   "metadata": {},
   "outputs": [],
   "source": [
    "# tt = pd.DataFrame(columns=[\"file_id\", \"abstract\", \"labels\", \"label_id\", \"used_as\"])\n",
    "def group_fn(undo_join, group_id):\n",
    "    tt = {}\n",
    "    temp_df = undo_join.get_group(group_id)\n",
    "    #if len(temp_df) > 1:        \n",
    "    fileid = group_id\n",
    "    abstract = list(set(list(temp_df[\"abstract\"])))[0]\n",
    "    labels = list(set(list(temp_df[\"label\"])))\n",
    "    label_id = list(set(list(temp_df[\"conceptid\"])))\n",
    "    usedas = list(set(list(temp_df[\"used_as\"])))[0]\n",
    "    tt = {\"file_id\": fileid,\n",
    "         \"abstract\": abstract,\n",
    "         \"labels\": labels,\n",
    "         \"label_id\": label_id,\n",
    "         \"used_as\": usedas}\n",
    "\n",
    "    return tt"
   ]
  },
  {
   "cell_type": "code",
   "execution_count": null,
   "metadata": {
    "scrolled": true
   },
   "outputs": [],
   "source": [
    "new_df = []\n",
    "for gid, gvals in groupeddf.groups.items():\n",
    "    \n",
    "    tempdf = groupeddf.get_group(gid)\n",
    "    sub_df2 = tempdf[[\"abstract\", \"conceptid\", \"file_id\", \"label\", \"title\", \"used_as\"]]    \n",
    "    sub_df2 = sub_df2.drop_duplicates()\n",
    "    undo_join = sub_df2.groupby(\"file_id\")\n",
    "\n",
    "    out = Parallel(n_jobs=12, prefer=\"threads\")(delayed(group_fn)(undo_join, group_id) for group_id, group_vals in tqdm(undo_join.groups.items()))\n",
    "    new_df.append(out)    "
   ]
  },
  {
   "cell_type": "code",
   "execution_count": null,
   "metadata": {},
   "outputs": [],
   "source": [
    "rer = pd.DataFrame(new_df[0]).append(pd.DataFrame(new_df[1]))"
   ]
  },
  {
   "cell_type": "code",
   "execution_count": null,
   "metadata": {},
   "outputs": [],
   "source": [
    "rer = rer.reset_index()"
   ]
  },
  {
   "cell_type": "code",
   "execution_count": 4,
   "metadata": {},
   "outputs": [],
   "source": [
    "main = \"../../../Starspace/data/oms/text/jan_oms.tsv\""
   ]
  },
  {
   "cell_type": "code",
   "execution_count": 5,
   "metadata": {},
   "outputs": [],
   "source": [
    "rer = pd.read_csv(main, sep=\"\\t\", encoding=\"utf-8\")"
   ]
  },
  {
   "cell_type": "code",
   "execution_count": 6,
   "metadata": {
    "scrolled": false
   },
   "outputs": [],
   "source": [
    "# rer[rer[\"doc_len\"] < 5].to_csv(\"weird.csv\", index=False, encoding=\"utf-8\")\n",
    "rer[\"text\"] = rer[\"abstract\"].apply(lambda x: document_preprocess(x))"
   ]
  },
  {
   "cell_type": "code",
   "execution_count": 7,
   "metadata": {},
   "outputs": [],
   "source": [
    "rer[\"doc_len\"] = rer[\"text\"].apply(lambda x: len(x.split(\" \")))"
   ]
  },
  {
   "cell_type": "code",
   "execution_count": 18,
   "metadata": {},
   "outputs": [
    {
     "data": {
      "text/plain": [
       "['submitted notes discussions american journal physics',\n",
       " 'paper withdrawn author similarity author paper',\n",
       " 'pedagological introduction effective field theory presented',\n",
       " 'formula matrix exponentials partial fraction decompositions',\n",
       " 'research announcement theory orbifold quantum cohomology',\n",
       " 'paper withdrawn authors crucial mistake lemma',\n",
       " 'possible generalization method orbits slq discussed',\n",
       " 'paper withdrawn author presented idea wrong',\n",
       " 'paper withdrawn author presented idea wrong',\n",
       " 'paper withdrawn material revised paper math',\n",
       " 'proof generation gravitational waves physically impossible',\n",
       " 'martin axiom imply automorphisms aleph trivial',\n",
       " 'paper withdrawn unclearness notions material based',\n",
       " 'simulation trading activity based implementation book',\n",
       " 'present elliptic version selberg integral formula',\n",
       " 'paper withdrawn mistakes proofs proposition theorem',\n",
       " 'construct non separable algebra prime primitive',\n",
       " 'proof set real numbers denumerable given',\n",
       " 'paper gives conditions singular foliation resolved',\n",
       " 'unified rtt presentation super yangians osp',\n",
       " 'withdrawn paper results published math math',\n",
       " 'paper withdrawn much improved version hep',\n",
       " 'proof smale mean value conjecture given',\n",
       " 'physics introduced semantics formal set theory',\n",
       " 'paper withdrawn new simulations modify results',\n",
       " 'continuum hypothesis compact homogeneous strong space',\n",
       " 'derive three dimensional integrable mappings invariants',\n",
       " 'correspondence spaces walls cat cube complexes',\n",
       " 'determine ideal structure toeplitz algebra bidisk',\n",
       " 'paper withdrawn authors excessive repetition hep',\n",
       " 'paper divided papers arxiv arxiv arxiv',\n",
       " 'paper withdrawn author error main argument',\n",
       " 'paper withdrawn author proof lemma correct',\n",
       " 'paper withdrawn author crucial argument error',\n",
       " 'proof riemann hypothesis reflection principle presented',\n",
       " 'discussion least angle regression efron math',\n",
       " 'discussion least angle regression efron math',\n",
       " 'discussion least angle regression efron math',\n",
       " 'discussion least angle regression efron math',\n",
       " 'discussion least angle regression efron math',\n",
       " 'rejoinder least angle regression efron math',\n",
       " 'exhibit dispersionless limit extended discrete hierarchy',\n",
       " 'notes aim introduction aspects noncommutative geometry',\n",
       " 'report status ildg middleware working group',\n",
       " 'effect random quantum transverse field omega',\n",
       " 'classify left invariant metrics nonnegative curvature',\n",
       " 'polynomial filled julia set interior computable',\n",
       " 'present current status trigger run tevatron',\n",
       " 'elementary account special relativity school children',\n",
       " 'construct smooth manifolds homeomorphic diffeomorphic bar',\n",
       " 'results obtained paper foundations physics correct',\n",
       " 'spectral triples deformed spheres dimension reviewed',\n",
       " 'article short introduction combinatorial dynamics topologists',\n",
       " 'article short introduction pcf theory topologists',\n",
       " 'paper withdrawn change content errors examples',\n",
       " 'paper briefly discuss mathematical concept economics',\n",
       " 'withdrawn authors submitting policy required journals',\n",
       " 'public lecture given fields institute june',\n",
       " 'paper withdrawn authors mistake proof theorem',\n",
       " 'paper withdrawn contents subsumed section arxiv',\n",
       " 'discussion breakdown groups davies gather math',\n",
       " 'discussion breakdown groups davies gather math',\n",
       " 'discussion breakdown groups davies gather math',\n",
       " 'discussion breakdown groups davies gather math',\n",
       " 'discussion breakdown groups davies gather math',\n",
       " 'proved number expressed sum old primes',\n",
       " 'prove nodal hypersurface degree factorial nodes',\n",
       " 'scott set nonrecursive set turing incomparable',\n",
       " 'algebraic deformation theory dialgebra morphisms obtained',\n",
       " 'paper withdrawn author final version math',\n",
       " 'article taken change contents immediate effect',\n",
       " 'purpose note correct statements assertions cite',\n",
       " 'comment classifier technology illusion progress math',\n",
       " 'comment classifier technology illusion progress math',\n",
       " 'rejoinder classifier technology illusion progress math',\n",
       " 'note combinatorial characterization unmixed bipartite graphs',\n",
       " 'arxiv administrator withdrew article duplicate math',\n",
       " 'paper withdrawn authors request jpcb editor',\n",
       " 'paper proved special case ddvv conjecture',\n",
       " 'practical implementation modular eballot proposed ref',\n",
       " 'present statistical approach combining signal significances',\n",
       " 'comment causal inference medical area math',\n",
       " 'comment place death quality life math',\n",
       " 'comment support vector machines applications math',\n",
       " 'comment support vector machines applications math',\n",
       " 'comment support vector machines applications math',\n",
       " 'rejoinder support vector machines applications math',\n",
       " 'constant mean curvature noids platonic symmetries',\n",
       " 'comment path summation formulation master equation',\n",
       " 'paper concerns number lattice points circle',\n",
       " 'prove vanishing results hochschild maclane homologies',\n",
       " 'remark paper birkar cascini hacon mckernan',\n",
       " 'new property minimal surfaces obtained article',\n",
       " 'define tensor product braided hopf algebras',\n",
       " 'article withdrawn mistake main result paper',\n",
       " 'note withdrawn result proof available literature',\n",
       " 'propose notion theory motivated category theory',\n",
       " 'final version appear archiv der mathematik',\n",
       " 'comment expert elicitation reliable design arxiv',\n",
       " 'comment expert elicitation reliable design arxiv',\n",
       " 'rejoinder expert elicitation reliable design arxiv',\n",
       " 'new mechanism parity doublers hadrons suggested',\n",
       " 'paper withdrawn author significant error section',\n",
       " 'copy article authors published duke math',\n",
       " 'special case closed subsets briefly discussed',\n",
       " 'paper approximate learn function metric spaces',\n",
       " 'deaconu renault groupoid study wavelets fractals',\n",
       " 'characterization real numbers constructible paper folding',\n",
       " 'actual infinity forms discussed searched found',\n",
       " 'example showing tight closure commute localization',\n",
       " 'survey analytic theory matrix orthogonal polynomials',\n",
       " 'construct representations invariant ring cohen macaulay',\n",
       " 'examples non cohen macaulay invariant rings',\n",
       " 'author states exact expression distribution primes',\n",
       " 'paper withdrawn error proof main theorem',\n",
       " 'paper characterize algebra generated partial isometries',\n",
       " 'complete description order invariants planar curves',\n",
       " 'paper withdrawn author presented idea wrong',\n",
       " 'prove result title geometry euclidean buildings',\n",
       " 'paper withdrawn author possible counter examples',\n",
       " 'paper withdrawn author lemma general subspace',\n",
       " 'reply comment arxiv vidal dusuel schmidt',\n",
       " 'homogeneous identity minors provide identity minors',\n",
       " 'alpha binary word critical exponent alpha',\n",
       " 'english translation edmund landau doctoral dissertation',\n",
       " 'rejoinder statistical analysis archeological find arxiv',\n",
       " 'article covers talk gathering gardner additions',\n",
       " 'short note deals applications beta function',\n",
       " 'survey article ams summer institute seattle',\n",
       " 'survey functor big adic witt vectors',\n",
       " 'paper withdrawn subsumed new preprint arxiv',\n",
       " 'paper withdrawn author critical mistake page',\n",
       " 'paper withdrawn author error proof theorem',\n",
       " 'perverse filtration cohomology lefschetz hyperplane theorem',\n",
       " 'certain new inequalities sums factorials presented',\n",
       " 'prove interval contains dimensional canonical thresholds',\n",
       " 'paper withdrawn author extremely unscientific errors',\n",
       " 'understanding transition turbulence impeded modeling oversight',\n",
       " 'final version appear mathematical research letters',\n",
       " 'short note presents viewpoint medical robotics',\n",
       " 'concrete example existential map continua confluent',\n",
       " 'comment lancaster probabilities gibbs sampling arxiv',\n",
       " 'comment random scan gibbs samplers arxiv',\n",
       " 'paper withdrawn author error proof proposition',\n",
       " 'smooth maps dense volume preserving maps',\n",
       " 'life mathematical legacy great mathematician pogorelov',\n",
       " 'life mathematical legacy great mathematician pogorelov',\n",
       " 'short proof theorem albert application lattices',\n",
       " 'unified approach results problems nonclassical logics',\n",
       " 'method presented consistent inconsistent axiomatic systems',\n",
       " 'construct combinatorial model julia set endomorphism',\n",
       " 'shown hilb has exactly irreducible components',\n",
       " 'final version appear commentarii mathematici helvetici',\n",
       " 'uniqueness measure maximal entropy regular automorphisms',\n",
       " 'approximation algorithm maximum traveling salesman problem',\n",
       " 'paper withdrawn author error inequality inequality',\n",
       " 'ethemba provides framework demonstrator tpm applications',\n",
       " 'paper withdrawn author crucial error page',\n",
       " 'methods calabi yau differential equations discussed',\n",
       " 'paper withdrawn proof main theorem incomplete',\n",
       " 'present planar hypohamiltonian graph vertices consequences',\n",
       " 'attempt new kind complexity anthropology considered',\n",
       " 'finite simple groups lie type expanders',\n",
       " 'criterion hnn extension finite group residually',\n",
       " 'lecture notes introductory course elementary particles',\n",
       " 'second devoted proof main results mentionned',\n",
       " 'example sofic group limit amenable groups',\n",
       " 'article panoramic view semi classical analysis',\n",
       " 'paper withdrawn replaced preprints arxiv arxiv',\n",
       " 'paper works local multiplicative splitting bordism',\n",
       " 'survey results known sampling computational geometry',\n",
       " 'prove stability version ekopa leindler inequality',\n",
       " 'paper classifies maximal finite subgroups conjugacy',\n",
       " 'paper prove certain theorems consecutive primes',\n",
       " 'paper prove sufficient conditions solvability groups',\n",
       " 'article withdrawn error proof main result',\n",
       " 'shall refinement arithmetic geometric mean inequality',\n",
       " 'prove uniformization theorem complex algebraic geometry',\n",
       " 'classification theorem conformal flat manifolds proved',\n",
       " 'given program realization lexicon lexicographical procedure',\n",
       " 'classify primitive ideals generalized down algebras',\n",
       " 'extend holographic formula critical curvature curvatures',\n",
       " 'article discusses aspects dirac work familiar',\n",
       " 'paper withdrawn gap proof main result',\n",
       " 'paper proved pluripolarity graphs algebroid functions',\n",
       " 'define khovanov homology mod graph links',\n",
       " 'new complete invariant acyclic graphs presented',\n",
       " 'paper withdrawn error equations extended portion',\n",
       " 'prove non commutative laurent phenomenon variables',\n",
       " 'proove bloch theorem complex projective plane',\n",
       " 'correction article journal differential equations volume',\n",
       " 'kaehler affine curvature model realized geometrically',\n",
       " 'review known published applications quasigroups cryptology',\n",
       " 'study behavior surfaces immersed psl tau',\n",
       " 'impossible prove outcome quantum measurement random',\n",
       " 'paper withdrawn author crucial error equation',\n",
       " 'summarize major results number theory decade',\n",
       " 'classify squarefree ideals gotzmann polynomial ring',\n",
       " 'introduction papers modeling analysis network data',\n",
       " 'definition euler class group noetherian ring',\n",
       " 'brief characterisation purposes forms documentation spreadsheets',\n",
       " 'introduction papers modeling analysis network data',\n",
       " 'rejoinder the future indirect evidence arxiv',\n",
       " 'lower bounds dimension hopf algebras given',\n",
       " 'paper withdrawn author crucial error equation',\n",
       " 'paper obtained necessary suffcient condition series',\n",
       " 'shown theoretically speed light depend direction',\n",
       " 'study existing linear algebra libraries use',\n",
       " 'explicit description nerve crossed module categories',\n",
       " 'problem khovanov homology manifolds discussed paper',\n",
       " 'notes observations analytic functions defined annulus',\n",
       " 'study normed groupoids dilations induced deformations',\n",
       " 'attempt algebraic structure complex harmonic oscillator',\n",
       " 'ongoing planned enhancements pierre auger observatory',\n",
       " 'atomic layer deposition high oxides graphene',\n",
       " 'proof decidability hdl ultimate periodicity problem',\n",
       " 'new simpler proof theorem jayne rogers',\n",
       " 'introduce concept protometric present properties protometrics',\n",
       " 'wireless mesh cubes improve channel signaling',\n",
       " 'paper withdrawn authors crucial gap estimates',\n",
       " 'analytic description volume graded linear series',\n",
       " 'article expanded version talk gathering gardner',\n",
       " 'ring power operations morava theory koszul',\n",
       " 'paper withdrawn author error estimate lemma',\n",
       " 'abstract hadron hadron cross sections beginning',\n",
       " 'new method presented design incoherent dictionaries',\n",
       " 'overview recent developments plurifine potential theory',\n",
       " 'comment letter rupp phys rev lett',\n",
       " 'new trinomial recombination tree algorithm applications',\n",
       " 'paper investigate distribution zeros boubaker polynomials',\n",
       " 'argument firewalls based entropy relations refuted',\n",
       " 'correct error article property hecke pairs',\n",
       " 'study spectrum volterra composition operator space',\n",
       " 'integration theory linear ordinary differential equation',\n",
       " 'injective hulls odd cycles described explicitly',\n",
       " 'introduce design optimization considerations khmer package',\n",
       " 'recollections austrian geometer heinrich brauner german',\n",
       " 'gersten witt cohomologies hirzebruch surfaces computed',\n",
       " 'propose list open problems numerical semigroups',\n",
       " 'editorial organizers summarize facts background event',\n",
       " 'paper withdrawn author favor private review',\n",
       " 'theorem perpendiculars holds dimensional space form',\n",
       " 'discuss particle colliders ada vep cbx',\n",
       " 'problem number dimension related observations discussed',\n",
       " 'paper improve classical multiplicative ergodic theorem',\n",
       " 'prove result divisibility truncated hypergeometric function',\n",
       " 'simple proof ambiguous class number formula',\n",
       " 'survey state union closed sets conjecture',\n",
       " 'analogues kolmogorov comparison theorems applications established',\n",
       " 'rational number occurs fractional dedekind sum',\n",
       " 'paper crossing number complete multipartite graphs',\n",
       " 'primes ldots distinct modulo conjectured primes',\n",
       " 'general theorem fibers singular sets presented',\n",
       " 'study automorphisms affine line rings like',\n",
       " 'short note expression numbers polynomial reducible',\n",
       " 'algebraic approach groupoids started zakrzewski presented',\n",
       " 'proceedings workshop robotics challenges vision rcv',\n",
       " 'short review advanced superconducting circuits devices',\n",
       " 'short tutorial different software design methodologies',\n",
       " 'written chapter engineering chemical complexity abstract',\n",
       " 'establish existence quantum lift greedy basis',\n",
       " 'prove freiheitssatz variety generic poisson algebras',\n",
       " 'completeness gaussians hilbert functional space established',\n",
       " 'obtained upper bounds pseudocharacter space point',\n",
       " 'introduce notion retract investigate connection retracts',\n",
       " 'paper discusses uniqueness sets fourier series',\n",
       " 'response comments american psychologist article arxiv',\n",
       " 'article summarizes recent trends mobile biometrics',\n",
       " 'determine couples singular moduli rational products',\n",
       " 'definitions relative symplectic steinberg group coincide',\n",
       " 'necessary sufficient condition graph satisfies equality',\n",
       " 'investigate operator monotonicity functions considered szabo',\n",
       " 'sequence function alternative representation state machines',\n",
       " 'short paper overview woodin surgery method',\n",
       " 'sharp quantitative polygonal isoperimetric inequality obtained',\n",
       " 'paper dedicated memory valery anatolievich senderov',\n",
       " 'collection solutions exercises proposed bayesian essentials',\n",
       " 'respond criticisms recent paper buchert arxiv',\n",
       " 'derive symplectic analogue directed immersion theorem',\n",
       " 'facebook essential university students daily life',\n",
       " 'prove lucas type congruence delannoy numbers',\n",
       " 'characterize matrices powers coincide hadamard powers',\n",
       " 'computably random computable monotone function differentiable',\n",
       " 'note comments review appeared mathematical reviews',\n",
       " 'completeness recognition problem line bend graphs',\n",
       " 'countable topological group closed discrete subset',\n",
       " 'exists geodesic spanner linear number edges',\n",
       " 'present results icon challenge algorithm selection',\n",
       " 'construct twisted versions wild character varieties',\n",
       " 'paper specifies notation markov decision processes',\n",
       " 'description essence language tool savile row',\n",
       " 'comment kundhikanjana prl earlier kundhikanjana arxiv',\n",
       " 'discuss non intuitive situation concerning percentages',\n",
       " 'study generalized abreu equation derive estimates',\n",
       " 'editorial special issue cosmic dust vii',\n",
       " 'prove there mad families equiconsistent zfc',\n",
       " 'construct borel maximal eventually different family',\n",
       " 'study properties shy maps digital topology',\n",
       " 'graph theoretically characterize class graphs buchsbaum',\n",
       " 'halting problem ill conceived ill defined',\n",
       " 'response william wilson limits fallibility science',\n",
       " 'prove heat content determines planar triangles',\n",
       " 'extended study dunwoody construction sageev theorem',\n",
       " 'review radio detection high energy neutrinos',\n",
       " 'determinant functeurs rhom connected homotopy types',\n",
       " 'answer question gromov waist unit ball',\n",
       " 'comment paper arxiv jin appear aoas',\n",
       " 'conjectures manin peyre confirmed certain threefold',\n",
       " 'work progress concerning alternative formalizations arithmetic',\n",
       " 'compute symbols category polynomial representations infty',\n",
       " 'suggestion mending multicore hardware diagnosed broken',\n",
       " 'collection problems exercises geodesy theory errors',\n",
       " 'editorial special issue cosmic dust viii',\n",
       " 'misleading statements recent paper pre corrected',\n",
       " 'volume contraction obeys large deviation rule',\n",
       " 'new integrable cases construction previous version',\n",
       " 'comment zanette manrubia phys rev lett',\n",
       " 'tracelike probability expressed leptons quarks hamiltonians',\n",
       " 'paper withdrawn author incomplete interpretation results',\n",
       " 'hydroxytetralin converted methoxy isopropyl tetralone steps',\n",
       " 'incidence coccidiosis falcon reported postmortem observation',\n",
       " 'graphical abstractfig comparison predicted measured results',\n",
       " 'graphical abstractinversion torsion potential function methylamine',\n",
       " 'graphical abstractsyn anti conformer ethyl trifluoroacetate',\n",
       " 'graphical abstractsurvey spectrum nir emission lisb',\n",
       " 'graphical abstractthe diagram ymoo crystal structure',\n",
       " 'graphical abstractcubic structures perovskite oxides abc',\n",
       " 'graphical abstractrelative biological activities interferon derivatives',\n",
       " 'graphical abstractinhibitory activity coli smegmatis dxrs',\n",
       " 'graphical abstractfrom crystal structure vibration spectrum',\n",
       " 'high school exercise insight planetary motion',\n",
       " 'paper withdrawn author crucial error formulation',\n",
       " 'discussion least angle regression efron math',\n",
       " 'paper withdrawn authors crucial error calculation',\n",
       " 'short note amplify comments paper prl',\n",
       " 'paper einstein develops crucial ideas superconductivity',\n",
       " 'paper withdrawn author gap proof lemma',\n",
       " 'survey article appear handbook teichmueller theory',\n",
       " 'radius star shaped set need continuous',\n",
       " 'paper withdrawn author error proof theorem',\n",
       " 'prove theorem additive levy processes applications',\n",
       " 'comment expert elicitation reliable design arxiv',\n",
       " 'paper survey recent develpoments ddvv conjecture',\n",
       " 'correction bernoulli http projecteuclid org euclid',\n",
       " 'paper withdrawn author crucial error example',\n",
       " 'prove decidability elementary theory free group',\n",
       " 'correction annals applied statistics doi aoas',\n",
       " 'paper withdrawn authors technical problems paper',\n",
       " 'results recent paper hinde prl discussed',\n",
       " 'paper withdrawn wrong analysis obtained results',\n",
       " 'relativistic thermodynamics result recent simulations derived',\n",
       " 'shown that generalized space form equals',\n",
       " 'shown question raised section affirmative answer',\n",
       " 'thesis recursive bayesian filters data assimilation',\n",
       " 'prove einstein coclosed structures nearly parallel',\n",
       " 'paper administratively withdrawn arxiv duplicate arxiv',\n",
       " 'study group rings group units hyperbolic',\n",
       " 'prove claims trapping antihydrogen premature false',\n",
       " 'paper studied soliton solutions integrable equation',\n",
       " 'prove frac log sqrt grothendieck constant',\n",
       " 'prove new theorem multiparameter singular integrals',\n",
       " 'classification ideals rep delta arbitrary delta',\n",
       " 'alternative explanation noise manganites suggested discussed',\n",
       " 'completely solved equivalence problem painleve equation',\n",
       " 'study relations minimal usco cusco maps',\n",
       " 'pareidolic conjecture fermi large area telescope',\n",
       " 'random group contains quasiconvex surface subgroups',\n",
       " 'prove monster contain subgroup isomorphic psl',\n",
       " 'definition number prime numbers given interval',\n",
       " 'characterize connected graphs second distance eigenvalue',\n",
       " 'maximal ideal commutative banach algebra codimension',\n",
       " 'survey article hilbert kunz multiplicity signature',\n",
       " 'survey recent results resolutions hibi rings',\n",
       " 'note gives new construction takayasu cofibrations',\n",
       " 'prove classification theorem hankel weighing matrices',\n",
       " 'chapter forthcoming oxford handbook economics networks',\n",
       " 'review sandwich theorems theory convex functions',\n",
       " 'article provides counterexample conjecture blocki zwonek',\n",
       " 'sup times inf inequality elliptic equation',\n",
       " 'second papers establishing structural properties cal',\n",
       " 'study heisenberg uncertainty relations simple system',\n",
       " 'fintie group acts topologically faithfully subgroup',\n",
       " 'diameter graph dimensional polyhedron facets log',\n",
       " 'arguments prove consistency internal forcing axioms',\n",
       " 'shown fullerene anion hydrogen like spectrum',\n",
       " 'introduction probabilistic aspects free probability theory']"
      ]
     },
     "execution_count": 18,
     "metadata": {},
     "output_type": "execute_result"
    }
   ],
   "source": [
    "list(rer[rer[\"doc_len\"]==6][\"text\"])"
   ]
  },
  {
   "cell_type": "code",
   "execution_count": null,
   "metadata": {},
   "outputs": [],
   "source": []
  },
  {
   "cell_type": "code",
   "execution_count": 60,
   "metadata": {},
   "outputs": [],
   "source": [
    "dum = rer[rer[\"doc_len\"]>5]\n",
    "dum = dum.drop([\"text\"], axis=1)"
   ]
  },
  {
   "cell_type": "code",
   "execution_count": 61,
   "metadata": {},
   "outputs": [],
   "source": [
    "dum.to_csv(main, sep=\"\\t\", index=False, encoding=\"utf-8\")"
   ]
  },
  {
   "cell_type": "code",
   "execution_count": null,
   "metadata": {},
   "outputs": [],
   "source": []
  },
  {
   "cell_type": "code",
   "execution_count": 27,
   "metadata": {},
   "outputs": [],
   "source": [
    "corpus = pd.read_csv(\"../../../Starspace/data/model/oms/oms-d128-init-h.tsv\", encoding=\"utf-8\", sep=\"\\t\", header=None)"
   ]
  },
  {
   "cell_type": "code",
   "execution_count": 30,
   "metadata": {},
   "outputs": [],
   "source": [
    "words = list(corpus[0])"
   ]
  },
  {
   "cell_type": "code",
   "execution_count": 36,
   "metadata": {},
   "outputs": [],
   "source": [
    "with open(\"../../../Starspace/data/oms/text/oms-valid.txt\", \"r\") as f:\n",
    "    r = f.readlines()"
   ]
  },
  {
   "cell_type": "code",
   "execution_count": 48,
   "metadata": {},
   "outputs": [
    {
     "data": {
      "text/plain": [
       "'__label__philosophy-methods __label__philosophic-inquiry highlightsnominalizers develop attitudinal stance markers insubordination nominalization constructions gives rise finite clauses nominalizers combine speaker semantic prosody encode speaker attitude nominalizers combine particles form complex mood markers complex attitudinal nominalizers shed light cartography mood markers\\n'"
      ]
     },
     "execution_count": 48,
     "metadata": {},
     "output_type": "execute_result"
    }
   ],
   "source": [
    "r[8207]"
   ]
  },
  {
   "cell_type": "code",
   "execution_count": 45,
   "metadata": {},
   "outputs": [
    {
     "data": {
      "text/plain": [
       "'patients'"
      ]
     },
     "execution_count": 45,
     "metadata": {},
     "output_type": "execute_result"
    }
   ],
   "source": [
    "words.pop(0)"
   ]
  },
  {
   "cell_type": "code",
   "execution_count": 46,
   "metadata": {},
   "outputs": [
    {
     "data": {
      "text/plain": [
       "'study'"
      ]
     },
     "execution_count": 46,
     "metadata": {},
     "output_type": "execute_result"
    }
   ],
   "source": [
    "words[0]"
   ]
  },
  {
   "cell_type": "code",
   "execution_count": null,
   "metadata": {},
   "outputs": [],
   "source": [
    "t.append(t)"
   ]
  },
  {
   "cell_type": "code",
   "execution_count": null,
   "metadata": {},
   "outputs": [],
   "source": [
    "pd.DataFrame(t)"
   ]
  },
  {
   "cell_type": "code",
   "execution_count": null,
   "metadata": {},
   "outputs": [],
   "source": []
  },
  {
   "cell_type": "code",
   "execution_count": null,
   "metadata": {},
   "outputs": [],
   "source": [
    "rer.shape"
   ]
  },
  {
   "cell_type": "code",
   "execution_count": 62,
   "metadata": {},
   "outputs": [],
   "source": [
    "valid_indx = np.where(dum[\"used_as\"]==\"validation\")[0]\n",
    "train_indx = np.where(dum[\"used_as\"]==\"training\")[0]\n",
    "# test_indx = np.where(all_df[\"used_as\"]==\"unused\")[0]"
   ]
  },
  {
   "cell_type": "code",
   "execution_count": 63,
   "metadata": {},
   "outputs": [
    {
     "data": {
      "text/plain": [
       "array([484129, 484130, 484131, ..., 583930, 583931, 583932], dtype=int64)"
      ]
     },
     "execution_count": 63,
     "metadata": {},
     "output_type": "execute_result"
    }
   ],
   "source": [
    "valid_indx"
   ]
  },
  {
   "cell_type": "code",
   "execution_count": 64,
   "metadata": {},
   "outputs": [],
   "source": [
    "training_labels = dum.loc[train_indx, \"label_id\"]\n",
    "valid_labels = dum.loc[valid_indx, \"label_id\"]"
   ]
  },
  {
   "cell_type": "code",
   "execution_count": 65,
   "metadata": {},
   "outputs": [
    {
     "data": {
      "application/vnd.jupyter.widget-view+json": {
       "model_id": "19cf14eb9a1f44eb8a01cbeb4d52abd5",
       "version_major": 2,
       "version_minor": 0
      },
      "text/plain": [
       "HBox(children=(IntProgress(value=0, max=589171), HTML(value='')))"
      ]
     },
     "metadata": {},
     "output_type": "display_data"
    },
    {
     "name": "stdout",
     "output_type": "stream",
     "text": [
      "\n"
     ]
    }
   ],
   "source": [
    "fil = open(file, \"wb\")\n",
    "for idx in tqdm(rer.index):\n",
    "    tmp = rer.at[idx, \"abstract\"] + \"\\n\"\n",
    "    fil.write(tmp.encode(\"utf-8\"))\n",
    "fil.close()"
   ]
  },
  {
   "cell_type": "code",
   "execution_count": 66,
   "metadata": {},
   "outputs": [],
   "source": [
    "with open(file, \"rb\") as fmain:\n",
    "    reader=fmain.readlines()"
   ]
  },
  {
   "cell_type": "code",
   "execution_count": 67,
   "metadata": {},
   "outputs": [
    {
     "data": {
      "application/vnd.jupyter.widget-view+json": {
       "model_id": "45674e448f6545f9a741967e1697d4f9",
       "version_major": 2,
       "version_minor": 0
      },
      "text/plain": [
       "HBox(children=(IntProgress(value=0, max=589171), HTML(value='')))"
      ]
     },
     "metadata": {},
     "output_type": "display_data"
    },
    {
     "name": "stdout",
     "output_type": "stream",
     "text": [
      "\n"
     ]
    }
   ],
   "source": [
    "preprocessed = []\n",
    "for i, line in enumerate(tqdm(reader)):\n",
    "    preprocessed.append(document_preprocess(line.decode(\"utf-8\")))"
   ]
  },
  {
   "cell_type": "code",
   "execution_count": 68,
   "metadata": {},
   "outputs": [],
   "source": [
    "vectorizer = TfidfVectorizer(max_features = 2000, max_df=0.5)"
   ]
  },
  {
   "cell_type": "code",
   "execution_count": 69,
   "metadata": {},
   "outputs": [
    {
     "data": {
      "text/plain": [
       "TfidfVectorizer(analyzer='word', binary=False, decode_error='strict',\n",
       "        dtype=<class 'numpy.float64'>, encoding='utf-8', input='content',\n",
       "        lowercase=True, max_df=0.5, max_features=2000, min_df=1,\n",
       "        ngram_range=(1, 1), norm='l2', preprocessor=None, smooth_idf=True,\n",
       "        stop_words=None, strip_accents=None, sublinear_tf=False,\n",
       "        token_pattern='(?u)\\\\b\\\\w\\\\w+\\\\b', tokenizer=None, use_idf=True,\n",
       "        vocabulary=None)"
      ]
     },
     "execution_count": 69,
     "metadata": {},
     "output_type": "execute_result"
    }
   ],
   "source": [
    "vectorizer.fit(preprocessed)"
   ]
  },
  {
   "cell_type": "code",
   "execution_count": 70,
   "metadata": {},
   "outputs": [],
   "source": [
    "X = vectorizer.fit_transform(preprocessed)"
   ]
  },
  {
   "cell_type": "code",
   "execution_count": 71,
   "metadata": {},
   "outputs": [
    {
     "data": {
      "text/plain": [
       "<589171x2000 sparse matrix of type '<class 'numpy.float64'>'\n",
       "\twith 23013575 stored elements in Compressed Sparse Row format>"
      ]
     },
     "execution_count": 71,
     "metadata": {},
     "output_type": "execute_result"
    }
   ],
   "source": [
    "X"
   ]
  },
  {
   "cell_type": "code",
   "execution_count": null,
   "metadata": {},
   "outputs": [],
   "source": [
    "0.001, 100 - 47818\n",
    "0.01, 100 - 499619 "
   ]
  },
  {
   "cell_type": "code",
   "execution_count": null,
   "metadata": {},
   "outputs": [],
   "source": []
  },
  {
   "cell_type": "code",
   "execution_count": null,
   "metadata": {},
   "outputs": [],
   "source": [
    "X[:3].todense()"
   ]
  },
  {
   "cell_type": "code",
   "execution_count": null,
   "metadata": {},
   "outputs": [],
   "source": [
    "t = set(training_labels)\n",
    "v = set(valid_labels)"
   ]
  },
  {
   "cell_type": "code",
   "execution_count": null,
   "metadata": {},
   "outputs": [],
   "source": [
    "labels = pd.read_csv(\"../../../Starspace/data/model/oms/oms-d64-2-h.tsv\", sep = \"\\t\", encoding=\"utf-8\", header=None)"
   ]
  },
  {
   "cell_type": "code",
   "execution_count": null,
   "metadata": {},
   "outputs": [],
   "source": [
    "labels.tail(5)"
   ]
  },
  {
   "cell_type": "code",
   "execution_count": null,
   "metadata": {},
   "outputs": [],
   "source": [
    "labes = pd.read_csv(\"../../../Starspace/data/model/oms/oms-d64-2-hless.tsv\", sep = \"\\t\", encoding=\"utf-8\", header=None)"
   ]
  },
  {
   "cell_type": "code",
   "execution_count": null,
   "metadata": {},
   "outputs": [],
   "source": [
    "labes.tail(5)"
   ]
  },
  {
   "cell_type": "code",
   "execution_count": null,
   "metadata": {},
   "outputs": [],
   "source": []
  },
  {
   "cell_type": "code",
   "execution_count": null,
   "metadata": {},
   "outputs": [],
   "source": [
    "labels = pd.read_csv(\"../../../Starspace/data/model/oms/oms-d20-ht.tsv\", sep = \"\\t\", encoding=\"utf-8\", header=None)"
   ]
  },
  {
   "cell_type": "code",
   "execution_count": null,
   "metadata": {},
   "outputs": [],
   "source": [
    "from scipy.spatial import distance"
   ]
  },
  {
   "cell_type": "code",
   "execution_count": null,
   "metadata": {},
   "outputs": [],
   "source": [
    "labels.head(5)"
   ]
  },
  {
   "cell_type": "raw",
   "metadata": {},
   "source": [
    "labels = model_tsv.tail(930)"
   ]
  },
  {
   "cell_type": "code",
   "execution_count": null,
   "metadata": {},
   "outputs": [],
   "source": [
    "np.where(labels[0]==\"__label__historiography\")"
   ]
  },
  {
   "cell_type": "code",
   "execution_count": null,
   "metadata": {},
   "outputs": [],
   "source": [
    "325310 + 614"
   ]
  },
  {
   "cell_type": "code",
   "execution_count": null,
   "metadata": {},
   "outputs": [],
   "source": [
    "u = np.array(labes.iloc[326137][1:]).astype(float)\n",
    "v = np.array(labes.iloc[325992][1:]).astype(float)"
   ]
  },
  {
   "cell_type": "code",
   "execution_count": null,
   "metadata": {},
   "outputs": [],
   "source": [
    "1-distance.cosine(u,v)"
   ]
  },
  {
   "cell_type": "code",
   "execution_count": null,
   "metadata": {},
   "outputs": [],
   "source": []
  },
  {
   "cell_type": "code",
   "execution_count": null,
   "metadata": {},
   "outputs": [],
   "source": []
  },
  {
   "cell_type": "code",
   "execution_count": null,
   "metadata": {},
   "outputs": [],
   "source": []
  },
  {
   "cell_type": "code",
   "execution_count": null,
   "metadata": {},
   "outputs": [],
   "source": []
  },
  {
   "cell_type": "code",
   "execution_count": null,
   "metadata": {},
   "outputs": [],
   "source": []
  },
  {
   "cell_type": "code",
   "execution_count": null,
   "metadata": {},
   "outputs": [],
   "source": [
    "X_train = X[train_indx]\n",
    "X_valid = X[valid_indx]"
   ]
  },
  {
   "cell_type": "code",
   "execution_count": null,
   "metadata": {},
   "outputs": [],
   "source": [
    "tl = list(training_labels)\n",
    "vl = list(valid_labels)"
   ]
  },
  {
   "cell_type": "code",
   "execution_count": null,
   "metadata": {},
   "outputs": [],
   "source": [
    "np.save(\"../../../Starspace/data/oms/tfidf/train_data.npy\", X_train)\n",
    "np.save(\"../../../Starspace/data/oms/tfidf/test_data.npy\", X_valid)\n",
    "np.save(\"../../../Starspace/data/oms/tfidf/train_labels.npy\", tl)\n",
    "np.save(\"../../../Starspace/data/oms/tfidf/test_labels.npy\", vl)"
   ]
  },
  {
   "cell_type": "code",
   "execution_count": null,
   "metadata": {},
   "outputs": [],
   "source": [
    "y = np.load(\"../../hiercost/hiercost/data/oms/train_data.npy\")"
   ]
  },
  {
   "cell_type": "code",
   "execution_count": null,
   "metadata": {},
   "outputs": [],
   "source": [
    "y.item()"
   ]
  },
  {
   "cell_type": "code",
   "execution_count": null,
   "metadata": {},
   "outputs": [],
   "source": [
    "g = -1"
   ]
  },
  {
   "cell_type": "code",
   "execution_count": null,
   "metadata": {},
   "outputs": [],
   "source": [
    "np.array(g).reshape(-1)"
   ]
  },
  {
   "cell_type": "code",
   "execution_count": null,
   "metadata": {},
   "outputs": [],
   "source": []
  },
  {
   "cell_type": "code",
   "execution_count": null,
   "metadata": {},
   "outputs": [],
   "source": []
  },
  {
   "cell_type": "code",
   "execution_count": null,
   "metadata": {},
   "outputs": [],
   "source": []
  },
  {
   "cell_type": "code",
   "execution_count": null,
   "metadata": {},
   "outputs": [],
   "source": []
  },
  {
   "cell_type": "code",
   "execution_count": null,
   "metadata": {},
   "outputs": [],
   "source": [
    "cnt = []\n",
    "other = []\n",
    "for ind in model.index:\n",
    "    try:\n",
    "        if \"__label__\" in model.at[ind, 0]:\n",
    "            cnt.append(ind)\n",
    "        else:\n",
    "            other.append(ind)\n",
    "    except:\n",
    "        other.append(ind)\n",
    "        print(ind, model.at[ind, 0])"
   ]
  },
  {
   "cell_type": "code",
   "execution_count": null,
   "metadata": {},
   "outputs": [],
   "source": [
    "model_labels = model.loc[cnt]"
   ]
  },
  {
   "cell_type": "code",
   "execution_count": null,
   "metadata": {},
   "outputs": [],
   "source": [
    "model_words = model.loc[other]"
   ]
  },
  {
   "cell_type": "code",
   "execution_count": null,
   "metadata": {},
   "outputs": [],
   "source": [
    "label_tsv = model_labels.to_csv(\"C:/Users/harshasivajit/Documents/Starspace/data/model/oms/oms-d64-hless-labels.tsv\",\n",
    "                               sep = \"\\t\", columns=None, header=False, index=False)"
   ]
  },
  {
   "cell_type": "code",
   "execution_count": null,
   "metadata": {},
   "outputs": [],
   "source": [
    "updates_labels_tsv = pd.read_csv(\"C:/Users/harshasivajit/Documents/Starspace/data/model/oms/oms-d64-hless-labels.tsv\",\n",
    "                               sep = \"\\t\", header=None)"
   ]
  },
  {
   "cell_type": "code",
   "execution_count": null,
   "metadata": {},
   "outputs": [],
   "source": [
    "model_labels.head(2)"
   ]
  },
  {
   "cell_type": "code",
   "execution_count": null,
   "metadata": {},
   "outputs": [],
   "source": [
    "updates_labels_tsv.head(2)"
   ]
  },
  {
   "cell_type": "code",
   "execution_count": null,
   "metadata": {},
   "outputs": [],
   "source": [
    "m = model_words.append(updates_labels_tsv, ignore_index=True)"
   ]
  },
  {
   "cell_type": "code",
   "execution_count": null,
   "metadata": {},
   "outputs": [],
   "source": [
    "m.to_csv(\"C:/Users/harshasivajit/Documents/Starspace/data/model/oms/oms-d64-hless.tsv\",\n",
    "                               sep = \"\\t\", columns=None, header=False, index=False)"
   ]
  },
  {
   "cell_type": "code",
   "execution_count": null,
   "metadata": {},
   "outputs": [],
   "source": []
  },
  {
   "cell_type": "code",
   "execution_count": null,
   "metadata": {},
   "outputs": [],
   "source": []
  },
  {
   "cell_type": "code",
   "execution_count": null,
   "metadata": {},
   "outputs": [],
   "source": []
  },
  {
   "cell_type": "code",
   "execution_count": null,
   "metadata": {},
   "outputs": [],
   "source": []
  },
  {
   "cell_type": "code",
   "execution_count": null,
   "metadata": {},
   "outputs": [],
   "source": []
  },
  {
   "cell_type": "code",
   "execution_count": null,
   "metadata": {},
   "outputs": [],
   "source": [
    "s.df[\"label\"] = s.df[\"label\"].apply(lambda x: ast.literal_eval(x)) "
   ]
  },
  {
   "cell_type": "code",
   "execution_count": null,
   "metadata": {},
   "outputs": [],
   "source": [
    "s.df[\"vec\"][0].shape"
   ]
  },
  {
   "cell_type": "code",
   "execution_count": null,
   "metadata": {},
   "outputs": [],
   "source": [
    "def return_x_y(df, split):\n",
    "    x_ = list(df[\"vec\"])\n",
    "    x = np.vstack(x_)\n",
    "    del x_\n",
    "    \n",
    "    y = list(df[\"label\"])\n",
    "    \n",
    "    np.save(\"C:/Users/harshasivajit/Documents/Starspace/data/swiki/text/swiki_{}_data.npy\".format(split), x)\n",
    "    np.save(\"C:/Users/harshasivajit/Documents/Starspace/data/swiki/text/swiki_{}_labels.npy\".format(split), y)\n",
    "    return x, y"
   ]
  },
  {
   "cell_type": "code",
   "execution_count": null,
   "metadata": {},
   "outputs": [],
   "source": [
    "x,y = return_x_y(s.df, \"train\")"
   ]
  },
  {
   "cell_type": "code",
   "execution_count": null,
   "metadata": {},
   "outputs": [],
   "source": [
    "y[0]"
   ]
  },
  {
   "cell_type": "code",
   "execution_count": null,
   "metadata": {},
   "outputs": [],
   "source": [
    "a = [(6, 0), (6, 1), (1, 2), (0, 3), (1, 4), (0, 5)]"
   ]
  },
  {
   "cell_type": "code",
   "execution_count": null,
   "metadata": {},
   "outputs": [],
   "source": [
    "a = [(0,1), (0,2), (1,3), (2,3)]"
   ]
  },
  {
   "cell_type": "code",
   "execution_count": null,
   "metadata": {},
   "outputs": [],
   "source": [
    "b = [(30, 1), (30, 2), (2, 3), (1,3)]"
   ]
  },
  {
   "cell_type": "code",
   "execution_count": null,
   "metadata": {},
   "outputs": [],
   "source": [
    "G = nx.DiGraph()"
   ]
  },
  {
   "cell_type": "code",
   "execution_count": null,
   "metadata": {},
   "outputs": [],
   "source": [
    "G.add_edges_from(a)"
   ]
  },
  {
   "cell_type": "raw",
   "metadata": {},
   "source": [
    "path = \"C:/Users/harshasivajit/Documents/Starspace/data/swiki/cat_hier.txt\""
   ]
  },
  {
   "cell_type": "code",
   "execution_count": null,
   "metadata": {},
   "outputs": [],
   "source": [
    "T = EntityProcessor(path, ' ')"
   ]
  },
  {
   "cell_type": "code",
   "execution_count": null,
   "metadata": {},
   "outputs": [],
   "source": [
    "G = nx.read_graphml(\"C:/Users/harshasivajit/Documents/Starspace/data/oms/cat_hier_graph.graphml\")"
   ]
  },
  {
   "cell_type": "code",
   "execution_count": null,
   "metadata": {},
   "outputs": [],
   "source": [
    "len(G.nodes())"
   ]
  },
  {
   "cell_type": "raw",
   "metadata": {},
   "source": [
    "plt.figure(figsize=(14,8))\n",
    "nx.draw_circular(G, with_labels=True)"
   ]
  },
  {
   "cell_type": "code",
   "execution_count": null,
   "metadata": {},
   "outputs": [],
   "source": [
    "def get_root(graph):\n",
    "    \n",
    "    root = [n for n in graph.nodes() if len(list(graph.predecessors(n)))==0]\n",
    "    \n",
    "    return root"
   ]
  },
  {
   "cell_type": "code",
   "execution_count": null,
   "metadata": {},
   "outputs": [],
   "source": [
    "root = get_root(G)"
   ]
  },
  {
   "cell_type": "code",
   "execution_count": null,
   "metadata": {},
   "outputs": [],
   "source": [
    "root"
   ]
  },
  {
   "cell_type": "code",
   "execution_count": null,
   "metadata": {},
   "outputs": [],
   "source": [
    "# to-do: similar for string\n",
    "def BFS(s): \n",
    "    # applicable only for directed graphs\n",
    "    visited = [0] * (len(G)) \n",
    "    traversal = []\n",
    "    new_edges = []\n",
    "    queue = [] \n",
    "\n",
    "    queue.append(s) \n",
    "    visited[s]+=1\n",
    "\n",
    "    while queue: \n",
    "\n",
    "        s = queue.pop(0) \n",
    "        traversal.append(s)\n",
    "\n",
    "        for i in G.neighbors(s): \n",
    "            queue.append(i) \n",
    "            visited[i] +=1\n",
    "            if visited[i] != 1:\n",
    "#                 pass\n",
    "#                 new_edges.append((s, i+visited[i]+len(G)))\n",
    "                new_edges.append((s, \"{}-{}\".format(s, i)))\n",
    "            else:\n",
    "                new_edges.append((s, i))\n",
    "            \n",
    "    return new_edges"
   ]
  },
  {
   "cell_type": "code",
   "execution_count": null,
   "metadata": {},
   "outputs": [],
   "source": [
    "# Converts DAG to tree. A LOT OF INFORMATION IS LOST THOUGH\n",
    "def BFSs(s): \n",
    "    # applicable only for directed graphs\n",
    "    visited = Counter() \n",
    "    traversal = []\n",
    "    new_edges = []\n",
    "    queue = [] \n",
    "    \n",
    "    curr_node = s[0]\n",
    "    queue.append(curr_node) \n",
    "    visited[curr_node]+=1\n",
    "    while queue: \n",
    "        \n",
    "        s = queue.pop(0) \n",
    "        traversal.append(s)\n",
    "\n",
    "        for i in G.neighbors(s): \n",
    "            queue.append(i) \n",
    "            visited[i] +=1\n",
    "            if visited[i] != 1:\n",
    "#                 pass\n",
    "#                 new_edges.append((s, i+visited[i]+len(G)))\n",
    "                new_edges.append((s, \"{}/{}\".format(s, i)))\n",
    "            else:\n",
    "                new_edges.append((s, i))\n",
    "\n",
    "    return new_edges"
   ]
  },
  {
   "cell_type": "code",
   "execution_count": null,
   "metadata": {
    "scrolled": true
   },
   "outputs": [],
   "source": [
    "new_edges = BFSs(root)"
   ]
  },
  {
   "cell_type": "code",
   "execution_count": null,
   "metadata": {},
   "outputs": [],
   "source": [
    "r = nx.DiGraph()"
   ]
  },
  {
   "cell_type": "code",
   "execution_count": null,
   "metadata": {},
   "outputs": [],
   "source": [
    "r.add_edges_from(new_edges)"
   ]
  },
  {
   "cell_type": "code",
   "execution_count": null,
   "metadata": {},
   "outputs": [],
   "source": [
    "list(set(r.nodes()).difference(G.nodes()))[::-1]"
   ]
  },
  {
   "cell_type": "code",
   "execution_count": null,
   "metadata": {},
   "outputs": [],
   "source": [
    "nx.is_tree(r)"
   ]
  },
  {
   "cell_type": "code",
   "execution_count": null,
   "metadata": {},
   "outputs": [],
   "source": [
    "R = nx.convert_node_labels_to_integers(r)"
   ]
  },
  {
   "cell_type": "code",
   "execution_count": null,
   "metadata": {},
   "outputs": [],
   "source": [
    "plt.figure(figsize=(10,6))\n",
    "nx.draw_circular(r, with_labels=True, node_size=500)"
   ]
  },
  {
   "cell_type": "code",
   "execution_count": null,
   "metadata": {},
   "outputs": [],
   "source": []
  }
 ],
 "metadata": {
  "kernelspec": {
   "display_name": "Python 3",
   "language": "python",
   "name": "python3"
  },
  "language_info": {
   "codemirror_mode": {
    "name": "ipython",
    "version": 3
   },
   "file_extension": ".py",
   "mimetype": "text/x-python",
   "name": "python",
   "nbconvert_exporter": "python",
   "pygments_lexer": "ipython3",
   "version": "3.7.3"
  }
 },
 "nbformat": 4,
 "nbformat_minor": 2
}
