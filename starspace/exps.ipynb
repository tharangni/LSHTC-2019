{
 "cells": [
  {
   "cell_type": "code",
   "execution_count": 1,
   "metadata": {},
   "outputs": [],
   "source": [
    "import os\n",
    "import ast\n",
    "import random\n",
    "import logging\n",
    "import numpy as np\n",
    "import pandas as pd\n",
    "\n",
    "from tqdm import tqdm_notebook as tqdm\n",
    "from collections import OrderedDict\n",
    "\n",
    "import sys\n",
    "sys.path.append('..')"
   ]
  },
  {
   "cell_type": "code",
   "execution_count": 2,
   "metadata": {},
   "outputs": [],
   "source": [
    "class OmniscienceReader(object):\n",
    "    \"\"\"\n",
    "    docstring for OmniscienceReader\n",
    "    [x] preprocess raw text: gensim preprocesser : stop words + stemming + lemma + tokenize + -num\n",
    "    [x] raw text -> word2vec using fasttext\n",
    "    [x] avg word2vec across docs to create doc2vec\n",
    "    [x] distirbution of classes per document\n",
    "    \"\"\"\n",
    "    def __init__(self, file_path):\n",
    "        super(OmniscienceReader, self).__init__()\n",
    "        self.file_path = file_path\n",
    "        self.preprocess()\n",
    "\n",
    "    def preprocess(self):\n",
    "        self.om_df = pd.read_csv(self.file_path, sep='\\t', encoding='utf-8')\n",
    "        self.om_df = self.om_df.dropna()\n",
    "\n",
    "        self.om_df[\"omniscience_label_ids\"] = self.om_df[\"omniscience_label_ids\"].apply(lambda x: ast.literal_eval(x) )\n",
    "        self.om_df[\"omniscience_labels\"] = self.om_df[\"omniscience_labels\"].apply(lambda x: ast.literal_eval(x) )\n",
    "        \n",
    "        self.om_df[\"omniscience_label_ids\"] = self.om_df[\"omniscience_label_ids\"].apply(lambda x: list(set(x)))\n",
    "        self.om_df[\"omniscience_labels\"] = self.om_df[\"omniscience_labels\"].apply(lambda x: list(set(x)))\n",
    "        \n",
    "        self.om_df[\"category\"] = self.om_df[\"file_id\"].apply(lambda x: x.split(\":\")[0])\n",
    "        self.om_df[\"doc_id\"] = 0\n",
    "\n",
    "        for i in tqdm(self.om_df.index):\n",
    "            self.om_df.at[i, \"doc_id\"] = i\n",
    "            if self.om_df.at[i, \"category\"] == \"EVISE.PII\":\n",
    "                self.om_df.at[i, \"omniscience_label_ids\"] = list(map(int, self.om_df.at[i, \"omniscience_label_ids\"][0]))\n",
    "\n",
    "        return self.om_df"
   ]
  },
  {
   "cell_type": "code",
   "execution_count": 3,
   "metadata": {
    "scrolled": true
   },
   "outputs": [
    {
     "data": {
      "application/vnd.jupyter.widget-view+json": {
       "model_id": "87e05c6a52414369a3f5a8a798a3f1f1",
       "version_major": 2,
       "version_minor": 0
      },
      "text/plain": [
       "HBox(children=(IntProgress(value=0, max=850491), HTML(value='')))"
      ]
     },
     "metadata": {},
     "output_type": "display_data"
    },
    {
     "name": "stdout",
     "output_type": "stream",
     "text": [
      "\n"
     ]
    }
   ],
   "source": [
    "O = OmniscienceReader(\"../OmniScience/original/ArXiv_BMED_Evise_title_abstract_os.2018-07-11.tsv\")"
   ]
  },
  {
   "cell_type": "code",
   "execution_count": 42,
   "metadata": {},
   "outputs": [],
   "source": [
    "groups = O.om_df.groupby(\"used_as\")"
   ]
  },
  {
   "cell_type": "code",
   "execution_count": 53,
   "metadata": {},
   "outputs": [],
   "source": [
    "training = groups.get_group(\"training\")\n",
    "validation = groups.get_group(\"validation\")\n",
    "testing = groups.get_group(\"unused\")"
   ]
  },
  {
   "cell_type": "code",
   "execution_count": null,
   "metadata": {},
   "outputs": [],
   "source": [
    "# split dfs first. then send each df to a function where it can preprocess and save tr/te/vl as sep files"
   ]
  },
  {
   "cell_type": "code",
   "execution_count": 7,
   "metadata": {},
   "outputs": [],
   "source": [
    "def oms_replacer(data):\n",
    "    return data.lower().replace(\".\", \" . \").replace(\"(\", \" ( \").replace(\",\", \" ,\").replace(\")\", \" ) \")"
   ]
  },
  {
   "cell_type": "code",
   "execution_count": 81,
   "metadata": {},
   "outputs": [],
   "source": [
    "def oms_converter(df, main_path, split_name):\n",
    "    \n",
    "    fe, ex = os.path.splitext(main_path)\n",
    "    \n",
    "    save_file_as = \"{}-oms-{}_fasttext.txt\".format(fe, split_name)\n",
    "    \n",
    "    new_df = pd.DataFrame(columns=[\"label\", \"document\"])\n",
    "    new_df[\"document\"] = df[\"title\"] + \" : \" + df[\"abstract\"]\n",
    "    new_df[\"document\"] = new_df[\"document\"].apply(lambda x: oms_replacer(x))\n",
    "    new_df[\"label\"] = df[\"omniscience_labels\"]\n",
    "        \n",
    "    temp_dict = new_df.to_dict(orient='list')\n",
    "    temp = list(temp_dict.values())\n",
    "    \n",
    "    all_labels = temp[0]\n",
    "    all_content = temp[1]\n",
    "    label = []\n",
    "    content = []\n",
    "\n",
    "    print(\"--Beginning to convert to fasttext format--\")\n",
    "    for i in range(len(all_labels)):\n",
    "        if len(all_labels[i]) > 1:\n",
    "            for j in all_labels[i]:\n",
    "                label.append(j.replace(\"_\", \"-\"))\n",
    "                content.append(all_content[i])\n",
    "        else:\n",
    "            label.append(all_labels[i][0].replace(\"_\", \"-\"))\n",
    "            content.append(all_content[i])\n",
    "            \n",
    "    # regular saving\n",
    "    wmain = open(save_file_as, \"wb+\")\n",
    "    for i in range(len(label)):\n",
    "        line = \"__label__{} , {}\\n\".format(label[i], content[i])\n",
    "        wmain.write(line.encode(\"utf-8\"))\n",
    "    wmain.close()\n",
    "    \n",
    "    # shuffling\n",
    "    lines = open(save_file_as, 'rb').readlines()\n",
    "    random.shuffle(lines)\n",
    "    open(save_file_as, 'wb').writelines(lines)\n",
    "    \n",
    "    print(\"--Finished converting to fasttext--\")"
   ]
  },
  {
   "cell_type": "code",
   "execution_count": 82,
   "metadata": {},
   "outputs": [
    {
     "name": "stdout",
     "output_type": "stream",
     "text": [
      "--Beginning to convert to fasttext format--\n",
      "--Finished converting to fasttext--\n"
     ]
    }
   ],
   "source": [
    "oms_converter(testing, \"test\")"
   ]
  },
  {
   "cell_type": "code",
   "execution_count": 4,
   "metadata": {},
   "outputs": [],
   "source": []
  },
  {
   "cell_type": "code",
   "execution_count": null,
   "metadata": {},
   "outputs": [],
   "source": []
  },
  {
   "cell_type": "code",
   "execution_count": 8,
   "metadata": {},
   "outputs": [],
   "source": []
  },
  {
   "cell_type": "code",
   "execution_count": 10,
   "metadata": {},
   "outputs": [
    {
     "data": {
      "text/plain": [
       "36"
      ]
     },
     "execution_count": 10,
     "metadata": {},
     "output_type": "execute_result"
    }
   ],
   "source": [
    "new_df[\"label\"].apply(lambda x: len(x)).sum()"
   ]
  },
  {
   "cell_type": "code",
   "execution_count": 11,
   "metadata": {},
   "outputs": [],
   "source": []
  },
  {
   "cell_type": "code",
   "execution_count": 12,
   "metadata": {},
   "outputs": [],
   "source": []
  },
  {
   "cell_type": "code",
   "execution_count": 16,
   "metadata": {},
   "outputs": [],
   "source": []
  },
  {
   "cell_type": "code",
   "execution_count": 17,
   "metadata": {},
   "outputs": [
    {
     "data": {
      "text/plain": [
       "36"
      ]
     },
     "execution_count": 17,
     "metadata": {},
     "output_type": "execute_result"
    }
   ],
   "source": [
    "len(label)"
   ]
  },
  {
   "cell_type": "code",
   "execution_count": null,
   "metadata": {},
   "outputs": [],
   "source": []
  },
  {
   "cell_type": "code",
   "execution_count": null,
   "metadata": {},
   "outputs": [],
   "source": []
  },
  {
   "cell_type": "code",
   "execution_count": null,
   "metadata": {},
   "outputs": [],
   "source": []
  },
  {
   "cell_type": "code",
   "execution_count": null,
   "metadata": {},
   "outputs": [],
   "source": []
  },
  {
   "cell_type": "code",
   "execution_count": 22,
   "metadata": {},
   "outputs": [],
   "source": [
    "def swiki_replacer(lines):\n",
    "\n",
    "    lines = lines.replace(\"<DOC>\", \"\")\n",
    "    lines = lines.replace(\"</DOC>\", \"\")\n",
    "    lines = lines.replace(\"<DOCNO>\", \"\")\n",
    "    lines = lines.replace(\"</DOCNO>\", \"\")\n",
    "    lines = lines.replace(\"<LABELS>\", \"OMGTHISSHOULDBEARAREWORD\")\n",
    "    lines = lines.replace(\"</LABELS>\", \"\")\n",
    "    \n",
    "    lines = lines.replace(\".\", \" . \")\n",
    "    lines = lines.replace(\"?\", \" ? \")\n",
    "    lines = lines.replace(\"!\", \" ! \")\n",
    "    lines = lines.replace(\")\", \" ) \")\n",
    "    lines = lines.replace(\"(\", \" ( \")\n",
    "    \n",
    "    return lines"
   ]
  },
  {
   "cell_type": "code",
   "execution_count": null,
   "metadata": {},
   "outputs": [],
   "source": []
  },
  {
   "cell_type": "code",
   "execution_count": 3,
   "metadata": {},
   "outputs": [],
   "source": [
    "def clean_up(filename):\n",
    "    \n",
    "    fe, ex = os.path.splitext(filename)\n",
    "    new_f = \"{}_fasttext{}\".format(fe, ex)\n",
    "    \n",
    "    with open(filename, \"r\") as fmain:\n",
    "        reader = fmain.readlines()\n",
    "        \n",
    "    wmain = open(new_f, \"w+\")\n",
    "    for i, lines in enumerate(tqdm(reader)):\n",
    "        one = lines.replace(\"  \", \" \").replace(\"\\n\", \"\")\n",
    "        if len(lines) > 2:\n",
    "            umm_split = one.split(\",\")\n",
    "            labs = umm_split[0]\n",
    "            therest = umm_split[1:]\n",
    "            str_wut = ''.join(therest)\n",
    "            wmain.write(\"{} ,{} \\n\".format(labs, str_wut))\n",
    "    wmain.close()\n",
    "    \n",
    "    os.remove(filename)\n",
    "    \n",
    "    return new_f"
   ]
  },
  {
   "cell_type": "code",
   "execution_count": 74,
   "metadata": {},
   "outputs": [],
   "source": [
    "def shuffle_lines(filename):\n",
    "    \n",
    "    lines = open(filename).readlines()\n",
    "    random.shuffle(lines)\n",
    "    open(filename, 'w').writelines(lines)"
   ]
  },
  {
   "cell_type": "code",
   "execution_count": 5,
   "metadata": {},
   "outputs": [],
   "source": [
    "def swiki_converter(filename):\n",
    "    \n",
    "    print(\"--Beginning conversion for swiki--\")\n",
    "    \n",
    "    fe, ex = os.path.splitext(filename)\n",
    "    new_f = \"{}_level1{}\".format(fe, ex)\n",
    "    \n",
    "    with open(filename, \"r\") as fmain:\n",
    "        reader = fmain.readlines()\n",
    "    \n",
    "    labels = []\n",
    "    content = []\n",
    "    long_labels = []\n",
    "\n",
    "    for i, lines in enumerate(tqdm(reader)):\n",
    "\n",
    "        fmt = swiki_replacer(lines)\n",
    "\n",
    "        if \"OMGTHISSHOULDBEARAREWORD\" in fmt:\n",
    "            fmt = fmt.strip().replace(\"OMGTHISSHOULDBEARAREWORD\", \"\")\n",
    "            fmt = fmt.split(' ')\n",
    "            labels.append(fmt)\n",
    "\n",
    "        if len(fmt) > 50:\n",
    "            fmt = fmt.lower()\n",
    "            if len(labels[-1]) > 0:\n",
    "                for k in labels[-1]:\n",
    "                    long_labels.append(k)\n",
    "                    content.append(fmt)                    \n",
    "    del labels\n",
    "    \n",
    "    g = pd.DataFrame(columns = [\"label\", \"doc\"])\n",
    "    g[\"label\"] = long_labels    \n",
    "    g[\"doc\"] = content    \n",
    "    g[\"label\"] = g[\"label\"].apply(lambda x: \"__label__{}\".format(x))    \n",
    "    g.to_csv(new_f, header=False, index=False, sep=',', quotechar=' ')\n",
    "    \n",
    "    new_file = clean_up(new_f)\n",
    "    print(\"--Finished converting swiki to fasttext format--\")\n",
    "    \n",
    "    print(\"--Shuffling lines in the file--\")\n",
    "    shuffle_lines(new_file)\n",
    "    print(\"--Finished shuffling lines--\")"
   ]
  },
  {
   "cell_type": "code",
   "execution_count": 6,
   "metadata": {},
   "outputs": [
    {
     "name": "stdout",
     "output_type": "stream",
     "text": [
      "--Beginning conversion for swiki--\n"
     ]
    },
    {
     "data": {
      "application/vnd.jupyter.widget-view+json": {
       "model_id": "497dfcc50c0e46d2bf6526741939cfa8",
       "version_major": 2,
       "version_minor": 0
      },
      "text/plain": [
       "HBox(children=(IntProgress(value=0, max=2284430), HTML(value='')))"
      ]
     },
     "metadata": {},
     "output_type": "display_data"
    },
    {
     "name": "stdout",
     "output_type": "stream",
     "text": [
      "\n"
     ]
    },
    {
     "data": {
      "application/vnd.jupyter.widget-view+json": {
       "model_id": "1bb88566c58b4133a592404dec194f25",
       "version_major": 2,
       "version_minor": 0
      },
      "text/plain": [
       "HBox(children=(IntProgress(value=0, max=1681692), HTML(value='')))"
      ]
     },
     "metadata": {},
     "output_type": "display_data"
    },
    {
     "name": "stdout",
     "output_type": "stream",
     "text": [
      "\n",
      "--Finished converting swiki to fasttext format--\n",
      "--Shuffling lines in the file--\n",
      "--Finished shuffling lines--\n"
     ]
    }
   ],
   "source": [
    "swiki_converter(\"../raw-swiki/train/swiki-train.txt\")"
   ]
  },
  {
   "cell_type": "code",
   "execution_count": 23,
   "metadata": {},
   "outputs": [],
   "source": [
    "import networkx as nx"
   ]
  },
  {
   "cell_type": "code",
   "execution_count": 24,
   "metadata": {},
   "outputs": [],
   "source": [
    "b = [(0, 1), (0, 2), (1, 3), (2, 3)]"
   ]
  },
  {
   "cell_type": "code",
   "execution_count": 25,
   "metadata": {},
   "outputs": [],
   "source": [
    "G = nx.DiGraph()"
   ]
  },
  {
   "cell_type": "code",
   "execution_count": 26,
   "metadata": {},
   "outputs": [],
   "source": [
    "G.add_edges_from(b)"
   ]
  },
  {
   "cell_type": "code",
   "execution_count": 39,
   "metadata": {},
   "outputs": [
    {
     "data": {
      "image/png": "[encoded data removed]",
      "text/plain": [
       "<Figure size 576x288 with 1 Axes>"
      ]
     },
     "metadata": {
      "needs_background": "light"
     },
     "output_type": "display_data"
    }
   ],
   "source": [
    "plt.figure(figsize=(8,4))\n",
    "nx.draw_networkx(G, with_labels=True, node_size=500)"
   ]
  },
  {
   "cell_type": "code",
   "execution_count": 27,
   "metadata": {},
   "outputs": [],
   "source": [
    "def BFS(s): \n",
    "    # applicable only for directed graphs\n",
    "    visited = [0] * (len(G)) \n",
    "    traversal = []\n",
    "    new_edges = []\n",
    "    queue = [] \n",
    "\n",
    "    queue.append(s) \n",
    "    visited[s]+=1\n",
    "\n",
    "    while queue: \n",
    "\n",
    "        s = queue.pop(0) \n",
    "        traversal.append(s)\n",
    "\n",
    "        for i in G.neighbors(s): \n",
    "            queue.append(i) \n",
    "            visited[i] +=1\n",
    "            if visited[i] != 1:\n",
    "#                 new_edges.append((s, i+visited[i]+len(G)))\n",
    "                new_edges.append((s, \"{}-{}\".format(s, i)))\n",
    "            else:\n",
    "                new_edges.append((s, i))\n",
    "            \n",
    "    return new_edges"
   ]
  },
  {
   "cell_type": "code",
   "execution_count": 28,
   "metadata": {},
   "outputs": [],
   "source": [
    "new_edges = BFS(0)"
   ]
  },
  {
   "cell_type": "code",
   "execution_count": 29,
   "metadata": {},
   "outputs": [],
   "source": [
    "r = nx.DiGraph()"
   ]
  },
  {
   "cell_type": "code",
   "execution_count": 30,
   "metadata": {},
   "outputs": [],
   "source": [
    "r.add_edges_from(new_edges)"
   ]
  },
  {
   "cell_type": "code",
   "execution_count": 31,
   "metadata": {},
   "outputs": [
    {
     "data": {
      "text/plain": [
       "OutEdgeView([(0, 1), (0, 2), (1, 3), (2, '2-3')])"
      ]
     },
     "execution_count": 31,
     "metadata": {},
     "output_type": "execute_result"
    }
   ],
   "source": [
    "r.edges()"
   ]
  },
  {
   "cell_type": "code",
   "execution_count": 32,
   "metadata": {},
   "outputs": [
    {
     "data": {
      "text/plain": [
       "True"
      ]
     },
     "execution_count": 32,
     "metadata": {},
     "output_type": "execute_result"
    }
   ],
   "source": [
    "nx.is_tree(r)"
   ]
  },
  {
   "cell_type": "code",
   "execution_count": 34,
   "metadata": {},
   "outputs": [],
   "source": [
    "import matplotlib.pyplot as plt"
   ]
  },
  {
   "cell_type": "code",
   "execution_count": 38,
   "metadata": {},
   "outputs": [
    {
     "data": {
      "image/png": "[encoded data removed]",
      "text/plain": [
       "<Figure size 576x288 with 1 Axes>"
      ]
     },
     "metadata": {
      "needs_background": "light"
     },
     "output_type": "display_data"
    }
   ],
   "source": [
    "plt.figure(figsize=(8,4))\n",
    "nx.draw_networkx(G, with_labels=True, node_size=500)"
   ]
  },
  {
   "cell_type": "code",
   "execution_count": null,
   "metadata": {},
   "outputs": [],
   "source": []
  }
 ],
 "metadata": {
  "kernelspec": {
   "display_name": "Python 3",
   "language": "python",
   "name": "python3"
  },
  "language_info": {
   "codemirror_mode": {
    "name": "ipython",
    "version": 3
   },
   "file_extension": ".py",
   "mimetype": "text/x-python",
   "name": "python",
   "nbconvert_exporter": "python",
   "pygments_lexer": "ipython3",
   "version": "3.7.3"
  }
 },
 "nbformat": 4,
 "nbformat_minor": 2
}
